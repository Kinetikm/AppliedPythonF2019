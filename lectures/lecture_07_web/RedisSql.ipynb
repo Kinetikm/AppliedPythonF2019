{
 "cells": [
  {
   "cell_type": "code",
   "execution_count": 1,
   "metadata": {
    "scrolled": true
   },
   "outputs": [
    {
     "name": "stdout",
     "output_type": "stream",
     "text": [
      "Collecting redis\n",
      "\u001b[?25l  Downloading https://files.pythonhosted.org/packages/32/ae/28613a62eea0d53d3db3147f8715f90da07667e99baeedf1010eb400f8c0/redis-3.3.11-py2.py3-none-any.whl (66kB)\n",
      "\u001b[K     |████████████████████████████████| 71kB 310kB/s eta 0:00:01\n",
      "\u001b[?25hInstalling collected packages: redis\n",
      "Successfully installed redis-3.3.11\n"
     ]
    }
   ],
   "source": [
    "!pip3 install redis"
   ]
  },
  {
   "cell_type": "markdown",
   "metadata": {},
   "source": [
    "# Попробуем сходить в редис"
   ]
  },
  {
   "cell_type": "code",
   "execution_count": 2,
   "metadata": {},
   "outputs": [],
   "source": [
    "import redis"
   ]
  },
  {
   "cell_type": "code",
   "execution_count": null,
   "metadata": {},
   "outputs": [],
   "source": []
  },
  {
   "cell_type": "code",
   "execution_count": 3,
   "metadata": {},
   "outputs": [
    {
     "data": {
      "text/plain": [
       "b'Aleksandr Lipniczkij'"
      ]
     },
     "execution_count": 3,
     "metadata": {},
     "output_type": "execute_result"
    }
   ],
   "source": [
    "r = redis.StrictRedis(host='ec2-18-202-17-151.eu-west-1.compute.amazonaws.com', port=6379, db=0)\n",
    "r.set('student8', 'Aleksandr Lipniczkij')\n",
    "r.get('student8')"
   ]
  },
  {
   "cell_type": "code",
   "execution_count": 4,
   "metadata": {},
   "outputs": [
    {
     "data": {
      "text/plain": [
       "b'1'"
      ]
     },
     "execution_count": 4,
     "metadata": {},
     "output_type": "execute_result"
    }
   ],
   "source": [
    "r.set('Elisabeth Walton', 1)\n",
    "r.get('Elisabeth Walton')"
   ]
  },
  {
   "cell_type": "code",
   "execution_count": null,
   "metadata": {},
   "outputs": [],
   "source": [
    "r.set('Elisabeth Walton', 1)\n",
    "r.get('Elisabeth Walton')"
   ]
  },
  {
   "cell_type": "code",
   "execution_count": null,
   "metadata": {},
   "outputs": [],
   "source": [
    "#TODO загрузить titanik 15 случайных человек и положить для каждого человека выжил он или нет"
   ]
  },
  {
   "cell_type": "markdown",
   "metadata": {},
   "source": [
    "Пишем сервис на flask. Механика сервиса: сервис нужен для агрегации стастики с боевой тачки.\n",
    "\n",
    "1) При старте шлется post /callme запрос с body={'ip': <ваш ip адрес в сети Technoatom>, 'port': <порт, на котором поднят сервис} на адрес <напишу на доске>. (НЕ забываем про заголовки =)\n",
    "\n",
    "2) На GET /check должна возвращаться 200-ка\n",
    "\n",
    "2) У вас должна быть создана таблица в titanik_db{} statistics c полями user_id VARCHAR (100), action INT4, timestamp timestamp. \n",
    "\n",
    "3) Ваш сервис должен уметь обрабатывать post запрос /stat, в body которого содержится {\"user\": <user_id>, \"action\": int4} и класть этот запрос в таблицу statistics с текущим timestamp. Записи о юзерах НЕ должны перетираться (юзер i может совершить действие k сколько угодно раз, просто в разное время)\n",
    "\n",
    "4) Ваш сервис должен уметь обрабатывать get заропс /stat, по которому должны отдаваться {\"user\": <user_id>, \"action\": <action , \"ts\": timestamp} последнего события, которое приходило к вам на сервис. Хранить их можно в редисе в дефолтной базе по ключу student{}stat "
   ]
  }
 ],
 "metadata": {
  "kernelspec": {
   "display_name": "Python 3",
   "language": "python",
   "name": "python3"
  },
  "language_info": {
   "codemirror_mode": {
    "name": "ipython",
    "version": 3
   },
   "file_extension": ".py",
   "mimetype": "text/x-python",
   "name": "python",
   "nbconvert_exporter": "python",
   "pygments_lexer": "ipython3",
   "version": "3.7.4"
  }
 },
 "nbformat": 4,
 "nbformat_minor": 2
}
