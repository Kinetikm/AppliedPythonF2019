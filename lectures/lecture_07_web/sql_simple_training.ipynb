{
 "cells": [
  {
   "cell_type": "code",
   "execution_count": 4,
   "metadata": {},
   "outputs": [
    {
     "name": "stdout",
     "output_type": "stream",
     "text": [
      "Requirement already satisfied: psycopg2 in /usr/local/lib/python3.7/site-packages (2.8.4)\r\n"
     ]
    }
   ],
   "source": [
    "#!sudo apt-get install libpq-dev -y\n",
    "!pip3 install psycopg2"
   ]
  },
  {
   "cell_type": "markdown",
   "metadata": {},
   "source": [
    "# General psql queries"
   ]
  },
  {
   "cell_type": "code",
   "execution_count": 5,
   "metadata": {},
   "outputs": [],
   "source": [
    "import psycopg2"
   ]
  },
  {
   "cell_type": "code",
   "execution_count": 9,
   "metadata": {},
   "outputs": [],
   "source": [
    "#открываем соединение\n",
    "conn_string=\"dbname='{}' user='{}' host='{}' password='{}'\".format(\"titanik_db8\", \"student8\",\n",
    "                                                                  \"ec2-18-202-17-151.eu-west-1.compute.amazonaws.com\",\n",
    "                                                                  \"student8\")\n",
    "conn = psycopg2.connect(conn_string)\n",
    "cursor = conn.cursor()"
   ]
  },
  {
   "cell_type": "markdown",
   "metadata": {},
   "source": [
    "# Создаем таблицы в базе"
   ]
  },
  {
   "cell_type": "code",
   "execution_count": 12,
   "metadata": {},
   "outputs": [
    {
     "data": {
      "text/html": [
       "<div>\n",
       "<style scoped>\n",
       "    .dataframe tbody tr th:only-of-type {\n",
       "        vertical-align: middle;\n",
       "    }\n",
       "\n",
       "    .dataframe tbody tr th {\n",
       "        vertical-align: top;\n",
       "    }\n",
       "\n",
       "    .dataframe thead th {\n",
       "        text-align: right;\n",
       "    }\n",
       "</style>\n",
       "<table border=\"1\" class=\"dataframe\">\n",
       "  <thead>\n",
       "    <tr style=\"text-align: right;\">\n",
       "      <th></th>\n",
       "      <th>pclass</th>\n",
       "      <th>survived</th>\n",
       "      <th>name</th>\n",
       "      <th>sex</th>\n",
       "      <th>age</th>\n",
       "      <th>sibsp</th>\n",
       "      <th>parch</th>\n",
       "      <th>ticket</th>\n",
       "      <th>fare</th>\n",
       "      <th>cabin</th>\n",
       "      <th>embarked</th>\n",
       "      <th>boat</th>\n",
       "      <th>body</th>\n",
       "      <th>home.dest</th>\n",
       "      <th>prename</th>\n",
       "    </tr>\n",
       "  </thead>\n",
       "  <tbody>\n",
       "    <tr>\n",
       "      <th>0</th>\n",
       "      <td>0</td>\n",
       "      <td>1</td>\n",
       "      <td>Allen, Miss. Elisabeth Walton</td>\n",
       "      <td>0</td>\n",
       "      <td>29.0000</td>\n",
       "      <td>0</td>\n",
       "      <td>0</td>\n",
       "      <td>24160</td>\n",
       "      <td>211.3375</td>\n",
       "      <td>B5</td>\n",
       "      <td>3</td>\n",
       "      <td>2</td>\n",
       "      <td>NaN</td>\n",
       "      <td>St Louis, MO</td>\n",
       "      <td>16</td>\n",
       "    </tr>\n",
       "    <tr>\n",
       "      <th>1</th>\n",
       "      <td>0</td>\n",
       "      <td>1</td>\n",
       "      <td>Allison, Master. Hudson Trevor</td>\n",
       "      <td>1</td>\n",
       "      <td>0.9167</td>\n",
       "      <td>1</td>\n",
       "      <td>2</td>\n",
       "      <td>113781</td>\n",
       "      <td>151.5500</td>\n",
       "      <td>C22 C26</td>\n",
       "      <td>3</td>\n",
       "      <td>11</td>\n",
       "      <td>NaN</td>\n",
       "      <td>Montreal, PQ / Chesterville, ON</td>\n",
       "      <td>13</td>\n",
       "    </tr>\n",
       "    <tr>\n",
       "      <th>2</th>\n",
       "      <td>0</td>\n",
       "      <td>0</td>\n",
       "      <td>Allison, Miss. Helen Loraine</td>\n",
       "      <td>0</td>\n",
       "      <td>2.0000</td>\n",
       "      <td>1</td>\n",
       "      <td>2</td>\n",
       "      <td>113781</td>\n",
       "      <td>151.5500</td>\n",
       "      <td>C22 C26</td>\n",
       "      <td>3</td>\n",
       "      <td>NaN</td>\n",
       "      <td>NaN</td>\n",
       "      <td>Montreal, PQ / Chesterville, ON</td>\n",
       "      <td>16</td>\n",
       "    </tr>\n",
       "    <tr>\n",
       "      <th>3</th>\n",
       "      <td>0</td>\n",
       "      <td>0</td>\n",
       "      <td>Allison, Mr. Hudson Joshua Creighton</td>\n",
       "      <td>1</td>\n",
       "      <td>30.0000</td>\n",
       "      <td>1</td>\n",
       "      <td>2</td>\n",
       "      <td>113781</td>\n",
       "      <td>151.5500</td>\n",
       "      <td>C22 C26</td>\n",
       "      <td>3</td>\n",
       "      <td>NaN</td>\n",
       "      <td>135.0</td>\n",
       "      <td>Montreal, PQ / Chesterville, ON</td>\n",
       "      <td>19</td>\n",
       "    </tr>\n",
       "    <tr>\n",
       "      <th>4</th>\n",
       "      <td>0</td>\n",
       "      <td>0</td>\n",
       "      <td>Allison, Mrs. Hudson J C (Bessie Waldo Daniels)</td>\n",
       "      <td>0</td>\n",
       "      <td>25.0000</td>\n",
       "      <td>1</td>\n",
       "      <td>2</td>\n",
       "      <td>113781</td>\n",
       "      <td>151.5500</td>\n",
       "      <td>C22 C26</td>\n",
       "      <td>3</td>\n",
       "      <td>NaN</td>\n",
       "      <td>NaN</td>\n",
       "      <td>Montreal, PQ / Chesterville, ON</td>\n",
       "      <td>20</td>\n",
       "    </tr>\n",
       "  </tbody>\n",
       "</table>\n",
       "</div>"
      ],
      "text/plain": [
       "   pclass  survived                                             name  sex  \\\n",
       "0       0         1                    Allen, Miss. Elisabeth Walton    0   \n",
       "1       0         1                   Allison, Master. Hudson Trevor    1   \n",
       "2       0         0                     Allison, Miss. Helen Loraine    0   \n",
       "3       0         0             Allison, Mr. Hudson Joshua Creighton    1   \n",
       "4       0         0  Allison, Mrs. Hudson J C (Bessie Waldo Daniels)    0   \n",
       "\n",
       "       age  sibsp  parch  ticket      fare    cabin  embarked boat   body  \\\n",
       "0  29.0000      0      0   24160  211.3375       B5         3    2    NaN   \n",
       "1   0.9167      1      2  113781  151.5500  C22 C26         3   11    NaN   \n",
       "2   2.0000      1      2  113781  151.5500  C22 C26         3  NaN    NaN   \n",
       "3  30.0000      1      2  113781  151.5500  C22 C26         3  NaN  135.0   \n",
       "4  25.0000      1      2  113781  151.5500  C22 C26         3  NaN    NaN   \n",
       "\n",
       "                         home.dest  prename  \n",
       "0                     St Louis, MO       16  \n",
       "1  Montreal, PQ / Chesterville, ON       13  \n",
       "2  Montreal, PQ / Chesterville, ON       16  \n",
       "3  Montreal, PQ / Chesterville, ON       19  \n",
       "4  Montreal, PQ / Chesterville, ON       20  "
      ]
     },
     "execution_count": 12,
     "metadata": {},
     "output_type": "execute_result"
    }
   ],
   "source": [
    "import pandas as pd\n",
    "from sklearn.preprocessing import LabelEncoder\n",
    "\n",
    "data = pd.read_csv(\"../lecture_05_ml/notebooks/titanik.tsv\", sep='|', index_col=0)\n",
    "data['prename'] = data['name'].apply(lambda x: x.split()[1].strip(\".\"))\n",
    "data['pclass'] = data['pclass'].apply(str)\n",
    "data['age'].fillna(0, inplace=True)\n",
    "data['age'] = data['age'].apply(float)\n",
    "data['fare'].fillna(0, inplace=True)\n",
    "data['fare'] = data['fare'].apply(float)\n",
    "data['embarked'].fillna(\"None\", inplace=True)\n",
    "\n",
    "lbl_embarked = LabelEncoder().fit(data['embarked'])\n",
    "lbl_pclass = LabelEncoder().fit(data['pclass'])\n",
    "lbl_prename = LabelEncoder().fit(data['prename'])\n",
    "lbl_sex = LabelEncoder().fit(data['sex'])\n",
    "\n",
    "data['embarked'] = lbl_embarked.transform(data['embarked'])\n",
    "data['pclass'] = lbl_pclass.transform(data['pclass'])\n",
    "data['prename'] = lbl_prename.transform(data['prename'])\n",
    "data['sex'] = lbl_sex.transform(data['sex'])\n",
    "\n",
    "data.head()"
   ]
  },
  {
   "cell_type": "code",
   "execution_count": 19,
   "metadata": {},
   "outputs": [],
   "source": [
    "# Создадим впомогательные таблицы и заполним их\n",
    "create_additional = '''\n",
    "        CREATE TABLE embarked (\n",
    "        embarked_id serial PRIMARY KEY,\n",
    "        embarked_type VARCHAR(10) NOT NULL UNIQUE\n",
    "        );\n",
    "        CREATE TABLE pclass (\n",
    "        pclass_id serial PRIMARY KEY,\n",
    "        pclass_type VARCHAR(10) NOT NULL UNIQUE\n",
    "        );\n",
    "        '''\n",
    "cursor.execute(create_additional)\n",
    "conn.commit()"
   ]
  },
  {
   "cell_type": "code",
   "execution_count": 63,
   "metadata": {},
   "outputs": [],
   "source": [
    "conn.commit()"
   ]
  },
  {
   "cell_type": "code",
   "execution_count": 21,
   "metadata": {},
   "outputs": [],
   "source": [
    "insert_query = '''INSERT INTO embarked (embarked_id, embarked_type) VALUES (%s, %s)'''\n",
    "cursor.executemany(insert_query, list(zip(range(len(lbl_embarked.classes_)), lbl_embarked.classes_)))\n",
    "conn.commit()\n",
    "insert_query = '''INSERT INTO pclass (pclass_id, pclass_type) VALUES (%s, %s)'''\n",
    "cursor.executemany(insert_query, list(zip(range(len(lbl_pclass.classes_)), lbl_pclass.classes_)))\n",
    "conn.commit()"
   ]
  },
  {
   "cell_type": "code",
   "execution_count": 35,
   "metadata": {},
   "outputs": [
    {
     "ename": "DuplicateTable",
     "evalue": "relation \"prename\" already exists\n",
     "output_type": "error",
     "traceback": [
      "\u001b[0;31m---------------------------------------------------------------------------\u001b[0m",
      "\u001b[0;31mDuplicateTable\u001b[0m                            Traceback (most recent call last)",
      "\u001b[0;32m<ipython-input-35-a7651060cbd0>\u001b[0m in \u001b[0;36m<module>\u001b[0;34m\u001b[0m\n\u001b[1;32m      6\u001b[0m         )\n\u001b[1;32m      7\u001b[0m         '''\n\u001b[0;32m----> 8\u001b[0;31m \u001b[0mcursor\u001b[0m\u001b[0;34m.\u001b[0m\u001b[0mexecute\u001b[0m\u001b[0;34m(\u001b[0m\u001b[0mcreate_additional\u001b[0m\u001b[0;34m)\u001b[0m\u001b[0;34m\u001b[0m\u001b[0;34m\u001b[0m\u001b[0m\n\u001b[0m\u001b[1;32m      9\u001b[0m \u001b[0mconn\u001b[0m\u001b[0;34m.\u001b[0m\u001b[0mcommit\u001b[0m\u001b[0;34m(\u001b[0m\u001b[0;34m)\u001b[0m\u001b[0;34m\u001b[0m\u001b[0;34m\u001b[0m\u001b[0m\n",
      "\u001b[0;31mDuplicateTable\u001b[0m: relation \"prename\" already exists\n"
     ]
    }
   ],
   "source": [
    "# Создайте таблицу для prename (и заполните её)\n",
    "create_additional = '''\n",
    "        CREATE TABLE prename (\n",
    "        prename_id serial PRIMARY KEY,\n",
    "        prename_type VARCHAR(30) NOT NULL\n",
    "        )\n",
    "        '''\n",
    "cursor.execute(create_additional)\n",
    "conn.commit()"
   ]
  },
  {
   "cell_type": "code",
   "execution_count": 38,
   "metadata": {},
   "outputs": [],
   "source": [
    "change = \"\"\"\n",
    "    ALTER TABLE prename ALTER COLUMN prename_type TYPE VARCHAR(30)\n",
    "\"\"\"\n",
    "cursor.execute(change)\n",
    "conn.commit()"
   ]
  },
  {
   "cell_type": "code",
   "execution_count": 39,
   "metadata": {},
   "outputs": [],
   "source": [
    "insert_query = '''INSERT INTO prename (prename_id, prename_type) VALUES (%s, %s)'''\n",
    "cursor.executemany(insert_query, list(zip(range(len(lbl_prename.classes_)), lbl_prename.classes_)))\n",
    "conn.commit()"
   ]
  },
  {
   "cell_type": "code",
   "execution_count": 43,
   "metadata": {},
   "outputs": [
    {
     "ename": "InFailedSqlTransaction",
     "evalue": "current transaction is aborted, commands ignored until end of transaction block\n",
     "output_type": "error",
     "traceback": [
      "\u001b[0;31m---------------------------------------------------------------------------\u001b[0m",
      "\u001b[0;31mInFailedSqlTransaction\u001b[0m                    Traceback (most recent call last)",
      "\u001b[0;32m<ipython-input-43-5a40da52b035>\u001b[0m in \u001b[0;36m<module>\u001b[0;34m\u001b[0m\n\u001b[1;32m      6\u001b[0m         )\n\u001b[1;32m      7\u001b[0m         '''\n\u001b[0;32m----> 8\u001b[0;31m \u001b[0mcursor\u001b[0m\u001b[0;34m.\u001b[0m\u001b[0mexecute\u001b[0m\u001b[0;34m(\u001b[0m\u001b[0mcreate_additional\u001b[0m\u001b[0;34m)\u001b[0m\u001b[0;34m\u001b[0m\u001b[0;34m\u001b[0m\u001b[0m\n\u001b[0m\u001b[1;32m      9\u001b[0m \u001b[0mconn\u001b[0m\u001b[0;34m.\u001b[0m\u001b[0mcommit\u001b[0m\u001b[0;34m(\u001b[0m\u001b[0;34m)\u001b[0m\u001b[0;34m\u001b[0m\u001b[0;34m\u001b[0m\u001b[0m\n",
      "\u001b[0;31mInFailedSqlTransaction\u001b[0m: current transaction is aborted, commands ignored until end of transaction block\n"
     ]
    }
   ],
   "source": [
    "# Создайте таблицу для пола\n",
    "create_additional = '''\n",
    "        CREATE TABLE sex (\n",
    "        sex_id serial PRIMARY KEY,\n",
    "        sex_type VARCHAR(10) NOT NULL\n",
    "        )\n",
    "        '''\n",
    "cursor.execute(create_additional)\n",
    "conn.commit()"
   ]
  },
  {
   "cell_type": "code",
   "execution_count": 45,
   "metadata": {},
   "outputs": [],
   "source": [
    "insert_query = '''INSERT INTO sex (sex_id, sex_type) VALUES (%s, %s)'''\n",
    "cursor.executemany(insert_query, list(zip(range(len(lbl_sex.classes_)), lbl_sex.classes_)))\n",
    "conn.commit()"
   ]
  },
  {
   "cell_type": "code",
   "execution_count": 46,
   "metadata": {},
   "outputs": [
    {
     "data": {
      "text/plain": [
       "Index(['pclass', 'survived', 'name', 'sex', 'age', 'sibsp', 'parch', 'ticket',\n",
       "       'fare', 'cabin', 'embarked', 'boat', 'body', 'home.dest', 'prename'],\n",
       "      dtype='object')"
      ]
     },
     "execution_count": 46,
     "metadata": {},
     "output_type": "execute_result"
    }
   ],
   "source": [
    "data.columns"
   ]
  },
  {
   "cell_type": "code",
   "execution_count": 47,
   "metadata": {},
   "outputs": [
    {
     "name": "stdout",
     "output_type": "stream",
     "text": [
      "<class 'pandas.core.frame.DataFrame'>\n",
      "Int64Index: 1309 entries, 0 to 1308\n",
      "Data columns (total 15 columns):\n",
      "pclass       1309 non-null int64\n",
      "survived     1309 non-null int64\n",
      "name         1309 non-null object\n",
      "sex          1309 non-null int64\n",
      "age          1309 non-null float64\n",
      "sibsp        1309 non-null int64\n",
      "parch        1309 non-null int64\n",
      "ticket       1309 non-null object\n",
      "fare         1309 non-null float64\n",
      "cabin        295 non-null object\n",
      "embarked     1309 non-null int64\n",
      "boat         486 non-null object\n",
      "body         121 non-null float64\n",
      "home.dest    745 non-null object\n",
      "prename      1309 non-null int64\n",
      "dtypes: float64(3), int64(7), object(5)\n",
      "memory usage: 163.6+ KB\n"
     ]
    }
   ],
   "source": [
    "data.info()"
   ]
  },
  {
   "cell_type": "code",
   "execution_count": 51,
   "metadata": {},
   "outputs": [],
   "source": [
    "# создать основную таблицу\n",
    "create_additional = '''\n",
    "        CREATE TABLE titanik (\n",
    "        sex INT4 REFERENCES sex(sex_id)\n",
    "        )\n",
    "        '''\n",
    "cursor.execute(create_additional)\n",
    "conn.commit()"
   ]
  },
  {
   "cell_type": "code",
   "execution_count": 60,
   "metadata": {},
   "outputs": [],
   "source": [
    "from random import randint\n",
    "insert_query = '''INSERT INTO titanik (sex) VALUES (%s)'''\n",
    "cursor.executemany(insert_query, [(randint(0,1),) for _ in range(19)])\n",
    "conn.commit()"
   ]
  },
  {
   "cell_type": "code",
   "execution_count": 64,
   "metadata": {},
   "outputs": [],
   "source": [
    "create_main = '''\n",
    "    CREATE TABLE titanik1 (\n",
    "        record_id serial PRIMARY KEY,\n",
    "        pclass_id INTEGER REFERENCES pclass(pclass_id),\n",
    "        survived INT4 NOT NULL,\n",
    "        name varchar(200),\n",
    "        sex INTEGER REFERENCES sex(sex_id),\n",
    "        age FLOAT,\n",
    "        sibsp INTEGER,\n",
    "        parch INTEGER,\n",
    "        ticket VARCHAR(100),\n",
    "        fare FLOAT,\n",
    "        cabin VARCHAR(100),\n",
    "        embarked INTEGER REFERENCES embarked(embarked_id),\n",
    "        boat VARCHAR(100),\n",
    "        body VARCHAR(100),\n",
    "        dest VARCHAR(100),\n",
    "        prename_id INTEGER REFERENCES prename(prename_id)\n",
    "    );\n",
    "    '''\n",
    "cursor.execute(create_main)\n",
    "conn.commit()"
   ]
  },
  {
   "cell_type": "code",
   "execution_count": 68,
   "metadata": {},
   "outputs": [],
   "source": [
    "insert_query = '''\n",
    "INSERT INTO titanik1 (pclass_id, survived, name, sex, age, sibsp, parch, ticket, fare, cabin, embarked, boat, body, dest, prename_id)\n",
    "VALUES (%s, %s, %s, %s, %s, %s, %s, %s, %s, %s, %s, %s, %s, %s, %s)\n",
    "'''\n",
    "cursor.executemany(insert_query, data.values[:10])\n",
    "conn.commit()"
   ]
  },
  {
   "cell_type": "code",
   "execution_count": 67,
   "metadata": {},
   "outputs": [],
   "source": [
    "conn.commit()"
   ]
  },
  {
   "cell_type": "code",
   "execution_count": 53,
   "metadata": {},
   "outputs": [
    {
     "data": {
      "text/plain": [
       "[0, 1, 1, 0, 1, 1, 1, 1, 1, 0, 1, 1, 0, 0, 0, 0, 0, 1, 1, 0]"
      ]
     },
     "execution_count": 53,
     "metadata": {},
     "output_type": "execute_result"
    }
   ],
   "source": [
    "[randint(0,1) for _ in range(20)]"
   ]
  },
  {
   "cell_type": "code",
   "execution_count": null,
   "metadata": {},
   "outputs": [],
   "source": []
  },
  {
   "cell_type": "code",
   "execution_count": 73,
   "metadata": {},
   "outputs": [],
   "source": [
    "#TODO Вопрос Кого больше мужчин или женщин?\n",
    "select = \"\"\"\n",
    "    SELECT sex, COUNT(*) FROM titanik1 group by sex;\n",
    "\"\"\"\n",
    "cursor.execute(select)"
   ]
  },
  {
   "cell_type": "code",
   "execution_count": 75,
   "metadata": {},
   "outputs": [
    {
     "data": {
      "text/plain": [
       "[(0, 5), (1, 5)]"
      ]
     },
     "execution_count": 75,
     "metadata": {},
     "output_type": "execute_result"
    }
   ],
   "source": [
    "cursor.fetchall()"
   ]
  },
  {
   "cell_type": "code",
   "execution_count": null,
   "metadata": {},
   "outputs": [],
   "source": []
  },
  {
   "cell_type": "code",
   "execution_count": null,
   "metadata": {},
   "outputs": [],
   "source": [
    "#TODO Вопрос Какой процент мужчин выжил и какой процент женщин?"
   ]
  },
  {
   "cell_type": "code",
   "execution_count": null,
   "metadata": {},
   "outputs": [],
   "source": [
    "#TODO Что вы можете сказать выживаемости пассижиров разного класса и пола?"
   ]
  }
 ],
 "metadata": {
  "kernelspec": {
   "display_name": "Python 3",
   "language": "python",
   "name": "python3"
  },
  "language_info": {
   "codemirror_mode": {
    "name": "ipython",
    "version": 3
   },
   "file_extension": ".py",
   "mimetype": "text/x-python",
   "name": "python",
   "nbconvert_exporter": "python",
   "pygments_lexer": "ipython3",
   "version": "3.7.4"
  }
 },
 "nbformat": 4,
 "nbformat_minor": 2
}
