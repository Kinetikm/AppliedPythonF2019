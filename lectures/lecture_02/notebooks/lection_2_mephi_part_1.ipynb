{
 "cells": [
  {
   "cell_type": "markdown",
   "metadata": {},
   "source": [
    "- [Function](#Function)\n",
    "- [Class example](#Class_example)\n",
    "    - [ access_modificator ](#access_modificator)\n",
    "- [Наследование](#Наследование)"
   ]
  },
  {
   "cell_type": "markdown",
   "metadata": {},
   "source": [
    "# Function"
   ]
  },
  {
   "cell_type": "code",
   "execution_count": null,
   "metadata": {},
   "outputs": [],
   "source": [
    "# Просто создаем функциию\n",
    "def my_second_function():\n",
    "    print('my_second_function')\n",
    "\n",
    "my_second_function()"
   ]
  },
  {
   "cell_type": "code",
   "execution_count": null,
   "metadata": {},
   "outputs": [],
   "source": [
    "# Функция с параметром\n",
    "def my_second_function(param1):\n",
    "    print(f'my_second_function {param1}')\n",
    "\n",
    "my_second_function(123)"
   ]
  },
  {
   "cell_type": "code",
   "execution_count": null,
   "metadata": {},
   "outputs": [],
   "source": [
    "# Функция с параметром по умолчанию\n",
    "def my_second_function(param1='La la la'):\n",
    "    print(f'my_second_function {param1}')\n",
    "\n",
    "my_second_function()\n",
    "my_second_function('My super text')"
   ]
  },
  {
   "cell_type": "code",
   "execution_count": null,
   "metadata": {},
   "outputs": [],
   "source": [
    "# Распаковка параметров\n",
    "def my_sum(*args):\n",
    "    result = 0\n",
    "    for i in args:\n",
    "        result += i\n",
    "    return result\n",
    "\n",
    "print(my_sum(1))\n",
    "print(my_sum(1, 3, 5, 7))"
   ]
  },
  {
   "cell_type": "code",
   "execution_count": null,
   "metadata": {},
   "outputs": [],
   "source": [
    "# Запаковка параметров\n",
    "def my_sum_a_b(a, b):\n",
    "    return a + b\n",
    "\n",
    "params = [1, 2]\n",
    "print(my_sum_a_b(*params))"
   ]
  },
  {
   "cell_type": "code",
   "execution_count": null,
   "metadata": {},
   "outputs": [],
   "source": [
    "# Передача по ссылке или по значению\n",
    "def list_concat(*args, init=[]):\n",
    "    for lst in args:\n",
    "        init += lst\n",
    "    return init\n",
    "\n",
    "print(list_concat([1, 2, 3], [4, 5, 6], init=[0]))\n",
    "print(list_concat([1, 2, 3], [4, 5, 6]))\n",
    "print(list_concat([10, 11, 12], [14, 15, 16]))"
   ]
  },
  {
   "cell_type": "markdown",
   "metadata": {},
   "source": [
    "# Class_example\n",
    "\n",
    "Первый пример простенького класса"
   ]
  },
  {
   "cell_type": "code",
   "execution_count": null,
   "metadata": {
    "ExecuteTime": {
     "end_time": "2019-03-07T13:28:31.318970Z",
     "start_time": "2019-03-07T13:28:31.311285Z"
    }
   },
   "outputs": [],
   "source": [
    "class MyFirstClass(object):\n",
    "    \"\"\"\n",
    "    This is my first class docstring\n",
    "    \"\"\"\n",
    "    classatribute = 99999\n",
    "\n",
    "    def __init__(self, base):\n",
    "        # self - указатель на экземпляр.\n",
    "        # base - какой то параметр\n",
    "        self.base = base\n",
    "\n",
    "    def strange_transform(self, x):\n",
    "        return str(self.base) + ' (^_^) ' + str(x)"
   ]
  },
  {
   "cell_type": "code",
   "execution_count": null,
   "metadata": {
    "ExecuteTime": {
     "end_time": "2019-03-07T13:28:31.741306Z",
     "start_time": "2019-03-07T13:28:31.738623Z"
    }
   },
   "outputs": [],
   "source": [
    "exemplar = MyFirstClass('¯\\_')"
   ]
  },
  {
   "cell_type": "code",
   "execution_count": null,
   "metadata": {
    "ExecuteTime": {
     "end_time": "2019-03-07T13:28:32.132171Z",
     "start_time": "2019-03-07T13:28:32.127388Z"
    }
   },
   "outputs": [],
   "source": [
    "print(exemplar.strange_transform('_/¯'))"
   ]
  },
  {
   "cell_type": "code",
   "execution_count": null,
   "metadata": {},
   "outputs": [],
   "source": [
    "?? MyFirstClass"
   ]
  },
  {
   "cell_type": "code",
   "execution_count": null,
   "metadata": {
    "ExecuteTime": {
     "end_time": "2019-03-07T13:28:32.594632Z",
     "start_time": "2019-03-07T13:28:32.579290Z"
    }
   },
   "outputs": [],
   "source": [
    "MyFirstClass.__doc__"
   ]
  },
  {
   "cell_type": "code",
   "execution_count": null,
   "metadata": {
    "ExecuteTime": {
     "end_time": "2019-03-07T13:28:33.258179Z",
     "start_time": "2019-03-07T13:28:33.254718Z"
    }
   },
   "outputs": [],
   "source": [
    "MyFirstClass.classatribute"
   ]
  },
  {
   "cell_type": "markdown",
   "metadata": {},
   "source": [
    "_____"
   ]
  },
  {
   "cell_type": "markdown",
   "metadata": {},
   "source": [
    "### access_modificator \n",
    "\n",
    "есть методы:\n",
    "- публичные,\n",
    "- приватные,\n",
    "- защищенные, \n",
    "- магические/внутренние "
   ]
  },
  {
   "cell_type": "code",
   "execution_count": null,
   "metadata": {
    "ExecuteTime": {
     "end_time": "2019-03-07T13:30:40.558900Z",
     "start_time": "2019-03-07T13:30:40.546326Z"
    }
   },
   "outputs": [],
   "source": [
    "class Foo:\n",
    "    \n",
    "    class_attribute = 'me_gusta'\n",
    "    \n",
    "    def __init__(self):\n",
    "        self.public_atr = 'login'\n",
    "        self._private_atr = 'password'\n",
    "        self.__protected_atr = 'pin_code'\n",
    "        "
   ]
  },
  {
   "cell_type": "markdown",
   "metadata": {},
   "source": [
    "к защищенным методам все-равно можно получить доступ указав имя класса."
   ]
  },
  {
   "cell_type": "code",
   "execution_count": null,
   "metadata": {
    "ExecuteTime": {
     "end_time": "2019-03-07T13:30:41.782341Z",
     "start_time": "2019-03-07T13:30:41.773623Z"
    }
   },
   "outputs": [],
   "source": [
    "e = Foo()\n",
    "\n",
    "print('public:', e.public_atr)\n",
    "print('private:', e._private_atr)\n",
    "\n",
    "try:\n",
    "    print('protected:', e.__protected_atr)\n",
    "except AttributeError:\n",
    "    print('                   Тыщ-Тыщ-Тыщ-Тыщ-Тыщ-Тыщ-Тыщ-. AttributeError!')\n",
    "\n",
    "print('protected:', e._Foo__protected_atr)"
   ]
  },
  {
   "cell_type": "code",
   "execution_count": null,
   "metadata": {
    "ExecuteTime": {
     "end_time": "2019-03-07T13:30:42.226066Z",
     "start_time": "2019-03-07T13:30:42.171336Z"
    }
   },
   "outputs": [],
   "source": [
    "print('protected:', e.__protected_atr)\n",
    "# защищенный - не можем обратиться"
   ]
  },
  {
   "cell_type": "markdown",
   "metadata": {},
   "source": [
    "# Наследование"
   ]
  },
  {
   "cell_type": "code",
   "execution_count": null,
   "metadata": {
    "ExecuteTime": {
     "end_time": "2019-03-07T13:33:59.354828Z",
     "start_time": "2019-03-07T13:33:59.347035Z"
    }
   },
   "outputs": [],
   "source": [
    "class Human(object): # писать object не обязательно\n",
    "    \n",
    "    def __init__(self, name):\n",
    "        self.name = name\n",
    "        \n",
    "    def human_method(self, atr):\n",
    "        print(atr)\n",
    "    \n",
    "class Teacher(Human):\n",
    "    \n",
    "    def hello(self):\n",
    "        print('hello!!!')\n",
    "        "
   ]
  },
  {
   "cell_type": "code",
   "execution_count": null,
   "metadata": {
    "ExecuteTime": {
     "end_time": "2019-03-07T13:33:59.553989Z",
     "start_time": "2019-03-07T13:33:59.549128Z"
    }
   },
   "outputs": [],
   "source": [
    "h = Teacher('Zarina')"
   ]
  },
  {
   "cell_type": "code",
   "execution_count": null,
   "metadata": {
    "ExecuteTime": {
     "end_time": "2019-03-07T13:33:59.774729Z",
     "start_time": "2019-03-07T13:33:59.771094Z"
    }
   },
   "outputs": [],
   "source": [
    "h.hello()"
   ]
  },
  {
   "cell_type": "code",
   "execution_count": null,
   "metadata": {
    "ExecuteTime": {
     "end_time": "2019-03-07T13:34:00.838513Z",
     "start_time": "2019-03-07T13:34:00.834578Z"
    },
    "scrolled": true
   },
   "outputs": [],
   "source": [
    "isinstance(h, Teacher)"
   ]
  },
  {
   "cell_type": "code",
   "execution_count": null,
   "metadata": {
    "ExecuteTime": {
     "end_time": "2019-03-07T13:34:01.466376Z",
     "start_time": "2019-03-07T13:34:01.462525Z"
    }
   },
   "outputs": [],
   "source": [
    "isinstance(h, Teacher)"
   ]
  },
  {
   "cell_type": "code",
   "execution_count": null,
   "metadata": {
    "ExecuteTime": {
     "end_time": "2019-03-07T13:34:01.981007Z",
     "start_time": "2019-03-07T13:34:01.977837Z"
    }
   },
   "outputs": [],
   "source": [
    "issubclass(Teacher, Human)"
   ]
  },
  {
   "cell_type": "code",
   "execution_count": null,
   "metadata": {
    "ExecuteTime": {
     "end_time": "2019-03-07T13:34:02.372407Z",
     "start_time": "2019-03-07T13:34:02.367885Z"
    }
   },
   "outputs": [],
   "source": [
    "issubclass(Human, Teacher)"
   ]
  },
  {
   "cell_type": "code",
   "execution_count": null,
   "metadata": {
    "ExecuteTime": {
     "end_time": "2019-03-07T13:34:02.734145Z",
     "start_time": "2019-03-07T13:34:02.730505Z"
    }
   },
   "outputs": [],
   "source": [
    "issubclass(Teacher, object)"
   ]
  },
  {
   "cell_type": "code",
   "execution_count": null,
   "metadata": {
    "ExecuteTime": {
     "end_time": "2019-03-07T13:34:03.901983Z",
     "start_time": "2019-03-07T13:34:03.896422Z"
    }
   },
   "outputs": [],
   "source": [
    "h.human_method('asdas')"
   ]
  },
  {
   "cell_type": "markdown",
   "metadata": {},
   "source": [
    "##### Чуть глубже"
   ]
  },
  {
   "cell_type": "code",
   "execution_count": null,
   "metadata": {
    "ExecuteTime": {
     "end_time": "2019-03-07T13:34:07.648898Z",
     "start_time": "2019-03-07T13:34:07.623791Z"
    }
   },
   "outputs": [],
   "source": [
    "class A(object):\n",
    "    \n",
    "    def __init__(self):\n",
    "        self.class_ = \"A\"\n",
    "        self.parent = 'object'\n",
    "    \n",
    "    def come_on(self, python):\n",
    "        print(f'A.{python}')\n",
    "       \n",
    "    def __str__(self): # вызывается когда мы вызываем print(some_object)\n",
    "        return f'parent={self.parent}, class={self.class_}'\n",
    "        \n",
    "        \n",
    "class B(A):\n",
    "    \n",
    "    def __init__(self):\n",
    "        super(B, self).__init__() # same as super().__init__()\n",
    "        self.parent = self.class_\n",
    "        self.class_= \"B\"\n",
    "        \n",
    "    def come_on(self, python):\n",
    "        print(f'B.{python}')"
   ]
  },
  {
   "cell_type": "code",
   "execution_count": null,
   "metadata": {
    "ExecuteTime": {
     "end_time": "2019-03-07T13:34:07.900241Z",
     "start_time": "2019-03-07T13:34:07.897831Z"
    }
   },
   "outputs": [],
   "source": [
    "a = A()\n",
    "b = B()"
   ]
  },
  {
   "cell_type": "markdown",
   "metadata": {},
   "source": [
    "> что напечатает print(a), print(b) ?"
   ]
  },
  {
   "cell_type": "code",
   "execution_count": null,
   "metadata": {
    "ExecuteTime": {
     "end_time": "2019-03-07T13:34:09.527127Z",
     "start_time": "2019-03-07T13:34:09.523878Z"
    }
   },
   "outputs": [],
   "source": [
    "print(a)"
   ]
  },
  {
   "cell_type": "code",
   "execution_count": null,
   "metadata": {
    "ExecuteTime": {
     "end_time": "2019-03-07T13:34:09.800537Z",
     "start_time": "2019-03-07T13:34:09.797583Z"
    },
    "scrolled": true
   },
   "outputs": [],
   "source": [
    "print(b)"
   ]
  },
  {
   "cell_type": "code",
   "execution_count": null,
   "metadata": {
    "ExecuteTime": {
     "end_time": "2019-03-07T13:34:10.219981Z",
     "start_time": "2019-03-07T13:34:10.212805Z"
    }
   },
   "outputs": [],
   "source": [
    "class C(B):\n",
    "    \n",
    "    def __init__(self):\n",
    "        super().__init__()\n",
    "        self.batya = self.class_\n",
    "        self.class_=\"C\"\n",
    "    \n",
    "    def come_on(self, python):\n",
    "        print('B.{}'.format(python))"
   ]
  },
  {
   "cell_type": "code",
   "execution_count": null,
   "metadata": {
    "ExecuteTime": {
     "end_time": "2019-03-07T13:34:10.743711Z",
     "start_time": "2019-03-07T13:34:10.739447Z"
    }
   },
   "outputs": [],
   "source": [
    "c = C()\n",
    "print(c)"
   ]
  },
  {
   "cell_type": "markdown",
   "metadata": {},
   "source": [
    "> вызывая super() мы \"грубо говоря\" возвращаем класс следущий по иерархии наследования"
   ]
  },
  {
   "cell_type": "markdown",
   "metadata": {},
   "source": [
    "> вызывая его __init__ заполняем поля текущего инстанса"
   ]
  },
  {
   "cell_type": "code",
   "execution_count": null,
   "metadata": {
    "ExecuteTime": {
     "end_time": "2019-03-07T13:34:13.012787Z",
     "start_time": "2019-03-07T13:34:13.001916Z"
    }
   },
   "outputs": [],
   "source": [
    "isinstance(c, C), isinstance(c, B), isinstance(c, A), isinstance(c, object)"
   ]
  },
  {
   "cell_type": "code",
   "execution_count": null,
   "metadata": {
    "ExecuteTime": {
     "end_time": "2019-03-07T13:34:13.191738Z",
     "start_time": "2019-03-07T13:34:13.186052Z"
    }
   },
   "outputs": [],
   "source": [
    "issubclass(C, A)"
   ]
  },
  {
   "cell_type": "markdown",
   "metadata": {},
   "source": [
    "##### Множественное - to be continued ..."
   ]
  },
  {
   "cell_type": "markdown",
   "metadata": {},
   "source": [
    "![](https://encrypted-tbn0.gstatic.com/images?q=tbn:ANd9GcSD0jvWfdf9i-dpWf7Ls_P5ylqOUARnwgSJSs3-_VUb1x4ac3QA)"
   ]
  },
  {
   "cell_type": "markdown",
   "metadata": {},
   "source": [
    "____"
   ]
  },
  {
   "cell_type": "markdown",
   "metadata": {},
   "source": [
    "##### Атрибуты классов"
   ]
  },
  {
   "cell_type": "markdown",
   "metadata": {},
   "source": [
    "```python\n",
    "dir()\n",
    "```"
   ]
  },
  {
   "cell_type": "code",
   "execution_count": null,
   "metadata": {
    "ExecuteTime": {
     "end_time": "2019-03-07T13:43:57.322588Z",
     "start_time": "2019-03-07T13:43:57.310055Z"
    }
   },
   "outputs": [],
   "source": [
    "class Human(object): # писать object не обязательно\n",
    "    \n",
    "    def __init__(self, name):\n",
    "        self.name = name\n",
    "        \n",
    "    def human_method(self, atr):\n",
    "        print(atr)\n",
    "    \n",
    "class Teacher(Human):\n",
    "    \n",
    "    def hello(self):\n",
    "        print('hello!!!')\n",
    "        "
   ]
  },
  {
   "cell_type": "code",
   "execution_count": null,
   "metadata": {
    "ExecuteTime": {
     "end_time": "2019-03-07T13:43:57.580754Z",
     "start_time": "2019-03-07T13:43:57.578154Z"
    }
   },
   "outputs": [],
   "source": [
    "h = Teacher('Zarina')"
   ]
  },
  {
   "cell_type": "code",
   "execution_count": null,
   "metadata": {
    "ExecuteTime": {
     "end_time": "2019-03-07T13:43:58.016898Z",
     "start_time": "2019-03-07T13:43:58.009703Z"
    }
   },
   "outputs": [],
   "source": [
    "dir(h)"
   ]
  },
  {
   "cell_type": "code",
   "execution_count": null,
   "metadata": {
    "ExecuteTime": {
     "end_time": "2019-03-07T13:43:58.490414Z",
     "start_time": "2019-03-07T13:43:58.486040Z"
    }
   },
   "outputs": [],
   "source": [
    "dir(Teacher)"
   ]
  },
  {
   "cell_type": "code",
   "execution_count": null,
   "metadata": {
    "ExecuteTime": {
     "end_time": "2019-03-07T13:43:22.735962Z",
     "start_time": "2019-03-07T13:43:22.728961Z"
    }
   },
   "outputs": [],
   "source": [
    "Teacher.__dict__"
   ]
  },
  {
   "cell_type": "raw",
   "metadata": {},
   "source": []
  },
  {
   "cell_type": "markdown",
   "metadata": {},
   "source": [
    "Атрибут __dict__ есть  и у экземпляра и у класса."
   ]
  },
  {
   "cell_type": "code",
   "execution_count": null,
   "metadata": {
    "ExecuteTime": {
     "end_time": "2019-03-07T13:45:19.473172Z",
     "start_time": "2019-03-07T13:45:19.462166Z"
    }
   },
   "outputs": [],
   "source": [
    "class Foo:\n",
    "    \n",
    "    class_attribute = 'me_gusta'\n",
    "    \n",
    "    def __init__(self):\n",
    "        self.public_atr = 'login'\n",
    "        self._private_atr = 'password'\n",
    "        self.__really_private_atr = 'pin_code'\n",
    "        self.__soy_especial__ = self.class_attribute\n",
    "        \n",
    "    def my_custom_method(self, atr):\n",
    "        print(atr)\n",
    "        \n",
    "e = Foo()"
   ]
  },
  {
   "cell_type": "code",
   "execution_count": null,
   "metadata": {
    "ExecuteTime": {
     "end_time": "2019-03-07T13:45:19.954196Z",
     "start_time": "2019-03-07T13:45:19.950846Z"
    }
   },
   "outputs": [],
   "source": [
    "dir(e)"
   ]
  },
  {
   "cell_type": "code",
   "execution_count": null,
   "metadata": {
    "ExecuteTime": {
     "end_time": "2019-03-07T13:45:20.326620Z",
     "start_time": "2019-03-07T13:45:20.322245Z"
    },
    "scrolled": false
   },
   "outputs": [],
   "source": [
    "e.__dict__"
   ]
  },
  {
   "cell_type": "markdown",
   "metadata": {},
   "source": [
    "`__dict__` то же самое что и "
   ]
  },
  {
   "cell_type": "code",
   "execution_count": null,
   "metadata": {
    "ExecuteTime": {
     "end_time": "2019-03-07T13:45:22.411872Z",
     "start_time": "2019-03-07T13:45:22.406425Z"
    }
   },
   "outputs": [],
   "source": [
    "vars(e)"
   ]
  },
  {
   "cell_type": "code",
   "execution_count": null,
   "metadata": {
    "ExecuteTime": {
     "end_time": "2019-03-07T13:45:24.609717Z",
     "start_time": "2019-03-07T13:45:24.605245Z"
    }
   },
   "outputs": [],
   "source": [
    "hasattr(e, 'public_atr')"
   ]
  },
  {
   "cell_type": "code",
   "execution_count": null,
   "metadata": {
    "ExecuteTime": {
     "end_time": "2019-03-07T13:45:24.778051Z",
     "start_time": "2019-03-07T13:45:24.775500Z"
    }
   },
   "outputs": [],
   "source": [
    "def my_hasattr(obj, atr):\n",
    "    return atr in vars(obj)"
   ]
  },
  {
   "cell_type": "code",
   "execution_count": null,
   "metadata": {
    "ExecuteTime": {
     "end_time": "2019-03-07T13:45:24.924181Z",
     "start_time": "2019-03-07T13:45:24.920220Z"
    }
   },
   "outputs": [],
   "source": [
    "my_hasattr(e, 'public_atr')"
   ]
  },
  {
   "cell_type": "markdown",
   "metadata": {},
   "source": [
    "У класса свой `__dict__`"
   ]
  },
  {
   "cell_type": "code",
   "execution_count": null,
   "metadata": {
    "ExecuteTime": {
     "end_time": "2019-03-07T13:45:25.235803Z",
     "start_time": "2019-03-07T13:45:25.226400Z"
    }
   },
   "outputs": [],
   "source": [
    "Foo.__dict__"
   ]
  },
  {
   "cell_type": "raw",
   "metadata": {},
   "source": [
    "у объекта есть __dict__, в нем хранятся его атрибуты\n",
    "При этом мы на лету можем менять внутреннее состояние объекта"
   ]
  },
  {
   "cell_type": "markdown",
   "metadata": {},
   "source": [
    "#### Вопрос к аудитории"
   ]
  },
  {
   "cell_type": "code",
   "execution_count": null,
   "metadata": {
    "ExecuteTime": {
     "end_time": "2019-03-06T11:58:56.020612Z",
     "start_time": "2019-03-06T11:58:56.006003Z"
    }
   },
   "outputs": [],
   "source": [
    "class MyFirstClass(object):\n",
    "    \"\"\"\n",
    "    This is my first class.\n",
    "    \"\"\"\n",
    "    classatribute = 99999\n",
    "\n",
    "    def __init__(self, base):\n",
    "        # self - указатель на экземпляр.\n",
    "        self.base = base\n",
    "\n",
    "    def strange_transform(self, x):\n",
    "        return str(self.base) + ' (^_^) ' + str(x)\n",
    "\n",
    "exemplar = MyFirstClass('¯\\_')"
   ]
  },
  {
   "cell_type": "code",
   "execution_count": null,
   "metadata": {
    "ExecuteTime": {
     "end_time": "2019-03-06T11:58:56.208887Z",
     "start_time": "2019-03-06T11:58:56.204695Z"
    }
   },
   "outputs": [],
   "source": [
    "exemplar.__dict__"
   ]
  },
  {
   "cell_type": "code",
   "execution_count": null,
   "metadata": {
    "ExecuteTime": {
     "end_time": "2019-03-06T11:58:56.460241Z",
     "start_time": "2019-03-06T11:58:56.456251Z"
    },
    "scrolled": true
   },
   "outputs": [],
   "source": [
    "dir(exemplar)"
   ]
  },
  {
   "cell_type": "code",
   "execution_count": null,
   "metadata": {
    "ExecuteTime": {
     "end_time": "2019-03-06T11:59:12.097768Z",
     "start_time": "2019-03-06T11:59:12.093589Z"
    },
    "scrolled": true
   },
   "outputs": [],
   "source": [
    "exemplar.classatribute"
   ]
  },
  {
   "cell_type": "code",
   "execution_count": null,
   "metadata": {
    "ExecuteTime": {
     "end_time": "2019-03-06T11:59:12.312885Z",
     "start_time": "2019-03-06T11:59:12.309686Z"
    }
   },
   "outputs": [],
   "source": [
    "exemplar.classatribute = exemplar.classatribute + 3"
   ]
  },
  {
   "cell_type": "markdown",
   "metadata": {},
   "source": [
    "> что станет с exemplar.classatribute и с MyFirstClass.classatribute?"
   ]
  },
  {
   "cell_type": "code",
   "execution_count": null,
   "metadata": {
    "ExecuteTime": {
     "end_time": "2019-03-06T11:59:13.120933Z",
     "start_time": "2019-03-06T11:59:13.114777Z"
    }
   },
   "outputs": [],
   "source": [
    "exemplar.classatribute"
   ]
  },
  {
   "cell_type": "code",
   "execution_count": null,
   "metadata": {
    "ExecuteTime": {
     "end_time": "2019-03-06T11:59:13.435249Z",
     "start_time": "2019-03-06T11:59:13.431068Z"
    }
   },
   "outputs": [],
   "source": [
    "'classatribute' in dir(exemplar)"
   ]
  },
  {
   "cell_type": "code",
   "execution_count": null,
   "metadata": {
    "ExecuteTime": {
     "end_time": "2019-03-06T11:59:15.555864Z",
     "start_time": "2019-03-06T11:59:15.548716Z"
    },
    "scrolled": true
   },
   "outputs": [],
   "source": [
    "'classatribute' in exemplar.__dict__"
   ]
  },
  {
   "cell_type": "markdown",
   "metadata": {},
   "source": [
    "##### hmmmmm...."
   ]
  },
  {
   "cell_type": "code",
   "execution_count": null,
   "metadata": {
    "ExecuteTime": {
     "end_time": "2019-03-06T11:59:16.334195Z",
     "start_time": "2019-03-06T11:59:16.328569Z"
    },
    "scrolled": true
   },
   "outputs": [],
   "source": [
    "MyFirstClass.classatribute"
   ]
  },
  {
   "cell_type": "code",
   "execution_count": null,
   "metadata": {
    "ExecuteTime": {
     "end_time": "2019-03-06T11:59:16.754329Z",
     "start_time": "2019-03-06T11:59:16.750046Z"
    },
    "scrolled": true
   },
   "outputs": [],
   "source": [
    "exemplar.__dict__"
   ]
  },
  {
   "cell_type": "code",
   "execution_count": null,
   "metadata": {
    "ExecuteTime": {
     "end_time": "2019-03-06T11:59:17.063666Z",
     "start_time": "2019-03-06T11:59:17.057733Z"
    }
   },
   "outputs": [],
   "source": [
    "# во время исполнения программы происходит динамический поиск\n",
    "exemplar.__dict__['me_gusta'] = 100502"
   ]
  },
  {
   "cell_type": "code",
   "execution_count": null,
   "metadata": {
    "ExecuteTime": {
     "end_time": "2019-03-06T11:59:17.544921Z",
     "start_time": "2019-03-06T11:59:17.537348Z"
    }
   },
   "outputs": [],
   "source": [
    "exemplar.__dict__"
   ]
  },
  {
   "cell_type": "code",
   "execution_count": null,
   "metadata": {
    "ExecuteTime": {
     "end_time": "2019-03-06T11:59:20.224108Z",
     "start_time": "2019-03-06T11:59:20.216827Z"
    },
    "scrolled": false
   },
   "outputs": [],
   "source": [
    "exemplar.__getattribute__('classatribute') \n",
    "\n",
    "# бежим в __dict__ смотрим есть ли там если есть то достаем"
   ]
  },
  {
   "cell_type": "code",
   "execution_count": null,
   "metadata": {
    "ExecuteTime": {
     "end_time": "2019-03-06T11:59:20.951481Z",
     "start_time": "2019-03-06T11:59:20.947443Z"
    }
   },
   "outputs": [],
   "source": [
    "getattr(exemplar, 'classatribute')"
   ]
  },
  {
   "cell_type": "code",
   "execution_count": null,
   "metadata": {
    "ExecuteTime": {
     "end_time": "2019-03-06T11:59:22.299171Z",
     "start_time": "2019-03-06T11:59:22.295719Z"
    }
   },
   "outputs": [],
   "source": [
    "def my_hasattr(obj, atr):\n",
    "    return exemplar.__getattribute__('classatribute') "
   ]
  },
  {
   "cell_type": "code",
   "execution_count": null,
   "metadata": {
    "ExecuteTime": {
     "end_time": "2019-03-06T11:59:23.300044Z",
     "start_time": "2019-03-06T11:59:23.288467Z"
    }
   },
   "outputs": [],
   "source": [
    "my_hasattr(exemplar, 'classatribute')"
   ]
  },
  {
   "cell_type": "markdown",
   "metadata": {
    "ExecuteTime": {
     "end_time": "2019-03-06T11:59:24.229395Z",
     "start_time": "2019-03-06T11:59:24.226261Z"
    },
    "collapsed": true
   },
   "source": [
    "##### как же все-таки из \"покоцанного\" экземпляра получить нужное нам значение атрибута класса?"
   ]
  },
  {
   "cell_type": "code",
   "execution_count": null,
   "metadata": {
    "ExecuteTime": {
     "end_time": "2019-03-06T12:00:12.980242Z",
     "start_time": "2019-03-06T12:00:12.974719Z"
    }
   },
   "outputs": [],
   "source": [
    "exemplar"
   ]
  },
  {
   "cell_type": "code",
   "execution_count": null,
   "metadata": {},
   "outputs": [],
   "source": []
  },
  {
   "cell_type": "code",
   "execution_count": null,
   "metadata": {
    "ExecuteTime": {
     "end_time": "2019-03-06T12:00:13.813182Z",
     "start_time": "2019-03-06T12:00:13.808836Z"
    }
   },
   "outputs": [],
   "source": [
    "exemplar.__class__.__dict__"
   ]
  },
  {
   "cell_type": "code",
   "execution_count": null,
   "metadata": {
    "ExecuteTime": {
     "end_time": "2019-03-06T12:00:19.772003Z",
     "start_time": "2019-03-06T12:00:19.766267Z"
    }
   },
   "outputs": [],
   "source": [
    "exemplar.__class__.classatribute"
   ]
  },
  {
   "cell_type": "markdown",
   "metadata": {},
   "source": [
    "_________"
   ]
  },
  {
   "cell_type": "markdown",
   "metadata": {},
   "source": [
    "### что внутри у объекта?"
   ]
  },
  {
   "cell_type": "code",
   "execution_count": null,
   "metadata": {
    "scrolled": false
   },
   "outputs": [],
   "source": [
    "dir(exemplar)"
   ]
  },
  {
   "cell_type": "code",
   "execution_count": null,
   "metadata": {},
   "outputs": [],
   "source": [
    "class MyFirstClass(object):\n",
    "    \"\"\"\n",
    "    This is my first class.\n",
    "    \"\"\"\n",
    "    classatribute = 99999\n",
    "\n",
    "    def __init__(self, base):\n",
    "        # self - указатель на экземпляр.\n",
    "        # base - какой то параметр\n",
    "        self.base = base\n",
    "\n",
    "    def strange_transform(self, x):\n",
    "        return str(self.base) + ' (^_^) ' + str(x)\n",
    "    \n",
    "    def __str__(self):\n",
    "        return 'no-no-no'\n",
    "    \n",
    "    def __repr__(self):\n",
    "        return 'yep-yep-yep'"
   ]
  },
  {
   "cell_type": "code",
   "execution_count": null,
   "metadata": {
    "ExecuteTime": {
     "end_time": "2019-03-06T09:42:59.057812Z",
     "start_time": "2019-03-06T09:42:59.055122Z"
    }
   },
   "outputs": [],
   "source": [
    "exemplar = MyFirstClass('¯\\_')"
   ]
  },
  {
   "cell_type": "code",
   "execution_count": null,
   "metadata": {
    "ExecuteTime": {
     "end_time": "2019-03-06T09:42:59.215742Z",
     "start_time": "2019-03-06T09:42:59.211425Z"
    }
   },
   "outputs": [],
   "source": [
    "print(exemplar.strange_transform('_/¯'))"
   ]
  },
  {
   "cell_type": "code",
   "execution_count": null,
   "metadata": {
    "ExecuteTime": {
     "end_time": "2019-03-06T09:42:59.506250Z",
     "start_time": "2019-03-06T09:42:59.499977Z"
    }
   },
   "outputs": [],
   "source": [
    "print(exemplar)"
   ]
  },
  {
   "cell_type": "code",
   "execution_count": null,
   "metadata": {
    "ExecuteTime": {
     "end_time": "2019-03-06T09:43:02.674917Z",
     "start_time": "2019-03-06T09:43:02.669402Z"
    }
   },
   "outputs": [],
   "source": [
    "exemplar"
   ]
  },
  {
   "cell_type": "markdown",
   "metadata": {},
   "source": [
    "____"
   ]
  },
  {
   "cell_type": "markdown",
   "metadata": {},
   "source": [
    "Добавляем новый метод на лету в класс. и у всех его созданных и не созданных экземпляров появится эта функция.\n",
    "потому что так происходит поиск методов и атрибутов. если вызываем метод у экземпляра то сначала ищем в __dict__ экземпляра, если не нашли идем выше ( в класс ) и смотрим его __dict__"
   ]
  },
  {
   "cell_type": "code",
   "execution_count": null,
   "metadata": {
    "ExecuteTime": {
     "end_time": "2019-03-06T12:32:31.057648Z",
     "start_time": "2019-03-06T12:32:31.045993Z"
    },
    "scrolled": false
   },
   "outputs": [],
   "source": [
    "class X(object): pass\n",
    "y = X()\n",
    "y.wrong_method()  # такого метода пока нет"
   ]
  },
  {
   "cell_type": "code",
   "execution_count": null,
   "metadata": {
    "ExecuteTime": {
     "end_time": "2019-03-06T12:32:31.185760Z",
     "start_time": "2019-03-06T12:32:31.182398Z"
    }
   },
   "outputs": [],
   "source": [
    "'wrong_method' in dir(y)"
   ]
  },
  {
   "cell_type": "code",
   "execution_count": null,
   "metadata": {
    "ExecuteTime": {
     "end_time": "2019-03-06T12:50:05.041876Z",
     "start_time": "2019-03-06T12:50:05.028883Z"
    }
   },
   "outputs": [],
   "source": [
    "def im_here(self):\n",
    "    return 'im here'"
   ]
  },
  {
   "cell_type": "code",
   "execution_count": null,
   "metadata": {
    "ExecuteTime": {
     "end_time": "2019-03-06T12:32:31.355830Z",
     "start_time": "2019-03-06T12:32:31.350513Z"
    }
   },
   "outputs": [],
   "source": [
    "X.wrong_method = im_here # добавим его\n",
    "y.wrong_method()\n",
    "# \n",
    "# так как доступ к методу приводит к поиску по __dict__ класса,\n",
    "# то wrong_method становится доступным всем экземплярам"
   ]
  },
  {
   "cell_type": "code",
   "execution_count": null,
   "metadata": {
    "ExecuteTime": {
     "end_time": "2019-03-06T12:32:31.876810Z",
     "start_time": "2019-03-06T12:32:31.873727Z"
    }
   },
   "outputs": [],
   "source": [
    "'wrong_method' in dir(y)"
   ]
  },
  {
   "cell_type": "code",
   "execution_count": null,
   "metadata": {
    "ExecuteTime": {
     "end_time": "2019-03-06T12:32:32.765840Z",
     "start_time": "2019-03-06T12:32:32.762028Z"
    }
   },
   "outputs": [],
   "source": [
    "y.wrong_method is X.wrong_method"
   ]
  },
  {
   "cell_type": "code",
   "execution_count": null,
   "metadata": {
    "ExecuteTime": {
     "end_time": "2019-03-06T12:32:32.952795Z",
     "start_time": "2019-03-06T12:32:32.949214Z"
    },
    "scrolled": true
   },
   "outputs": [],
   "source": [
    "y.__dict__"
   ]
  },
  {
   "cell_type": "markdown",
   "metadata": {},
   "source": [
    "##### Почему эта реализация не работает?"
   ]
  },
  {
   "cell_type": "code",
   "execution_count": null,
   "metadata": {
    "ExecuteTime": {
     "end_time": "2019-03-06T12:47:59.744085Z",
     "start_time": "2019-03-06T12:47:59.732695Z"
    }
   },
   "outputs": [],
   "source": [
    "class Z(object): pass\n",
    "z = Z()\n",
    "z.wrong_method = im_here\n",
    "z.wrong_method()"
   ]
  },
  {
   "cell_type": "code",
   "execution_count": null,
   "metadata": {
    "ExecuteTime": {
     "end_time": "2019-03-06T12:48:00.579607Z",
     "start_time": "2019-03-06T12:48:00.568511Z"
    }
   },
   "outputs": [],
   "source": [
    "y.wrong_method"
   ]
  },
  {
   "cell_type": "code",
   "execution_count": null,
   "metadata": {
    "ExecuteTime": {
     "end_time": "2019-03-06T12:48:00.810324Z",
     "start_time": "2019-03-06T12:48:00.806867Z"
    }
   },
   "outputs": [],
   "source": [
    "z.wrong_method"
   ]
  },
  {
   "cell_type": "markdown",
   "metadata": {},
   "source": [
    "##### bound method и function"
   ]
  },
  {
   "cell_type": "markdown",
   "metadata": {},
   "source": [
    "у связанного метода зафиксирован первый агрумент - self, явно когда вы вызываете метод экземпляра вы не передаете self.\n",
    "\n",
    "в несвязанном методе вы должны передать первый аргумент "
   ]
  },
  {
   "cell_type": "code",
   "execution_count": null,
   "metadata": {
    "ExecuteTime": {
     "end_time": "2019-03-06T12:48:04.943064Z",
     "start_time": "2019-03-06T12:48:04.936173Z"
    }
   },
   "outputs": [],
   "source": [
    "z.wrong_method(z)"
   ]
  },
  {
   "cell_type": "markdown",
   "metadata": {
    "ExecuteTime": {
     "end_time": "2019-03-06T12:48:20.035740Z",
     "start_time": "2019-03-06T12:48:20.021447Z"
    }
   },
   "source": [
    "___________"
   ]
  },
  {
   "cell_type": "markdown",
   "metadata": {},
   "source": [
    "___"
   ]
  },
  {
   "cell_type": "markdown",
   "metadata": {},
   "source": [
    "#### slot mechanism\n",
    "\n",
    "Хранить dict временами дорого. Иногда вообще не хочется чтобы в объекте создавался новый атрибут.\n",
    "Механизм слотов позволяет при объявлении класса заранее указать его атрибуты. Новые уже создать будет нельзя"
   ]
  },
  {
   "cell_type": "code",
   "execution_count": null,
   "metadata": {
    "ExecuteTime": {
     "end_time": "2019-03-06T12:52:47.914627Z",
     "start_time": "2019-03-06T12:52:47.910399Z"
    }
   },
   "outputs": [],
   "source": [
    "class BazAr():\n",
    "    \n",
    "    __slots__ = ['abaz']\n",
    "    \n",
    "    def __init__(self, props):\n",
    "        self.abaz = props\n",
    "        # self.coco = 'nOOOOOO!'"
   ]
  },
  {
   "cell_type": "code",
   "execution_count": null,
   "metadata": {
    "ExecuteTime": {
     "end_time": "2019-03-06T12:52:48.329586Z",
     "start_time": "2019-03-06T12:52:48.326297Z"
    }
   },
   "outputs": [],
   "source": [
    "BazAr.__dict__"
   ]
  },
  {
   "cell_type": "code",
   "execution_count": null,
   "metadata": {
    "ExecuteTime": {
     "end_time": "2019-03-06T12:52:48.519579Z",
     "start_time": "2019-03-06T12:52:48.515380Z"
    }
   },
   "outputs": [],
   "source": [
    "tmp_a = BazAr('slot_mechanism')"
   ]
  },
  {
   "cell_type": "code",
   "execution_count": null,
   "metadata": {
    "ExecuteTime": {
     "end_time": "2019-03-06T12:52:49.222160Z",
     "start_time": "2019-03-06T12:52:49.209550Z"
    }
   },
   "outputs": [],
   "source": [
    "tmp_a.__dict__"
   ]
  },
  {
   "cell_type": "code",
   "execution_count": null,
   "metadata": {
    "ExecuteTime": {
     "end_time": "2019-03-06T12:52:52.307262Z",
     "start_time": "2019-03-06T12:52:52.304065Z"
    }
   },
   "outputs": [],
   "source": [
    "tmp_a.abaz"
   ]
  },
  {
   "cell_type": "code",
   "execution_count": null,
   "metadata": {
    "ExecuteTime": {
     "end_time": "2019-03-06T12:53:01.618905Z",
     "start_time": "2019-03-06T12:53:01.610053Z"
    }
   },
   "outputs": [],
   "source": [
    "### теперь мы не можем добавлять новых атрибутов\n",
    "tmp_a.thereisnomore = 2"
   ]
  },
  {
   "cell_type": "code",
   "execution_count": null,
   "metadata": {
    "ExecuteTime": {
     "end_time": "2019-03-06T12:55:40.184300Z",
     "start_time": "2019-03-06T12:55:40.181793Z"
    }
   },
   "outputs": [],
   "source": [
    "BazAr.new_method = lambda self: 'imhere'"
   ]
  },
  {
   "cell_type": "code",
   "execution_count": null,
   "metadata": {
    "ExecuteTime": {
     "end_time": "2019-03-06T12:55:40.334221Z",
     "start_time": "2019-03-06T12:55:40.331136Z"
    }
   },
   "outputs": [],
   "source": [
    "tmp_a.new_method()"
   ]
  },
  {
   "cell_type": "markdown",
   "metadata": {},
   "source": [
    "##### сколько вешать в байтах? "
   ]
  },
  {
   "cell_type": "code",
   "execution_count": null,
   "metadata": {
    "ExecuteTime": {
     "end_time": "2019-03-06T12:55:44.574492Z",
     "start_time": "2019-03-06T12:55:44.559308Z"
    }
   },
   "outputs": [],
   "source": [
    "import sys\n",
    "sys.getsizeof(tmp_a)"
   ]
  },
  {
   "cell_type": "code",
   "execution_count": null,
   "metadata": {
    "ExecuteTime": {
     "end_time": "2019-03-06T12:56:03.982641Z",
     "start_time": "2019-03-06T12:56:03.962025Z"
    }
   },
   "outputs": [],
   "source": [
    "class BazAr():\n",
    "    \n",
    "    def __init__(self, props):\n",
    "        self.abaz = props\n",
    "        \n",
    "tmp_a = BazAr('slot_mechanism')\n",
    "\n",
    "sys.getsizeof(tmp_a)"
   ]
  },
  {
   "cell_type": "code",
   "execution_count": null,
   "metadata": {
    "ExecuteTime": {
     "end_time": "2019-03-06T12:58:17.616557Z",
     "start_time": "2019-03-06T12:58:17.607111Z"
    },
    "scrolled": true
   },
   "outputs": [],
   "source": [
    "sys.getsizeof(tmp_a.__dict__) "
   ]
  },
  {
   "cell_type": "markdown",
   "metadata": {},
   "source": [
    "____________-"
   ]
  },
  {
   "cell_type": "markdown",
   "metadata": {},
   "source": [
    "еще один способ создания класса..."
   ]
  },
  {
   "cell_type": "markdown",
   "metadata": {
    "ExecuteTime": {
     "end_time": "2019-03-06T13:15:24.853366Z",
     "start_time": "2019-03-06T13:15:24.845102Z"
    }
   },
   "source": [
    "```python\n",
    "\n",
    "class NewClass:\n",
    "    something_ = 554\n",
    "    \n",
    "    def foo(self):\n",
    "        return 'foo_print'\n",
    "    \n",
    "    def __init__(self, a):\n",
    "        self.some_atribute = a\n",
    "    \n",
    "```"
   ]
  },
  {
   "cell_type": "raw",
   "metadata": {},
   "source": [
    "# type(ИмяКласса, (Кортеж классов родителей), {словарь с атрибутами класса})"
   ]
  },
  {
   "cell_type": "code",
   "execution_count": null,
   "metadata": {
    "ExecuteTime": {
     "end_time": "2019-03-06T13:14:07.072795Z",
     "start_time": "2019-03-06T13:14:07.067652Z"
    }
   },
   "outputs": [],
   "source": [
    "_func = lambda self: 'foo_print'\n",
    "\n",
    "def f (self, a):\n",
    "    self.some_atribute = a\n",
    "\n",
    "some_class_class = type('NewClass', (), {'something_': 554, 'foo': _func, '__init__': f})"
   ]
  },
  {
   "cell_type": "code",
   "execution_count": null,
   "metadata": {
    "ExecuteTime": {
     "end_time": "2019-03-06T13:14:07.421691Z",
     "start_time": "2019-03-06T13:14:07.417332Z"
    }
   },
   "outputs": [],
   "source": [
    "some_class_class"
   ]
  },
  {
   "cell_type": "code",
   "execution_count": null,
   "metadata": {
    "ExecuteTime": {
     "end_time": "2019-03-06T13:14:02.634690Z",
     "start_time": "2019-03-06T13:14:02.627411Z"
    }
   },
   "outputs": [],
   "source": [
    "tmp_re = some_class_class(234)\n",
    "tmp_re"
   ]
  },
  {
   "cell_type": "code",
   "execution_count": null,
   "metadata": {
    "ExecuteTime": {
     "end_time": "2019-03-06T13:13:42.459728Z",
     "start_time": "2019-03-06T13:13:42.446769Z"
    }
   },
   "outputs": [],
   "source": [
    "some_class_class.something_, tmp_re.some_atribute"
   ]
  },
  {
   "cell_type": "code",
   "execution_count": null,
   "metadata": {
    "ExecuteTime": {
     "end_time": "2019-03-06T13:13:43.133008Z",
     "start_time": "2019-03-06T13:13:43.126898Z"
    }
   },
   "outputs": [],
   "source": [
    "tmp_re.foo()"
   ]
  },
  {
   "cell_type": "markdown",
   "metadata": {},
   "source": [
    "##### но об этом на следующей лекции ..."
   ]
  },
  {
   "cell_type": "markdown",
   "metadata": {},
   "source": [
    "_______"
   ]
  },
  {
   "cell_type": "markdown",
   "metadata": {},
   "source": [
    "##### classmethod & staticmethod"
   ]
  },
  {
   "cell_type": "code",
   "execution_count": null,
   "metadata": {
    "ExecuteTime": {
     "end_time": "2019-03-07T13:49:46.558425Z",
     "start_time": "2019-03-07T13:49:46.543377Z"
    }
   },
   "outputs": [],
   "source": [
    "class A(object):\n",
    "    \n",
    "    count_ = 100500\n",
    "    \n",
    "    def foo(self, x):\n",
    "        print ('foo with self=%s and x=%s' % (self, x))\n",
    "\n",
    "    @classmethod\n",
    "    def class_foo(cls, x):\n",
    "        print ('class foo with cls=%s and local_variables=%s \\\n",
    "including count_=%s' % (cls, dir(), cls.count_))\n",
    "\n",
    "    @staticmethod\n",
    "    def static_foo(x):\n",
    "        print ('static foo x=%s and local_variables=%s' % (x, dir()))  \n",
    "\n",
    "a=A()"
   ]
  },
  {
   "cell_type": "code",
   "execution_count": null,
   "metadata": {
    "ExecuteTime": {
     "end_time": "2019-03-07T13:49:46.697218Z",
     "start_time": "2019-03-07T13:49:46.692645Z"
    }
   },
   "outputs": [],
   "source": [
    "a.foo('some_x')"
   ]
  },
  {
   "cell_type": "code",
   "execution_count": null,
   "metadata": {
    "ExecuteTime": {
     "end_time": "2019-03-07T13:49:46.844219Z",
     "start_time": "2019-03-07T13:49:46.836153Z"
    }
   },
   "outputs": [],
   "source": [
    "a.class_foo('some_x')"
   ]
  },
  {
   "cell_type": "code",
   "execution_count": null,
   "metadata": {
    "ExecuteTime": {
     "end_time": "2019-03-07T13:49:47.009745Z",
     "start_time": "2019-03-07T13:49:47.003049Z"
    }
   },
   "outputs": [],
   "source": [
    "A.class_foo('some_x')"
   ]
  },
  {
   "cell_type": "code",
   "execution_count": null,
   "metadata": {
    "ExecuteTime": {
     "end_time": "2019-03-07T13:49:47.202072Z",
     "start_time": "2019-03-07T13:49:47.198887Z"
    }
   },
   "outputs": [],
   "source": [
    "a.static_foo('some_x')"
   ]
  },
  {
   "cell_type": "code",
   "execution_count": null,
   "metadata": {
    "ExecuteTime": {
     "end_time": "2019-03-07T13:49:47.433986Z",
     "start_time": "2019-03-07T13:49:47.430941Z"
    }
   },
   "outputs": [],
   "source": [
    "A.static_foo('some_x')"
   ]
  },
  {
   "cell_type": "markdown",
   "metadata": {
    "ExecuteTime": {
     "end_time": "2018-10-01T07:21:19.190066Z",
     "start_time": "2018-10-01T07:21:19.182015Z"
    }
   },
   "source": [
    "> обычный метод принимает в качестве первого агрумента метода экземпляр (self)\n",
    "\n",
    "> классовый метод принимает в качестве первого агрумента метода - класс экземпляра (cls),\n",
    "можно вызывать и из класса, и из экземпляра. Один из вариантов использования - наследуемые конструкторы.\n",
    "\n",
    "> в статический метод не передаются в качестве первого агрумента ни экземпляр ни класс.\n",
    "похож на обычные функции, но можно вызывать из экземпляра или класса. нет доступа к атрибутам класса "
   ]
  },
  {
   "cell_type": "markdown",
   "metadata": {
    "collapsed": true
   },
   "source": [
    "____________"
   ]
  },
  {
   "cell_type": "code",
   "execution_count": null,
   "metadata": {},
   "outputs": [],
   "source": []
  }
 ],
 "metadata": {
  "kernelspec": {
   "display_name": "Python 3",
   "language": "python",
   "name": "python3"
  },
  "language_info": {
   "codemirror_mode": {
    "name": "ipython",
    "version": 3
   },
   "file_extension": ".py",
   "mimetype": "text/x-python",
   "name": "python",
   "nbconvert_exporter": "python",
   "pygments_lexer": "ipython3",
   "version": "3.7.1"
  }
 },
 "nbformat": 4,
 "nbformat_minor": 2
}
