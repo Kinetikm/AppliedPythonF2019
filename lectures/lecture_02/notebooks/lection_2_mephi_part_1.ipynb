{
 "cells": [
  {
   "cell_type": "markdown",
   "metadata": {},
   "source": [
    "- [Function](#Function)\n",
    "- [Class example](#Class_example)\n",
    "    - [ access_modificator ](#access_modificator)\n",
    "- [Наследование](#Наследование)"
   ]
  },
  {
   "cell_type": "markdown",
   "metadata": {},
   "source": [
    "# Function"
   ]
  },
  {
   "cell_type": "code",
   "execution_count": 4,
   "metadata": {},
   "outputs": [
    {
     "name": "stdout",
     "output_type": "stream",
     "text": [
      "my_second_function\n"
     ]
    }
   ],
   "source": [
    "# Просто создаем функциию\n",
    "def my_second_function():\n",
    "    print('my_second_function')\n",
    "\n",
    "my_second_function()"
   ]
  },
  {
   "cell_type": "code",
   "execution_count": 5,
   "metadata": {},
   "outputs": [
    {
     "name": "stdout",
     "output_type": "stream",
     "text": [
      "my_second_function 123\n"
     ]
    }
   ],
   "source": [
    "# Функция с параметром\n",
    "def my_second_function(param1):\n",
    "    print(f'my_second_function {param1}')\n",
    "\n",
    "my_second_function(123)"
   ]
  },
  {
   "cell_type": "code",
   "execution_count": 6,
   "metadata": {},
   "outputs": [
    {
     "name": "stdout",
     "output_type": "stream",
     "text": [
      "my_second_function La la la\n",
      "my_second_function My super text\n"
     ]
    }
   ],
   "source": [
    "# Функция с параметром по умолчанию\n",
    "def my_second_function(param1='La la la'):\n",
    "    print(f'my_second_function {param1}')\n",
    "\n",
    "my_second_function()\n",
    "my_second_function('My super text')"
   ]
  },
  {
   "cell_type": "code",
   "execution_count": 13,
   "metadata": {},
   "outputs": [
    {
     "name": "stdout",
     "output_type": "stream",
     "text": [
      "0\n",
      "25\n"
     ]
    },
    {
     "data": {
      "text/plain": [
       "<function __main__.my_sum(*args)>"
      ]
     },
     "execution_count": 13,
     "metadata": {},
     "output_type": "execute_result"
    }
   ],
   "source": [
    "# Распаковка параметров\n",
    "def my_sum(*args):\n",
    "    result = 0\n",
    "    for i in args:\n",
    "        result += i\n",
    "    return result\n",
    "\n",
    "print(my_sum())\n",
    "print(my_sum(1, 3, 5, 7, 2, 3, 4))\n",
    "my_sum"
   ]
  },
  {
   "cell_type": "code",
   "execution_count": 16,
   "metadata": {},
   "outputs": [
    {
     "name": "stdout",
     "output_type": "stream",
     "text": [
      "3\n"
     ]
    }
   ],
   "source": [
    "# Запаковка параметров\n",
    "def my_sum_a_b(a, b=5):\n",
    "    return a + b\n",
    "res = my_sum_a_b(1,)\n",
    "params = [1, 2]\n",
    "print(my_sum_a_b(*params))"
   ]
  },
  {
   "cell_type": "code",
   "execution_count": 1,
   "metadata": {},
   "outputs": [
    {
     "name": "stdout",
     "output_type": "stream",
     "text": [
      "[0, 2, 1, 2, 3, 7, 4, 5, 6]\n",
      "[1, 2, 3, 4, 5, 6]\n",
      "[1, 2, 3, 4, 5, 6, 10, 11, 12, 14, 15, 16]\n"
     ]
    }
   ],
   "source": [
    "# Передача по ссылке или по значению\n",
    "def list_concat(*args, init=[]):\n",
    "    for lst in args:\n",
    "        init += lst\n",
    "    return init\n",
    "\n",
    "print(list_concat([1, 2, 3, 7], [4, 5, 6], init=[0, 2]))\n",
    "print(list_concat([1, 2, 3], [4, 5, 6]))\n",
    "print(list_concat([10, 11, 12], [14, 15, 16]))"
   ]
  },
  {
   "cell_type": "markdown",
   "metadata": {},
   "source": [
    "# Class_example\n",
    "\n",
    "Первый пример простенького класса"
   ]
  },
  {
   "cell_type": "code",
   "execution_count": 2,
   "metadata": {
    "ExecuteTime": {
     "end_time": "2019-03-07T13:28:31.318970Z",
     "start_time": "2019-03-07T13:28:31.311285Z"
    }
   },
   "outputs": [],
   "source": [
    "class MyFirstClass(object):\n",
    "    \"\"\"\n",
    "    This is my first class docstring\n",
    "    \"\"\"\n",
    "    classatribute = 99999\n",
    "\n",
    "    def __init__(self, base):\n",
    "        # self - указатель на экземпляр.\n",
    "        # base - какой то параметр\n",
    "        self.base = base\n",
    "\n",
    "    def strange_transform(self, x):\n",
    "        return str(self.base) + ' (^_^) ' + str(x)"
   ]
  },
  {
   "cell_type": "code",
   "execution_count": 3,
   "metadata": {
    "ExecuteTime": {
     "end_time": "2019-03-07T13:28:31.741306Z",
     "start_time": "2019-03-07T13:28:31.738623Z"
    }
   },
   "outputs": [],
   "source": [
    "exemplar = MyFirstClass('¯\\_')"
   ]
  },
  {
   "cell_type": "code",
   "execution_count": 4,
   "metadata": {
    "ExecuteTime": {
     "end_time": "2019-03-07T13:28:32.132171Z",
     "start_time": "2019-03-07T13:28:32.127388Z"
    }
   },
   "outputs": [
    {
     "name": "stdout",
     "output_type": "stream",
     "text": [
      "¯\\_ (^_^) _/¯\n"
     ]
    }
   ],
   "source": [
    "print(exemplar.strange_transform('_/¯'))"
   ]
  },
  {
   "cell_type": "code",
   "execution_count": 5,
   "metadata": {},
   "outputs": [
    {
     "data": {
      "text/plain": [
       "\u001b[0;31mInit signature:\u001b[0m  \u001b[0mMyFirstClass\u001b[0m\u001b[0;34m(\u001b[0m\u001b[0mbase\u001b[0m\u001b[0;34m)\u001b[0m\u001b[0;34m\u001b[0m\u001b[0;34m\u001b[0m\u001b[0m\n",
       "\u001b[0;31mDocstring:\u001b[0m      This is my first class docstring\n",
       "\u001b[0;31mType:\u001b[0m           type\n",
       "\u001b[0;31mSubclasses:\u001b[0m     \n"
      ]
     },
     "metadata": {},
     "output_type": "display_data"
    }
   ],
   "source": [
    "?? MyFirstClass"
   ]
  },
  {
   "cell_type": "code",
   "execution_count": 6,
   "metadata": {
    "ExecuteTime": {
     "end_time": "2019-03-07T13:28:32.594632Z",
     "start_time": "2019-03-07T13:28:32.579290Z"
    }
   },
   "outputs": [
    {
     "data": {
      "text/plain": [
       "'\\n    This is my first class docstring\\n    '"
      ]
     },
     "execution_count": 6,
     "metadata": {},
     "output_type": "execute_result"
    }
   ],
   "source": [
    "MyFirstClass.__doc__"
   ]
  },
  {
   "cell_type": "code",
   "execution_count": 7,
   "metadata": {
    "ExecuteTime": {
     "end_time": "2019-03-07T13:28:33.258179Z",
     "start_time": "2019-03-07T13:28:33.254718Z"
    }
   },
   "outputs": [
    {
     "data": {
      "text/plain": [
       "99999"
      ]
     },
     "execution_count": 7,
     "metadata": {},
     "output_type": "execute_result"
    }
   ],
   "source": [
    "MyFirstClass.classatribute"
   ]
  },
  {
   "cell_type": "markdown",
   "metadata": {},
   "source": [
    "_____"
   ]
  },
  {
   "cell_type": "markdown",
   "metadata": {},
   "source": [
    "### access_modificator \n",
    "\n",
    "есть методы:\n",
    "- публичные,\n",
    "- приватные,\n",
    "- защищенные, \n",
    "- магические/внутренние "
   ]
  },
  {
   "cell_type": "code",
   "execution_count": 54,
   "metadata": {
    "ExecuteTime": {
     "end_time": "2019-03-07T13:30:40.558900Z",
     "start_time": "2019-03-07T13:30:40.546326Z"
    }
   },
   "outputs": [],
   "source": [
    "class Foo:\n",
    "    \n",
    "    class_attribute = 'me_gusta'\n",
    "    \n",
    "    def __init__(self):\n",
    "        self.public_atr = 'login'\n",
    "        self._private_atr = 'password'\n",
    "        self.__protected_atr = 'pin_code'\n",
    "        "
   ]
  },
  {
   "cell_type": "markdown",
   "metadata": {},
   "source": [
    "к защищенным методам все-равно можно получить доступ указав имя класса."
   ]
  },
  {
   "cell_type": "code",
   "execution_count": 55,
   "metadata": {
    "ExecuteTime": {
     "end_time": "2019-03-07T13:30:41.782341Z",
     "start_time": "2019-03-07T13:30:41.773623Z"
    }
   },
   "outputs": [
    {
     "name": "stdout",
     "output_type": "stream",
     "text": [
      "public: login\n",
      "private: password\n",
      "                   Тыщ-Тыщ-Тыщ-Тыщ-Тыщ-Тыщ-Тыщ-. AttributeError!\n",
      "protected: pin_code\n"
     ]
    }
   ],
   "source": [
    "e = Foo()\n",
    "\n",
    "print('public:', e.public_atr)\n",
    "print('private:', e._private_atr)\n",
    "\n",
    "try:\n",
    "    print('protected:', e.__protected_atr)\n",
    "except AttributeError:\n",
    "    print('                   Тыщ-Тыщ-Тыщ-Тыщ-Тыщ-Тыщ-Тыщ-. AttributeError!')\n",
    "\n",
    "print('protected:', e._Foo__protected_atr)"
   ]
  },
  {
   "cell_type": "code",
   "execution_count": 56,
   "metadata": {
    "ExecuteTime": {
     "end_time": "2019-03-07T13:30:42.226066Z",
     "start_time": "2019-03-07T13:30:42.171336Z"
    }
   },
   "outputs": [
    {
     "ename": "AttributeError",
     "evalue": "'Foo' object has no attribute '__protected_atr'",
     "output_type": "error",
     "traceback": [
      "\u001b[0;31m---------------------------------------------------------------------------\u001b[0m",
      "\u001b[0;31mAttributeError\u001b[0m                            Traceback (most recent call last)",
      "\u001b[0;32m<ipython-input-56-1f4add6fe73a>\u001b[0m in \u001b[0;36m<module>\u001b[0;34m\u001b[0m\n\u001b[0;32m----> 1\u001b[0;31m \u001b[0mprint\u001b[0m\u001b[0;34m(\u001b[0m\u001b[0;34m'protected:'\u001b[0m\u001b[0;34m,\u001b[0m \u001b[0me\u001b[0m\u001b[0;34m.\u001b[0m\u001b[0m__protected_atr\u001b[0m\u001b[0;34m)\u001b[0m\u001b[0;34m\u001b[0m\u001b[0;34m\u001b[0m\u001b[0m\n\u001b[0m\u001b[1;32m      2\u001b[0m \u001b[0;31m# защищенный - не можем обратиться\u001b[0m\u001b[0;34m\u001b[0m\u001b[0;34m\u001b[0m\u001b[0;34m\u001b[0m\u001b[0m\n",
      "\u001b[0;31mAttributeError\u001b[0m: 'Foo' object has no attribute '__protected_atr'"
     ]
    }
   ],
   "source": [
    "print('protected:', e.__protected_atr)\n",
    "# защищенный - не можем обратиться"
   ]
  },
  {
   "cell_type": "markdown",
   "metadata": {},
   "source": [
    "# Наследование"
   ]
  },
  {
   "cell_type": "code",
   "execution_count": 66,
   "metadata": {
    "ExecuteTime": {
     "end_time": "2019-03-07T13:33:59.354828Z",
     "start_time": "2019-03-07T13:33:59.347035Z"
    }
   },
   "outputs": [],
   "source": [
    "class Human(object): # писать object не обязательно\n",
    "    \n",
    "    def __init__(self, name):\n",
    "        self.name = name\n",
    "        \n",
    "    def human_method(self, atr):\n",
    "        print(atr)\n",
    "    \n",
    "class Teacher(Human):\n",
    "    \n",
    "    def hello(self):\n",
    "        print('hello!!!')\n",
    "        "
   ]
  },
  {
   "cell_type": "code",
   "execution_count": 67,
   "metadata": {
    "ExecuteTime": {
     "end_time": "2019-03-07T13:33:59.553989Z",
     "start_time": "2019-03-07T13:33:59.549128Z"
    }
   },
   "outputs": [],
   "source": [
    "h = Teacher('Zarina')"
   ]
  },
  {
   "cell_type": "code",
   "execution_count": 68,
   "metadata": {
    "ExecuteTime": {
     "end_time": "2019-03-07T13:33:59.774729Z",
     "start_time": "2019-03-07T13:33:59.771094Z"
    }
   },
   "outputs": [
    {
     "name": "stdout",
     "output_type": "stream",
     "text": [
      "hello!!!\n"
     ]
    }
   ],
   "source": [
    "h.hello()"
   ]
  },
  {
   "cell_type": "code",
   "execution_count": 69,
   "metadata": {
    "ExecuteTime": {
     "end_time": "2019-03-07T13:34:00.838513Z",
     "start_time": "2019-03-07T13:34:00.834578Z"
    },
    "scrolled": true
   },
   "outputs": [
    {
     "data": {
      "text/plain": [
       "True"
      ]
     },
     "execution_count": 69,
     "metadata": {},
     "output_type": "execute_result"
    }
   ],
   "source": [
    "isinstance(h, Teacher)"
   ]
  },
  {
   "cell_type": "code",
   "execution_count": 61,
   "metadata": {
    "ExecuteTime": {
     "end_time": "2019-03-07T13:34:01.466376Z",
     "start_time": "2019-03-07T13:34:01.462525Z"
    }
   },
   "outputs": [
    {
     "data": {
      "text/plain": [
       "True"
      ]
     },
     "execution_count": 61,
     "metadata": {},
     "output_type": "execute_result"
    }
   ],
   "source": [
    "isinstance(h, Teacher)"
   ]
  },
  {
   "cell_type": "code",
   "execution_count": 70,
   "metadata": {
    "ExecuteTime": {
     "end_time": "2019-03-07T13:34:01.981007Z",
     "start_time": "2019-03-07T13:34:01.977837Z"
    }
   },
   "outputs": [
    {
     "data": {
      "text/plain": [
       "True"
      ]
     },
     "execution_count": 70,
     "metadata": {},
     "output_type": "execute_result"
    }
   ],
   "source": [
    "issubclass(Teacher, Human)"
   ]
  },
  {
   "cell_type": "code",
   "execution_count": 63,
   "metadata": {
    "ExecuteTime": {
     "end_time": "2019-03-07T13:34:02.372407Z",
     "start_time": "2019-03-07T13:34:02.367885Z"
    }
   },
   "outputs": [
    {
     "data": {
      "text/plain": [
       "False"
      ]
     },
     "execution_count": 63,
     "metadata": {},
     "output_type": "execute_result"
    }
   ],
   "source": [
    "issubclass(Human, Teacher)"
   ]
  },
  {
   "cell_type": "code",
   "execution_count": 64,
   "metadata": {
    "ExecuteTime": {
     "end_time": "2019-03-07T13:34:02.734145Z",
     "start_time": "2019-03-07T13:34:02.730505Z"
    }
   },
   "outputs": [
    {
     "data": {
      "text/plain": [
       "True"
      ]
     },
     "execution_count": 64,
     "metadata": {},
     "output_type": "execute_result"
    }
   ],
   "source": [
    "issubclass(Teacher, object)"
   ]
  },
  {
   "cell_type": "code",
   "execution_count": 65,
   "metadata": {
    "ExecuteTime": {
     "end_time": "2019-03-07T13:34:03.901983Z",
     "start_time": "2019-03-07T13:34:03.896422Z"
    }
   },
   "outputs": [
    {
     "name": "stdout",
     "output_type": "stream",
     "text": [
      "asdas\n"
     ]
    }
   ],
   "source": [
    "h.human_method('asdas')"
   ]
  },
  {
   "cell_type": "markdown",
   "metadata": {},
   "source": [
    "##### Чуть глубже"
   ]
  },
  {
   "cell_type": "code",
   "execution_count": 98,
   "metadata": {
    "ExecuteTime": {
     "end_time": "2019-03-07T13:34:07.648898Z",
     "start_time": "2019-03-07T13:34:07.623791Z"
    }
   },
   "outputs": [],
   "source": [
    "class A(object):\n",
    "    \n",
    "    def __init__(self):\n",
    "        self.class_ = \"A\"\n",
    "        self.parent = 'object'\n",
    "    \n",
    "    def come_on(self, python):\n",
    "        print(f'A.{python}')\n",
    "       \n",
    "    def __str__(self): # вызывается когда мы вызываем print(some_object)\n",
    "        return f'parent={self.parent}, class={self.class_}'\n",
    "    def qwe(self):\n",
    "        print('xyi')\n",
    "        \n",
    "        \n",
    "class B(A):\n",
    "    \n",
    "    def __init__(self):\n",
    "        super(B, self).__init__() # same as super().__init__()\n",
    "        self.parent = self.class_\n",
    "        self.class_= \"B\"\n",
    "        \n",
    "    def come_on(self, python):\n",
    "        print(f'B.{python}')"
   ]
  },
  {
   "cell_type": "code",
   "execution_count": 99,
   "metadata": {
    "ExecuteTime": {
     "end_time": "2019-03-07T13:34:07.900241Z",
     "start_time": "2019-03-07T13:34:07.897831Z"
    }
   },
   "outputs": [],
   "source": [
    "a = A()\n",
    "b = B()"
   ]
  },
  {
   "cell_type": "markdown",
   "metadata": {},
   "source": [
    "> что напечатает print(a), print(b) ?"
   ]
  },
  {
   "cell_type": "code",
   "execution_count": 100,
   "metadata": {
    "ExecuteTime": {
     "end_time": "2019-03-07T13:34:09.527127Z",
     "start_time": "2019-03-07T13:34:09.523878Z"
    }
   },
   "outputs": [
    {
     "name": "stdout",
     "output_type": "stream",
     "text": [
      "parent=object, class=A\n"
     ]
    }
   ],
   "source": [
    "print(a)"
   ]
  },
  {
   "cell_type": "code",
   "execution_count": 101,
   "metadata": {
    "ExecuteTime": {
     "end_time": "2019-03-07T13:34:09.800537Z",
     "start_time": "2019-03-07T13:34:09.797583Z"
    },
    "scrolled": true
   },
   "outputs": [
    {
     "name": "stdout",
     "output_type": "stream",
     "text": [
      "parent=A, class=B\n"
     ]
    }
   ],
   "source": [
    "print(b)"
   ]
  },
  {
   "cell_type": "code",
   "execution_count": 105,
   "metadata": {
    "ExecuteTime": {
     "end_time": "2019-03-07T13:34:10.219981Z",
     "start_time": "2019-03-07T13:34:10.212805Z"
    }
   },
   "outputs": [],
   "source": [
    "class C(B):\n",
    "    \n",
    "    def __init__(self):\n",
    "        super().__init__()\n",
    "        self.batya = self.class_\n",
    "        self.class_=\"C\"\n",
    "    \n",
    "    def come_on(self, python):\n",
    "        print('B.{}'.format(python))\n",
    "    "
   ]
  },
  {
   "cell_type": "code",
   "execution_count": 106,
   "metadata": {
    "ExecuteTime": {
     "end_time": "2019-03-07T13:34:10.743711Z",
     "start_time": "2019-03-07T13:34:10.739447Z"
    }
   },
   "outputs": [
    {
     "name": "stdout",
     "output_type": "stream",
     "text": [
      "parent=A, class=C\n"
     ]
    }
   ],
   "source": [
    "c = C()\n",
    "print(c)"
   ]
  },
  {
   "cell_type": "markdown",
   "metadata": {},
   "source": [
    "> вызывая super() мы \"грубо говоря\" возвращаем класс следущий по иерархии наследования"
   ]
  },
  {
   "cell_type": "markdown",
   "metadata": {},
   "source": [
    "> вызывая его __init__ заполняем поля текущего инстанса"
   ]
  },
  {
   "cell_type": "code",
   "execution_count": 107,
   "metadata": {
    "ExecuteTime": {
     "end_time": "2019-03-07T13:34:13.012787Z",
     "start_time": "2019-03-07T13:34:13.001916Z"
    }
   },
   "outputs": [
    {
     "data": {
      "text/plain": [
       "(True, True, True, True)"
      ]
     },
     "execution_count": 107,
     "metadata": {},
     "output_type": "execute_result"
    }
   ],
   "source": [
    "isinstance(c, C), isinstance(c, B), isinstance(c, A), isinstance(c, object)"
   ]
  },
  {
   "cell_type": "code",
   "execution_count": 108,
   "metadata": {
    "ExecuteTime": {
     "end_time": "2019-03-07T13:34:13.191738Z",
     "start_time": "2019-03-07T13:34:13.186052Z"
    }
   },
   "outputs": [
    {
     "data": {
      "text/plain": [
       "True"
      ]
     },
     "execution_count": 108,
     "metadata": {},
     "output_type": "execute_result"
    }
   ],
   "source": [
    "issubclass(C, A)"
   ]
  },
  {
   "cell_type": "markdown",
   "metadata": {},
   "source": [
    "##### Множественное - to be continued ..."
   ]
  },
  {
   "cell_type": "markdown",
   "metadata": {},
   "source": [
    "![](https://encrypted-tbn0.gstatic.com/images?q=tbn:ANd9GcSD0jvWfdf9i-dpWf7Ls_P5ylqOUARnwgSJSs3-_VUb1x4ac3QA)"
   ]
  },
  {
   "cell_type": "markdown",
   "metadata": {},
   "source": [
    "____"
   ]
  },
  {
   "cell_type": "markdown",
   "metadata": {},
   "source": [
    "##### Атрибуты классов"
   ]
  },
  {
   "cell_type": "markdown",
   "metadata": {},
   "source": [
    "```python\n",
    "dir()\n",
    "```"
   ]
  },
  {
   "cell_type": "code",
   "execution_count": 109,
   "metadata": {
    "ExecuteTime": {
     "end_time": "2019-03-07T13:43:57.322588Z",
     "start_time": "2019-03-07T13:43:57.310055Z"
    }
   },
   "outputs": [],
   "source": [
    "class Human(object): # писать object не обязательно\n",
    "    \n",
    "    def __init__(self, name):\n",
    "        self.name = name\n",
    "        \n",
    "    def human_method(self, atr):\n",
    "        print(atr)\n",
    "    \n",
    "class Teacher(Human):\n",
    "    \n",
    "    def hello(self):\n",
    "        print('hello!!!')\n",
    "        "
   ]
  },
  {
   "cell_type": "code",
   "execution_count": 90,
   "metadata": {
    "ExecuteTime": {
     "end_time": "2019-03-07T13:43:57.580754Z",
     "start_time": "2019-03-07T13:43:57.578154Z"
    }
   },
   "outputs": [],
   "source": [
    "h = Teacher('Zarina')"
   ]
  },
  {
   "cell_type": "code",
   "execution_count": 91,
   "metadata": {
    "ExecuteTime": {
     "end_time": "2019-03-07T13:43:58.016898Z",
     "start_time": "2019-03-07T13:43:58.009703Z"
    }
   },
   "outputs": [
    {
     "data": {
      "text/plain": [
       "['__class__',\n",
       " '__delattr__',\n",
       " '__dict__',\n",
       " '__dir__',\n",
       " '__doc__',\n",
       " '__eq__',\n",
       " '__format__',\n",
       " '__ge__',\n",
       " '__getattribute__',\n",
       " '__gt__',\n",
       " '__hash__',\n",
       " '__init__',\n",
       " '__init_subclass__',\n",
       " '__le__',\n",
       " '__lt__',\n",
       " '__module__',\n",
       " '__ne__',\n",
       " '__new__',\n",
       " '__reduce__',\n",
       " '__reduce_ex__',\n",
       " '__repr__',\n",
       " '__setattr__',\n",
       " '__sizeof__',\n",
       " '__str__',\n",
       " '__subclasshook__',\n",
       " '__weakref__',\n",
       " 'hello',\n",
       " 'human_method',\n",
       " 'name']"
      ]
     },
     "execution_count": 91,
     "metadata": {},
     "output_type": "execute_result"
    }
   ],
   "source": [
    "dir(h)"
   ]
  },
  {
   "cell_type": "code",
   "execution_count": 92,
   "metadata": {
    "ExecuteTime": {
     "end_time": "2019-03-07T13:43:58.490414Z",
     "start_time": "2019-03-07T13:43:58.486040Z"
    }
   },
   "outputs": [
    {
     "data": {
      "text/plain": [
       "['__class__',\n",
       " '__delattr__',\n",
       " '__dict__',\n",
       " '__dir__',\n",
       " '__doc__',\n",
       " '__eq__',\n",
       " '__format__',\n",
       " '__ge__',\n",
       " '__getattribute__',\n",
       " '__gt__',\n",
       " '__hash__',\n",
       " '__init__',\n",
       " '__init_subclass__',\n",
       " '__le__',\n",
       " '__lt__',\n",
       " '__module__',\n",
       " '__ne__',\n",
       " '__new__',\n",
       " '__reduce__',\n",
       " '__reduce_ex__',\n",
       " '__repr__',\n",
       " '__setattr__',\n",
       " '__sizeof__',\n",
       " '__str__',\n",
       " '__subclasshook__',\n",
       " '__weakref__',\n",
       " 'hello',\n",
       " 'human_method']"
      ]
     },
     "execution_count": 92,
     "metadata": {},
     "output_type": "execute_result"
    }
   ],
   "source": [
    "dir(Teacher)"
   ]
  },
  {
   "cell_type": "code",
   "execution_count": 93,
   "metadata": {
    "ExecuteTime": {
     "end_time": "2019-03-07T13:43:22.735962Z",
     "start_time": "2019-03-07T13:43:22.728961Z"
    }
   },
   "outputs": [
    {
     "data": {
      "text/plain": [
       "mappingproxy({'__module__': '__main__',\n",
       "              'hello': <function __main__.Teacher.hello(self)>,\n",
       "              '__doc__': None})"
      ]
     },
     "execution_count": 93,
     "metadata": {},
     "output_type": "execute_result"
    }
   ],
   "source": [
    "Teacher.__dict__"
   ]
  },
  {
   "cell_type": "raw",
   "metadata": {},
   "source": []
  },
  {
   "cell_type": "markdown",
   "metadata": {},
   "source": [
    "Атрибут __dict__ есть  и у экземпляра и у класса."
   ]
  },
  {
   "cell_type": "code",
   "execution_count": null,
   "metadata": {
    "ExecuteTime": {
     "end_time": "2019-03-07T13:45:19.473172Z",
     "start_time": "2019-03-07T13:45:19.462166Z"
    }
   },
   "outputs": [],
   "source": [
    "class Foo:\n",
    "    \n",
    "    class_attribute = 'me_gusta'\n",
    "    \n",
    "    def __init__(self):\n",
    "        self.public_atr = 'login'\n",
    "        self._private_atr = 'password'\n",
    "        self.__really_private_atr = 'pin_code'\n",
    "        self.__soy_especial__ = self.class_attribute\n",
    "        \n",
    "    def my_custom_method(self, atr):\n",
    "        print(atr)\n",
    "        \n",
    "e = Foo()"
   ]
  },
  {
   "cell_type": "code",
   "execution_count": null,
   "metadata": {
    "ExecuteTime": {
     "end_time": "2019-03-07T13:45:19.954196Z",
     "start_time": "2019-03-07T13:45:19.950846Z"
    }
   },
   "outputs": [],
   "source": [
    "dir(e)"
   ]
  },
  {
   "cell_type": "code",
   "execution_count": null,
   "metadata": {
    "ExecuteTime": {
     "end_time": "2019-03-07T13:45:20.326620Z",
     "start_time": "2019-03-07T13:45:20.322245Z"
    }
   },
   "outputs": [],
   "source": [
    "e.__dict__"
   ]
  },
  {
   "cell_type": "markdown",
   "metadata": {},
   "source": [
    "`__dict__` то же самое что и "
   ]
  },
  {
   "cell_type": "code",
   "execution_count": null,
   "metadata": {
    "ExecuteTime": {
     "end_time": "2019-03-07T13:45:22.411872Z",
     "start_time": "2019-03-07T13:45:22.406425Z"
    }
   },
   "outputs": [],
   "source": [
    "vars(e)"
   ]
  },
  {
   "cell_type": "code",
   "execution_count": null,
   "metadata": {
    "ExecuteTime": {
     "end_time": "2019-03-07T13:45:24.609717Z",
     "start_time": "2019-03-07T13:45:24.605245Z"
    }
   },
   "outputs": [],
   "source": [
    "hasattr(e, 'public_atr')"
   ]
  },
  {
   "cell_type": "code",
   "execution_count": null,
   "metadata": {
    "ExecuteTime": {
     "end_time": "2019-03-07T13:45:24.778051Z",
     "start_time": "2019-03-07T13:45:24.775500Z"
    }
   },
   "outputs": [],
   "source": [
    "def my_hasattr(obj, atr):\n",
    "    return atr in vars(obj)"
   ]
  },
  {
   "cell_type": "code",
   "execution_count": null,
   "metadata": {
    "ExecuteTime": {
     "end_time": "2019-03-07T13:45:24.924181Z",
     "start_time": "2019-03-07T13:45:24.920220Z"
    }
   },
   "outputs": [],
   "source": [
    "my_hasattr(e, 'public_atr')"
   ]
  },
  {
   "cell_type": "markdown",
   "metadata": {},
   "source": [
    "У класса свой `__dict__`"
   ]
  },
  {
   "cell_type": "code",
   "execution_count": null,
   "metadata": {
    "ExecuteTime": {
     "end_time": "2019-03-07T13:45:25.235803Z",
     "start_time": "2019-03-07T13:45:25.226400Z"
    }
   },
   "outputs": [],
   "source": [
    "Foo.__dict__"
   ]
  },
  {
   "cell_type": "raw",
   "metadata": {},
   "source": [
    "у объекта есть __dict__, в нем хранятся его атрибуты\n",
    "При этом мы на лету можем менять внутреннее состояние объекта"
   ]
  },
  {
   "cell_type": "markdown",
   "metadata": {},
   "source": [
    "#### Вопрос к аудитории"
   ]
  },
  {
   "cell_type": "code",
   "execution_count": 110,
   "metadata": {
    "ExecuteTime": {
     "end_time": "2019-03-06T11:58:56.020612Z",
     "start_time": "2019-03-06T11:58:56.006003Z"
    }
   },
   "outputs": [],
   "source": [
    "class MyFirstClass(object):\n",
    "    \"\"\"\n",
    "    This is my first class.\n",
    "    \"\"\"\n",
    "    classatribute = 99999\n",
    "\n",
    "    def __init__(self, base):\n",
    "        # self - указатель на экземпляр.\n",
    "        self.base = base\n",
    "\n",
    "    def strange_transform(self, x):\n",
    "        return str(self.base) + ' (^_^) ' + str(x)\n",
    "\n",
    "exemplar = MyFirstClass('¯\\_')"
   ]
  },
  {
   "cell_type": "code",
   "execution_count": 111,
   "metadata": {
    "ExecuteTime": {
     "end_time": "2019-03-06T11:58:56.208887Z",
     "start_time": "2019-03-06T11:58:56.204695Z"
    }
   },
   "outputs": [
    {
     "data": {
      "text/plain": [
       "{'base': '¯\\\\_'}"
      ]
     },
     "execution_count": 111,
     "metadata": {},
     "output_type": "execute_result"
    }
   ],
   "source": [
    "exemplar.__dict__"
   ]
  },
  {
   "cell_type": "code",
   "execution_count": 118,
   "metadata": {
    "ExecuteTime": {
     "end_time": "2019-03-06T11:58:56.460241Z",
     "start_time": "2019-03-06T11:58:56.456251Z"
    },
    "scrolled": true
   },
   "outputs": [
    {
     "data": {
      "text/plain": [
       "['__class__',\n",
       " '__delattr__',\n",
       " '__dict__',\n",
       " '__dir__',\n",
       " '__doc__',\n",
       " '__eq__',\n",
       " '__format__',\n",
       " '__ge__',\n",
       " '__getattribute__',\n",
       " '__gt__',\n",
       " '__hash__',\n",
       " '__init__',\n",
       " '__init_subclass__',\n",
       " '__le__',\n",
       " '__lt__',\n",
       " '__module__',\n",
       " '__ne__',\n",
       " '__new__',\n",
       " '__reduce__',\n",
       " '__reduce_ex__',\n",
       " '__repr__',\n",
       " '__setattr__',\n",
       " '__sizeof__',\n",
       " '__str__',\n",
       " '__subclasshook__',\n",
       " '__weakref__',\n",
       " 'base',\n",
       " 'classatribute',\n",
       " 'strange_transform']"
      ]
     },
     "execution_count": 118,
     "metadata": {},
     "output_type": "execute_result"
    }
   ],
   "source": [
    "dir(exemplar)"
   ]
  },
  {
   "cell_type": "code",
   "execution_count": 119,
   "metadata": {
    "ExecuteTime": {
     "end_time": "2019-03-06T11:59:12.097768Z",
     "start_time": "2019-03-06T11:59:12.093589Z"
    },
    "scrolled": true
   },
   "outputs": [
    {
     "data": {
      "text/plain": [
       "100002"
      ]
     },
     "execution_count": 119,
     "metadata": {},
     "output_type": "execute_result"
    }
   ],
   "source": [
    "exemplar.classatribute"
   ]
  },
  {
   "cell_type": "code",
   "execution_count": 120,
   "metadata": {
    "ExecuteTime": {
     "end_time": "2019-03-06T11:59:12.312885Z",
     "start_time": "2019-03-06T11:59:12.309686Z"
    }
   },
   "outputs": [],
   "source": [
    "exemplar.classatribute = exemplar.classatribute + 3"
   ]
  },
  {
   "cell_type": "markdown",
   "metadata": {},
   "source": [
    "> что станет с exemplar.classatribute и с MyFirstClass.classatribute?"
   ]
  },
  {
   "cell_type": "code",
   "execution_count": 121,
   "metadata": {
    "ExecuteTime": {
     "end_time": "2019-03-06T11:59:13.120933Z",
     "start_time": "2019-03-06T11:59:13.114777Z"
    }
   },
   "outputs": [
    {
     "data": {
      "text/plain": [
       "100005"
      ]
     },
     "execution_count": 121,
     "metadata": {},
     "output_type": "execute_result"
    }
   ],
   "source": [
    "exemplar.classatribute"
   ]
  },
  {
   "cell_type": "code",
   "execution_count": 122,
   "metadata": {
    "ExecuteTime": {
     "end_time": "2019-03-06T11:59:13.435249Z",
     "start_time": "2019-03-06T11:59:13.431068Z"
    }
   },
   "outputs": [
    {
     "data": {
      "text/plain": [
       "True"
      ]
     },
     "execution_count": 122,
     "metadata": {},
     "output_type": "execute_result"
    }
   ],
   "source": [
    "'classatribute' in dir(exemplar)"
   ]
  },
  {
   "cell_type": "code",
   "execution_count": 123,
   "metadata": {
    "ExecuteTime": {
     "end_time": "2019-03-06T11:59:15.555864Z",
     "start_time": "2019-03-06T11:59:15.548716Z"
    },
    "scrolled": true
   },
   "outputs": [
    {
     "data": {
      "text/plain": [
       "True"
      ]
     },
     "execution_count": 123,
     "metadata": {},
     "output_type": "execute_result"
    }
   ],
   "source": [
    "'classatribute' in exemplar.__dict__"
   ]
  },
  {
   "cell_type": "markdown",
   "metadata": {},
   "source": [
    "##### hmmmmm...."
   ]
  },
  {
   "cell_type": "code",
   "execution_count": 124,
   "metadata": {
    "ExecuteTime": {
     "end_time": "2019-03-06T11:59:16.334195Z",
     "start_time": "2019-03-06T11:59:16.328569Z"
    },
    "scrolled": true
   },
   "outputs": [
    {
     "data": {
      "text/plain": [
       "99999"
      ]
     },
     "execution_count": 124,
     "metadata": {},
     "output_type": "execute_result"
    }
   ],
   "source": [
    "MyFirstClass.classatribute"
   ]
  },
  {
   "cell_type": "code",
   "execution_count": 125,
   "metadata": {
    "ExecuteTime": {
     "end_time": "2019-03-06T11:59:16.754329Z",
     "start_time": "2019-03-06T11:59:16.750046Z"
    },
    "scrolled": true
   },
   "outputs": [
    {
     "data": {
      "text/plain": [
       "{'base': '¯\\\\_', 'classatribute': 100005}"
      ]
     },
     "execution_count": 125,
     "metadata": {},
     "output_type": "execute_result"
    }
   ],
   "source": [
    "exemplar.__dict__"
   ]
  },
  {
   "cell_type": "code",
   "execution_count": 135,
   "metadata": {
    "ExecuteTime": {
     "end_time": "2019-03-06T11:59:17.063666Z",
     "start_time": "2019-03-06T11:59:17.057733Z"
    }
   },
   "outputs": [],
   "source": [
    "# во время исполнения программы происходит динамический поиск\n",
    "exemplar.__dict__['me_gusta'] = 100502"
   ]
  },
  {
   "cell_type": "code",
   "execution_count": 136,
   "metadata": {
    "ExecuteTime": {
     "end_time": "2019-03-06T11:59:17.544921Z",
     "start_time": "2019-03-06T11:59:17.537348Z"
    }
   },
   "outputs": [
    {
     "data": {
      "text/plain": [
       "{'base': '¯\\\\_', 'classatribute': 100005, 'me_gusta': 100502}"
      ]
     },
     "execution_count": 136,
     "metadata": {},
     "output_type": "execute_result"
    }
   ],
   "source": [
    "exemplar.__dict__"
   ]
  },
  {
   "cell_type": "code",
   "execution_count": 137,
   "metadata": {
    "ExecuteTime": {
     "end_time": "2019-03-06T11:59:20.224108Z",
     "start_time": "2019-03-06T11:59:20.216827Z"
    }
   },
   "outputs": [
    {
     "data": {
      "text/plain": [
       "100005"
      ]
     },
     "execution_count": 137,
     "metadata": {},
     "output_type": "execute_result"
    }
   ],
   "source": [
    "exemplar.__getattribute__('classatribute') \n",
    "\n",
    "# бежим в __dict__ смотрим есть ли там если есть то достаем"
   ]
  },
  {
   "cell_type": "code",
   "execution_count": 138,
   "metadata": {
    "ExecuteTime": {
     "end_time": "2019-03-06T11:59:20.951481Z",
     "start_time": "2019-03-06T11:59:20.947443Z"
    }
   },
   "outputs": [
    {
     "data": {
      "text/plain": [
       "100005"
      ]
     },
     "execution_count": 138,
     "metadata": {},
     "output_type": "execute_result"
    }
   ],
   "source": [
    "getattr(exemplar, 'classatribute')"
   ]
  },
  {
   "cell_type": "code",
   "execution_count": 139,
   "metadata": {
    "ExecuteTime": {
     "end_time": "2019-03-06T11:59:22.299171Z",
     "start_time": "2019-03-06T11:59:22.295719Z"
    }
   },
   "outputs": [],
   "source": [
    "def my_hasattr(obj, atr):\n",
    "    return exemplar.__getattribute__('classatribute') "
   ]
  },
  {
   "cell_type": "code",
   "execution_count": 140,
   "metadata": {
    "ExecuteTime": {
     "end_time": "2019-03-06T11:59:23.300044Z",
     "start_time": "2019-03-06T11:59:23.288467Z"
    }
   },
   "outputs": [
    {
     "data": {
      "text/plain": [
       "100005"
      ]
     },
     "execution_count": 140,
     "metadata": {},
     "output_type": "execute_result"
    }
   ],
   "source": [
    "my_hasattr(exemplar, 'classatribute')"
   ]
  },
  {
   "cell_type": "markdown",
   "metadata": {
    "ExecuteTime": {
     "end_time": "2019-03-06T11:59:24.229395Z",
     "start_time": "2019-03-06T11:59:24.226261Z"
    }
   },
   "source": [
    "##### как же все-таки из \"покоцанного\" экземпляра получить нужное нам значение атрибута класса?"
   ]
  },
  {
   "cell_type": "code",
   "execution_count": 141,
   "metadata": {
    "ExecuteTime": {
     "end_time": "2019-03-06T12:00:12.980242Z",
     "start_time": "2019-03-06T12:00:12.974719Z"
    }
   },
   "outputs": [
    {
     "data": {
      "text/plain": [
       "<__main__.MyFirstClass at 0x7fc558c536a0>"
      ]
     },
     "execution_count": 141,
     "metadata": {},
     "output_type": "execute_result"
    }
   ],
   "source": [
    "exemplar"
   ]
  },
  {
   "cell_type": "code",
   "execution_count": null,
   "metadata": {},
   "outputs": [],
   "source": []
  },
  {
   "cell_type": "code",
   "execution_count": 142,
   "metadata": {
    "ExecuteTime": {
     "end_time": "2019-03-06T12:00:13.813182Z",
     "start_time": "2019-03-06T12:00:13.808836Z"
    }
   },
   "outputs": [
    {
     "data": {
      "text/plain": [
       "mappingproxy({'__module__': '__main__',\n",
       "              '__doc__': '\\n    This is my first class.\\n    ',\n",
       "              'classatribute': 99999,\n",
       "              '__init__': <function __main__.MyFirstClass.__init__(self, base)>,\n",
       "              'strange_transform': <function __main__.MyFirstClass.strange_transform(self, x)>,\n",
       "              '__dict__': <attribute '__dict__' of 'MyFirstClass' objects>,\n",
       "              '__weakref__': <attribute '__weakref__' of 'MyFirstClass' objects>})"
      ]
     },
     "execution_count": 142,
     "metadata": {},
     "output_type": "execute_result"
    }
   ],
   "source": [
    "exemplar.__class__.__dict__"
   ]
  },
  {
   "cell_type": "code",
   "execution_count": 143,
   "metadata": {
    "ExecuteTime": {
     "end_time": "2019-03-06T12:00:19.772003Z",
     "start_time": "2019-03-06T12:00:19.766267Z"
    }
   },
   "outputs": [
    {
     "data": {
      "text/plain": [
       "99999"
      ]
     },
     "execution_count": 143,
     "metadata": {},
     "output_type": "execute_result"
    }
   ],
   "source": [
    "exemplar.__class__.classatribute"
   ]
  },
  {
   "cell_type": "markdown",
   "metadata": {},
   "source": [
    "_________"
   ]
  },
  {
   "cell_type": "markdown",
   "metadata": {},
   "source": [
    "### что внутри у объекта?"
   ]
  },
  {
   "cell_type": "code",
   "execution_count": 144,
   "metadata": {},
   "outputs": [
    {
     "data": {
      "text/plain": [
       "['__class__',\n",
       " '__delattr__',\n",
       " '__dict__',\n",
       " '__dir__',\n",
       " '__doc__',\n",
       " '__eq__',\n",
       " '__format__',\n",
       " '__ge__',\n",
       " '__getattribute__',\n",
       " '__gt__',\n",
       " '__hash__',\n",
       " '__init__',\n",
       " '__init_subclass__',\n",
       " '__le__',\n",
       " '__lt__',\n",
       " '__module__',\n",
       " '__ne__',\n",
       " '__new__',\n",
       " '__reduce__',\n",
       " '__reduce_ex__',\n",
       " '__repr__',\n",
       " '__setattr__',\n",
       " '__sizeof__',\n",
       " '__str__',\n",
       " '__subclasshook__',\n",
       " '__weakref__',\n",
       " 'base',\n",
       " 'classatribute',\n",
       " 'me_gusta',\n",
       " 'strange_transform']"
      ]
     },
     "execution_count": 144,
     "metadata": {},
     "output_type": "execute_result"
    }
   ],
   "source": [
    "dir(exemplar)"
   ]
  },
  {
   "cell_type": "code",
   "execution_count": 168,
   "metadata": {},
   "outputs": [],
   "source": [
    "class MyFirstClass(object):\n",
    "    \"\"\"\n",
    "    This is my first class.\n",
    "    \"\"\"\n",
    "    classatribute = 99999\n",
    "\n",
    "    def __init__(self, base):\n",
    "        # self - указатель на экземпляр.\n",
    "        # base - какой то параметр\n",
    "        self.base = base\n",
    "\n",
    "    def strange_transform(self, x):\n",
    "        return str(self.base) + ' (^_^) ' + str(x)\n",
    "    \n",
    "    def __str__():\n",
    "        return 'no-no-no'\n",
    "    \n",
    "    def __repr__(self):\n",
    "        return 'yep-yep-yep'"
   ]
  },
  {
   "cell_type": "code",
   "execution_count": 169,
   "metadata": {
    "ExecuteTime": {
     "end_time": "2019-03-06T09:42:59.057812Z",
     "start_time": "2019-03-06T09:42:59.055122Z"
    }
   },
   "outputs": [],
   "source": [
    "exemplar = MyFirstClass('¯\\_')"
   ]
  },
  {
   "cell_type": "code",
   "execution_count": 170,
   "metadata": {
    "ExecuteTime": {
     "end_time": "2019-03-06T09:42:59.215742Z",
     "start_time": "2019-03-06T09:42:59.211425Z"
    }
   },
   "outputs": [
    {
     "name": "stdout",
     "output_type": "stream",
     "text": [
      "¯\\_ (^_^) _/¯\n"
     ]
    }
   ],
   "source": [
    "print(exemplar.strange_transform('_/¯'))"
   ]
  },
  {
   "cell_type": "code",
   "execution_count": 172,
   "metadata": {
    "ExecuteTime": {
     "end_time": "2019-03-06T09:42:59.506250Z",
     "start_time": "2019-03-06T09:42:59.499977Z"
    }
   },
   "outputs": [
    {
     "name": "stdout",
     "output_type": "stream",
     "text": [
      "no-no-no\n"
     ]
    }
   ],
   "source": [
    "print(exemplar)"
   ]
  },
  {
   "cell_type": "markdown",
   "metadata": {},
   "source": [
    "____"
   ]
  },
  {
   "cell_type": "markdown",
   "metadata": {},
   "source": [
    "Добавляем новый метод на лету в класс. и у всех его созданных и не созданных экземпляров появится эта функция.\n",
    "потому что так происходит поиск методов и атрибутов. если вызываем метод у экземпляра то сначала ищем в __dict__ экземпляра, если не нашли идем выше ( в класс ) и смотрим его __dict__"
   ]
  },
  {
   "cell_type": "code",
   "execution_count": 173,
   "metadata": {
    "ExecuteTime": {
     "end_time": "2019-03-06T12:32:31.057648Z",
     "start_time": "2019-03-06T12:32:31.045993Z"
    }
   },
   "outputs": [
    {
     "ename": "AttributeError",
     "evalue": "'X' object has no attribute 'wrong_method'",
     "output_type": "error",
     "traceback": [
      "\u001b[0;31m---------------------------------------------------------------------------\u001b[0m",
      "\u001b[0;31mAttributeError\u001b[0m                            Traceback (most recent call last)",
      "\u001b[0;32m<ipython-input-173-343c7cfa668f>\u001b[0m in \u001b[0;36m<module>\u001b[0;34m\u001b[0m\n\u001b[1;32m      1\u001b[0m \u001b[0;32mclass\u001b[0m \u001b[0mX\u001b[0m\u001b[0;34m(\u001b[0m\u001b[0mobject\u001b[0m\u001b[0;34m)\u001b[0m\u001b[0;34m:\u001b[0m \u001b[0;32mpass\u001b[0m\u001b[0;34m\u001b[0m\u001b[0;34m\u001b[0m\u001b[0m\n\u001b[1;32m      2\u001b[0m \u001b[0my\u001b[0m \u001b[0;34m=\u001b[0m \u001b[0mX\u001b[0m\u001b[0;34m(\u001b[0m\u001b[0;34m)\u001b[0m\u001b[0;34m\u001b[0m\u001b[0;34m\u001b[0m\u001b[0m\n\u001b[0;32m----> 3\u001b[0;31m \u001b[0my\u001b[0m\u001b[0;34m.\u001b[0m\u001b[0mwrong_method\u001b[0m\u001b[0;34m(\u001b[0m\u001b[0;34m)\u001b[0m  \u001b[0;31m# такого метода пока нет\u001b[0m\u001b[0;34m\u001b[0m\u001b[0;34m\u001b[0m\u001b[0m\n\u001b[0m",
      "\u001b[0;31mAttributeError\u001b[0m: 'X' object has no attribute 'wrong_method'"
     ]
    }
   ],
   "source": [
    "class X(object): pass\n",
    "y = X()\n",
    "y.wrong_method()  # такого метода пока нет"
   ]
  },
  {
   "cell_type": "code",
   "execution_count": 174,
   "metadata": {
    "ExecuteTime": {
     "end_time": "2019-03-06T12:32:31.185760Z",
     "start_time": "2019-03-06T12:32:31.182398Z"
    }
   },
   "outputs": [
    {
     "data": {
      "text/plain": [
       "False"
      ]
     },
     "execution_count": 174,
     "metadata": {},
     "output_type": "execute_result"
    }
   ],
   "source": [
    "'wrong_method' in dir(y)"
   ]
  },
  {
   "cell_type": "code",
   "execution_count": 175,
   "metadata": {
    "ExecuteTime": {
     "end_time": "2019-03-06T12:50:05.041876Z",
     "start_time": "2019-03-06T12:50:05.028883Z"
    }
   },
   "outputs": [],
   "source": [
    "def im_here(self):\n",
    "    return 'im here'"
   ]
  },
  {
   "cell_type": "code",
   "execution_count": 176,
   "metadata": {
    "ExecuteTime": {
     "end_time": "2019-03-06T12:32:31.355830Z",
     "start_time": "2019-03-06T12:32:31.350513Z"
    }
   },
   "outputs": [
    {
     "data": {
      "text/plain": [
       "'im here'"
      ]
     },
     "execution_count": 176,
     "metadata": {},
     "output_type": "execute_result"
    }
   ],
   "source": [
    "X.wrong_method = im_here # добавим его\n",
    "y.wrong_method()\n",
    "# \n",
    "# так как доступ к методу приводит к поиску по __dict__ класса,\n",
    "# то wrong_method становится доступным всем экземплярам"
   ]
  },
  {
   "cell_type": "code",
   "execution_count": 177,
   "metadata": {
    "ExecuteTime": {
     "end_time": "2019-03-06T12:32:31.876810Z",
     "start_time": "2019-03-06T12:32:31.873727Z"
    }
   },
   "outputs": [
    {
     "data": {
      "text/plain": [
       "True"
      ]
     },
     "execution_count": 177,
     "metadata": {},
     "output_type": "execute_result"
    }
   ],
   "source": [
    "'wrong_method' in dir(y)"
   ]
  },
  {
   "cell_type": "code",
   "execution_count": 178,
   "metadata": {
    "ExecuteTime": {
     "end_time": "2019-03-06T12:32:32.765840Z",
     "start_time": "2019-03-06T12:32:32.762028Z"
    }
   },
   "outputs": [
    {
     "data": {
      "text/plain": [
       "False"
      ]
     },
     "execution_count": 178,
     "metadata": {},
     "output_type": "execute_result"
    }
   ],
   "source": [
    "y.wrong_method is X.wrong_method"
   ]
  },
  {
   "cell_type": "code",
   "execution_count": 179,
   "metadata": {
    "ExecuteTime": {
     "end_time": "2019-03-06T12:32:32.952795Z",
     "start_time": "2019-03-06T12:32:32.949214Z"
    },
    "scrolled": true
   },
   "outputs": [
    {
     "data": {
      "text/plain": [
       "{}"
      ]
     },
     "execution_count": 179,
     "metadata": {},
     "output_type": "execute_result"
    }
   ],
   "source": [
    "y.__dict__"
   ]
  },
  {
   "cell_type": "markdown",
   "metadata": {},
   "source": [
    "##### Почему эта реализация не работает?"
   ]
  },
  {
   "cell_type": "code",
   "execution_count": 180,
   "metadata": {
    "ExecuteTime": {
     "end_time": "2019-03-06T12:47:59.744085Z",
     "start_time": "2019-03-06T12:47:59.732695Z"
    }
   },
   "outputs": [
    {
     "ename": "TypeError",
     "evalue": "im_here() missing 1 required positional argument: 'self'",
     "output_type": "error",
     "traceback": [
      "\u001b[0;31m---------------------------------------------------------------------------\u001b[0m",
      "\u001b[0;31mTypeError\u001b[0m                                 Traceback (most recent call last)",
      "\u001b[0;32m<ipython-input-180-8b3ee3d1fede>\u001b[0m in \u001b[0;36m<module>\u001b[0;34m\u001b[0m\n\u001b[1;32m      2\u001b[0m \u001b[0mz\u001b[0m \u001b[0;34m=\u001b[0m \u001b[0mZ\u001b[0m\u001b[0;34m(\u001b[0m\u001b[0;34m)\u001b[0m\u001b[0;34m\u001b[0m\u001b[0;34m\u001b[0m\u001b[0m\n\u001b[1;32m      3\u001b[0m \u001b[0mz\u001b[0m\u001b[0;34m.\u001b[0m\u001b[0mwrong_method\u001b[0m \u001b[0;34m=\u001b[0m \u001b[0mim_here\u001b[0m\u001b[0;34m\u001b[0m\u001b[0;34m\u001b[0m\u001b[0m\n\u001b[0;32m----> 4\u001b[0;31m \u001b[0mz\u001b[0m\u001b[0;34m.\u001b[0m\u001b[0mwrong_method\u001b[0m\u001b[0;34m(\u001b[0m\u001b[0;34m)\u001b[0m\u001b[0;34m\u001b[0m\u001b[0;34m\u001b[0m\u001b[0m\n\u001b[0m",
      "\u001b[0;31mTypeError\u001b[0m: im_here() missing 1 required positional argument: 'self'"
     ]
    }
   ],
   "source": [
    "class Z(object): pass\n",
    "z = Z()\n",
    "z.wrong_method = im_here\n",
    "z.wrong_method()"
   ]
  },
  {
   "cell_type": "code",
   "execution_count": 181,
   "metadata": {
    "ExecuteTime": {
     "end_time": "2019-03-06T12:48:00.579607Z",
     "start_time": "2019-03-06T12:48:00.568511Z"
    }
   },
   "outputs": [
    {
     "data": {
      "text/plain": [
       "<bound method im_here of <__main__.X object at 0x7fc558bfe630>>"
      ]
     },
     "execution_count": 181,
     "metadata": {},
     "output_type": "execute_result"
    }
   ],
   "source": [
    "y.wrong_method"
   ]
  },
  {
   "cell_type": "code",
   "execution_count": 182,
   "metadata": {
    "ExecuteTime": {
     "end_time": "2019-03-06T12:48:00.810324Z",
     "start_time": "2019-03-06T12:48:00.806867Z"
    }
   },
   "outputs": [
    {
     "data": {
      "text/plain": [
       "<function __main__.im_here(self)>"
      ]
     },
     "execution_count": 182,
     "metadata": {},
     "output_type": "execute_result"
    }
   ],
   "source": [
    "z.wrong_method"
   ]
  },
  {
   "cell_type": "markdown",
   "metadata": {},
   "source": [
    "##### bound method и function"
   ]
  },
  {
   "cell_type": "markdown",
   "metadata": {},
   "source": [
    "у связанного метода зафиксирован первый агрумент - self, явно когда вы вызываете метод экземпляра вы не передаете self.\n",
    "\n",
    "в несвязанном методе вы должны передать первый аргумент "
   ]
  },
  {
   "cell_type": "code",
   "execution_count": 183,
   "metadata": {
    "ExecuteTime": {
     "end_time": "2019-03-06T12:48:04.943064Z",
     "start_time": "2019-03-06T12:48:04.936173Z"
    }
   },
   "outputs": [
    {
     "data": {
      "text/plain": [
       "'im here'"
      ]
     },
     "execution_count": 183,
     "metadata": {},
     "output_type": "execute_result"
    }
   ],
   "source": [
    "z.wrong_method(z)"
   ]
  },
  {
   "cell_type": "markdown",
   "metadata": {
    "ExecuteTime": {
     "end_time": "2019-03-06T12:48:20.035740Z",
     "start_time": "2019-03-06T12:48:20.021447Z"
    }
   },
   "source": [
    "___________"
   ]
  },
  {
   "cell_type": "markdown",
   "metadata": {},
   "source": [
    "___"
   ]
  },
  {
   "cell_type": "markdown",
   "metadata": {},
   "source": [
    "#### slot mechanism\n",
    "\n",
    "Хранить dict временами дорого. Иногда вообще не хочется чтобы в объекте создавался новый атрибут.\n",
    "Механизм слотов позволяет при объявлении класса заранее указать его атрибуты. Новые уже создать будет нельзя"
   ]
  },
  {
   "cell_type": "code",
   "execution_count": 202,
   "metadata": {
    "ExecuteTime": {
     "end_time": "2019-03-06T12:52:47.914627Z",
     "start_time": "2019-03-06T12:52:47.910399Z"
    }
   },
   "outputs": [],
   "source": [
    "class BazAr():\n",
    "    \n",
    "    __slots__ = ['abaz']\n",
    "    \n",
    "    def __init__(self, props):\n",
    "        self.abaz = props\n",
    "        # self.coco = 'nOOOOOO!'"
   ]
  },
  {
   "cell_type": "code",
   "execution_count": 206,
   "metadata": {
    "ExecuteTime": {
     "end_time": "2019-03-06T12:52:48.329586Z",
     "start_time": "2019-03-06T12:52:48.326297Z"
    }
   },
   "outputs": [
    {
     "data": {
      "text/plain": [
       "mappingproxy({'__module__': '__main__',\n",
       "              '__slots__': ['abaz'],\n",
       "              '__init__': <function __main__.BazAr.__init__(self, props)>,\n",
       "              'abaz': <member 'abaz' of 'BazAr' objects>,\n",
       "              '__doc__': None})"
      ]
     },
     "execution_count": 206,
     "metadata": {},
     "output_type": "execute_result"
    }
   ],
   "source": [
    "BazAr.__dict__"
   ]
  },
  {
   "cell_type": "code",
   "execution_count": 207,
   "metadata": {
    "ExecuteTime": {
     "end_time": "2019-03-06T12:52:48.519579Z",
     "start_time": "2019-03-06T12:52:48.515380Z"
    }
   },
   "outputs": [],
   "source": [
    "tmp_a = BazAr('slot_mechanism')"
   ]
  },
  {
   "cell_type": "code",
   "execution_count": 208,
   "metadata": {
    "ExecuteTime": {
     "end_time": "2019-03-06T12:52:49.222160Z",
     "start_time": "2019-03-06T12:52:49.209550Z"
    }
   },
   "outputs": [
    {
     "ename": "AttributeError",
     "evalue": "'BazAr' object has no attribute '__dict__'",
     "output_type": "error",
     "traceback": [
      "\u001b[0;31m---------------------------------------------------------------------------\u001b[0m",
      "\u001b[0;31mAttributeError\u001b[0m                            Traceback (most recent call last)",
      "\u001b[0;32m<ipython-input-208-818432424af0>\u001b[0m in \u001b[0;36m<module>\u001b[0;34m\u001b[0m\n\u001b[0;32m----> 1\u001b[0;31m \u001b[0mtmp_a\u001b[0m\u001b[0;34m.\u001b[0m\u001b[0m__dict__\u001b[0m\u001b[0;34m\u001b[0m\u001b[0;34m\u001b[0m\u001b[0m\n\u001b[0m",
      "\u001b[0;31mAttributeError\u001b[0m: 'BazAr' object has no attribute '__dict__'"
     ]
    }
   ],
   "source": [
    "tmp_a.__dict__"
   ]
  },
  {
   "cell_type": "code",
   "execution_count": 209,
   "metadata": {
    "ExecuteTime": {
     "end_time": "2019-03-06T12:52:52.307262Z",
     "start_time": "2019-03-06T12:52:52.304065Z"
    }
   },
   "outputs": [
    {
     "data": {
      "text/plain": [
       "'slot_mechanism'"
      ]
     },
     "execution_count": 209,
     "metadata": {},
     "output_type": "execute_result"
    }
   ],
   "source": [
    "tmp_a.abaz"
   ]
  },
  {
   "cell_type": "code",
   "execution_count": 210,
   "metadata": {
    "ExecuteTime": {
     "end_time": "2019-03-06T12:53:01.618905Z",
     "start_time": "2019-03-06T12:53:01.610053Z"
    }
   },
   "outputs": [
    {
     "ename": "AttributeError",
     "evalue": "'BazAr' object has no attribute 'thereisnomore'",
     "output_type": "error",
     "traceback": [
      "\u001b[0;31m---------------------------------------------------------------------------\u001b[0m",
      "\u001b[0;31mAttributeError\u001b[0m                            Traceback (most recent call last)",
      "\u001b[0;32m<ipython-input-210-7b9ce8230eeb>\u001b[0m in \u001b[0;36m<module>\u001b[0;34m\u001b[0m\n\u001b[1;32m      1\u001b[0m \u001b[0;31m### теперь мы не можем добавлять новых атрибутов\u001b[0m\u001b[0;34m\u001b[0m\u001b[0;34m\u001b[0m\u001b[0;34m\u001b[0m\u001b[0m\n\u001b[0;32m----> 2\u001b[0;31m \u001b[0mtmp_a\u001b[0m\u001b[0;34m.\u001b[0m\u001b[0mthereisnomore\u001b[0m \u001b[0;34m=\u001b[0m \u001b[0;36m2\u001b[0m\u001b[0;34m\u001b[0m\u001b[0;34m\u001b[0m\u001b[0m\n\u001b[0m",
      "\u001b[0;31mAttributeError\u001b[0m: 'BazAr' object has no attribute 'thereisnomore'"
     ]
    }
   ],
   "source": [
    "### теперь мы не можем добавлять новых атрибутов\n",
    "tmp_a.thereisnomore = 2"
   ]
  },
  {
   "cell_type": "code",
   "execution_count": 211,
   "metadata": {
    "ExecuteTime": {
     "end_time": "2019-03-06T12:55:40.184300Z",
     "start_time": "2019-03-06T12:55:40.181793Z"
    }
   },
   "outputs": [],
   "source": [
    "BazAr.new_method = lambda self: 'imhere'"
   ]
  },
  {
   "cell_type": "code",
   "execution_count": 212,
   "metadata": {
    "ExecuteTime": {
     "end_time": "2019-03-06T12:55:40.334221Z",
     "start_time": "2019-03-06T12:55:40.331136Z"
    }
   },
   "outputs": [
    {
     "data": {
      "text/plain": [
       "'imhere'"
      ]
     },
     "execution_count": 212,
     "metadata": {},
     "output_type": "execute_result"
    }
   ],
   "source": [
    "tmp_a.new_method()"
   ]
  },
  {
   "cell_type": "markdown",
   "metadata": {},
   "source": [
    "##### сколько вешать в байтах? "
   ]
  },
  {
   "cell_type": "code",
   "execution_count": 213,
   "metadata": {
    "ExecuteTime": {
     "end_time": "2019-03-06T12:55:44.574492Z",
     "start_time": "2019-03-06T12:55:44.559308Z"
    }
   },
   "outputs": [
    {
     "data": {
      "text/plain": [
       "48"
      ]
     },
     "execution_count": 213,
     "metadata": {},
     "output_type": "execute_result"
    }
   ],
   "source": [
    "import sys\n",
    "sys.getsizeof(tmp_a)"
   ]
  },
  {
   "cell_type": "code",
   "execution_count": 214,
   "metadata": {
    "ExecuteTime": {
     "end_time": "2019-03-06T12:56:03.982641Z",
     "start_time": "2019-03-06T12:56:03.962025Z"
    }
   },
   "outputs": [
    {
     "data": {
      "text/plain": [
       "56"
      ]
     },
     "execution_count": 214,
     "metadata": {},
     "output_type": "execute_result"
    }
   ],
   "source": [
    "class BazAr():\n",
    "    \n",
    "    def __init__(self, props):\n",
    "        self.abaz = props\n",
    "        \n",
    "tmp_a = BazAr('slot_mechanism')\n",
    "\n",
    "sys.getsizeof(tmp_a)"
   ]
  },
  {
   "cell_type": "code",
   "execution_count": null,
   "metadata": {
    "ExecuteTime": {
     "end_time": "2019-03-06T12:58:17.616557Z",
     "start_time": "2019-03-06T12:58:17.607111Z"
    },
    "scrolled": true
   },
   "outputs": [],
   "source": [
    "sys.getsizeof(tmp_a.__dict__) "
   ]
  },
  {
   "cell_type": "markdown",
   "metadata": {},
   "source": [
    "____________-"
   ]
  },
  {
   "cell_type": "markdown",
   "metadata": {},
   "source": [
    "еще один способ создания класса..."
   ]
  },
  {
   "cell_type": "markdown",
   "metadata": {
    "ExecuteTime": {
     "end_time": "2019-03-06T13:15:24.853366Z",
     "start_time": "2019-03-06T13:15:24.845102Z"
    }
   },
   "source": [
    "```python\n",
    "\n",
    "class NewClass:\n",
    "    something_ = 554\n",
    "    \n",
    "    def foo(self):\n",
    "        return 'foo_print'\n",
    "    \n",
    "    def __init__(self, a):\n",
    "        self.some_atribute = a\n",
    "    \n",
    "```"
   ]
  },
  {
   "cell_type": "raw",
   "metadata": {},
   "source": [
    "# type(ИмяКласса, (Кортеж классов родителей), {словарь с атрибутами класса})"
   ]
  },
  {
   "cell_type": "code",
   "execution_count": null,
   "metadata": {
    "ExecuteTime": {
     "end_time": "2019-03-06T13:14:07.072795Z",
     "start_time": "2019-03-06T13:14:07.067652Z"
    }
   },
   "outputs": [],
   "source": [
    "_func = lambda self: 'foo_print'\n",
    "\n",
    "def f (self, a):\n",
    "    self.some_atribute = a\n",
    "\n",
    "some_class_class = type('NewClass', (), {'something_': 554, 'foo': _func, '__init__': f})"
   ]
  },
  {
   "cell_type": "code",
   "execution_count": null,
   "metadata": {
    "ExecuteTime": {
     "end_time": "2019-03-06T13:14:07.421691Z",
     "start_time": "2019-03-06T13:14:07.417332Z"
    }
   },
   "outputs": [],
   "source": [
    "some_class_class"
   ]
  },
  {
   "cell_type": "code",
   "execution_count": null,
   "metadata": {
    "ExecuteTime": {
     "end_time": "2019-03-06T13:14:02.634690Z",
     "start_time": "2019-03-06T13:14:02.627411Z"
    }
   },
   "outputs": [],
   "source": [
    "tmp_re = some_class_class(234)\n",
    "tmp_re"
   ]
  },
  {
   "cell_type": "code",
   "execution_count": null,
   "metadata": {
    "ExecuteTime": {
     "end_time": "2019-03-06T13:13:42.459728Z",
     "start_time": "2019-03-06T13:13:42.446769Z"
    }
   },
   "outputs": [],
   "source": [
    "some_class_class.something_, tmp_re.some_atribute"
   ]
  },
  {
   "cell_type": "code",
   "execution_count": null,
   "metadata": {
    "ExecuteTime": {
     "end_time": "2019-03-06T13:13:43.133008Z",
     "start_time": "2019-03-06T13:13:43.126898Z"
    }
   },
   "outputs": [],
   "source": [
    "tmp_re.foo()"
   ]
  },
  {
   "cell_type": "markdown",
   "metadata": {},
   "source": [
    "##### но об этом на следующей лекции ..."
   ]
  },
  {
   "cell_type": "markdown",
   "metadata": {},
   "source": [
    "_______"
   ]
  },
  {
   "cell_type": "markdown",
   "metadata": {},
   "source": [
    "##### classmethod & staticmethod"
   ]
  },
  {
   "cell_type": "code",
   "execution_count": null,
   "metadata": {
    "ExecuteTime": {
     "end_time": "2019-03-07T13:49:46.558425Z",
     "start_time": "2019-03-07T13:49:46.543377Z"
    }
   },
   "outputs": [],
   "source": [
    "class A(object):\n",
    "    \n",
    "    count_ = 100500\n",
    "    \n",
    "    def foo(self, x):\n",
    "        print ('foo with self=%s and x=%s' % (self, x))\n",
    "\n",
    "    @classmethod\n",
    "    def class_foo(cls, x):\n",
    "        print ('class foo with cls=%s and local_variables=%s \\\n",
    "including count_=%s' % (cls, dir(), cls.count_))\n",
    "\n",
    "    @staticmethod\n",
    "    def static_foo(x):\n",
    "        print ('static foo x=%s and local_variables=%s' % (x, dir()))  \n",
    "\n",
    "a=A()"
   ]
  },
  {
   "cell_type": "code",
   "execution_count": null,
   "metadata": {
    "ExecuteTime": {
     "end_time": "2019-03-07T13:49:46.697218Z",
     "start_time": "2019-03-07T13:49:46.692645Z"
    }
   },
   "outputs": [],
   "source": [
    "a.foo('some_x')"
   ]
  },
  {
   "cell_type": "code",
   "execution_count": null,
   "metadata": {
    "ExecuteTime": {
     "end_time": "2019-03-07T13:49:46.844219Z",
     "start_time": "2019-03-07T13:49:46.836153Z"
    }
   },
   "outputs": [],
   "source": [
    "a.class_foo('some_x')"
   ]
  },
  {
   "cell_type": "code",
   "execution_count": null,
   "metadata": {
    "ExecuteTime": {
     "end_time": "2019-03-07T13:49:47.009745Z",
     "start_time": "2019-03-07T13:49:47.003049Z"
    }
   },
   "outputs": [],
   "source": [
    "A.class_foo('some_x')"
   ]
  },
  {
   "cell_type": "code",
   "execution_count": null,
   "metadata": {
    "ExecuteTime": {
     "end_time": "2019-03-07T13:49:47.202072Z",
     "start_time": "2019-03-07T13:49:47.198887Z"
    }
   },
   "outputs": [],
   "source": [
    "a.static_foo('some_x')"
   ]
  },
  {
   "cell_type": "code",
   "execution_count": null,
   "metadata": {
    "ExecuteTime": {
     "end_time": "2019-03-07T13:49:47.433986Z",
     "start_time": "2019-03-07T13:49:47.430941Z"
    }
   },
   "outputs": [],
   "source": [
    "A.static_foo('some_x')"
   ]
  },
  {
   "cell_type": "markdown",
   "metadata": {
    "ExecuteTime": {
     "end_time": "2018-10-01T07:21:19.190066Z",
     "start_time": "2018-10-01T07:21:19.182015Z"
    }
   },
   "source": [
    "> обычный метод принимает в качестве первого агрумента метода экземпляр (self)\n",
    "\n",
    "> классовый метод принимает в качестве первого агрумента метода - класс экземпляра (cls),\n",
    "можно вызывать и из класса, и из экземпляра. Один из вариантов использования - наследуемые конструкторы.\n",
    "\n",
    "> в статический метод не передаются в качестве первого агрумента ни экземпляр ни класс.\n",
    "похож на обычные функции, но можно вызывать из экземпляра или класса. нет доступа к атрибутам класса "
   ]
  },
  {
   "cell_type": "markdown",
   "metadata": {},
   "source": [
    "____________"
   ]
  },
  {
   "cell_type": "code",
   "execution_count": null,
   "metadata": {},
   "outputs": [],
   "source": []
  }
 ],
 "metadata": {
  "kernelspec": {
   "display_name": "Python 3",
   "language": "python",
   "name": "python3"
  },
  "language_info": {
   "codemirror_mode": {
    "name": "ipython",
    "version": 3
   },
   "file_extension": ".py",
   "mimetype": "text/x-python",
   "name": "python",
   "nbconvert_exporter": "python",
   "pygments_lexer": "ipython3",
   "version": "3.7.3"
  }
 },
 "nbformat": 4,
 "nbformat_minor": 4
}
