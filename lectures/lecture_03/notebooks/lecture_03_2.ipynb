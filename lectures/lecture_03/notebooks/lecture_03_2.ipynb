{
 "cells": [
  {
   "cell_type": "markdown",
   "metadata": {},
   "source": [
    "# Super - это супер"
   ]
  },
  {
   "cell_type": "code",
   "execution_count": null,
   "metadata": {},
   "outputs": [],
   "source": [
    "class BasicCalculator:\n",
    "    \n",
    "    def plus(self, a, b):\n",
    "        return a + b\n",
    "    \n",
    "    def minus(self, a, b):\n",
    "        return a - b\n",
    "\n",
    "basic_calc = BasicCalculator()\n",
    "print(basic_calc.plus(3, 5))\n",
    "print(basic_calc.minus(5, 4))"
   ]
  },
  {
   "cell_type": "code",
   "execution_count": null,
   "metadata": {},
   "outputs": [],
   "source": [
    "class AdvancedCalculator(BasicCalculator):\n",
    "    \n",
    "    def mult(self, a, b):\n",
    "        t = 0\n",
    "        for _ in range(b):\n",
    "            t = super().plus(t, a)\n",
    "        return t\n",
    "\n",
    "advanced_calc = AdvancedCalculator()\n",
    "print(advanced_calc.plus(3, 5))\n",
    "print(advanced_calc.minus(5, 4))\n",
    "print(advanced_calc.mult(3, 3))"
   ]
  },
  {
   "cell_type": "code",
   "execution_count": null,
   "metadata": {},
   "outputs": [],
   "source": [
    "help(advanced_calc)"
   ]
  },
  {
   "cell_type": "code",
   "execution_count": null,
   "metadata": {},
   "outputs": [],
   "source": [
    "class Adam:\n",
    "    def eat(self):\n",
    "        print(\"Adam eats\")\n",
    "        \n",
    "class Eva:\n",
    "    def eat(self):\n",
    "        print(\"Eva eats\")\n",
    "        \n",
    "class MotherOfMother(Adam, Eva):\n",
    "    def eat(self):\n",
    "        print(\"MotherOfMother eats\")\n",
    "        \n",
    "class FatherOfMother(Adam, Eva):\n",
    "    def eat(self):\n",
    "        print(\"FatherOfMother eats\")\n",
    "        \n",
    "class MotherOfFather(Adam, Eva):\n",
    "    def eat(self):\n",
    "        print(\"MotherOfFather eats\")\n",
    "        \n",
    "class FatherOfFather(Adam, Eva):\n",
    "    def eat(self):\n",
    "        print(\"FatherOfFather eats\")\n",
    "        \n",
    "class Mother(MotherOfMother, FatherOfMother):\n",
    "    def eat(self):\n",
    "        print(\"Mother eats\")\n",
    "        \n",
    "class Father(MotherOfFather, FatherOfFather):\n",
    "    def eat(self):\n",
    "        print(\"Father eats\")\n",
    "        \n",
    "class Jonny(Mother, Father):\n",
    "    def eat(self):\n",
    "        print(\"Jonny eats\")\n",
    "        \n",
    "jonny = Jonny()\n",
    "jonny.eat()"
   ]
  },
  {
   "cell_type": "code",
   "execution_count": null,
   "metadata": {},
   "outputs": [],
   "source": [
    "class Jonny(Mother, Father):\n",
    "    pass\n",
    "jonny = Jonny()\n",
    "jonny.eat()"
   ]
  },
  {
   "cell_type": "code",
   "execution_count": null,
   "metadata": {},
   "outputs": [],
   "source": [
    "help(jonny)"
   ]
  },
  {
   "cell_type": "code",
   "execution_count": null,
   "metadata": {},
   "outputs": [],
   "source": [
    "mother = Mother()\n",
    "help(mother)"
   ]
  },
  {
   "cell_type": "markdown",
   "metadata": {},
   "source": [
    "## Хорошо, вспомнили. Посмотрим другой пример"
   ]
  },
  {
   "cell_type": "code",
   "execution_count": null,
   "metadata": {},
   "outputs": [],
   "source": [
    "class Student:\n",
    "    def prepare_for_exam(self):\n",
    "        print(\"И так сойдет\")\n",
    "                \n",
    "class SessionStudent(Student):\n",
    "    def pass_exam(self):\n",
    "        super().prepare_for_exam()\n",
    "        \n",
    "student = SessionStudent()\n",
    "student.pass_exam()"
   ]
  },
  {
   "cell_type": "code",
   "execution_count": null,
   "metadata": {},
   "outputs": [],
   "source": [
    "class TwoWeeksPreparation(Student):\n",
    "    def prepare_for_exam(self):\n",
    "        print(\"Ботал 2 недели\")\n",
    "        \n",
    "class PreparedStudent(SessionStudent, TwoWeeksPreparation):\n",
    "    pass\n",
    "\n",
    "prepared_student = PreparedStudent()\n",
    "prepared_student.pass_exam()  "
   ]
  },
  {
   "cell_type": "code",
   "execution_count": null,
   "metadata": {},
   "outputs": [],
   "source": [
    "class Robot:\n",
    "    def fetch(self):\n",
    "        print(\"Physical movement! Fetching\")\n",
    "    def move_up(self):\n",
    "        print(\"Physical movement! Moving up\")\n",
    "    def move_down(self):\n",
    "        print(\"Physical movement! Moving up\")\n",
    "    def move_right(self):\n",
    "        print(\"Physical movement! Moving right\")\n",
    "    def move_left(self):\n",
    "        print(\"Physical movement! Moving left\")\n",
    "        \n",
    "class CleaningRobot(Robot):\n",
    "    def clean(self):\n",
    "        super().fetch()\n",
    "        for i in range(10):\n",
    "            super().move_up()\n",
    "            super().move_down()\n",
    "            super().move_right()\n",
    "            super().move_left()\n",
    "        print(\"End cleaning\")\n",
    "\n",
    "class MockRobot(Robot):\n",
    "    def __init__(self):\n",
    "        self.actions = []\n",
    "    def move_up(self):\n",
    "        self.actions.append(\"Up!\")\n",
    "    def move_down(self):\n",
    "        self.actions.append(\"Down!\")\n",
    "    def move_right(self):\n",
    "        self.actions.append(\"Right!\")\n",
    "    def move_left(self):\n",
    "        self.actions.append(\"Left!\")\n",
    "    def fetch(self):\n",
    "        self.actions.append(\"Fetch!\")\n",
    "        \n",
    "class MockedCleaningBot(CleaningRobot, MockRobot):\n",
    "    pass"
   ]
  },
  {
   "cell_type": "code",
   "execution_count": null,
   "metadata": {},
   "outputs": [],
   "source": [
    "mocked_robot = MockedCleaningBot()"
   ]
  },
  {
   "cell_type": "code",
   "execution_count": null,
   "metadata": {},
   "outputs": [],
   "source": [
    "mocked_robot.clean()"
   ]
  },
  {
   "cell_type": "code",
   "execution_count": null,
   "metadata": {},
   "outputs": [],
   "source": [
    "mocked_robot.actions"
   ]
  },
  {
   "cell_type": "code",
   "execution_count": null,
   "metadata": {},
   "outputs": [],
   "source": [
    "#TODO Создайте тестовый класс студента (подготовленного!), который отвечает экзамен товарищу\n",
    "#По команде prepare_exam должно выводиться \"Рассказал товарищу\", должен наследовать от PreparedStudent"
   ]
  },
  {
   "cell_type": "markdown",
   "metadata": {},
   "source": [
    "# Итераторы"
   ]
  },
  {
   "cell_type": "code",
   "execution_count": null,
   "metadata": {},
   "outputs": [],
   "source": [
    "class SimpleIterator:\n",
    "    def __init__(self, limit):\n",
    "        self.limit = limit\n",
    "        self.counter = 0\n",
    "\n",
    "    def __next__(self):\n",
    "        if self.counter < self.limit:\n",
    "            self.counter += 1\n",
    "            return 1\n",
    "        else:\n",
    "            raise StopIteration\n",
    "\n",
    "s_iter1 = SimpleIterator(3)\n",
    "print(next(s_iter1))\n",
    "print(next(s_iter1))\n",
    "print(next(s_iter1))\n",
    "print(next(s_iter1))"
   ]
  },
  {
   "cell_type": "code",
   "execution_count": null,
   "metadata": {},
   "outputs": [],
   "source": [
    "class SimpleIterator:\n",
    "    def __iter__(self):\n",
    "        return self\n",
    "\n",
    "    def __init__(self, limit):\n",
    "        self.limit = limit\n",
    "        self.counter = 0\n",
    "\n",
    "    def __next__(self):\n",
    "        if self.counter < self.limit:\n",
    "            self.counter += 1\n",
    "            return 1\n",
    "        else:\n",
    "            raise StopIteration"
   ]
  },
  {
   "cell_type": "code",
   "execution_count": null,
   "metadata": {},
   "outputs": [],
   "source": [
    "#TODO Написать итератор по csv файлу \n",
    "#В первой строке хранится header файл, нужно для каждой строки возвращать dict вида {\"column_name\": row_value}\n",
    "#гарантируется, что все имена столбцов различны"
   ]
  },
  {
   "cell_type": "markdown",
   "metadata": {},
   "source": [
    "# Functools"
   ]
  },
  {
   "cell_type": "code",
   "execution_count": null,
   "metadata": {},
   "outputs": [],
   "source": [
    "#TODO Написать декоратор, выводящий время выполнения функции (просто print)"
   ]
  },
  {
   "cell_type": "code",
   "execution_count": null,
   "metadata": {},
   "outputs": [],
   "source": [
    "#TODO Написать функцию расчета n-го числа фибоначчи (рекурсивно! а не по-правильному)\n",
    "\n",
    "from functools import lru_cache\n",
    "\n",
    "@lru_cache(maxsize=None)\n",
    "def fib(n):\n",
    "    pass\n",
    "    \n",
    "print([fib(n) for n in range(100)])\n",
    "print(fib.cache_info())"
   ]
  },
  {
   "cell_type": "code",
   "execution_count": null,
   "metadata": {},
   "outputs": [],
   "source": [
    "#TODO измерим время выполнения функции, если что-то лежит в кеше и без"
   ]
  },
  {
   "cell_type": "code",
   "execution_count": null,
   "metadata": {},
   "outputs": [],
   "source": [
    "#TODO functools.reduce Вычесть из первого элемента все остальные элементы массива\n",
    "\n",
    "a = [100, 50, 40, 20]"
   ]
  },
  {
   "cell_type": "markdown",
   "metadata": {},
   "source": [
    "# Collections"
   ]
  },
  {
   "cell_type": "code",
   "execution_count": null,
   "metadata": {},
   "outputs": [],
   "source": [
    "#Counter\n",
    "import collections\n",
    "\n",
    "c = collections.Counter()\n",
    "for word in ['spam', 'egg', 'spam', 'counter', 'counter', 'counter']:\n",
    "    c[word] += 1\n",
    "\n",
    "#еще способ создания\n",
    "collections.Counter({'counter': 3, 'spam': 2, 'egg': 1})\n",
    "collections.Counter(['spam', 'egg', 'spam', 'counter', 'counter', 'counter'])\n",
    "    \n",
    "print(c)\n",
    "print(c['counter'])\n",
    "print(c['collections'])\n",
    "print(c.elements())\n",
    "print(c.most_common(3))"
   ]
  },
  {
   "cell_type": "code",
   "execution_count": null,
   "metadata": {},
   "outputs": [],
   "source": [
    "defdict = collections.defaultdict(list)\n",
    "print(defdict)\n",
    "for i in range(5):\n",
    "    defdict[i].append(i)\n",
    "print(defdict)"
   ]
  },
  {
   "cell_type": "code",
   "execution_count": null,
   "metadata": {},
   "outputs": [],
   "source": [
    "Point = collections.namedtuple('Point', ['x', 'y'])\n",
    "p = Point(x=1, y=2)\n",
    "Point(x=1, y=2)\n",
    "p.x"
   ]
  },
  {
   "cell_type": "code",
   "execution_count": null,
   "metadata": {},
   "outputs": [],
   "source": [
    "#TODO создадим namedtuple человека (пол, возраст, язык программирования)"
   ]
  },
  {
   "cell_type": "code",
   "execution_count": null,
   "metadata": {},
   "outputs": [],
   "source": [
    "from collections import deque"
   ]
  },
  {
   "cell_type": "code",
   "execution_count": null,
   "metadata": {},
   "outputs": [],
   "source": [
    "deq = deque([1, 2, 3])"
   ]
  },
  {
   "cell_type": "code",
   "execution_count": null,
   "metadata": {},
   "outputs": [],
   "source": [
    "deq.append(100)  # O(1)\n",
    "print(deq)"
   ]
  },
  {
   "cell_type": "code",
   "execution_count": null,
   "metadata": {},
   "outputs": [],
   "source": [
    "deq.appendleft(-7)  # O(1)\n",
    "print(deq)"
   ]
  },
  {
   "cell_type": "markdown",
   "metadata": {},
   "source": [
    "# Itertools"
   ]
  },
  {
   "cell_type": "code",
   "execution_count": null,
   "metadata": {},
   "outputs": [],
   "source": [
    "a = iter([1, 2, 3])\n",
    "b = iter([4, 5])\n",
    "a + b"
   ]
  },
  {
   "cell_type": "code",
   "execution_count": null,
   "metadata": {},
   "outputs": [],
   "source": [
    "# Объединение итераторов\n",
    "from itertools import chain\n",
    "for x in chain(a, b):\n",
    "    print(x)"
   ]
  },
  {
   "cell_type": "code",
   "execution_count": null,
   "metadata": {},
   "outputs": [],
   "source": [
    "# перестановки\n",
    "from itertools import permutations\n",
    "print(list(permutations('ABc')))"
   ]
  },
  {
   "cell_type": "code",
   "execution_count": null,
   "metadata": {},
   "outputs": [],
   "source": [
    "# сочетания без повторений\n",
    "from itertools import combinations\n",
    "list(combinations('ABC', 2))"
   ]
  },
  {
   "cell_type": "code",
   "execution_count": null,
   "metadata": {},
   "outputs": [],
   "source": [
    "# сочетания c повторениями\n",
    "from itertools import combinations_with_replacement\n",
    "list(combinations_with_replacement('ABC', 2))"
   ]
  },
  {
   "cell_type": "code",
   "execution_count": null,
   "metadata": {},
   "outputs": [],
   "source": [
    "# декартово произведение\n",
    "from itertools import product\n",
    "\n",
    "# Например, когда не знаешь глубину вложенного цикла\n",
    "n = 3\n",
    "cycles = [\n",
    "    [1, 2, 3],\n",
    "    [3, 4],\n",
    "    [5, 7, 8]\n",
    "]\n",
    "for indecies in product(*cycles):\n",
    "    print(indecies)"
   ]
  },
  {
   "cell_type": "code",
   "execution_count": null,
   "metadata": {},
   "outputs": [],
   "source": []
  },
  {
   "cell_type": "code",
   "execution_count": null,
   "metadata": {},
   "outputs": [],
   "source": [
    "# данные key - value\n",
    "from itertools import groupby\n",
    "data = [\n",
    "    ('Factory A', 'day 1', 100),\n",
    "    ('Factory B', 'day 1', 200),\n",
    "    ('Factory C', 'day 1', 300),\n",
    "    \n",
    "    ('Factory A', 'day 2', 175),\n",
    "    ('Factory B', 'day 2', 115),\n",
    "    ('Factory C', 'day 2', 100),\n",
    "    \n",
    "    ('Factory A', 'day 3', 500),\n",
    "    ('Factory B', 'day 3', 800),\n",
    "    ('Factory C', 'day 3', 1000)\n",
    "]"
   ]
  },
  {
   "cell_type": "code",
   "execution_count": null,
   "metadata": {},
   "outputs": [],
   "source": [
    "# Сколько товара все фабрики произвели за каждый день\n",
    "for (key, values) in groupby(data, lambda x: x[1]):\n",
    "    print(key, values)"
   ]
  },
  {
   "cell_type": "code",
   "execution_count": null,
   "metadata": {},
   "outputs": [],
   "source": [
    "for (key, values) in groupby(data, lambda x: x[1]):\n",
    "    s = 0\n",
    "    for v in values:\n",
    "        s += v[2]\n",
    "    print(key, ':', s)"
   ]
  },
  {
   "cell_type": "code",
   "execution_count": null,
   "metadata": {},
   "outputs": [],
   "source": [
    "# Сколько каждая фабрика произвела за все дни\n",
    "for (key, values) in groupby(data, lambda x: x[0]):\n",
    "    print(key, ':', sum([v[2] for v in values]))"
   ]
  },
  {
   "cell_type": "code",
   "execution_count": null,
   "metadata": {},
   "outputs": [],
   "source": [
    "#TODO Посчитаем суммы последовательных элементов hint accumulate\n",
    "from itertools import accumulate\n",
    "inp_arr = [1, 3, 5, 7, 9, 11, 13]\n",
    "list(accumulate(inp_arr))"
   ]
  },
  {
   "cell_type": "code",
   "execution_count": null,
   "metadata": {},
   "outputs": [],
   "source": []
  },
  {
   "cell_type": "code",
   "execution_count": null,
   "metadata": {},
   "outputs": [],
   "source": []
  },
  {
   "cell_type": "code",
   "execution_count": null,
   "metadata": {},
   "outputs": [],
   "source": []
  }
 ],
 "metadata": {
  "anaconda-cloud": {},
  "kernelspec": {
   "display_name": "Python 3",
   "language": "python",
   "name": "python3"
  },
  "language_info": {
   "codemirror_mode": {
    "name": "ipython",
    "version": 3
   },
   "file_extension": ".py",
   "mimetype": "text/x-python",
   "name": "python",
   "nbconvert_exporter": "python",
   "pygments_lexer": "ipython3",
   "version": "3.6.8"
  }
 },
 "nbformat": 4,
 "nbformat_minor": 2
}
