{
 "cells": [
  {
   "cell_type": "code",
   "execution_count": 1,
   "metadata": {},
   "outputs": [
    {
     "name": "stdout",
     "output_type": "stream",
     "text": [
      "[51, 98, 6, 49, 80, 64, 47, 40, 14, 33, 44, 86, 85, 40, 71, 33, 26, 89, 73, 9, 76, 98, 19, 60, 49, 22, 84, 92, 4, 91, 52, 46, 75, 12, 39, 77, 54, 94, 65, 75, 22, 92, 52, 89, 93, 42, 67, 94, 98, 79, 12, 36, 87, 21, 27, 6, 75, 41, 9, 29, 95, 36, 4, 45, 72, 51, 54, 19, 41, 69, 34, 62, 20, 91, 66, 40, 16, 13, 55, 47, 69, 19, 42, 57, 10, 87, 97, 71, 50, 95, 49, 18, 64, 41, 86, 27, 42, 17, 28, 60, 81, 8, 17, 77, 84, 85, 61, 98, 1, 49, 78, 69, 92, 7, 70, 48, 3, 41, 44, 87, 91, 37, 71, 17, 13, 19, 83, 72, 56, 82, 15, 47, 0, 9, 44, 17, 75, 67, 22, 81, 12, 74, 83, 25, 42, 90, 93, 60, 93, 98, 83, 90, 94, 90, 35, 5, 35, 44, 5, 67, 32, 68, 6, 45, 88, 30, 24, 41, 15, 57, 94, 15, 29, 71, 49, 55, 94, 93, 69, 66, 3, 55, 65, 36, 22, 46, 65, 62, 92, 12, 54, 48, 97, 4, 47, 24, 16, 52, 13, 39]\n"
     ]
    }
   ],
   "source": [
    "import numpy as np\n",
    "A = [np.random.randint(100) for i in range(200)]\n",
    "val = 124\n",
    "print(A)"
   ]
  },
  {
   "cell_type": "code",
   "execution_count": 48,
   "metadata": {},
   "outputs": [
    {
     "name": "stdout",
     "output_type": "stream",
     "text": [
      "(179, 181)\n",
      "CPU times: user 52 ms, sys: 0 ns, total: 52 ms\n",
      "Wall time: 159 ms\n"
     ]
    }
   ],
   "source": [
    "%%time\n",
    "d = {}\n",
    "for i in range(len(A)):\n",
    "    for j in range(i+1):\n",
    "        d[sum(A[j:i])]=(j, i-1)\n",
    "if val in d.keys():\n",
    "    print(d[val])\n",
    "else:\n",
    "    print(())"
   ]
  },
  {
   "cell_type": "code",
   "execution_count": 43,
   "metadata": {},
   "outputs": [
    {
     "name": "stdout",
     "output_type": "stream",
     "text": [
      "CPU times: user 0 ns, sys: 0 ns, total: 0 ns\n",
      "Wall time: 29.3 µs\n"
     ]
    }
   ],
   "source": [
    "%%time\n",
    "s = 0\n",
    "for i in range(len(A)):\n",
    "    pass"
   ]
  },
  {
   "cell_type": "code",
   "execution_count": 49,
   "metadata": {},
   "outputs": [
    {
     "name": "stdout",
     "output_type": "stream",
     "text": [
      "(59, 60)\n",
      "CPU times: user 4 ms, sys: 0 ns, total: 4 ms\n",
      "Wall time: 4.21 ms\n"
     ]
    }
   ],
   "source": [
    "%%time\n",
    "flag = 0\n",
    "for i in range(len(A)):\n",
    "    for j in range(i+1):\n",
    "        if(sum(A[j:i])==val):\n",
    "            print((j, i-1))\n",
    "            flag = 1\n",
    "            break\n",
    "    if flag == 1:\n",
    "        break\n",
    "if flag==0:\n",
    "    print(())\n"
   ]
  },
  {
   "cell_type": "code",
   "execution_count": 120,
   "metadata": {},
   "outputs": [
    {
     "data": {
      "text/plain": [
       "100"
      ]
     },
     "execution_count": 120,
     "metadata": {},
     "output_type": "execute_result"
    }
   ],
   "source": [
    "len(a)"
   ]
  },
  {
   "cell_type": "code",
   "execution_count": 328,
   "metadata": {},
   "outputs": [],
   "source": [
    "A = ['Q', 'c', 'a', 'p', 'F', 'e', 'x', 'g', 'H', 'w', 'z', 'y', 'g', 'u', 'd', 'O', 'P', 'u', 'e', 'm', 'J', 'z', 'Z', 'J', ' ', 'Q', 'J', 'k', 'x', 'T', 'V', 'a', 'V', 'Y', 'A', ' ', 'F', 'I', 'p', 'k', 'X', 'T', 'X', 'f', 'w', 'd', 's', 'k', 'w', 'V', 'g', 'k', 'l', 'z', 'j', 'D', ' ', 'm', 'H', 'o', 'e', 'q', 'K', 's', 'y', 'p', 'j', 'r', 'h', 'M', 'o', 'E', 'U', 'Y', 'N', 'K', 'g', 'g', 'L', 'c', 'I', 'k', 'h', 'X', 'o', 'H', 'N', ' ', 'S', 'e', 'c', 'T', 'K', 'Z', 'D', 'x', 'P', 'G', 'Z', 'l', 'F', 'K', 'f', 'G', 'T', 'r', 'x', 'u', 'm', 'L', 'K', 'l', 'b', 'I', 'g', 'H', ' ', 'm', 'r', 'W', 'G', 'K', 'V', ' ', 'Z', 's', 'z', 'i', 'C', 'N', 'V', 'u', 'q', 'h', ' ', 'S', 'm', 'k', 'Z', 'I', 'N', 's', 'a', 'z', 'V', 'O', 'u', 'B', 'v', 'F', 'T', 'r', 'k', ' ', 'N', 'B', 's', 'd', 'R', 'P', 'E', 'd', 'l', 'R', 'u', 'Y', 'A', 'G', 'v', 's', 'V', 'L', 'B', ' ', 's', 't', 'o', 'a', 'T', 'V', 'j', 'E', 'X', 'k', 'w', 'n', 'q', 'e', 'a', 'p', 'C', 'i', 'd', 'q', 'x', 'e', ' ', 'l', 'n', 'H', 'X', 'R', 'S', 'z', 't', 'j', 'S', 'B', 'b', 'w', 'C', 'O', 'w', 'q', 'q', 'q', 'z', 'T', 'W', ' ', 'a', ' ', 'K', 'g', 's', 'X', 'A', 'Y', 'H', 'x', ' ', 'g', 'S', 'x', 'f', 'j', 'A', 'h', 'H', 'T', 'W', 'k', 'C', 'X', 'F', 'E', 'Q', 'e', 'H', 'l', ' ', 'l', 'O', 'h', 'w', 'C', 'b', 'N', 'b', 'Y', 'D', 'N', 'A', 'a', 'l', ' ', 'U', 'n', 'W', 'R', 'a', 'X', 'c', 'P', 'D', 'H', 'j', 'b', 'N', 'D', 'u', 'g', 'O', ' ', 'D', 'g', 'W', 'I', 'y', 'H', 'B', 'Z', 'M', 'l', 'k', ' ', 'C', 'Z', 'Y', 'w', 'N', 'L', 'a', 'h', 'n', 'o', 'c', 'F', 'q', 'y', 'p', 'b', 'c', 'P', 'n', 'P', 'o', 'I', 'u', 'F', 'k', 'q', 'k', ' ', 'h', 'v', 'H', 'I', 'k', 's', 'w', 'd', 'r', 'T', 'k', 'Q', 'm', 'v', 'I', 'O', 'm', 'U', 'k', 'V', 'S', 'B', 'l', 'K', 'q', 'w', ' ', 'j', 'u', 'n', 'e', 'F', 'r', 'w', 'w', 'h', 'a', 'A', ' ', 'J', 'm', 'S', 'x', 'z', 'z', 'k', 'B', 'Y', ' ', 'Q', 'c', 'C', 'g', 'e', 'W', 'a', 'o', 'Q', 'Y', 'I', 'X', 'q', 'p', 'z', ' ', 'r', ' ', 'w', 'p', 'M', 'B', 'P', 'k', 'i', 'W', 'i', 'E', 'R', 'u', 'X', 'E', 'h', ' ', 'F', 'b', 'j', 'S', 'l', 'f', 'F', 'P', 'd', 'a', 'm', 'U', 'U', 'P', 'm', 'N', 'i', ' ', 'y', 's', 'y', 'g', 'x', 'p', 'Z', 'I', 'z', 'r', 'V', 'G', 'W', 'b', 'h', 'q', 'N', 'k', 'K', 'H', 'I', 'R', 'E', 'j', ' ', 'P', 'd', 'w', 't', 'F', 'b', 'E', 'g', 'Z', 'r', 'U', 'o', 'D', 'H', 'N', 'K', 'T', 'H', 'H', 'h', 'r', ' ', 'o', 'W', 'O', 'M', 'c', 'S', ' ', 'y', 'H', 'Z', 'z', 'D', 'n', 'e', 'a', 'K', 'R', ' ', 'w', 'Z', 'V', 'i', 'Y', 'G', 'O', 'w', 'J', ' ', 'p', ' ', 'A', 'O', 'D', 'R', 'P', 'q', 'n', 'd', 'r', 'k', 'o', 'W', 'Z', 'G', 'F', 't', 'n', 's', 'S', 'D', 'A', 'e', 'U', 't', 'k', 't', ' ', 'O', 'u', 'B', 'M', 'a', 'E', 'B', 'o', 'V', ' ', 'P', 'l', 'c', 'Z', 'N', 'y', 'N', 'I', 'O', 'e', 'd', ' ', 'p', 'L', 'p', 's', 'S', 'w', 'P', 'e', 'o', 'Y', 'c', 'c', 'R', 'Q', 'Y', 'K', 'k', 'f', 'S', 'p', 'N', 'y', 't', 'b', 'T', 'A', 's', ' ', 'W', 'K', 'o', 'J', 'i', 'K', 'e', 'D', 'J', 'B', 'p', 'C', 'V', 'u', 'u', 'w', 'c', 'e', 'L', 'l', 'l', 'D', 'C', 'k', 'h', 'N', ' ', 'D', 'u', 'S', 'H', 'l', 'E', ' ', 'T', 'U', 'Q', 'T', 'e', 'N', 'l', 'c', 'r', 'h', 'L', 'F', 'j', 'a', 'R', 's', 'k', 'p', 'T', 'D', 'Z', 'V', 'Q', 'I', 'X', 'e', 'l', ' ', 'B', 'i', 'W', 'x', ' ', 'F', 'R', 'a', 'R', 'r', 'B', 'l', 'w', 'S', 'W', 'G', 'z', 'w', 'N', 'C', 'O', 'n', 'P', 'h', 'f', 't', 'O', 'o', 'A', 'x', 'C', ' ', 'F', 'O', 'E', 'I', 'H', ' ', 'A', 'a', 'S', 'L', 't', 'r', 'N', 'l', 'j', 'W', 'L', 'S', ' ', 'd', 'z', 'T', 'C', 'k', 'P', 'G', 'n', 'd', 'I', 'E', 'g', 'B', 'g', 'L', 'h', 'c', 'C', 'U', 'X', 's', 'n', ' ', 'U', 'B', 'R', 'h', 'e', 'h', 'K', 'C', 'q', 'B', 'q', 'a', 'N', 'q', 'K', 'B', 'P', 'a', 'S', 'h', 'U', 'O', 'q', 'a', 'B', 'e', 'N', ' ', 'M', 'v', 'R', 'L', 'v', 'c', 'j', ' ', 'E', 'C', 'S', 'f', 'd', ' ', 'o', 'E', 't', 'O', 'D', 's', 'v', 'G', 'b', 'S', 's', 'm', 'G', 'n', 'Z', 'n', 'b', 'f', 'D', 'h', 'P', 'X', 'X', 'X', 'm', 'n', ' ', 'H', 'J', 'q', 'P', 'f', 'g', 'y', 'n', ' ', 'i', 'd', 'm', 'N', 'M', 'N', 'G', 'X', 'O', 'J', 'P', 's', 'L', 'o', 'p', 'o', ' ', 'n', 'V', 'c', 'r', 'x', 'q', 'I', 'l', 'N', 'N', 'm', 'n', 'C', 'z', 'U', 'P', 'J', 'B', 'Z', 't', 'Y', 'Z', 'P', 'V', 'p', ' ', 'W', 'y', 'T', 'W', 'H', 'K', 'u', 'R', 'y', 'z', 'R', 'Z', 'B', 'b', 'N', 'B', 'H', 'm', 'Q', 'u', 'u', 'l', 'Y', 'j', 'u', 't', 'u', 's', ' ', 'g', 'd', 'x', ' ', 'S', 'e', 'g', 'w', 'l', 'F', 'u', 'A', 'L', 't', 'z', 'T', 'H', 'M', 'j', 'X', 'R', 'G', 'I', 'O', 'L', ' ', 'p', 'p', 'B', 'P', 'f', 'u', ' ', 'M', 'u', 'N', 'f', 'q', 'A', 'f', 'A', 'd', 'Z', 'q', 'y', 'W', 'H', 'K', 'V', 'b', 'K', 't', 'w', 'n', 'I', 'h', 'S', 'y', 'X', 'W', 'T', 'B', ' ', 'U', 'Q', 'r', 'N', 'I', 'z', ' ', 'p', 'M', 'a', 'W', 'Q', 'Y', 'm', ' ', 'a', 'I', 'F', 'A', 'f', 'D', 'V', 'z', 'T', 'O', 'u', 'A', 'n', 'J', 'N', 'x', 'D', 'w', 'E', ' ', 'g', 'n', 'T', 'i', 'V', 'w', 'N', 'j', 'B', 'e', 'E', 'B', 'v', 'w', 'Q', 'x', 'F', 'a', 'w', ' ', 'R', 'Y', 'v', 'G', 'Q', 'l', 'q', 'r', 'y', 'w', 'G', 't', 'k', 'H', 'C', 'e', 'Y', 'L', 'D', 'M', 'h', 'c', 'c', 'h', 'D', 'o', ' ', 'O', 'x', 'o', 'M', 'C', 'd', 'q', 'R', 'P', 'T', 'F', ' ', 'b', 'X', 'Y', 'C', 'l', 'i', 'T', 'S', 'G', 'h', 'n', 't', 'q', 'i', 'c', 'c', 'R', 'P', 'g', 'J', 'x', 'R', 'p', 'B', ' ', 'Q', ' ', 'c', 'D', 'G', 'N', 'G', 'p', 'L', 'E', 'D', 'n', 'B', 'R', 'J', 't', 'j', 'U', 'U', 'B', 'W', 'f', 'S', 'h', 'm']"
   ]
  },
  {
   "cell_type": "code",
   "execution_count": 329,
   "metadata": {},
   "outputs": [],
   "source": [
    "B = A[::-1]\n",
    "l = 0\n",
    "r = 0\n",
    "for i in range(len(B)):\n",
    "    if B[i] == ' ':\n",
    "        r = i\n",
    "        B[l:r]=B[l:r][::-1]\n",
    "        l = i+1\n",
    "B[l::]=B[l::][::-1]"
   ]
  },
  {
   "cell_type": "code",
   "execution_count": 330,
   "metadata": {},
   "outputs": [
    {
     "ename": "AssertionError",
     "evalue": "",
     "output_type": "error",
     "traceback": [
      "\u001b[0;31m---------------------------------------------------------------------------\u001b[0m",
      "\u001b[0;31mAssertionError\u001b[0m                            Traceback (most recent call last)",
      "\u001b[0;32m<ipython-input-330-87593e465135>\u001b[0m in \u001b[0;36m<module>\u001b[0;34m\u001b[0m\n\u001b[0;32m----> 1\u001b[0;31m \u001b[0;32massert\u001b[0m \u001b[0mA\u001b[0m \u001b[0;34m==\u001b[0m \u001b[0mB\u001b[0m\u001b[0;34m\u001b[0m\u001b[0;34m\u001b[0m\u001b[0m\n\u001b[0m",
      "\u001b[0;31mAssertionError\u001b[0m: "
     ]
    }
   ],
   "source": [
    "assert A == B"
   ]
  },
  {
   "cell_type": "code",
   "execution_count": 327,
   "metadata": {},
   "outputs": [
    {
     "name": "stdout",
     "output_type": "stream",
     "text": [
      "f r t   y   t   f r   g d r A\n",
      "['A', 'r', 'd', 'g', '', '', 'r', 'f', '', '', 't', '', '', 'y', '', '', 't', 'r', 'f']\n"
     ]
    }
   ],
   "source": [
    "\n",
    "s = \" \".join(B)\n",
    "print(s)\n",
    "a = s[::-1].split(\" \")\n",
    "print(a)"
   ]
  },
  {
   "cell_type": "code",
   "execution_count": 57,
   "metadata": {},
   "outputs": [],
   "source": [
    "C = [51, 98, 6, 49, 80, 64, 47, 40, 14, 33, 44, 86, 85, 40, 71, 33, 26, 89, 73, 9, 76, 98, 19, 60, 49, 22, 84, 92, 4, 91, 52, 46, 75, 12, 39, 77, 54, 94, 65, 75, 22, 92, 52, 89, 93, 42, 67, 94, 98, 79, 12, 36, 87, 21, 27, 6, 75, 41, 9, 29, 95, 36, 4, 45, 72, 51, 54, 19, 41, 69, 34, 62, 20, 91, 66, 40, 16, 13, 55, 47, 69, 19, 42, 57, 10, 87, 97, 71, 50, 95, 49, 18, 64, 41, 86, 27, 42, 17, 28, 60, 81, 8, 17, 77, 84, 85, 61, 98, 1, 49, 78, 69, 92, 7, 70, 48, 3, 41, 44, 87, 91, 37, 71, 17, 13, 19, 83, 72, 56, 82, 15, 47, 0, 9, 44, 17, 75, 67, 22, 81, 12, 74, 83, 25, 42, 90, 93, 60, 93, 98, 83, 90, 94, 90, 35, 5, 35, 44, 5, 67, 32, 68, 6, 45, 88, 30, 24, 41, 15, 57, 94, 15, 29, 71, 49, 55, 94, 93, 69, 66, 3, 55, 65, 36, 22, 46, 65, 62, 92, 12, 54, 48, 97, 4, 47, 24, 16, 52, 13, 39]\n",
    "Val = 98"
   ]
  },
  {
   "cell_type": "code",
   "execution_count": 58,
   "metadata": {},
   "outputs": [
    {
     "name": "stdout",
     "output_type": "stream",
     "text": [
      "(59, 60)\n"
     ]
    }
   ],
   "source": [
    "flag = 0\n",
    "for i in range(len(C)):\n",
    "    for j in range(i+1):\n",
    "        if(sum(C[j:i])==val):\n",
    "            print((j, i-1))\n",
    "            flag = 1\n",
    "            break\n",
    "    if flag == 1:\n",
    "        break\n",
    "if flag==0:\n",
    "    print(())"
   ]
  },
  {
   "cell_type": "code",
   "execution_count": 124,
   "metadata": {},
   "outputs": [
    {
     "data": {
      "text/plain": [
       "-3"
      ]
     },
     "execution_count": 124,
     "metadata": {},
     "output_type": "execute_result"
    }
   ],
   "source": [
    "s = -300\n",
    "s = int(int(((abs(s).__str__())[::-1]))*s/abs(s))\n",
    "s"
   ]
  },
  {
   "cell_type": "code",
   "execution_count": 131,
   "metadata": {},
   "outputs": [
    {
     "name": "stdout",
     "output_type": "stream",
     "text": [
      "False\n"
     ]
    }
   ],
   "source": [
    "a = 'ntcn'\n",
    "a = list(a)\n",
    "flag = 1\n",
    "for i in range(int(len(a)/2)):\n",
    "    if a[i] != a[len(a)-i-1]:\n",
    "        flag = 0\n",
    "\n",
    "if flag:\n",
    "    print(True)\n",
    "else:\n",
    "    print(False)"
   ]
  },
  {
   "cell_type": "code",
   "execution_count": 269,
   "metadata": {},
   "outputs": [],
   "source": [
    "A = [[2, 2, 3, 434], [4, 5, 34, 7], [7, 8, 34, 10], [10, 341, 12, 13]]\n",
    "A = [1]\n"
   ]
  },
  {
   "cell_type": "code",
   "execution_count": 270,
   "metadata": {},
   "outputs": [
    {
     "ename": "TypeError",
     "evalue": "object of type 'int' has no len()",
     "output_type": "error",
     "traceback": [
      "\u001b[0;31m---------------------------------------------------------------------------\u001b[0m",
      "\u001b[0;31mTypeError\u001b[0m                                 Traceback (most recent call last)",
      "\u001b[0;32m<ipython-input-270-ea94c201aabb>\u001b[0m in \u001b[0;36m<module>\u001b[0;34m\u001b[0m\n\u001b[1;32m      1\u001b[0m \u001b[0mn\u001b[0m \u001b[0;34m=\u001b[0m \u001b[0mlen\u001b[0m\u001b[0;34m(\u001b[0m\u001b[0mA\u001b[0m\u001b[0;34m)\u001b[0m\u001b[0;34m\u001b[0m\u001b[0;34m\u001b[0m\u001b[0m\n\u001b[0;32m----> 2\u001b[0;31m \u001b[0mm\u001b[0m \u001b[0;34m=\u001b[0m \u001b[0mlen\u001b[0m\u001b[0;34m(\u001b[0m\u001b[0mA\u001b[0m\u001b[0;34m[\u001b[0m\u001b[0;36m0\u001b[0m\u001b[0;34m]\u001b[0m\u001b[0;34m)\u001b[0m\u001b[0;34m\u001b[0m\u001b[0;34m\u001b[0m\u001b[0m\n\u001b[0m\u001b[1;32m      3\u001b[0m \u001b[0;32mif\u001b[0m \u001b[0mn\u001b[0m\u001b[0;34m!=\u001b[0m\u001b[0mm\u001b[0m\u001b[0;34m:\u001b[0m\u001b[0;34m\u001b[0m\u001b[0;34m\u001b[0m\u001b[0m\n\u001b[1;32m      4\u001b[0m     \u001b[0mprint\u001b[0m\u001b[0;34m(\u001b[0m\u001b[0;34m\"Nun\"\u001b[0m\u001b[0;34m)\u001b[0m\u001b[0;34m\u001b[0m\u001b[0;34m\u001b[0m\u001b[0m\n\u001b[1;32m      5\u001b[0m \u001b[0;32melse\u001b[0m\u001b[0;34m:\u001b[0m\u001b[0;34m\u001b[0m\u001b[0;34m\u001b[0m\u001b[0m\n",
      "\u001b[0;31mTypeError\u001b[0m: object of type 'int' has no len()"
     ]
    }
   ],
   "source": [
    "n = len(A)\n",
    "m = len(A[0])\n",
    "if n!=m:\n",
    "    print(\"Nun\")\n",
    "else:\n",
    "    for i in range(n): #номер шага и номер вычитаемой строки\n",
    "        for j in range(n-1, i, -1):  #номер строки n-1..0\n",
    "            if A[i][i]!=0:\n",
    "                koeff = (A[j][i]/A[i][i])\n",
    "            else:\n",
    "                koeff = 0\n",
    "            for k in range(n):   #индексы в j строке\n",
    "                A[j][k] = A[j][k] - koeff * A[i][k]\n",
    "    det = 1\n",
    "    if n==1:\n",
    "        det = A[0]\n",
    "    else:\n",
    "        for i in range(n):\n",
    "            det*=A[i][i]\n",
    "    print(det)"
   ]
  },
  {
   "cell_type": "code",
   "execution_count": 264,
   "metadata": {},
   "outputs": [
    {
     "data": {
      "text/plain": [
       "[[1], [2]]"
      ]
     },
     "execution_count": 264,
     "metadata": {},
     "output_type": "execute_result"
    }
   ],
   "source": [
    "A"
   ]
  },
  {
   "cell_type": "code",
   "execution_count": null,
   "metadata": {},
   "outputs": [],
   "source": []
  }
 ],
 "metadata": {
  "kernelspec": {
   "display_name": "Python 3",
   "language": "python",
   "name": "python3"
  },
  "language_info": {
   "codemirror_mode": {
    "name": "ipython",
    "version": 3
   },
   "file_extension": ".py",
   "mimetype": "text/x-python",
   "name": "python",
   "nbconvert_exporter": "python",
   "pygments_lexer": "ipython3",
   "version": "3.7.3"
  }
 },
 "nbformat": 4,
 "nbformat_minor": 2
}
