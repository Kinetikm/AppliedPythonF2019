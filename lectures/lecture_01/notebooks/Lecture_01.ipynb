{
 "cells": [
  {
   "cell_type": "markdown",
   "metadata": {},
   "source": [
    "# Типы данных в Python\n",
    "## Числа"
   ]
  },
  {
   "cell_type": "code",
   "execution_count": null,
   "metadata": {
    "ExecuteTime": {
     "end_time": "2019-02-28T13:09:39.919622Z",
     "start_time": "2019-02-28T13:09:39.909718Z"
    }
   },
   "outputs": [],
   "source": [
    "a = 5\n",
    "b = 5.0\n",
    "print(\"Type of a is {}\".format(type(a)))\n",
    "print(\"Type of b is {}\".format(type(b)))"
   ]
  },
  {
   "cell_type": "code",
   "execution_count": null,
   "metadata": {
    "ExecuteTime": {
     "end_time": "2019-02-28T13:09:39.930492Z",
     "start_time": "2019-02-28T13:09:39.922265Z"
    }
   },
   "outputs": [],
   "source": [
    "#Числа можно складывать!\n",
    "c_1 = 5 + 6\n",
    "c_2 = a + 7\n",
    "c_3 = b + 8\n",
    "print(c_1, c_2, c_3)"
   ]
  },
  {
   "cell_type": "code",
   "execution_count": null,
   "metadata": {
    "ExecuteTime": {
     "end_time": "2019-02-28T13:09:39.942529Z",
     "start_time": "2019-02-28T13:09:39.932981Z"
    }
   },
   "outputs": [],
   "source": [
    "#Числа можно вычитать!\n",
    "c_1 = 6 - 8\n",
    "c_2 = a - 10\n",
    "c_3 = 546 - b\n",
    "print(c_1, c_2, c_3)"
   ]
  },
  {
   "cell_type": "code",
   "execution_count": null,
   "metadata": {
    "ExecuteTime": {
     "end_time": "2019-02-28T13:09:39.958540Z",
     "start_time": "2019-02-28T13:09:39.945919Z"
    }
   },
   "outputs": [],
   "source": [
    "#Числа можно умножать и возводить в степень!\n",
    "c_1 = 6 ** 2\n",
    "c_2 = a * 6\n",
    "c_3 = b * 7\n",
    "print(c_1, c_2, c_3)"
   ]
  },
  {
   "cell_type": "code",
   "execution_count": null,
   "metadata": {
    "ExecuteTime": {
     "end_time": "2019-02-28T13:09:39.971060Z",
     "start_time": "2019-02-28T13:09:39.961970Z"
    }
   },
   "outputs": [],
   "source": [
    "#Числа можно делить, брать остаток и целую часть!\n",
    "c_1 = 7 / 2\n",
    "c_2 = 7 // 2\n",
    "c_3 = 7 % 2\n",
    "print(c_1, c_2, c_3)"
   ]
  },
  {
   "cell_type": "markdown",
   "metadata": {},
   "source": [
    "### Проверим можем ли мы что-то делать с числами"
   ]
  },
  {
   "cell_type": "code",
   "execution_count": null,
   "metadata": {
    "ExecuteTime": {
     "end_time": "2019-02-28T13:09:39.986002Z",
     "start_time": "2019-02-28T13:09:39.973514Z"
    }
   },
   "outputs": [],
   "source": [
    "def if_then_else_calculator(a, b, operator):\n",
    "    #TODO создадим простой калькулятор, который принимает a, b - числа (проверять не нужно!)\n",
    "    #и operator в виде строки \"plus\", \"minus\", \"divide\", \"mult\", \"pow\"\n",
    "    if operator == \"plus\":\n",
    "        return 0\n",
    "    if operator == \"minus\":\n",
    "        return 0\n",
    "    if operator == \"divide\":\n",
    "        return 0\n",
    "    if operator == \"mult\":\n",
    "        return 0\n",
    "    if operator == \"pow\":\n",
    "        return 0\n",
    "    raise ValueError(\"Bad operator call\")"
   ]
  },
  {
   "cell_type": "code",
   "execution_count": null,
   "metadata": {
    "ExecuteTime": {
     "end_time": "2019-02-28T13:09:40.062896Z",
     "start_time": "2019-02-28T13:09:39.988516Z"
    }
   },
   "outputs": [],
   "source": [
    "assert if_then_else_calculator(5, 877777777777777777777, \"plus\") == 877777777777777777782\n",
    "assert if_then_else_calculator(3467, 4987., \"plus\") == 8454.\n",
    "assert if_then_else_calculator(1000, 100, 'minus') == 900\n",
    "assert if_then_else_calculator(1000., 2000, 'minus') == -1000\n",
    "assert if_then_else_calculator(0., 100., 'minus') == -100\n",
    "assert if_then_else_calculator(1000, 100, 'mult') == 100000\n",
    "assert if_then_else_calculator(-2., 100, 'mult') == -200.\n",
    "assert if_then_else_calculator(-15., -2, 'mult') == 30.\n",
    "assert if_then_else_calculator(0., 100., 'mult') == 0.\n",
    "assert if_then_else_calculator(15, 3, 'divide') == 5\n",
    "assert if_then_else_calculator(7., 2., 'divide') == 3.5\n",
    "assert if_then_else_calculator(15, 3, 'pow') == 3375\n",
    "assert if_then_else_calculator(7., 2., 'pow') == 49."
   ]
  },
  {
   "cell_type": "markdown",
   "metadata": {},
   "source": [
    "## Строки\n",
    "Строки - это тоже объект! Они неизменяемы. Создать строку можно окружив её одинарными, двойными или тройными кавычками. Перенос строки осуществляется символом \\. Подумайте почему таким? Это экранирующий символ, что он экранирует?"
   ]
  },
  {
   "cell_type": "code",
   "execution_count": null,
   "metadata": {
    "ExecuteTime": {
     "end_time": "2019-02-28T13:09:51.286426Z",
     "start_time": "2019-02-28T13:09:51.275381Z"
    }
   },
   "outputs": [],
   "source": [
    "s_1 = 'Строка 1 с одинарными кавычками'\n",
    "s_2 = 'Строка 2 с одинарными кавычками \\\n",
    "и переносом'\n",
    "s_3 = \"Строка 3 с двойными кавычками\"\n",
    "s_4 = \"Строка 4 с двойнми кавычками \\\n",
    "и переносом\"\n",
    "s_5 = '''Строка 5 с тройными кавычками'''\n",
    "s_6 = '''Строка 6 с тройными кавычками\n",
    "и переносом, как видите при тройных кавычках знак переноса не нужен'''\n",
    "s_7 = '''Строка 7 с \"текстом в кавычках\"'''\n",
    "for i in range(1, 8):\n",
    "    print(globals()[\"s_\" + str(i)])"
   ]
  },
  {
   "cell_type": "code",
   "execution_count": null,
   "metadata": {
    "ExecuteTime": {
     "end_time": "2019-02-28T13:09:51.297826Z",
     "start_time": "2019-02-28T13:09:51.288924Z"
    }
   },
   "outputs": [],
   "source": [
    "#Можно обратиться к символам строки, можно запросить длину строки\n",
    "s = \"Тестовая строка для длины\"\n",
    "print(\"Длины строки %d\" % len(s))\n",
    "print(\"Первый символ строки %s\" % s[0])"
   ]
  },
  {
   "cell_type": "code",
   "execution_count": null,
   "metadata": {
    "ExecuteTime": {
     "end_time": "2019-02-28T13:09:51.312576Z",
     "start_time": "2019-02-28T13:09:51.300794Z"
    }
   },
   "outputs": [],
   "source": [
    "#В строках можно заменять определенные символы\n",
    "s = \"Строка пример\"\n",
    "s = s.replace(\"и\", 'ИИИИИИИИИИИ')\n",
    "print(s)"
   ]
  },
  {
   "cell_type": "code",
   "execution_count": null,
   "metadata": {
    "ExecuteTime": {
     "end_time": "2019-02-28T13:09:51.324320Z",
     "start_time": "2019-02-28T13:09:51.315128Z"
    }
   },
   "outputs": [],
   "source": [
    "#Строки можно разбивать по случайному символу\n",
    "s = \"Строка\\irкриворукого\\irкриворука\"\n",
    "print(s.split(\"\\ir\"))"
   ]
  },
  {
   "cell_type": "code",
   "execution_count": null,
   "metadata": {
    "ExecuteTime": {
     "end_time": "2019-02-28T13:09:51.341233Z",
     "start_time": "2019-02-28T13:09:51.326851Z"
    }
   },
   "outputs": [],
   "source": [
    "#У строк можно убирать незначащие символы с начала и конца строки\n",
    "s = \"    Строка с пробелами и табуляциями в начале и конце \\t\"\n",
    "print(s)\n",
    "print(s.strip())\n",
    "s = \"ааааааа СТрока с какими-то символами в начале и в конце ааааааааа\"\n",
    "print(s)\n",
    "print(s.strip(\"а\"))"
   ]
  },
  {
   "cell_type": "code",
   "execution_count": null,
   "metadata": {
    "ExecuteTime": {
     "end_time": "2019-02-28T13:09:51.353157Z",
     "start_time": "2019-02-28T13:09:51.343659Z"
    }
   },
   "outputs": [],
   "source": [
    "#Строки можно переводить из нижнего регистра в верхний, из верхнего в нижний\n",
    "#Можно приводить к формату - заглавная первая буква\n",
    "s = \"строка нижним регистром\"\n",
    "print(s.upper())\n",
    "print(s.capitalize())\n",
    "s = \"КаПс СтРанНая СТРОКА\"\n",
    "print(s.lower())\n",
    "print(s.capitalize())"
   ]
  },
  {
   "cell_type": "code",
   "execution_count": null,
   "metadata": {
    "ExecuteTime": {
     "end_time": "2019-02-28T13:09:51.370045Z",
     "start_time": "2019-02-28T13:09:51.354914Z"
    }
   },
   "outputs": [],
   "source": [
    "#Строки можно инвертировать\n",
    "s = \"Привет\"\n",
    "print(s)\n",
    "print(s[::-1])"
   ]
  },
  {
   "cell_type": "code",
   "execution_count": null,
   "metadata": {
    "ExecuteTime": {
     "end_time": "2019-02-28T13:09:51.387609Z",
     "start_time": "2019-02-28T13:09:51.371672Z"
    }
   },
   "outputs": [],
   "source": [
    "#Можно проверять содежимое строки\n",
    "s = \"12\"\n",
    "print(s.isdigit())\n",
    "print(s.isdecimal())\n",
    "print(s.isspace())\n",
    "print(s.islower())"
   ]
  },
  {
   "cell_type": "code",
   "execution_count": null,
   "metadata": {
    "ExecuteTime": {
     "end_time": "2019-02-28T13:09:51.404670Z",
     "start_time": "2019-02-28T13:09:51.390585Z"
    }
   },
   "outputs": [],
   "source": [
    "#Можно складывать строки!\n",
    "s = \"строка один\"\n",
    "print(s + \"\\t\" + \"прибавка с табу\")\n",
    "s_2 = \"строка два\"\n",
    "print(s + \"\\t|\\t\" + s_2)\n",
    "#Можно строки превращать в числа (MAGIC)\n",
    "s = \"12.5\"\n",
    "print(s.isdigit())\n",
    "print(float(s))\n",
    "s = \"12\"\n",
    "print(s.isdigit())\n",
    "print(int(s))\n",
    "print(float(s))"
   ]
  },
  {
   "cell_type": "markdown",
   "metadata": {},
   "source": [
    "## Проверим можем ли мы что-то делать со строками"
   ]
  },
  {
   "cell_type": "code",
   "execution_count": null,
   "metadata": {
    "ExecuteTime": {
     "end_time": "2019-02-28T13:09:51.414599Z",
     "start_time": "2019-02-28T13:09:51.406791Z"
    }
   },
   "outputs": [],
   "source": [
    "def string_normalizer(input_str):\n",
    "    #TODO Привести строку в вид: Заглавная первая буква, отсутствие лишних пробелов \n",
    "    return input_str"
   ]
  },
  {
   "cell_type": "code",
   "execution_count": null,
   "metadata": {
    "ExecuteTime": {
     "end_time": "2019-02-28T13:09:51.434714Z",
     "start_time": "2019-02-28T13:09:51.416401Z"
    }
   },
   "outputs": [],
   "source": [
    "assert string_normalizer(\"просто строка\") == \"Просто строка\"\n",
    "assert string_normalizer(\"         пробелы  вперели       \") == \"Пробелы  вперели\"\n",
    "assert string_normalizer(\"Нормальная строка\") == \"Нормальная строка\"\n",
    "assert string_normalizer(\"\\tну и табы\\t\") == \"Ну и табы\""
   ]
  },
  {
   "cell_type": "markdown",
   "metadata": {},
   "source": [
    "## Массивы\n",
    "\n",
    "Массивов в python как таковых нет. Есть понятие списка, у которого под капотом лежит динамический массив. Соответственно сложность операций: вставка в конец O(1); вставка в середину O(n); выталкивание O(1); удаление O(n).\n",
    "\n",
    "У массивов есть определенный набор методов. Рассмотрим их ниже"
   ]
  },
  {
   "cell_type": "code",
   "execution_count": null,
   "metadata": {
    "ExecuteTime": {
     "end_time": "2019-02-28T13:10:08.201391Z",
     "start_time": "2019-02-28T13:10:08.191342Z"
    }
   },
   "outputs": [],
   "source": [
    "#Список можно создать множеством способов, вот некоторые из них\n",
    "a = []\n",
    "a = list()\n",
    "a = [1, 2, 'яблоко']\n",
    "a = [i for i in range(10)]\n",
    "a = [[i for i in range(10)] for _ in range(5)]\n",
    "a = [0] * 5"
   ]
  },
  {
   "cell_type": "code",
   "execution_count": null,
   "metadata": {
    "ExecuteTime": {
     "end_time": "2019-02-28T13:10:08.214497Z",
     "start_time": "2019-02-28T13:10:08.206224Z"
    }
   },
   "outputs": [],
   "source": [
    "#Вывести массив можно по-разному, как через print, так и преобразовав его\n",
    "a = [3, 4, 5]\n",
    "print(len(a))\n",
    "print(a)\n",
    "print(\" \".join(str(i) for i in a))"
   ]
  },
  {
   "cell_type": "code",
   "execution_count": null,
   "metadata": {
    "ExecuteTime": {
     "end_time": "2019-02-28T13:10:08.230021Z",
     "start_time": "2019-02-28T13:10:08.217267Z"
    }
   },
   "outputs": [],
   "source": [
    "#Можно делать срезы списка, указывает list[a:b:c] a-первый индекс, b-последний индекс не включая, c-шаг\n",
    "a = [i for i in range(10)]\n",
    "print(a)\n",
    "print(a[0:4])\n",
    "print(a[::2])\n",
    "print(a[::-1])"
   ]
  },
  {
   "cell_type": "code",
   "execution_count": 7,
   "metadata": {
    "scrolled": true
   },
   "outputs": [
    {
     "data": {
      "text/plain": [
       "11"
      ]
     },
     "execution_count": 7,
     "metadata": {},
     "output_type": "execute_result"
    }
   ],
   "source": [
    "len((['П', 'р', 'и', 'в', 'е', 'т', ' ', 'д', 'р', 'у', 'г']))"
   ]
  },
  {
   "cell_type": "code",
   "execution_count": null,
   "metadata": {
    "ExecuteTime": {
     "end_time": "2019-02-28T13:10:08.243788Z",
     "start_time": "2019-02-28T13:10:08.232549Z"
    }
   },
   "outputs": [],
   "source": [
    "#К списку можно добавлять элементы, как в конец так и вставлять в середину\n",
    "a = []\n",
    "a.append(0)\n",
    "a.append(\"строка\")\n",
    "a.append(False)\n",
    "a.insert(1, 0.)\n",
    "a.append(lambda x: string_normalizer(x))\n",
    "print(a)\n",
    "print(a[4](\"   строка для нормализации\"))"
   ]
  },
  {
   "cell_type": "code",
   "execution_count": null,
   "metadata": {
    "ExecuteTime": {
     "end_time": "2019-02-28T13:10:08.258276Z",
     "start_time": "2019-02-28T13:10:08.246201Z"
    }
   },
   "outputs": [],
   "source": [
    "#Элементы списка можно удалять, переопределять\n",
    "a = [0., 1.2, 3.4, \"строка\"]\n",
    "print(a)\n",
    "a.remove(1.2)\n",
    "print(a)\n",
    "a[2] = \"новое значение\"\n",
    "print(a)"
   ]
  },
  {
   "cell_type": "code",
   "execution_count": null,
   "metadata": {
    "ExecuteTime": {
     "end_time": "2019-02-28T13:10:08.276273Z",
     "start_time": "2019-02-28T13:10:08.260382Z"
    }
   },
   "outputs": [],
   "source": [
    "#Можно сортировать список по ключу, искать индекс элемента по значению\n",
    "a = [i for i in range(10)]\n",
    "print(a)\n",
    "a.reverse()\n",
    "print(a)\n",
    "a.sort()\n",
    "print(a)"
   ]
  },
  {
   "cell_type": "code",
   "execution_count": null,
   "metadata": {
    "ExecuteTime": {
     "end_time": "2019-02-28T13:10:08.309815Z",
     "start_time": "2019-02-28T13:10:08.278801Z"
    }
   },
   "outputs": [],
   "source": [
    "#Копирование списков!\n",
    "a = [1, 2, 3]\n",
    "b = a\n",
    "a[0]=100000000\n",
    "print(a)\n",
    "print(b)\n",
    "\n",
    "b = a[::] #аналогично вызову a.copy()\n",
    "a[0] = -1\n",
    "print(a)\n",
    "print(b)\n",
    "\n",
    "a = [1, 2, [3, 4]]\n",
    "b = a[::] \n",
    "a[2][0] = -1\n",
    "print(a)\n",
    "print(b)\n",
    "\n",
    "import copy\n",
    "b = copy.deepcopy(a)\n",
    "a[2][1] = -1000\n",
    "print(a)\n",
    "print(b)"
   ]
  },
  {
   "cell_type": "code",
   "execution_count": null,
   "metadata": {
    "ExecuteTime": {
     "end_time": "2019-02-28T13:10:08.321335Z",
     "start_time": "2019-02-28T13:10:08.312173Z"
    }
   },
   "outputs": [],
   "source": [
    "#Очистка списка\n",
    "a = [0, 1, 2, 3]\n",
    "print(a)\n",
    "a.clear()\n",
    "print(a)"
   ]
  },
  {
   "cell_type": "markdown",
   "metadata": {},
   "source": [
    "### Проверим умеем ли мы что-то делать со списками"
   ]
  },
  {
   "cell_type": "code",
   "execution_count": null,
   "metadata": {
    "ExecuteTime": {
     "end_time": "2019-02-28T13:10:08.335907Z",
     "start_time": "2019-02-28T13:10:08.322831Z"
    }
   },
   "outputs": [],
   "source": [
    "def list_calculator(a, operation, b=[]):\n",
    "    '''\n",
    "    :param a: список\n",
    "    :param operation: операция над массивом\n",
    "    :param b: опциональный параметр - список\n",
    "    :return преобразованный массив\n",
    "    Если operation \"revert\" возвращаться должен инвертированный массив a\n",
    "    operation == \"sum_ar\" должен возвращаться массив - результат сложения массивов a и b\n",
    "    operation == \"append\" должен возвращаться массив - результат добавления массива b к массиву a\n",
    "    operation == \"insert\" должен возвращаться массив с массивом b на 0 позиции массива a\n",
    "    '''\n",
    "    if operation == \"revert\":\n",
    "        return 0\n",
    "    if operation == \"sum_ar\":\n",
    "        return 0\n",
    "    if operation == \"append\":\n",
    "        return 0\n",
    "    if operation == \"insert\":\n",
    "        return 0\n",
    "    return a"
   ]
  },
  {
   "cell_type": "code",
   "execution_count": null,
   "metadata": {
    "ExecuteTime": {
     "end_time": "2019-02-28T13:10:08.360803Z",
     "start_time": "2019-02-28T13:10:08.337941Z"
    }
   },
   "outputs": [],
   "source": [
    "assert list_calculator([0, 1, 2], \"revert\") == [2, 1, 0]\n",
    "assert list_calculator([-3], \"revert\") == [-3]\n",
    "assert list_calculator([0, 1], \"append\", [3, 4]) == [0, 1, [3, 4]]\n",
    "assert list_calculator([0, 100, -34], \"append\", [0]) == [0, 100, -34, [0]]\n",
    "assert list_calculator([0, -10, -4], \"append\") == [0, -10, -4, []]\n",
    "assert list_calculator([10], \"sum_ar\") == [10]\n",
    "assert list_calculator([10, -2], \"sum_ar\", [0, -2]) == [10, -2, 0, -2]\n",
    "assert list_calculator([100, 200], \"insert\") == [[], 100, 200]\n",
    "assert list_calculator([-3, 400], \"insert\", [-45, 12]) == [[-45, 12], -3, 400]"
   ]
  },
  {
   "cell_type": "markdown",
   "metadata": {},
   "source": [
    "## Кортежи (tuple)\n",
    "\n",
    "Неизменемые упорядоченные значения"
   ]
  },
  {
   "cell_type": "code",
   "execution_count": null,
   "metadata": {
    "ExecuteTime": {
     "end_time": "2019-02-28T13:10:17.708828Z",
     "start_time": "2019-02-28T13:10:17.700476Z"
    }
   },
   "outputs": [],
   "source": [
    "a = tuple()\n",
    "print(a)\n",
    "a = (1, 2)\n",
    "print(a)"
   ]
  },
  {
   "cell_type": "code",
   "execution_count": null,
   "metadata": {
    "ExecuteTime": {
     "end_time": "2019-02-28T13:10:17.721075Z",
     "start_time": "2019-02-28T13:10:17.710911Z"
    }
   },
   "outputs": [],
   "source": [
    "#С кортежами работают все методы списков, которые не изменяют содержимое\n",
    "a = (1, 2, 3)\n",
    "print(a[0], a[2])\n",
    "print(len(a))"
   ]
  },
  {
   "cell_type": "code",
   "execution_count": null,
   "metadata": {
    "ExecuteTime": {
     "end_time": "2019-02-28T13:10:17.732023Z",
     "start_time": "2019-02-28T13:10:17.722984Z"
    }
   },
   "outputs": [],
   "source": [
    "#Например, аналогично спискам можем посчитать встречаемость объекта или индекс первого появления объекта\n",
    "t = (1, 2, 4, 1, 3, 2, 1)\n",
    "print(t.count(1))\n",
    "print(t.index(2))"
   ]
  },
  {
   "cell_type": "code",
   "execution_count": null,
   "metadata": {
    "ExecuteTime": {
     "end_time": "2019-02-28T13:10:17.742753Z",
     "start_time": "2019-02-28T13:10:17.734094Z"
    }
   },
   "outputs": [],
   "source": [
    "#Легендарный питоновский swap переменных\n",
    "a = 3\n",
    "b = 5\n",
    "a, b = b, a\n",
    "print(a)\n",
    "print(b)"
   ]
  },
  {
   "cell_type": "markdown",
   "metadata": {},
   "source": [
    "## Словарь (dict)\n",
    "\n",
    "Словарь - это пары неизменяемый ключ и значение"
   ]
  },
  {
   "cell_type": "code",
   "execution_count": null,
   "metadata": {
    "ExecuteTime": {
     "end_time": "2019-02-28T13:10:17.758578Z",
     "start_time": "2019-02-28T13:10:17.744356Z"
    }
   },
   "outputs": [],
   "source": [
    "#Создадим словарь\n",
    "d = dict(key=\"value\")\n",
    "d = {\"key\": \"value\"}\n",
    "d = dict([(\"key_1\", \"value_1\"), (\"key_2\", \"value_2\")])\n",
    "d = dict.fromkeys(['key_1', 'key_2'], \"value\")"
   ]
  },
  {
   "cell_type": "code",
   "execution_count": null,
   "metadata": {
    "ExecuteTime": {
     "end_time": "2019-02-28T13:10:17.769835Z",
     "start_time": "2019-02-28T13:10:17.760490Z"
    }
   },
   "outputs": [],
   "source": [
    "d = {} # = dict()\n",
    "d['one'] = 1\n",
    "d['oone'] = 2"
   ]
  },
  {
   "cell_type": "code",
   "execution_count": null,
   "metadata": {
    "ExecuteTime": {
     "end_time": "2019-02-28T13:10:17.787053Z",
     "start_time": "2019-02-28T13:10:17.771474Z"
    }
   },
   "outputs": [],
   "source": [
    "#Посмотрим на ключи, значения и пары ключ-значение. Позднее мы научимся итерироваться по ним\n",
    "d = {\"key_\" + str(i):\"value\" for i in range(10)}\n",
    "print(d.keys())\n",
    "print(d.values())\n",
    "print(d.items())"
   ]
  },
  {
   "cell_type": "code",
   "execution_count": null,
   "metadata": {
    "ExecuteTime": {
     "end_time": "2019-02-28T13:10:17.797816Z",
     "start_time": "2019-02-28T13:10:17.788725Z"
    }
   },
   "outputs": [],
   "source": [
    "print( type(d.keys()), type(d.values()), type(d.items()) )"
   ]
  },
  {
   "cell_type": "code",
   "execution_count": null,
   "metadata": {
    "ExecuteTime": {
     "end_time": "2019-02-28T13:10:17.814752Z",
     "start_time": "2019-02-28T13:10:17.799721Z"
    }
   },
   "outputs": [],
   "source": [
    "#Если запросить ключ, который не лежит в мапе через d[], то вылетит ошибка. Лучше использовать get(key, \"default_value\")\n",
    "print(d.get(\"no_key\", \"value_non\"))\n",
    "print(d['key_1'])\n",
    "d['key_1'] = 'new_value'\n",
    "print(d['key_1'])"
   ]
  },
  {
   "cell_type": "code",
   "execution_count": null,
   "metadata": {
    "ExecuteTime": {
     "end_time": "2019-02-28T13:10:17.825265Z",
     "start_time": "2019-02-28T13:10:17.816487Z"
    }
   },
   "outputs": [],
   "source": [
    "#Бывает нужно \"слить\" два словаря. Можно это сделать по-разному\n",
    "d_1 = {\"key_1\":\"value_1\"}\n",
    "d_2 = {\"key_2\":\"value_2\"}\n",
    "d = dict(d_1, **d_2)\n",
    "d = {**d_1, **d_2}"
   ]
  },
  {
   "cell_type": "code",
   "execution_count": null,
   "metadata": {
    "ExecuteTime": {
     "end_time": "2019-02-28T13:10:17.861442Z",
     "start_time": "2019-02-28T13:10:17.827198Z"
    }
   },
   "outputs": [],
   "source": [
    "d"
   ]
  },
  {
   "cell_type": "code",
   "execution_count": null,
   "metadata": {
    "ExecuteTime": {
     "end_time": "2019-02-28T13:10:17.873095Z",
     "start_time": "2019-02-28T13:10:17.866984Z"
    }
   },
   "outputs": [],
   "source": [
    "d_1.update(d_2)\n",
    "d_1"
   ]
  },
  {
   "cell_type": "code",
   "execution_count": null,
   "metadata": {
    "ExecuteTime": {
     "end_time": "2019-02-28T13:10:17.881564Z",
     "start_time": "2019-02-28T13:10:17.875901Z"
    }
   },
   "outputs": [],
   "source": [
    "del d_1['key_1'] # удаляем элемент из словаря"
   ]
  },
  {
   "cell_type": "code",
   "execution_count": null,
   "metadata": {
    "ExecuteTime": {
     "end_time": "2019-02-28T13:10:17.896860Z",
     "start_time": "2019-02-28T13:10:17.883283Z"
    }
   },
   "outputs": [],
   "source": [
    "d_1"
   ]
  },
  {
   "cell_type": "markdown",
   "metadata": {},
   "source": [
    "## Множества (set)\n",
    "\n",
    "Множества реализованы как хеш-таблицы с заглушками вместо элементов-значений. "
   ]
  },
  {
   "cell_type": "code",
   "execution_count": null,
   "metadata": {
    "ExecuteTime": {
     "end_time": "2019-02-28T13:10:17.907942Z",
     "start_time": "2019-02-28T13:10:17.899070Z"
    }
   },
   "outputs": [],
   "source": [
    "#Создадим несколько множеств\n",
    "a = set('hello')\n",
    "print(a)\n",
    "a = set([\"k_1\", \"k_1\", \"k_1\", \"k_2\"])\n",
    "print(a)"
   ]
  },
  {
   "cell_type": "code",
   "execution_count": null,
   "metadata": {
    "ExecuteTime": {
     "end_time": "2019-02-28T13:10:17.927899Z",
     "start_time": "2019-02-28T13:10:17.910646Z"
    }
   },
   "outputs": [],
   "source": [
    "#В множество можно добавлять элементы и удалять их оттуда\n",
    "a = set(\"technoatom\")\n",
    "print(a)\n",
    "a.add(\"t\")\n",
    "print(a)\n",
    "a.add(\"y\")\n",
    "print(a)\n",
    "a.remove(\"e\")\n",
    "print(a)\n",
    "\n",
    "try:\n",
    "    a.remove(\"z\")\n",
    "except KeyError:\n",
    "    print(\"Ошибка\")\n",
    "    \n",
    "try:\n",
    "    a.discard(\"z\") # удаляем элемент если он существует\n",
    "    print(\"Нет ошибки\")\n",
    "except KeyError:\n",
    "    print(\"Ошибка\")"
   ]
  },
  {
   "cell_type": "code",
   "execution_count": null,
   "metadata": {
    "ExecuteTime": {
     "end_time": "2019-02-28T13:10:17.951085Z",
     "start_time": "2019-02-28T13:10:17.931552Z"
    }
   },
   "outputs": [],
   "source": [
    "#Над множествами работают все теоретико-множественные операции\n",
    "a = set(\"technoatom\")\n",
    "b = set(\"tehello\")\n",
    "print(a, b)\n",
    "#Объединение\n",
    "print(a.union(b))\n",
    "#Пересечение\n",
    "print(a.intersection(b))\n",
    "#Проверка непересечения -True если нет общих элементов\n",
    "print(a.isdisjoint(b))\n",
    "#Вычитание\n",
    "print(a.difference(b))\n",
    "#Симметрическая разность\n",
    "print(a.symmetric_difference(b))\n",
    "#Проверка вхождения\n",
    "print(\"h\" in a)"
   ]
  },
  {
   "cell_type": "code",
   "execution_count": null,
   "metadata": {
    "ExecuteTime": {
     "end_time": "2019-02-28T13:10:17.964820Z",
     "start_time": "2019-02-28T13:10:17.953504Z"
    }
   },
   "outputs": [],
   "source": [
    "# Сравним set с list в случае, если нам нужно проводить проверку наличия в ограниченном списке большого числа элементов\n",
    "num_list = [i for i in range(10000)]\n",
    "num_set = set([i for i in range(10000)])"
   ]
  },
  {
   "cell_type": "code",
   "execution_count": null,
   "metadata": {
    "ExecuteTime": {
     "end_time": "2019-02-28T13:10:17.998376Z",
     "start_time": "2019-02-28T13:10:17.966896Z"
    }
   },
   "outputs": [],
   "source": [
    "%%time # магическая команда, помогает измерить время выполнения кода в ячейке\n",
    "counter = 0\n",
    "for i in range(100000):\n",
    "    if i in num_set:\n",
    "        counter += 1"
   ]
  },
  {
   "cell_type": "code",
   "execution_count": null,
   "metadata": {
    "ExecuteTime": {
     "end_time": "2019-02-28T13:10:31.677651Z",
     "start_time": "2019-02-28T13:10:18.000298Z"
    }
   },
   "outputs": [],
   "source": [
    "%%time\n",
    "counter = 0\n",
    "for i in range(100000):\n",
    "    if i in num_list:\n",
    "        counter += 1"
   ]
  },
  {
   "cell_type": "markdown",
   "metadata": {},
   "source": [
    "# Управляющие структуры в Python"
   ]
  },
  {
   "cell_type": "markdown",
   "metadata": {},
   "source": [
    "## Условный оператор\n",
    "\n",
    "    Любое число, не равное 0, или непустой объект - истина.\n",
    "    Числа, равные 0, пустые объекты и значение None - ложь\n",
    "    Операции сравнения применяются к структурам данных рекурсивно\n",
    "    Операции сравнения возвращают True или False\n",
    "    Логические операторы and и or возвращают истинный или ложный объект-операнд"
   ]
  },
  {
   "cell_type": "code",
   "execution_count": null,
   "metadata": {
    "ExecuteTime": {
     "end_time": "2019-02-28T13:10:51.748117Z",
     "start_time": "2019-02-28T13:10:31.679762Z"
    }
   },
   "outputs": [],
   "source": [
    "a = input()\n",
    "if a.isdigit():\n",
    "    print(\"Digit detected\")\n",
    "elif a.islower():\n",
    "    print(\"Lowercase string detected\")\n",
    "else:\n",
    "    print(\"I do not know!\")"
   ]
  },
  {
   "cell_type": "code",
   "execution_count": null,
   "metadata": {
    "ExecuteTime": {
     "end_time": "2019-02-28T13:10:51.757556Z",
     "start_time": "2019-02-28T13:10:51.751910Z"
    }
   },
   "outputs": [],
   "source": [
    "a = True if 50 + 50 < 100 or \"собака\" else False\n",
    "print(a)"
   ]
  },
  {
   "cell_type": "markdown",
   "metadata": {},
   "source": [
    "## Циклы"
   ]
  },
  {
   "cell_type": "code",
   "execution_count": null,
   "metadata": {
    "ExecuteTime": {
     "end_time": "2019-02-28T13:10:51.770341Z",
     "start_time": "2019-02-28T13:10:51.759555Z"
    }
   },
   "outputs": [],
   "source": [
    "#простейший условный цикл\n",
    "i = 0\n",
    "while i < 3:\n",
    "    print(i) \n",
    "    i += 1\n",
    "    \n",
    "#Как сделать бесконечным???"
   ]
  },
  {
   "cell_type": "code",
   "execution_count": null,
   "metadata": {
    "ExecuteTime": {
     "end_time": "2019-02-28T13:10:51.785365Z",
     "start_time": "2019-02-28T13:10:51.772969Z"
    },
    "scrolled": true
   },
   "outputs": [],
   "source": [
    "#Простейший цикл for, по любому итератору/генератору/lazy sequence\n",
    "for let in \"word\":\n",
    "    print(let)\n",
    "print(\"по массиву\")\n",
    "for num in [0, 1, 2, 3]:\n",
    "    print(num)\n",
    "print(\"по lazy sequence\")\n",
    "for i in range(2, 8, 3):\n",
    "    print(i)"
   ]
  },
  {
   "cell_type": "markdown",
   "metadata": {},
   "source": [
    "### Проверим как у нас с циклами и условными операторами"
   ]
  },
  {
   "cell_type": "code",
   "execution_count": null,
   "metadata": {
    "ExecuteTime": {
     "end_time": "2019-02-28T13:10:51.795900Z",
     "start_time": "2019-02-28T13:10:51.789182Z"
    }
   },
   "outputs": [],
   "source": [
    "#TODO написать пример на continue"
   ]
  },
  {
   "cell_type": "code",
   "execution_count": null,
   "metadata": {
    "ExecuteTime": {
     "end_time": "2019-02-28T13:10:51.809809Z",
     "start_time": "2019-02-28T13:10:51.798110Z"
    }
   },
   "outputs": [],
   "source": [
    "#TODO написать пример на break"
   ]
  },
  {
   "cell_type": "markdown",
   "metadata": {},
   "source": [
    "# Функции и классы"
   ]
  },
  {
   "cell_type": "code",
   "execution_count": null,
   "metadata": {
    "ExecuteTime": {
     "end_time": "2019-02-28T13:10:51.822313Z",
     "start_time": "2019-02-28T13:10:51.813492Z"
    }
   },
   "outputs": [],
   "source": [
    "def somename(a=2, b=3):\n",
    "    return a + b"
   ]
  },
  {
   "cell_type": "code",
   "execution_count": null,
   "metadata": {
    "ExecuteTime": {
     "end_time": "2019-02-28T13:10:51.837622Z",
     "start_time": "2019-02-28T13:10:51.824760Z"
    },
    "scrolled": true
   },
   "outputs": [],
   "source": [
    "somename(4)"
   ]
  },
  {
   "cell_type": "code",
   "execution_count": null,
   "metadata": {
    "ExecuteTime": {
     "end_time": "2019-02-28T13:10:51.844997Z",
     "start_time": "2019-02-28T13:10:51.839784Z"
    },
    "scrolled": true
   },
   "outputs": [],
   "source": [
    "#Проверим видимы ли переменные функции вне контекста её исполнения?\n",
    "print(a)"
   ]
  },
  {
   "cell_type": "code",
   "execution_count": null,
   "metadata": {
    "ExecuteTime": {
     "end_time": "2019-02-28T13:34:57.539247Z",
     "start_time": "2019-02-28T13:34:57.518219Z"
    }
   },
   "outputs": [],
   "source": [
    "### TODO функция для поиска в списке заданного элемента\n",
    "# Печатает ок! если найдено, иначе печатает no ok!\n",
    "\n",
    "def search_in_container(container, el):\n",
    "    for i in container:\n",
    "        if i == el:\n",
    "            print('ok')\n",
    "            break\n",
    "    else:\n",
    "        print('no ok!')"
   ]
  },
  {
   "cell_type": "code",
   "execution_count": null,
   "metadata": {
    "ExecuteTime": {
     "end_time": "2019-02-28T13:34:57.671617Z",
     "start_time": "2019-02-28T13:34:57.667747Z"
    }
   },
   "outputs": [],
   "source": [
    "search_in_container([1,2,3,4,5], 9)"
   ]
  },
  {
   "cell_type": "code",
   "execution_count": null,
   "metadata": {
    "ExecuteTime": {
     "end_time": "2019-02-28T13:10:51.855728Z",
     "start_time": "2019-02-28T13:10:51.847234Z"
    }
   },
   "outputs": [],
   "source": [
    "#TODO Напишите функцию для расчета суммы арифметической прогрессии"
   ]
  },
  {
   "cell_type": "code",
   "execution_count": null,
   "metadata": {
    "ExecuteTime": {
     "end_time": "2019-02-28T13:10:51.872998Z",
     "start_time": "2019-02-28T13:10:51.858292Z"
    }
   },
   "outputs": [],
   "source": [
    "#TODO Напишите словарь-калькулятор (чтобы можно было вызвать dict['mult'](x, y, z))"
   ]
  }
 ],
 "metadata": {
  "kernelspec": {
   "display_name": "Python 3",
   "language": "python",
   "name": "python3"
  },
  "language_info": {
   "codemirror_mode": {
    "name": "ipython",
    "version": 3
   },
   "file_extension": ".py",
   "mimetype": "text/x-python",
   "name": "python",
   "nbconvert_exporter": "python",
   "pygments_lexer": "ipython3",
   "version": "3.7.1"
  }
 },
 "nbformat": 4,
 "nbformat_minor": 2
}
