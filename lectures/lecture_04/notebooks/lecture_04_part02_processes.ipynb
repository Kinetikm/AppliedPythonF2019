{
 "cells": [
  {
   "cell_type": "markdown",
   "metadata": {},
   "source": [
    "# Процессы"
   ]
  },
  {
   "cell_type": "code",
   "execution_count": 1,
   "metadata": {},
   "outputs": [],
   "source": [
    "import random\n",
    "import os\n",
    "import time\n",
    "import threading\n",
    "import multiprocessing\n",
    "import os"
   ]
  },
  {
   "cell_type": "code",
   "execution_count": 2,
   "metadata": {},
   "outputs": [],
   "source": [
    "# Типы задач\n",
    "def cpu_bound_task(n):\n",
    "    def fib(n):\n",
    "        if n == 0:\n",
    "            return 0\n",
    "        elif n == 1:\n",
    "            return 1\n",
    "        return fib(n-1) + fib(n-2)\n",
    "\n",
    "    print(f'{n} -> {fib(n)}')\n",
    "\n",
    "\n",
    "def io_bound_task(ind):\n",
    "    print(f'start task {ind}')\n",
    "    time.sleep(3)\n",
    "    print(f'finish task {ind}\\n', end='')"
   ]
  },
  {
   "cell_type": "code",
   "execution_count": 3,
   "metadata": {},
   "outputs": [
    {
     "name": "stdout",
     "output_type": "stream",
     "text": [
      "36 -> 14930352\n",
      "35 -> 9227465\n",
      "34 -> 5702887\n",
      "33 -> 3524578\n",
      "32 -> 2178309\n",
      "31 -> 1346269\n",
      "30 -> 832040\n",
      "25 -> 75025\n",
      "20 -> 6765\n",
      "15 -> 610\n",
      "10 -> 55\n",
      "Wall time: 15.8 s\n"
     ]
    }
   ],
   "source": [
    "%%time\n",
    "\n",
    "for number in [36, 35, 34, 33, 32, 31, 30, 25, 20, 15, 10]:\n",
    "    cpu_bound_task(number)"
   ]
  },
  {
   "cell_type": "code",
   "execution_count": 4,
   "metadata": {},
   "outputs": [
    {
     "name": "stdout",
     "output_type": "stream",
     "text": [
      "20 -> 6765\n",
      "15 -> 610\n",
      "10 -> 55\n",
      "25 -> 75025\n",
      "30 -> 832040\n",
      "31 -> 1346269\n",
      "32 -> 2178309\n",
      "33 -> 3524578\n",
      "34 -> 5702887\n",
      "35 -> 9227465\n",
      "36 -> 14930352\n",
      "Wall time: 16.4 s\n"
     ]
    }
   ],
   "source": [
    "%%time\n",
    "\n",
    "# CPU bound задача на потоках\n",
    "tasks = []\n",
    "\n",
    "for number in [36, 35, 34, 33, 32, 31, 30, 25, 20, 15, 10]:\n",
    "    task = threading.Thread(target=cpu_bound_task, args=(number,))\n",
    "    tasks.append(task)\n",
    "    task.start()\n",
    "\n",
    "for task in tasks:\n",
    "    task.join()\n",
    "    \n",
    "#время больше, потому что нужно переключаться между потоками"
   ]
  },
  {
   "cell_type": "code",
   "execution_count": 5,
   "metadata": {
    "scrolled": true
   },
   "outputs": [
    {
     "name": "stdout",
     "output_type": "stream",
     "text": [
      "Wall time: 312 ms\n"
     ]
    }
   ],
   "source": [
    "%%time\n",
    "\n",
    "# CPU bound задача на процессах\n",
    "tasks = []\n",
    "\n",
    "for number in [36, 35, 34, 33, 32, 31, 30, 25, 20, 15, 10]:\n",
    "    task = multiprocessing.Process(target=cpu_bound_task, args=(number,))\n",
    "    tasks.append(task)\n",
    "    task.start()\n",
    "\n",
    "for task in tasks:\n",
    "    task.join()\n"
   ]
  },
  {
   "cell_type": "code",
   "execution_count": 6,
   "metadata": {},
   "outputs": [
    {
     "name": "stdout",
     "output_type": "stream",
     "text": [
      "start task 0\n",
      "finish task 0\n",
      "start task 1\n",
      "finish task 1\n",
      "start task 2\n",
      "finish task 2\n",
      "start task 3\n",
      "finish task 3\n",
      "start task 4\n",
      "finish task 4\n",
      "Wall time: 15 s\n"
     ]
    }
   ],
   "source": [
    "%%time\n",
    "\n",
    "for ind in range(5):\n",
    "    io_bound_task(ind)"
   ]
  },
  {
   "cell_type": "code",
   "execution_count": 7,
   "metadata": {},
   "outputs": [
    {
     "name": "stdout",
     "output_type": "stream",
     "text": [
      "start task 0\n",
      "start task 1\n",
      "start task 2\n",
      "start task 3\n",
      "start task 4\n",
      "finish task 0\n",
      "finish task 1\n",
      "finish task 2\n",
      "finish task 3\n",
      "finish task 4\n",
      "Wall time: 3.01 s\n"
     ]
    }
   ],
   "source": [
    "%%time\n",
    "\n",
    "# IO bound задача на потоках\n",
    "tasks = []\n",
    "\n",
    "for ind in range(5):\n",
    "    task = threading.Thread(target=io_bound_task, args=(ind,))\n",
    "    tasks.append(task)\n",
    "    task.start()\n",
    "\n",
    "for task in tasks:\n",
    "    task.join()"
   ]
  },
  {
   "cell_type": "code",
   "execution_count": 8,
   "metadata": {},
   "outputs": [
    {
     "name": "stdout",
     "output_type": "stream",
     "text": [
      "Wall time: 177 ms\n"
     ]
    }
   ],
   "source": [
    "%%time\n",
    "\n",
    "# IO bound задача на процессах\n",
    "tasks = []\n",
    "\n",
    "for ind in range(5):\n",
    "    task = multiprocessing.Process(target=io_bound_task, args=(ind,))\n",
    "    tasks.append(task)\n",
    "    task.start()\n",
    "\n",
    "for task in tasks:\n",
    "    task.join()"
   ]
  },
  {
   "cell_type": "code",
   "execution_count": 9,
   "metadata": {},
   "outputs": [],
   "source": [
    "# Получение идентификатора процесса\n",
    "def io_bound_task(ind):\n",
    "    print(f'start task {ind} with {os.getpid()}')\n",
    "    time.sleep(3)\n",
    "    print(f'finish task {ind}')\n",
    "    \n",
    "tasks = []\n",
    "\n",
    "for ind in range(10):\n",
    "    task = multiprocessing.Process(target=io_bound_task, args=(ind,))\n",
    "    tasks.append(task)\n",
    "    task.start()\n",
    "\n",
    "for task in tasks:\n",
    "    task.join()"
   ]
  },
  {
   "cell_type": "code",
   "execution_count": null,
   "metadata": {},
   "outputs": [],
   "source": [
    "# Пулл процессов\n",
    "from multiprocessing import Pool\n",
    "# распределение процессов в пулле\n",
    "\n",
    "def getpid(n):\n",
    "    time.sleep(2)\n",
    "    return os.getpid() #получить id процесса\n",
    "\n",
    "with Pool(3) as p:\n",
    "    print(p.map(getpid, range(5)))"
   ]
  },
  {
   "cell_type": "code",
   "execution_count": null,
   "metadata": {},
   "outputs": [],
   "source": [
    "# Шаринг ресурсов\n",
    "share_memory = {\n",
    "    'count': 0,\n",
    "}\n",
    "def share_memory_task():\n",
    "    print(f'read {share_memory[\"count\"]}')\n",
    "    share_memory['count'] += 1\n",
    "    print(f'write {share_memory[\"count\"]}')\n",
    "\n",
    "tasks = []\n",
    "\n",
    "for _ in range(5):\n",
    "    task = multiprocessing.Process(target=share_memory_task)\n",
    "    tasks.append(task)\n",
    "    task.start()\n",
    "    \n",
    "for task in tasks:\n",
    "    task.join()"
   ]
  },
  {
   "cell_type": "code",
   "execution_count": null,
   "metadata": {},
   "outputs": [],
   "source": [
    "# Шаринг ресурсов через файл\n",
    "filename = 'share_memory.tmp'\n",
    "\n",
    "with open(filename, 'w') as fd:\n",
    "    fd.write('0')\n",
    "\n",
    "def share_memory_task():\n",
    "    with open(filename) as fd:\n",
    "        count = int(fd.read())\n",
    "    print(f'read {count}')\n",
    "\n",
    "    with open(filename, 'w') as fd:\n",
    "        fd.write(str(count + 1))\n",
    "    print(f'write {count + 1}')\n",
    "\n",
    "\n",
    "tasks = []\n",
    "\n",
    "for _ in range(10):\n",
    "    task = multiprocessing.Process(target=share_memory_task)\n",
    "    tasks.append(task)\n",
    "    task.start()\n",
    "    \n",
    "for task in tasks:\n",
    "    task.join()\n",
    "\n",
    "with open(filename) as fd:\n",
    "    print(f'COUNT: {fd.read()}')"
   ]
  },
  {
   "cell_type": "code",
   "execution_count": null,
   "metadata": {},
   "outputs": [],
   "source": [
    "from multiprocessing import Manager, Queue\n",
    "\n",
    "\n",
    "PROCESSES_COUNT = 5\n",
    "to_process_list = [\n",
    "    [1, 2, 3], [4, 5, 6], [7, 8, 9],\n",
    "    [10, 11, 12], [13, 14, 15],\n",
    "    [16, 17, 18], [19, 20, 21],\n",
    "    [22, 23, 24], [25, 26, 27]\n",
    "]\n",
    "\n",
    "\n",
    "def func(x):\n",
    "    time.sleep(3)\n",
    "    return 1 << x #побитовый сдвиг, степени двойки\n",
    "\n",
    "\n",
    "def producer_func(to_process, queue):\n",
    "    for elem in to_process:\n",
    "        res = func(elem)\n",
    "        queue.put(res)\n",
    "        print(f\"Hey, I've just put {res} to queue!\")\n",
    "\n",
    "\n",
    "def consumer_func(queue):\n",
    "    while True:\n",
    "        res = queue.get()\n",
    "        if res == 'kill':\n",
    "            break\n",
    "        print(f\"Wow, I found {res} in queue!\")\n",
    "\n",
    "\n",
    "def do_work(to_process_list):\n",
    "    manager = Manager()\n",
    "    queue = manager.Queue()\n",
    "    pool = Pool(PROCESSES_COUNT)\n",
    "\n",
    "    pool.apply_async(consumer_func, (queue, ))\n",
    "\n",
    "    jobs = []\n",
    "    for to_process in to_process_list:\n",
    "        job = pool.apply_async(producer_func, (to_process, queue))\n",
    "        jobs.append(job)\n",
    "\n",
    "    for job in jobs:\n",
    "        job.get()\n",
    "\n",
    "    queue.put('kill')\n",
    "    pool.close()\n",
    "    pool.join()\n",
    "    \n",
    "\n",
    "do_work(to_process_list)"
   ]
  },
  {
   "cell_type": "code",
   "execution_count": null,
   "metadata": {},
   "outputs": [],
   "source": []
  }
 ],
 "metadata": {
  "kernelspec": {
   "display_name": "Python 3",
   "language": "python",
   "name": "python3"
  },
  "language_info": {
   "codemirror_mode": {
    "name": "ipython",
    "version": 3
   },
   "file_extension": ".py",
   "mimetype": "text/x-python",
   "name": "python",
   "nbconvert_exporter": "python",
   "pygments_lexer": "ipython3",
   "version": "3.7.3"
  }
 },
 "nbformat": 4,
 "nbformat_minor": 2
}
