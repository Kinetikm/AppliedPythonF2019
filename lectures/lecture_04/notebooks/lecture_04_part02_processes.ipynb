{
 "cells": [
  {
   "cell_type": "markdown",
   "metadata": {},
   "source": [
    "# Процессы"
   ]
  },
  {
   "cell_type": "code",
   "execution_count": 1,
   "metadata": {},
   "outputs": [],
   "source": [
    "import random\n",
    "import os\n",
    "import time\n",
    "import threading\n",
    "import multiprocessing\n",
    "import os"
   ]
  },
  {
   "cell_type": "code",
   "execution_count": 2,
   "metadata": {},
   "outputs": [],
   "source": [
    "# Типы задач\n",
    "def cpu_bound_task(n):\n",
    "    def fib(n):\n",
    "        if n == 0:\n",
    "            return 0\n",
    "        elif n == 1:\n",
    "            return 1\n",
    "        return fib(n-1) + fib(n-2)\n",
    "\n",
    "    print(f'{n} -> {fib(n)}')\n",
    "\n",
    "\n",
    "def io_bound_task(ind):\n",
    "    print(f'start task {ind}')\n",
    "    time.sleep(3)\n",
    "    print(f'finish task {ind}\\n', end='')"
   ]
  },
  {
   "cell_type": "code",
   "execution_count": 4,
   "metadata": {},
   "outputs": [
    {
     "name": "stdout",
     "output_type": "stream",
     "text": [
      "36 -> 14930352\n",
      "35 -> 9227465\n",
      "34 -> 5702887\n",
      "33 -> 3524578\n",
      "32 -> 2178309\n",
      "31 -> 1346269\n",
      "30 -> 832040\n",
      "25 -> 75025\n",
      "20 -> 6765\n",
      "15 -> 610\n",
      "10 -> 55\n",
      "CPU times: user 39 s, sys: 3.81 ms, total: 39 s\n",
      "Wall time: 42 s\n"
     ]
    }
   ],
   "source": [
    "%%time\n",
    "\n",
    "for number in [36, 35, 34, 33, 32, 31, 30, 25, 20, 15, 10]:\n",
    "    cpu_bound_task(number)"
   ]
  },
  {
   "cell_type": "code",
   "execution_count": 5,
   "metadata": {},
   "outputs": [
    {
     "name": "stdout",
     "output_type": "stream",
     "text": [
      "20 -> 676515 -> 610\n",
      "\n",
      "10 -> 55\n",
      "25 -> 75025\n",
      "30 -> 832040\n",
      "31 -> 1346269\n",
      "32 -> 2178309\n",
      "33 -> 3524578\n",
      "34 -> 5702887\n",
      "35 -> 9227465\n",
      "36 -> 14930352\n",
      "CPU times: user 38.9 s, sys: 7.98 ms, total: 38.9 s\n",
      "Wall time: 40.4 s\n"
     ]
    }
   ],
   "source": [
    "%%time\n",
    "\n",
    "# CPU bound задача на потоках\n",
    "tasks = []\n",
    "\n",
    "for number in [36, 35, 34, 33, 32, 31, 30, 25, 20, 15, 10]:\n",
    "    task = threading.Thread(target=cpu_bound_task, args=(number,))\n",
    "    tasks.append(task)\n",
    "    task.start()\n",
    "\n",
    "for task in tasks:\n",
    "    task.join()"
   ]
  },
  {
   "cell_type": "code",
   "execution_count": 6,
   "metadata": {},
   "outputs": [
    {
     "name": "stdout",
     "output_type": "stream",
     "text": [
      "15 -> 610\n",
      "10 -> 55\n",
      "20 -> 6765\n",
      "25 -> 75025\n",
      "30 -> 832040\n",
      "31 -> 1346269\n",
      "32 -> 2178309\n",
      "33 -> 3524578\n",
      "34 -> 5702887\n",
      "35 -> 9227465\n",
      "36 -> 14930352\n",
      "CPU times: user 24.7 ms, sys: 27.7 ms, total: 52.3 ms\n",
      "Wall time: 42 s\n"
     ]
    }
   ],
   "source": [
    "%%time\n",
    "\n",
    "# CPU bound задача на процессах\n",
    "tasks = []\n",
    "\n",
    "for number in [36, 35, 34, 33, 32, 31, 30, 25, 20, 15, 10]:\n",
    "    task = multiprocessing.Process(target=cpu_bound_task, args=(number,))\n",
    "    tasks.append(task)\n",
    "    task.start()\n",
    "\n",
    "for task in tasks:\n",
    "    task.join()\n"
   ]
  },
  {
   "cell_type": "code",
   "execution_count": 7,
   "metadata": {},
   "outputs": [
    {
     "name": "stdout",
     "output_type": "stream",
     "text": [
      "start task 0\n",
      "finish task 0\n",
      "start task 1\n",
      "finish task 1\n",
      "start task 2\n",
      "finish task 2\n",
      "start task 3\n",
      "finish task 3\n",
      "start task 4\n",
      "finish task 4\n",
      "CPU times: user 19.5 ms, sys: 3.96 ms, total: 23.4 ms\n",
      "Wall time: 15 s\n"
     ]
    }
   ],
   "source": [
    "%%time\n",
    "\n",
    "for ind in range(5):\n",
    "    io_bound_task(ind)"
   ]
  },
  {
   "cell_type": "code",
   "execution_count": 8,
   "metadata": {},
   "outputs": [
    {
     "name": "stdout",
     "output_type": "stream",
     "text": [
      "start task 0\n",
      "start task 1\n",
      "start task 2\n",
      "start task 3\n",
      "start task 4\n",
      "finish task 0\n",
      "finish task 1\n",
      "finish task 2\n",
      "finish task 3\n",
      "finish task 4\n",
      "CPU times: user 7.94 ms, sys: 4 µs, total: 7.95 ms\n",
      "Wall time: 3.02 s\n"
     ]
    }
   ],
   "source": [
    "%%time\n",
    "\n",
    "# IO bound задача на потоках\n",
    "tasks = []\n",
    "\n",
    "for ind in range(5):\n",
    "    task = threading.Thread(target=io_bound_task, args=(ind,))\n",
    "    tasks.append(task)\n",
    "    task.start()\n",
    "\n",
    "for task in tasks:\n",
    "    task.join()"
   ]
  },
  {
   "cell_type": "code",
   "execution_count": 9,
   "metadata": {},
   "outputs": [
    {
     "name": "stdout",
     "output_type": "stream",
     "text": [
      "start task 0\n",
      "start task 1\n",
      "start task 2\n",
      "start task 3\n",
      "start task 4\n",
      "finish task 0\n",
      "finish task 1\n",
      "finish task 2\n",
      "finish task 3\n",
      "finish task 4\n",
      "CPU times: user 6.96 ms, sys: 27.6 ms, total: 34.6 ms\n",
      "Wall time: 3.14 s\n"
     ]
    }
   ],
   "source": [
    "%%time\n",
    "\n",
    "# IO bound задача на процессах\n",
    "tasks = []\n",
    "\n",
    "for ind in range(5):\n",
    "    task = multiprocessing.Process(target=io_bound_task, args=(ind,))\n",
    "    tasks.append(task)\n",
    "    task.start()\n",
    "\n",
    "for task in tasks:\n",
    "    task.join()"
   ]
  },
  {
   "cell_type": "code",
   "execution_count": 15,
   "metadata": {},
   "outputs": [
    {
     "name": "stdout",
     "output_type": "stream",
     "text": [
      "start task 0 with 3625\n",
      "start task 1 with 3626\n",
      "start task 2 with 3627\n",
      "start task 3 with 3628\n",
      "start task 4 with 3629\n",
      "start task 5 with 3630\n",
      "start task 6 with 3631\n",
      "start task 7 with 3632\n",
      "start task 8 with 3633\n",
      "start task 9 with 3634\n",
      "finish task 0\n",
      "finish task 1\n",
      "finish task 2\n",
      "finish task 3\n",
      "finish task 4\n",
      "finish task 5\n",
      "finish task 6\n",
      "finish task 7\n",
      "finish task 8\n",
      "finish task 9\n"
     ]
    }
   ],
   "source": [
    "# Получение идентификатора процесса\n",
    "def io_bound_task(ind):\n",
    "    print(f'start task {ind} with {os.getpid()}')\n",
    "    time.sleep(3)\n",
    "    print(f'finish task {ind}')\n",
    "    \n",
    "tasks = []\n",
    "\n",
    "for ind in range(10):\n",
    "    task = multiprocessing.Process(target=io_bound_task, args=(ind,))\n",
    "    tasks.append(task)\n",
    "    task.start()\n",
    "\n",
    "for task in tasks:\n",
    "    task.join()"
   ]
  },
  {
   "cell_type": "code",
   "execution_count": 10,
   "metadata": {},
   "outputs": [
    {
     "name": "stdout",
     "output_type": "stream",
     "text": [
      "[10647, 10648, 10649, 10647, 10648]\n"
     ]
    }
   ],
   "source": [
    "# Пулл процессов\n",
    "from multiprocessing import Pool\n",
    "\n",
    "\n",
    "def getpid(n):\n",
    "    time.sleep(2)\n",
    "    return os.getpid()\n",
    "\n",
    "with Pool(3) as p:\n",
    "    print(p.map(getpid, range(5)))"
   ]
  },
  {
   "cell_type": "code",
   "execution_count": 17,
   "metadata": {},
   "outputs": [
    {
     "name": "stdout",
     "output_type": "stream",
     "text": [
      "read 0\n",
      "write 1\n",
      "read 0\n",
      "write 1\n",
      "read 0\n",
      "write 1\n",
      "read 0\n",
      "write 1\n",
      "read 0\n",
      "write 1\n"
     ]
    }
   ],
   "source": [
    "# Шаринг ресурсов\n",
    "share_memory = {\n",
    "    'count': 0,\n",
    "}\n",
    "def share_memory_task():\n",
    "    print(f'read {share_memory[\"count\"]}')\n",
    "    share_memory['count'] += 1\n",
    "    print(f'write {share_memory[\"count\"]}')\n",
    "\n",
    "tasks = []\n",
    "\n",
    "for _ in range(5):\n",
    "    task = multiprocessing.Process(target=share_memory_task)\n",
    "    tasks.append(task)\n",
    "    task.start()\n",
    "    \n",
    "for task in tasks:\n",
    "    task.join()"
   ]
  },
  {
   "cell_type": "code",
   "execution_count": 11,
   "metadata": {},
   "outputs": [
    {
     "name": "stdout",
     "output_type": "stream",
     "text": [
      "read 0\n",
      "write 1\n",
      "read 1\n",
      "write 2\n",
      "read 1\n",
      "write 2\n",
      "read 2\n",
      "write 3\n",
      "read 2\n",
      "write 3\n",
      "read 3\n",
      "write 4\n",
      "read 3\n",
      "write 4\n",
      "read 4\n",
      "write 5\n",
      "read 5\n",
      "write 6\n",
      "read 5\n",
      "write 6\n",
      "COUNT: 6\n"
     ]
    }
   ],
   "source": [
    "# Шаринг ресурсов через файл\n",
    "filename = 'share_memory.tmp'\n",
    "\n",
    "with open(filename, 'w') as fd:\n",
    "    fd.write('0')\n",
    "\n",
    "def share_memory_task():\n",
    "    with open(filename) as fd:\n",
    "        count = int(fd.read())\n",
    "    print(f'read {count}')\n",
    "\n",
    "    with open(filename, 'w') as fd:\n",
    "        fd.write(str(count + 1))\n",
    "    print(f'write {count + 1}')\n",
    "\n",
    "\n",
    "tasks = []\n",
    "\n",
    "for _ in range(10):\n",
    "    task = multiprocessing.Process(target=share_memory_task)\n",
    "    tasks.append(task)\n",
    "    task.start()\n",
    "    \n",
    "for task in tasks:\n",
    "    task.join()\n",
    "\n",
    "with open(filename) as fd:\n",
    "    print(f'COUNT: {fd.read()}')"
   ]
  },
  {
   "cell_type": "code",
   "execution_count": 27,
   "metadata": {},
   "outputs": [
    {
     "name": "stdout",
     "output_type": "stream",
     "text": [
      "Hey, I've just put 16 to queue!\n",
      "Hey, I've just put 2 to queue!\n",
      "Hey, I've just put 128 to queue!\n",
      "Wow, I found 2 in queue!\n",
      "Wow, I found 16 in queue!\n",
      "Hey, I've just put 1024 to queue!\n",
      "Wow, I found 128 in queue!\n",
      "Wow, I found 1024 in queue!\n",
      "Hey, I've just put 4 to queue!\n",
      "Hey, I've just put 32 to queue!\n",
      "Hey, I've just put 256 to queue!\n",
      "Wow, I found 32 in queue!\n",
      "Hey, I've just put 2048 to queue!\n",
      "Wow, I found 256 in queue!\n",
      "Wow, I found 4 in queue!\n",
      "Wow, I found 2048 in queue!\n",
      "Hey, I've just put 64 to queue!\n",
      "Hey, I've just put 512 to queue!\n",
      "Wow, I found 64 in queue!\n",
      "Hey, I've just put 8 to queue!\n",
      "Hey, I've just put 4096 to queue!\n",
      "Wow, I found 512 in queue!\n",
      "Wow, I found 8 in queue!\n",
      "Wow, I found 4096 in queue!\n",
      "Hey, I've just put 8192 to queue!\n",
      "Hey, I've just put 524288 to queue!\n",
      "Wow, I found 524288 in queue!\n",
      "Hey, I've just put 65536 to queue!\n",
      "Hey, I've just put 4194304 to queue!\n",
      "Wow, I found 8192 in queue!\n",
      "Wow, I found 65536 in queue!\n",
      "Wow, I found 4194304 in queue!\n",
      "Wow, I found 16384 in queue!\n",
      "Hey, I've just put 16384 to queue!\n",
      "Hey, I've just put 1048576 to queue!\n",
      "Hey, I've just put 131072 to queue!\n",
      "Hey, I've just put 8388608 to queue!\n",
      "Wow, I found 1048576 in queue!\n",
      "Wow, I found 8388608 in queue!\n",
      "Wow, I found 131072 in queue!\n",
      "Hey, I've just put 16777216 to queue!\n",
      "Hey, I've just put 2097152 to queue!\n",
      "Wow, I found 2097152 in queue!\n",
      "Hey, I've just put 32768 to queue!\n",
      "Hey, I've just put 262144 to queue!\n",
      "Wow, I found 16777216 in queue!\n",
      "Wow, I found 32768 in queue!\n",
      "Wow, I found 262144 in queue!\n",
      "Hey, I've just put 33554432 to queue!\n",
      "Wow, I found 33554432 in queue!\n",
      "Wow, I found 67108864 in queue!\n",
      "Hey, I've just put 67108864 to queue!\n",
      "Hey, I've just put 134217728 to queue!\n",
      "Wow, I found 134217728 in queue!\n"
     ]
    }
   ],
   "source": [
    "from multiprocessing import Manager, Queue\n",
    "\n",
    "\n",
    "PROCESSES_COUNT = 5\n",
    "to_process_list = [\n",
    "    [1, 2, 3], [4, 5, 6], [7, 8, 9],\n",
    "    [10, 11, 12], [13, 14, 15],\n",
    "    [16, 17, 18], [19, 20, 21],\n",
    "    [22, 23, 24], [25, 26, 27]\n",
    "]\n",
    "\n",
    "\n",
    "def func(x):\n",
    "    time.sleep(3)\n",
    "    return 1 << x\n",
    "\n",
    "\n",
    "def producer_func(to_process, queue):\n",
    "    for elem in to_process:\n",
    "        res = func(elem)\n",
    "        queue.put(res)\n",
    "        print(f\"Hey, I've just put {res} to queue!\")\n",
    "\n",
    "\n",
    "def consumer_func(queue):\n",
    "    while True:\n",
    "        res = queue.get()\n",
    "        if res == 'kill':\n",
    "            break\n",
    "        print(f\"Wow, I found {res} in queue!\")\n",
    "\n",
    "\n",
    "def do_work(to_process_list):\n",
    "    manager = Manager()\n",
    "    queue = manager.Queue()\n",
    "    pool = Pool(PROCESSES_COUNT)\n",
    "\n",
    "    pool.apply_async(consumer_func, (queue, ))\n",
    "\n",
    "    jobs = []\n",
    "    for to_process in to_process_list:\n",
    "        job = pool.apply_async(producer_func, (to_process, queue))\n",
    "        jobs.append(job)\n",
    "\n",
    "    for job in jobs:\n",
    "        job.get()\n",
    "\n",
    "    queue.put('kill')\n",
    "    pool.close()\n",
    "    pool.join()\n",
    "    \n",
    "\n",
    "do_work(to_process_list)"
   ]
  },
  {
   "cell_type": "code",
   "execution_count": null,
   "metadata": {},
   "outputs": [],
   "source": []
  }
 ],
 "metadata": {
  "kernelspec": {
   "display_name": "Python 3",
   "language": "python",
   "name": "python3"
  },
  "language_info": {
   "codemirror_mode": {
    "name": "ipython",
    "version": 3
   },
   "file_extension": ".py",
   "mimetype": "text/x-python",
   "name": "python",
   "nbconvert_exporter": "python",
   "pygments_lexer": "ipython3",
   "version": "3.7.3"
  }
 },
 "nbformat": 4,
 "nbformat_minor": 2
}
