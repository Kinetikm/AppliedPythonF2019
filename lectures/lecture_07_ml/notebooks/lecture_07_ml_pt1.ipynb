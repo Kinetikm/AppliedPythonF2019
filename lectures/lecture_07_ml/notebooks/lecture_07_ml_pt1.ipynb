{
 "cells": [
  {
   "cell_type": "code",
   "execution_count": 1,
   "metadata": {
    "ExecuteTime": {
     "end_time": "2019-10-31T20:50:58.326022Z",
     "start_time": "2019-10-31T20:50:57.197816Z"
    }
   },
   "outputs": [],
   "source": [
    "import pandas as pd\n",
    "import numpy as np\n",
    "\n",
    "import matplotlib.pyplot as plt\n",
    "\n",
    "%matplotlib inline              "
   ]
  },
  {
   "cell_type": "markdown",
   "metadata": {},
   "source": [
    "# Формальная постановка"
   ]
  },
  {
   "cell_type": "markdown",
   "metadata": {
    "ExecuteTime": {
     "end_time": "2019-10-31T09:44:35.143558Z",
     "start_time": "2019-10-31T09:44:35.139440Z"
    }
   },
   "source": [
    "<table><tr>\n",
    "<td><img src=\"images_pt1/class1.png\" style=\"height:400px\"></td>\n",
    "<td><img src=\"images_pt1/class2.png\" style=\"height:400px\"></td>\n",
    "</tr></table>"
   ]
  },
  {
   "cell_type": "markdown",
   "metadata": {},
   "source": [
    "Дан набор обучающих примеров $$(x_1, x_2, \\dots, x_n), x_i \\in \\mathcal{X} \\subseteq \\mathbb{R}^k,$$ $n$ -- размер выборки, $k$ -- количество признаков (фичей). Также задан набор целевых переменных $$(y_1, y_2, \\dots, y_n), y_i \\in \\mathcal{Y} \\subseteq \\mathbb{R}.$$\n",
    "\n",
    "Наша задача построить алгоритм\n",
    "$$a: \\mathcal{X} \\to \\mathcal{Y},$$\n",
    "который будет приближать исходную зависимость $f$."
   ]
  },
  {
   "cell_type": "markdown",
   "metadata": {},
   "source": [
    "## Задача классификации\n",
    "Множество $\\mathcal{Y}$ конечно.\n",
    "\n",
    "Частный случай -- бинарная классификация ($|\\mathcal{Y}| = 2$), например, предсказываем будет ли клик, покупка."
   ]
  },
  {
   "cell_type": "markdown",
   "metadata": {},
   "source": [
    "## Логистическая регрессия"
   ]
  },
  {
   "cell_type": "markdown",
   "metadata": {},
   "source": [
    "<img src=\"images_pt1/class3.png\" style=\"height:400px\">"
   ]
  },
  {
   "cell_type": "markdown",
   "metadata": {},
   "source": [
    "Нам надо найти уравнение прямой (гиперплоскости), которая бы могла разделить два класса ($H_2$ и $H_3$ подходят). В данном случае, уравнение прямой задаётся как: $$g(x) = w_0 + w_1x[1] + w_2x[2] = \\langle w, x \\rangle + w_0 =  w^\\top x + w_0$$\n",
    "\n",
    "* Если $g(x^*) > 0$, то $y^* = \\text{'черный'} = 1$\n",
    "* Если $g(x^*) < 0$, то $y^* = \\text{'белый'} = 0$\n",
    "* Если $g(x^*) = 0$, то мы находимся на линии\n",
    "* т.е. решающее правило: $y^* = \n",
    "\\begin{cases}\n",
    "1, &\\text{если } g(x^*) > 0,\\\\\n",
    "0, &\\text{если } g(x^*) < 0.\n",
    "\\end{cases}$\n",
    "\n",
    "Некоторые геометрические особенности\n",
    "* $\\frac{w_0}{||w||}$ - расстояние от начала координат то прямой\n",
    "* $\\frac{|g(x)|}{||w||}$ - расстояние от точки $x$ до гиперплоскости, степень \"уверенности\" в классификациий\n"
   ]
  },
  {
   "cell_type": "markdown",
   "metadata": {},
   "source": [
    "Отлично! Значит нам надо просто минимизировать ошибки классификации для всех объектов:\n",
    "\n",
    "$$L(w) = \\sum_{i: y_i = 0} [g(x_i) > 0] + \\sum_{i: y_i = 1} [g(x_i) < 0] \\rightarrow \\min_w$$"
   ]
  },
  {
   "cell_type": "markdown",
   "metadata": {},
   "source": [
    "Проблема в том, что это будет комбинаторная оптимизация. Существуют различные аппроксимации этой функции ошибок:\n",
    "<center><img src='http://jaquesgrobler.github.io/Online-Scikit-Learn-stat-tut/_images/plot_sgd_loss_functions_11.png'></center>"
   ]
  },
  {
   "cell_type": "markdown",
   "metadata": {},
   "source": [
    "Рассмотрим функцию $$\\sigma(z) = \\frac{1}{1 + exp{(-z)}},$$она называется **сигмойда**. "
   ]
  },
  {
   "cell_type": "code",
   "execution_count": 2,
   "metadata": {
    "ExecuteTime": {
     "end_time": "2019-10-31T20:50:58.781461Z",
     "start_time": "2019-10-31T20:50:58.329475Z"
    }
   },
   "outputs": [
    {
     "data": {
      "image/png": "[encoded data removed]",
      "text/plain": [
       "<Figure size 720x432 with 1 Axes>"
      ]
     },
     "metadata": {},
     "output_type": "display_data"
    }
   ],
   "source": [
    "def demo_sigmoid():\n",
    "    z = np.linspace(-10, 10, 100)\n",
    "\n",
    "    y = sigmoid(z)\n",
    "    plt.figure(figsize=(10,6))\n",
    "    plt.plot(z, y)\n",
    "    plt.xlabel('$z$')\n",
    "    plt.ylabel('$\\sigma(z)$')\n",
    "    \n",
    "def sigmoid(z): \n",
    "    return 1./(1+np.exp(-z))\n",
    "demo_sigmoid() "
   ]
  },
  {
   "cell_type": "markdown",
   "metadata": {},
   "source": [
    "<img src=\"images_pt1/prob.png\" style=\"height:500px\">"
   ]
  },
  {
   "cell_type": "markdown",
   "metadata": {},
   "source": [
    "#### Постановка задачи\n",
    "Будем требовать, чтобы алгоритм возвращал вероятность класса $y=1$:\n",
    "$$h(x,w) = p(y=1|x,w) = \\sigma(g(x))$$\n",
    "\n",
    "Выпишем функцию правдоподобия\n",
    "$$ \\mathcal{L}(w) = \\prod_{i=1}^n h(x_i,w)^{[y_i = 1]} (1 - h(x_i,w))^{[y_i = 0]} \\rightarrow \\max_w$$\n",
    "$$ -\\log{\\mathcal{L}(w)} = - \\sum_i^n [y_i = 1]\\cdot\\log{(h(x_i,w))} + {[y_i = 0]}\\cdot\\log{(1-h(x_i,w))} \\rightarrow \\min_w$$\n",
    "$$L(w) = -\\log{\\mathcal{L}(w)} \\rightarrow \\min_w $$"
   ]
  },
  {
   "cell_type": "markdown",
   "metadata": {},
   "source": [
    "Алгоритм $h$ называется ***логистической регрессией***."
   ]
  },
  {
   "cell_type": "markdown",
   "metadata": {},
   "source": []
  },
  {
   "cell_type": "markdown",
   "metadata": {},
   "source": [
    "Одна из основных функций потерь -- ***Log Loss*** (бинарная классификация), которую мы получили при выводе логрегрессии:\n",
    "$$L = -\\sum_{i=1}^n(\\,\\,y_i \\cdot \\log{a(x_i)} + (1 - y_i) \\cdot \\log(1 - a(x_i))\\,\\,).$$"
   ]
  },
  {
   "cell_type": "markdown",
   "metadata": {},
   "source": []
  },
  {
   "cell_type": "markdown",
   "metadata": {},
   "source": [
    "### Случай нескольких классов (>2)\n",
    "\n",
    "* А если классов несколько?\n",
    "    * 1-vs-1\n",
    "    * 1-vs-rest\n",
    "    * Softmax "
   ]
  },
  {
   "cell_type": "markdown",
   "metadata": {},
   "source": [
    "## Softmax\n",
    "\n",
    "Для каждого класса определяется свой набор весов\n",
    "\n",
    "$$\n",
    "\\begin{cases}\n",
    "g_1(x)=w_{1}^{T}x + w_{0,1} \\\\\n",
    "g_{2}(x)=w_{2}^{T}x + w_{0,2}\\\\\n",
    "\\cdots\\\\\n",
    "g_{C}(x)=w_{C}^{T}x + + w_{0,C}\n",
    "\\end{cases}\n",
    "$$\n",
    "\n",
    "Нормировка \"скоров\" классов\n",
    "\n",
    "$$\n",
    "p(y=c|x)=softmax(g_c|W, x)=\\frac{exp(w_{c}^{T}x + w_{0,c})}{\\sum_{i}exp(w_{i}^{T}x + w_{0,i})}\n",
    "$$\n",
    "\n"
   ]
  },
  {
   "cell_type": "markdown",
   "metadata": {},
   "source": []
  },
  {
   "cell_type": "markdown",
   "metadata": {},
   "source": [
    "***Cross Entropy Loss*** (общий случай Log Loss), который мы можем вывести по аналогии с Log Loss:\n",
    "$$L = -\\sum_{i=1}^n <y_i , \\log{a(x_i)}>.$$\n",
    "\n",
    "Здесь $y_i$ и $a(x_i)$ -- вектора размерности $|\\mathcal{Y}|$, у $y_i$ только в одной позиции 1, в остальных -- 0."
   ]
  },
  {
   "cell_type": "markdown",
   "metadata": {},
   "source": []
  },
  {
   "cell_type": "markdown",
   "metadata": {},
   "source": [
    "## Метод ближайших соседей\n",
    "\n",
    "### K-Nearest Neighbours\n",
    "\n",
    "$$\n",
    "h(x) = \\frac{1}{n} \\sum_{x_j \\in N_K(x)} f(x_j).\n",
    "$$\n",
    "\n",
    "$N_K(\\mathbf{x})$ -- $K$ ближайших соседей для вектора $x$ в обучающем наборе (то есть среди $x_1, ... , x_n$).\n",
    "\n",
    "Как можно использовать для бинарной классификации? А когда классов > 2?"
   ]
  },
  {
   "cell_type": "markdown",
   "metadata": {},
   "source": []
  },
  {
   "cell_type": "markdown",
   "metadata": {},
   "source": [
    "## Байесовский наивный классификатор (Naive Bayes)\n",
    "\n",
    "Дано:\n",
    "\n",
    "$x \\in \\mathcal{X}$ - вектор признаков. Наивность алгоритма характеризуется предположением о том, что компоненты вектора $x$ являются **независимыми** между собой случайными величинами.\n",
    "\n",
    "$C_k \\in \\mathcal{Y}, \\; k = 1,\\ldots,|\\mathcal{Y}|$ - целевая переменная (класс).\n",
    "\n",
    "Теорема Байеса\n",
    "$$\n",
    "P(C_k \\mid x) = \\frac{p(x \\mid C_k) p(C_k)}{p(x)} \\propto p(x \\mid C_k) p(C_k).\n",
    "$$"
   ]
  },
  {
   "cell_type": "markdown",
   "metadata": {},
   "source": [
    "Из независимости компонент $x$:\n",
    "$$p(x \\mid C_k) = \\prod_j p_j(x[j] \\mid C_k).$$\n",
    "\n",
    "Таким образом обучение состоит в оценке плотностей $p_j(x[j] \\mid C_k), p(C_k)$."
   ]
  },
  {
   "cell_type": "markdown",
   "metadata": {},
   "source": [
    "Предсказание производится с помощью принципа Maximum A-Posteriori:\n",
    "$$\n",
    "C_{MAP} = \\arg \\max_k p(C_k \\mid x) = \\arg \\max_k p(C_k)\\prod_j p_j(x[j] \\mid C_k).\n",
    "$$"
   ]
  },
  {
   "cell_type": "markdown",
   "metadata": {},
   "source": []
  },
  {
   "cell_type": "markdown",
   "metadata": {},
   "source": [
    "Байесовский классификатор — широкий класс алгоритмов классификации, основанный на принципе максимума апостериорной вероятности.  \n",
    "Для классифицируемого объекта вычисляются функции правдоподобия каждого из классов, по ним вычисляются апостериорные вероятности классов.  \n",
    "Объект относится к тому классу, для которого апостериорная вероятность максимальна."
   ]
  },
  {
   "cell_type": "markdown",
   "metadata": {},
   "source": []
  },
  {
   "cell_type": "markdown",
   "metadata": {},
   "source": [
    "## Задача\n",
    "\n",
    "|d | Текст | Класс |\n",
    "|--|--|--|\n",
    "|1 | котики такие мокрые | мимими |\n",
    "|2 | пушистые котики няшки | мимими |\n",
    "|3 | морские котики  | не мимими |\n",
    "|4 | мокрые морские свинки | не мимими |\n",
    "|5 | котики мокрые | ???|\n",
    "\n",
    "С помощью алгоритма MultinomialNB (считаем токены) вычислить $p(\\text{мимими} | d_5)$"
   ]
  },
  {
   "cell_type": "markdown",
   "metadata": {},
   "source": []
  },
  {
   "cell_type": "markdown",
   "metadata": {},
   "source": [
    "Что еще есть: SVM, SVM + kernel trick, Neural Networks"
   ]
  },
  {
   "cell_type": "markdown",
   "metadata": {},
   "source": []
  },
  {
   "cell_type": "markdown",
   "metadata": {},
   "source": [
    "### Метрики качества"
   ]
  },
  {
   "cell_type": "markdown",
   "metadata": {},
   "source": [
    "<table><tr>\n",
    "<td><img src=\"images_pt1/prec1.png\" style=\"height:400px\"></td>\n",
    "<td><img src=\"images_pt1/prec2.png\" style=\"height:400px\"></td>\n",
    "</tr></table>"
   ]
  },
  {
   "cell_type": "markdown",
   "metadata": {},
   "source": [
    "$$Accuracy = \\frac{1}{n}\\sum_{i=1}^n [a(x_i) = y_i]$$\n",
    "\n",
    "$$Precision = \\sum_{i=1}^n \\frac{[a(x_i) = y_i = 1]}{[a(x_i) = 1]}$$\n",
    "\n",
    "$$Recall = \\sum_{i=1}^n \\frac{[a(x_i) = y_i = 1]}{[y_i = 1]}$$"
   ]
  },
  {
   "cell_type": "markdown",
   "metadata": {},
   "source": []
  },
  {
   "cell_type": "markdown",
   "metadata": {},
   "source": [
    "### F мера\n",
    "\n",
    "$$F1 = 2 \\cdot \\frac{Recall \\cdot Precision}{Recall + Precision}.$$\n",
    "\n",
    "$$F_\\beta = (1 + \\beta^2) \\cdot \\frac{Recall \\cdot Precision}{Recall + \\beta^2 \\cdot Precision}.$$\n",
    "\n",
    "$$F_\\beta = \\left({\\frac {\\alpha }{Precision}}+{\\frac {1-\\alpha }{Recall}}\\right)^{-1}, \\,\\,\n",
    "\\alpha ={\\frac {1}{1+\\beta ^{2}}}.$$\n",
    "\n",
    "`Measures the effectiveness of retrieval with respect to a user who attaches β times as much importance to recall as precision.` ([wiki](https://en.wikipedia.org/wiki/F1_score))\n",
    "\n",
    "При $\\beta \\to \\infty$ получаем $F_\\beta \\to Recall$.\n",
    "\n",
    "При $\\beta \\to 0$ получаем $F_\\beta \\to Precision$."
   ]
  },
  {
   "cell_type": "markdown",
   "metadata": {},
   "source": []
  },
  {
   "cell_type": "markdown",
   "metadata": {},
   "source": [
    "### ROC-AUC\n",
    "\n",
    "Для задачи бинарной классификации алгоритм $a$ может выдавать не просто метку из $\\mathcal{Y}$, а некоторое число (скор, вероятность). Чтобы сказать какая метка будет на выходе алгоритма используют порог $\\alpha$ так, что:\n",
    "\n",
    "$$\\hat{y}_i =\n",
    "\t \\begin{cases}{}\n",
    "\t \t1, &\\text{если } a(x_i) \\geq \\alpha, \\\\\n",
    "\t \t0, &\\text{если } a(x_i) < \\alpha.\n",
    "\t \\end{cases}$$"
   ]
  },
  {
   "cell_type": "markdown",
   "metadata": {},
   "source": [
    "<img src=\"images_pt1/tp_fp.png\" style=\"height:300px\">"
   ]
  },
  {
   "cell_type": "markdown",
   "metadata": {},
   "source": [
    "В зависимости от этого порога у нас будут получаться разные предсказания на одних и тех же данных. Следовательно и метрики качества, определенные выше, будут разные. Определим следующие величины:\n",
    "\n",
    "$$TPR = \\frac{TP}{TP+FN}, \\,\\, FPR = \\frac{FP}{FP+TN}.$$"
   ]
  },
  {
   "cell_type": "markdown",
   "metadata": {},
   "source": [
    "Для разных значений порога $-\\infty < \\alpha < +\\infty$ посчитает значения TPR (True Positive Rate) и FPR (False Positive Rate) и отложим их на графике:\n",
    "\n",
    "<img src=\"images_pt1/roc_auc.png\" style=\"height:400px\">\n",
    "\n",
    "Площадь под графиком и является метрикой ROC-AUC."
   ]
  },
  {
   "cell_type": "markdown",
   "metadata": {},
   "source": [
    "#### Интерпретация через непрерывные случайные величины:\n",
    "\n",
    "<img src=\"images_pt1/roc_auc_interpret.png\" style=\"height:400px\">"
   ]
  },
  {
   "cell_type": "markdown",
   "metadata": {},
   "source": []
  },
  {
   "cell_type": "markdown",
   "metadata": {},
   "source": [
    "### PR-AUC\n",
    "По аналогии с ROC-AUC, только по осям у нас Precision и Recall.\n",
    "\n",
    "<img src=\"images_pt1/pr_auc.png\" style=\"height:400px\">"
   ]
  },
  {
   "cell_type": "markdown",
   "metadata": {},
   "source": []
  },
  {
   "cell_type": "markdown",
   "metadata": {},
   "source": [
    "### KL divergence (Расстояние Кульбака — Лейблера)\n",
    "\n",
    "$$D_{KL}(P\\parallel Q)=\\sum \\limits _{i=1}^{n}p_{i}\\log {\\frac {p_{i}}{q_{i}}}.$$"
   ]
  },
  {
   "cell_type": "markdown",
   "metadata": {},
   "source": []
  },
  {
   "cell_type": "markdown",
   "metadata": {},
   "source": []
  },
  {
   "cell_type": "markdown",
   "metadata": {},
   "source": [
    "## Appendix (SVM)"
   ]
  },
  {
   "cell_type": "markdown",
   "metadata": {},
   "source": [
    "<img src=\"images_pt1/class3.png\" style=\"height:400px\">"
   ]
  },
  {
   "cell_type": "markdown",
   "metadata": {},
   "source": [
    "Уравнение прямой задаётся как: $$g(x) = w_0 + w_1x_1 + w_2x_2 = w_0 + \\langle w, x \\rangle = w_0 +  w^\\top x $$\n",
    "\n",
    "* Если $g(x^*) > 0$, то $y^* = \\text{'черный'} = +1$\n",
    "* Если $g(x^*) < 0$, то $y^* = \\text{'белый'} = -1$ (немного поменяем обозначения для простоты изложения)\n",
    "* Если $g(x^*) = 0$, то мы находимся на линии\n",
    "* т.е. решающее правило: $y^* = sign(g(x^*))$\n",
    "\n",
    "Некоторые геометрические особенности\n",
    "* $\\frac{|g(x)|}{||w||}$ - расстояние от точки $x$ до гиперплоскости, степень \"уверенности\" в классификациий\n",
    "* Величину $M = y(\\langle w, x \\rangle + w_0) = y \\cdot g(x)$ называют **отступом**(margin)\n",
    "\n",
    "Если для какого-то объекта $M \\geq 0$, то его классификация выполнена успешно."
   ]
  },
  {
   "cell_type": "markdown",
   "metadata": {},
   "source": [
    "###  Линейноразделимый случай с двумя классами\n",
    "* Заметим что $g(x) = w_0 + \\langle w, x \\rangle$ и $g'(x) = c \\cdot (w_0 + \\langle w, x \\rangle)$, $\\forall c>0$ задают одну и ту же гиперплоскость\n",
    "* Подберем $c$ таким образом, чтобы $\\min\\limits_i M_i = \\min\\limits_i y \\cdot g(x_i) = 1$\n",
    "\n",
    "<center><img src='./images_pt1/margin.png'></center>\n",
    "\n",
    "* Таким образом выполняются следующие неравенства:\n",
    "    * $w_0 + \\langle w, x_i \\rangle \\geq 1$, если $y_i = + 1$\n",
    "    * $w_0 + \\langle w, x_i \\rangle \\leq - 1$, если $y_i = - 1$"
   ]
  },
  {
   "cell_type": "markdown",
   "metadata": {},
   "source": [
    "* Разделяющая полоса:  $ -1 \\leq w_0 + \\langle w, x \\rangle \\leq +1$\n",
    "* Ширина разделяющей полосы:\n",
    " $$\\langle (x_{+} -  x_{-}) , \\frac{w}{||w||}\\rangle = \\frac{\\langle w, x_{+} \\rangle - \\langle w, x_{-} \\rangle }{||w||} = \\frac{2}{||w||}  \\rightarrow \\max$$\n",
    " \n",
    " \n",
    "* Таким образом мы придем к оптимизационной задаче:\n",
    "$$\n",
    "\\begin{cases} \n",
    "   \\frac{1}{2} ||w||^2  \\rightarrow \\min  \\\\\n",
    "   y^{(i)}(\\langle w, x^{(i)} \\rangle + w_0 ) \\geq 1 \\quad i=1\\dots n\n",
    "\\end{cases}\n",
    "$$"
   ]
  },
  {
   "cell_type": "markdown",
   "metadata": {},
   "source": [
    "По теореме Куна-Таккера:\n",
    "\n",
    "\n",
    "$$\\begin{cases} \n",
    "   \\mathcal{L}(w,w_0,\\lambda) = \\frac{1}{2} ||w||^2  - \\sum\\limits_i \\lambda_i \\left( y^{(i)}(\\langle w, x \\rangle + w_0 )  - 1\\right)  \\rightarrow \\min\\limits_{w,w_0}\\max\\limits_{\\lambda}  \\\\\n",
    "   \\lambda_i \\geq 0 \\quad i=1\\dots n\\\\\n",
    "   \\lambda_i = 0 \\text{, либо }  \\langle w, x^{(i)} \\rangle + w_0 = y^{(i)} \\quad i=1\\dots n\n",
    "\\end{cases}$$\n",
    "Объекты, для которых  $\\lambda_i \\neq 0$ называются ** опорными ** \n",
    "\n",
    "\n",
    "Необходимое условие:\n",
    "*  $\\frac{\\partial \\mathcal{L} }{\\partial w} = w - \\sum\\limits_i \\lambda_iy_ix_i = 0 \\quad \\Rightarrow  \\quad w = \\sum\\limits_i \\lambda_iy_ix_i$\n",
    "*  $\\frac{\\partial \\mathcal{L} }{\\partial w_0} = \\sum\\limits_i \\lambda_iy_i = 0$"
   ]
  },
  {
   "cell_type": "markdown",
   "metadata": {},
   "source": [
    "(Сопряжённая задача) Если подставить  эти результаты в $\\mathcal{L}$ то получится\n",
    "$$\\begin{cases}\n",
    "\\mathcal{L}(\\lambda) = \\sum\\limits_i\\lambda_i  - \\frac{1}{2} \\sum\\limits_i\\sum\\limits_j \\lambda_i \\lambda_j  y_i y_j (\\langle x_i, x_j \\rangle)  \\rightarrow \\max\\limits_\\lambda  \\\\\n",
    "\\lambda_i \\geq 0 \\quad i=1\\dots n \\\\\n",
    "\\sum\\limits_i \\lambda_iy_i = 0\n",
    "\\end{cases}$$\n",
    "\n",
    "* **Зависит не от самих объектов, а от их скалярного произведения! **\n",
    "* $\\mathcal{L}(\\lambda)$ - выпуклая и ограниченная сверху функция.\n",
    "* Имеем единственное решение при линейной разделимости\n",
    "* Находим $\\lambda_i,$ из $w = \\sum\\limits_i \\lambda_iy_ix_i$ находим коэффициенты $w$.\n",
    "* Свободный член $w_0$ определяется как среднее или медиана $\\{\\langle w, x_i \\rangle - y_i: \\lambda_i \\neq 0\\}$"
   ]
  },
  {
   "cell_type": "code",
   "execution_count": 3,
   "metadata": {
    "ExecuteTime": {
     "end_time": "2019-10-31T20:50:59.547843Z",
     "start_time": "2019-10-31T20:50:58.785859Z"
    }
   },
   "outputs": [],
   "source": [
    "from sklearn.datasets.samples_generator import make_classification\n",
    "\n",
    "from sklearn.svm import SVC\n",
    "from sklearn.linear_model import LogisticRegression\n",
    "\n",
    "plt.style.use('ggplot')\n",
    "plt.rcParams['figure.figsize'] = (12,5)\n",
    "\n",
    "# Для кириллицы на графиках\n",
    "font = {'family': 'Verdana',\n",
    "        'weight': 'normal'}\n",
    "plt.rc('font', **font)\n",
    "\n",
    "try:\n",
    "    from ipywidgets import interact, IntSlider, fixed, FloatSlider\n",
    "except ImportError:\n",
    "    print('Так надо')\n",
    "\n",
    "def plot_svc_log_decision_function(clf1, clf2, ax=None):\n",
    "    if ax is None:\n",
    "        ax = plt.gca()\n",
    "    x = np.linspace(plt.xlim()[0], plt.xlim()[1], 30)\n",
    "    y = np.linspace(plt.ylim()[0], plt.ylim()[1], 30)\n",
    "    XX, YY = np.meshgrid(x, y)\n",
    "    XY = np.c_[XX.ravel(), YY.ravel()]\n",
    "    P1 = clf1.decision_function(XY)\n",
    "    P1 = P1.reshape(XX.shape)\n",
    "    \n",
    "    P2 = clf2.decision_function(XY)\n",
    "    P2 = P2.reshape(XX.shape)\n",
    "    # plot the margins\n",
    "    cplot = ax.contour(XX, YY, P1, colors='k', label='svm',\n",
    "               levels=[-1, 0, 1], alpha=0.5,\n",
    "               linestyles=['--', '-', '--'])\n",
    "    ax.clabel(cplot, inline=1, fontsize=10)\n",
    "    \n",
    "    ax.contour(XX, YY, P2, colors='r', label='logreg',\n",
    "               levels=[0], alpha=0.5,\n",
    "               linestyles=['-'])\n",
    "\n",
    "    \n",
    "def plot_svc_decision_function(clf1, ax=None):\n",
    "    if ax is None:\n",
    "        ax = plt.gca()\n",
    "    x = np.linspace(plt.xlim()[0], plt.xlim()[1], 30)\n",
    "    y = np.linspace(plt.ylim()[0], plt.ylim()[1], 30)\n",
    "    XX, YY = np.meshgrid(x, y)\n",
    "    XY = np.c_[XX.ravel(), YY.ravel()]\n",
    "    P1 = clf1.decision_function(XY)\n",
    "    P1 = P1.reshape(XX.shape)\n",
    "    \n",
    "    # plot the margins\n",
    "    cplot = ax.contour(XX, YY, P1, colors='k', label='svm',\n",
    "               levels=[-1, 0, 1], alpha=0.5,\n",
    "               linestyles=['--', '-', '--'])\n",
    "    ax.clabel(cplot, inline=1, fontsize=10)\n",
    "    \n",
    "\n",
    "def lin_sep_svm_demo(class_sep=2):\n",
    "    X, y = make_classification(n_samples=100, n_features=2, n_informative=2, class_sep=class_sep, scale=1,\n",
    "                                n_redundant=0, n_clusters_per_class=1, random_state=31)\n",
    "    # x_line = np.linspace(np.min(X) - 0.5, np.max(X) + 0.5)\n",
    "\n",
    "    lin_svm = SVC(kernel='linear', C=100).fit(X, y)\n",
    "    \n",
    "    log_reg = LogisticRegression(C=100).fit(X, y)\n",
    "    \n",
    "    plt.figure(figsize=(10,7))\n",
    "    plt.scatter(X[:, 0], X[:, 1], c=y, s=70, cmap='autumn')\n",
    "    plot_svc_log_decision_function(lin_svm, log_reg)\n",
    "    # plt.scatter(lin_svm.support_vectors_[:, 0], lin_svm.support_vectors_[:, 1],\n",
    "    #        s=200, facecolors='none')\n",
    "    \n",
    "    \n",
    "    plt.xlabel('$x_1$')\n",
    "    plt.ylabel('$x_2$')\n",
    "    \n",
    "    plt.xlim(-2, 5)\n",
    "    plt.ylim(-3, 4)"
   ]
  },
  {
   "cell_type": "code",
   "execution_count": 4,
   "metadata": {
    "ExecuteTime": {
     "end_time": "2019-10-31T20:50:59.979482Z",
     "start_time": "2019-10-31T20:50:59.550810Z"
    }
   },
   "outputs": [
    {
     "data": {
      "application/vnd.jupyter.widget-view+json": {
       "model_id": "6e69e924bee3405e89d9e9bc4a5d3e02",
       "version_major": 2,
       "version_minor": 0
      },
      "text/plain": [
       "interactive(children=(FloatSlider(value=2.0, description='class_sep', max=4.0, min=0.4), Output()), _dom_class…"
      ]
     },
     "metadata": {},
     "output_type": "display_data"
    },
    {
     "data": {
      "text/plain": [
       "<function __main__.lin_sep_svm_demo(class_sep=2)>"
      ]
     },
     "execution_count": 4,
     "metadata": {},
     "output_type": "execute_result"
    }
   ],
   "source": [
    "interact(lin_sep_svm_demo, class_sep=FloatSlider(min=0.4, max=4, step=0.1, value=2))"
   ]
  },
  {
   "cell_type": "markdown",
   "metadata": {},
   "source": [
    "### Неразделимый случай \n",
    "\n",
    "Будем допускать пропуск объектов за разделительную линию\n",
    "* Вместо условия $y^{(i)}(\\langle w, x^{(i)} \\rangle + w_0 ) \\geq 1$\n",
    "* Будет условие $y^{(i)}(\\langle w, x^{(i)} \\rangle + w_0 ) \\geq 1 - \\xi_i, \\quad \\xi_i \\geq 0$\n",
    "\n",
    "<center><img src='./images_pt1/slack.png'></center>\n",
    "\n",
    "А целевой функционал заменим на \n",
    "\n",
    "$$ \\frac{1}{2} ||w||^2 + C\\sum\\limits_i\\xi_i  \\rightarrow \\min\\limits_{w,w_0,\\xi}  $$"
   ]
  },
  {
   "cell_type": "markdown",
   "metadata": {},
   "source": [
    "Таким образом мы придем к оптимизационной задаче:\n",
    "$$\n",
    "\\begin{cases} \n",
    "   \\frac{1}{2} ||w||^2 + C\\sum\\limits_i\\xi_i  \\rightarrow \\min\\limits_{w,w_0,\\xi} \\\\\n",
    "   y^{(i)}(\\langle w, x^{(i)} \\rangle + w_0 ) \\geq 1 - \\xi_i \\quad i=1\\dots n \\\\\n",
    "   \\xi_i \\geq 0 \\quad i=1\\dots n\n",
    "\\end{cases}\n",
    "$$\n",
    "\n"
   ]
  },
  {
   "cell_type": "markdown",
   "metadata": {},
   "source": [
    "Условия Куна-Таккера, необходимые условия оптимума $\\rightarrow$ получаем сопряженную задачу\n",
    "$$\\begin{cases}\n",
    "\\mathcal{L}(\\lambda) = \\sum\\limits_i\\lambda_i  - \\frac{1}{2} \\sum\\limits_i\\sum\\limits_j \\lambda_i \\lambda_j  y_i y_j (\\langle x_i, x_j \\rangle)  \\rightarrow \\max\\limits_\\lambda  \\\\\n",
    "0 \\leq \\lambda_i \\leq C \\quad i=1\\dots n \\\\\n",
    "\\sum\\limits_i \\lambda_iy_i = 0\n",
    "\\end{cases}$$"
   ]
  },
  {
   "cell_type": "markdown",
   "metadata": {},
   "source": [
    "Заметим, что изначальный целевой функционал\n",
    "$$ \\frac{1}{2} ||w||^2 + C\\sum\\limits_i\\xi_i  \\rightarrow \\min\\limits_{w,w_0,\\xi}  $$\n",
    "Можно представить в виде\n",
    "$$ \\frac{1}{2С} ||w||^2 + \\sum\\limits_i(1-M_i)_+ \\rightarrow \\min\\limits_{w,w_0}, $$\n",
    "где $M_i$ - это отступ объекта  $x^{(i)}$"
   ]
  },
  {
   "cell_type": "code",
   "execution_count": 5,
   "metadata": {
    "ExecuteTime": {
     "end_time": "2019-10-31T20:50:59.991432Z",
     "start_time": "2019-10-31T20:50:59.983326Z"
    }
   },
   "outputs": [],
   "source": [
    "def lin_sep_svm_demo_C(class_sep=2, C=10):\n",
    "    X, y = make_classification(n_samples=100, n_features=2, n_informative=2, class_sep=class_sep, scale=1,\n",
    "                                n_redundant=0, n_clusters_per_class=1, random_state=31)\n",
    "    # x_line = np.linspace(np.min(X) - 0.5, np.max(X) + 0.5)\n",
    "\n",
    "    lin_svm = SVC(kernel='linear', C=C).fit(X, y)\n",
    "    \n",
    "    log_reg = LogisticRegression(C=C).fit(X, y)\n",
    "    \n",
    "    plt.figure(figsize=(10,7))\n",
    "    plt.scatter(X[:, 0], X[:, 1], c=y, s=70, cmap='autumn')\n",
    "    plot_svc_log_decision_function(lin_svm, log_reg)\n",
    "    plt.scatter(lin_svm.support_vectors_[:, 0], lin_svm.support_vectors_[:, 1],\n",
    "            s=200, facecolors='none')\n",
    "    \n",
    "    \n",
    "    plt.xlabel('$x_1$')\n",
    "    plt.ylabel('$x_2$')\n",
    "    \n",
    "    plt.xlim(-2, 5)\n",
    "    plt.ylim(-3, 4)"
   ]
  },
  {
   "cell_type": "code",
   "execution_count": 6,
   "metadata": {
    "ExecuteTime": {
     "end_time": "2019-10-31T20:51:00.305740Z",
     "start_time": "2019-10-31T20:50:59.994494Z"
    }
   },
   "outputs": [
    {
     "data": {
      "application/vnd.jupyter.widget-view+json": {
       "model_id": "7682a4dbf4c64be1a2b5e07e7688708d",
       "version_major": 2,
       "version_minor": 0
      },
      "text/plain": [
       "interactive(children=(FloatSlider(value=2.0, description='class_sep', max=4.0, min=0.2, step=0.2), FloatSlider…"
      ]
     },
     "metadata": {},
     "output_type": "display_data"
    },
    {
     "data": {
      "text/plain": [
       "<function __main__.lin_sep_svm_demo_C(class_sep=2, C=10)>"
      ]
     },
     "execution_count": 6,
     "metadata": {},
     "output_type": "execute_result"
    }
   ],
   "source": [
    "interact(lin_sep_svm_demo_C, class_sep=FloatSlider(min=0.2, max=4, value=2, step=0.2), C=FloatSlider(min=0.002, max=10, step=0.002, value=1))"
   ]
  },
  {
   "cell_type": "markdown",
   "metadata": {},
   "source": [
    "Еще есть kernel trick -- делаем преобразование пространства так, что в новом пространстве классы линейно разделимы."
   ]
  },
  {
   "cell_type": "code",
   "execution_count": null,
   "metadata": {},
   "outputs": [],
   "source": []
  },
  {
   "cell_type": "code",
   "execution_count": null,
   "metadata": {},
   "outputs": [],
   "source": []
  },
  {
   "cell_type": "code",
   "execution_count": null,
   "metadata": {},
   "outputs": [],
   "source": []
  }
 ],
 "metadata": {
  "kernelspec": {
   "display_name": "Python 3",
   "language": "python",
   "name": "python3"
  },
  "language_info": {
   "codemirror_mode": {
    "name": "ipython",
    "version": 3
   },
   "file_extension": ".py",
   "mimetype": "text/x-python",
   "name": "python",
   "nbconvert_exporter": "python",
   "pygments_lexer": "ipython3",
   "version": "3.6.8"
  }
 },
 "nbformat": 4,
 "nbformat_minor": 2
}
