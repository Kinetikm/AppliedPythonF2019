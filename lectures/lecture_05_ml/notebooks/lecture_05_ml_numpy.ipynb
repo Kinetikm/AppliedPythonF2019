{
 "cells": [
  {
   "cell_type": "markdown",
   "metadata": {},
   "source": [
    "# `numpy`"
   ]
  },
  {
   "cell_type": "code",
   "execution_count": 1,
   "metadata": {},
   "outputs": [],
   "source": [
    "import numpy as np"
   ]
  },
  {
   "cell_type": "markdown",
   "metadata": {},
   "source": [
    "## Как создать массив в `numpy`?"
   ]
  },
  {
   "cell_type": "code",
   "execution_count": 2,
   "metadata": {},
   "outputs": [],
   "source": [
    "#Создадим всякие массивчики\n",
    "string_array = np.array([\"строка\", 5])\n",
    "float_array = np.array([5., 5])\n",
    "float_array_2 = np.array([6.])\n",
    "int_array = np.array([5, 4])\n",
    "two_dimarray = np.array([[5, 4], [4, 6]])\n",
    "one_dimarray = np.array([[5, 4], [4]])"
   ]
  },
  {
   "cell_type": "code",
   "execution_count": 3,
   "metadata": {},
   "outputs": [
    {
     "ename": "TypeError",
     "evalue": "list indices must be integers or slices, not tuple",
     "output_type": "error",
     "traceback": [
      "\u001b[1;31m---------------------------------------------------------------------------\u001b[0m",
      "\u001b[1;31mTypeError\u001b[0m                                 Traceback (most recent call last)",
      "\u001b[1;32m<ipython-input-3-d4e34a470db6>\u001b[0m in \u001b[0;36m<module>\u001b[1;34m\u001b[0m\n\u001b[0;32m      1\u001b[0m \u001b[1;31m#К массивам можно обращаться по 2 индексам. Возможны срезу по нескольким осям\u001b[0m\u001b[1;33m\u001b[0m\u001b[1;33m\u001b[0m\u001b[1;33m\u001b[0m\u001b[0m\n\u001b[0;32m      2\u001b[0m \u001b[0mexample_list\u001b[0m \u001b[1;33m=\u001b[0m \u001b[1;33m[\u001b[0m\u001b[1;33m[\u001b[0m\u001b[1;36m5\u001b[0m\u001b[1;33m,\u001b[0m \u001b[1;36m4\u001b[0m\u001b[1;33m]\u001b[0m\u001b[1;33m,\u001b[0m \u001b[1;33m[\u001b[0m\u001b[1;36m7\u001b[0m\u001b[1;33m,\u001b[0m \u001b[1;36m8\u001b[0m\u001b[1;33m]\u001b[0m\u001b[1;33m]\u001b[0m\u001b[1;33m\u001b[0m\u001b[1;33m\u001b[0m\u001b[0m\n\u001b[1;32m----> 3\u001b[1;33m \u001b[0mexample_list\u001b[0m\u001b[1;33m[\u001b[0m\u001b[1;33m:\u001b[0m\u001b[1;33m,\u001b[0m \u001b[1;36m1\u001b[0m\u001b[1;33m]\u001b[0m\u001b[1;33m\u001b[0m\u001b[1;33m\u001b[0m\u001b[0m\n\u001b[0m",
      "\u001b[1;31mTypeError\u001b[0m: list indices must be integers or slices, not tuple"
     ]
    }
   ],
   "source": [
    "#К массивам можно обращаться по 2 индексам. Возможны срезу по нескольким осям\n",
    "example_list = [[5, 4], [7, 8]]\n",
    "example_list[:, 1]"
   ]
  },
  {
   "cell_type": "code",
   "execution_count": 4,
   "metadata": {},
   "outputs": [
    {
     "data": {
      "text/plain": [
       "array([4, 8])"
      ]
     },
     "execution_count": 4,
     "metadata": {},
     "output_type": "execute_result"
    }
   ],
   "source": [
    "example_arr = np.array([[5, 4], [7, 8]])\n",
    "example_arr[:, 1]"
   ]
  },
  {
   "cell_type": "code",
   "execution_count": 5,
   "metadata": {},
   "outputs": [
    {
     "name": "stdout",
     "output_type": "stream",
     "text": [
      "Размерность вдоль первой оси: 2\n",
      "Размерность массива: (2, 2)\n",
      "Тип данных в массиве: int32\n",
      "Размер исходного массива 128\n",
      "Размер массива после преобразования 116\n"
     ]
    }
   ],
   "source": [
    "#Можно получить параметры массива: тип данных, форму, размерность вдоль оси\n",
    "two_dimarray = np.array([[5, 4], [4, 6]])\n",
    "print(\"Размерность вдоль первой оси: {}\".format(len(two_dimarray)))\n",
    "print(\"Размерность массива: {}\".format(two_dimarray.shape))\n",
    "print(\"Тип данных в массиве: {}\".format(two_dimarray.dtype))\n",
    "\n",
    "#Давайте пожмем наш int64 до int8 (преподложим, что знаем ограничение на размер чисел)\n",
    "import sys\n",
    "print(\"Размер исходного массива %d\" % sys.getsizeof(two_dimarray))\n",
    "two_dimarray = two_dimarray.astype(np.int8)\n",
    "print(\"Размер массива после преобразования %d\" % sys.getsizeof(two_dimarray))"
   ]
  },
  {
   "cell_type": "markdown",
   "metadata": {},
   "source": [
    "### Чтобы не писать велосипеды для создания кастомных массивов есть:"
   ]
  },
  {
   "cell_type": "code",
   "execution_count": 6,
   "metadata": {},
   "outputs": [
    {
     "data": {
      "text/plain": [
       "array([[0., 0.],\n",
       "       [0., 0.]])"
      ]
     },
     "execution_count": 6,
     "metadata": {},
     "output_type": "execute_result"
    }
   ],
   "source": [
    "np.zeros((2, 2)) # array of all zeroes"
   ]
  },
  {
   "cell_type": "code",
   "execution_count": 7,
   "metadata": {},
   "outputs": [
    {
     "data": {
      "text/plain": [
       "array([[1., 1.]])"
      ]
     },
     "execution_count": 7,
     "metadata": {},
     "output_type": "execute_result"
    }
   ],
   "source": [
    "np.ones((1,2)) # array of all ones"
   ]
  },
  {
   "cell_type": "code",
   "execution_count": 8,
   "metadata": {},
   "outputs": [
    {
     "data": {
      "text/plain": [
       "array([[42, 42],\n",
       "       [42, 42]])"
      ]
     },
     "execution_count": 8,
     "metadata": {},
     "output_type": "execute_result"
    }
   ],
   "source": [
    "np.full((2,2), 42) # constant array"
   ]
  },
  {
   "cell_type": "code",
   "execution_count": 9,
   "metadata": {},
   "outputs": [
    {
     "data": {
      "text/plain": [
       "array([[ -4,   0, -10,  -7,   7],\n",
       "       [ -6,  -2,  -4,   5,  -7]])"
      ]
     },
     "execution_count": 9,
     "metadata": {},
     "output_type": "execute_result"
    }
   ],
   "source": [
    "np.random.randint(-10, 10, (2, 5)) # array of random elems"
   ]
  },
  {
   "cell_type": "markdown",
   "metadata": {},
   "source": [
    "## Индексирование и слайсы"
   ]
  },
  {
   "cell_type": "code",
   "execution_count": 10,
   "metadata": {
    "scrolled": true
   },
   "outputs": [
    {
     "name": "stdout",
     "output_type": "stream",
     "text": [
      "[[17 61 37 16 97 56 18  2 38 91]\n",
      " [86 90 75 41 16  1 59 28 14 35]\n",
      " [52 44 68 75 24 87 37 73 88 20]\n",
      " [16  4 27 77  5 87 49 98 41 83]\n",
      " [63 81 60 11 56 15 87  5 85 30]]\n"
     ]
    }
   ],
   "source": [
    "a = np.random.randint(0, 100, size=(5, 10))\n",
    "print(a)"
   ]
  },
  {
   "cell_type": "code",
   "execution_count": 11,
   "metadata": {},
   "outputs": [
    {
     "data": {
      "text/plain": [
       "array([17, 61, 37, 16, 97, 56, 18,  2, 38, 91])"
      ]
     },
     "execution_count": 11,
     "metadata": {},
     "output_type": "execute_result"
    }
   ],
   "source": [
    "a[0]"
   ]
  },
  {
   "cell_type": "code",
   "execution_count": 12,
   "metadata": {},
   "outputs": [
    {
     "data": {
      "text/plain": [
       "61"
      ]
     },
     "execution_count": 12,
     "metadata": {},
     "output_type": "execute_result"
    }
   ],
   "source": [
    "a[0, 1] # the same as a[0][1]"
   ]
  },
  {
   "cell_type": "code",
   "execution_count": 13,
   "metadata": {},
   "outputs": [
    {
     "data": {
      "text/plain": [
       "array([61, 90, 44,  4, 81])"
      ]
     },
     "execution_count": 13,
     "metadata": {},
     "output_type": "execute_result"
    }
   ],
   "source": [
    "# Можно делать слайсы по осям. Получим 2-ой столбец матрицы:\n",
    "a[:, 1]"
   ]
  },
  {
   "cell_type": "code",
   "execution_count": 14,
   "metadata": {},
   "outputs": [
    {
     "data": {
      "text/plain": [
       "array([38, 14, 88, 41])"
      ]
     },
     "execution_count": 14,
     "metadata": {},
     "output_type": "execute_result"
    }
   ],
   "source": [
    "# выведем все элементы, кроме последнего, из предпоследнего столбца:\n",
    "a[:-1, -2]"
   ]
  },
  {
   "cell_type": "code",
   "execution_count": 15,
   "metadata": {},
   "outputs": [
    {
     "data": {
      "text/plain": [
       "array([63, 60, 56, 87, 85])"
      ]
     },
     "execution_count": 15,
     "metadata": {},
     "output_type": "execute_result"
    }
   ],
   "source": [
    "# а теперь каждый 2-ой элемент (начиная с 0-ого индекса) последней строчки:\n",
    "a[-1, ::2]"
   ]
  },
  {
   "cell_type": "code",
   "execution_count": 16,
   "metadata": {},
   "outputs": [
    {
     "data": {
      "text/plain": [
       "array([81, 11, 15,  5, 30])"
      ]
     },
     "execution_count": 16,
     "metadata": {},
     "output_type": "execute_result"
    }
   ],
   "source": [
    "# каждый 2-ой элемент (начиная с 1-ого индекса) последней строчки:\n",
    "a[-1, 1::2]"
   ]
  },
  {
   "cell_type": "code",
   "execution_count": 28,
   "metadata": {},
   "outputs": [
    {
     "data": {
      "text/plain": [
       "array([[ True, False,  True,  True,  True,  True,  True,  True,  True,\n",
       "         True],\n",
       "       [ True, False,  True,  True,  True,  True,  True,  True,  True,\n",
       "         True],\n",
       "       [ True, False,  True,  True,  True,  True,  True,  True,  True,\n",
       "         True],\n",
       "       [ True, False,  True,  True,  True,  True,  True,  True,  True,\n",
       "         True],\n",
       "       [ True, False,  True,  True,  True,  True,  True,  True,  True,\n",
       "         True]])"
      ]
     },
     "execution_count": 28,
     "metadata": {},
     "output_type": "execute_result"
    }
   ],
   "source": [
    "a > 0"
   ]
  },
  {
   "cell_type": "code",
   "execution_count": 29,
   "metadata": {},
   "outputs": [
    {
     "data": {
      "text/plain": [
       "array([17,  1, 16, 97, 56, 18,  2, 38, 91,  1,  1,  1,  1,  1,  1,  1,  1,\n",
       "        1,  1,  1,  1,  1,  1,  1,  1,  1,  1,  1,  1,  1,  1,  1,  1,  1,\n",
       "        1,  1, 63,  1, 11, 56, 15, 87,  5, 85, 30])"
      ]
     },
     "execution_count": 29,
     "metadata": {},
     "output_type": "execute_result"
    }
   ],
   "source": [
    "a[a > 0]"
   ]
  },
  {
   "cell_type": "code",
   "execution_count": 18,
   "metadata": {},
   "outputs": [
    {
     "data": {
      "text/plain": [
       "array([[17, 61, 37, 16, 97, 56, 18,  2, 38, 91],\n",
       "       [63, 81, 60, 11, 56, 15, 87,  5, 85, 30]])"
      ]
     },
     "execution_count": 18,
     "metadata": {},
     "output_type": "execute_result"
    }
   ],
   "source": [
    "# 1-ая и 5-ая строчки массива:\n",
    "a[np.array([0, 4])]"
   ]
  },
  {
   "cell_type": "markdown",
   "metadata": {},
   "source": [
    "### Для присваивания тоже работает!"
   ]
  },
  {
   "cell_type": "code",
   "execution_count": 19,
   "metadata": {},
   "outputs": [
    {
     "data": {
      "text/plain": [
       "array([[17, 61, 37, 16, 97, 56, 18,  2, 38, 91],\n",
       "       [86, 90, 75, 41, 16,  1, 59, 28, 14, 35],\n",
       "       [52, 44, 68, 75, 24, 87, 37, 73, 88, 20],\n",
       "       [16,  4, 27, 77,  5, 87, 49, 98, 41, 83],\n",
       "       [63, 81, 60, 11, 56, 15, 87,  5, 85, 30]])"
      ]
     },
     "execution_count": 19,
     "metadata": {},
     "output_type": "execute_result"
    }
   ],
   "source": [
    "a"
   ]
  },
  {
   "cell_type": "code",
   "execution_count": 34,
   "metadata": {},
   "outputs": [
    {
     "data": {
      "text/plain": [
       "array([[ 0,  0,  1, 16, 97, 56, 18,  2, 38, 91],\n",
       "       [ 1,  1,  1,  1,  1,  1,  1,  1,  1,  1],\n",
       "       [ 1,  0,  2,  1,  1,  1,  1,  1,  1,  1],\n",
       "       [ 1,  0,  1,  3,  1,  1,  1,  1,  1,  1],\n",
       "       [63,  0,  1, 11,  4, 15, 87,  5, 85, 30]])"
      ]
     },
     "execution_count": 34,
     "metadata": {},
     "output_type": "execute_result"
    }
   ],
   "source": [
    "a[0][0] = 0\n",
    "a[1, 1] = 1\n",
    "for i in range(min(a.shape)):\n",
    "    a[i, i] = i\n",
    "    \n",
    "a"
   ]
  },
  {
   "cell_type": "code",
   "execution_count": 35,
   "metadata": {},
   "outputs": [
    {
     "data": {
      "text/plain": [
       "array([[ 0,  0,  1, 16, 97, 56, 18,  2, 38, 91],\n",
       "       [ 1,  1,  1,  1,  1,  1,  1,  1,  1,  1],\n",
       "       [ 1,  1,  1,  1,  1,  1,  1,  1,  1,  1],\n",
       "       [ 1,  1,  1,  1,  1,  1,  1,  1,  1,  1],\n",
       "       [63,  0,  1, 11,  4, 15, 87,  5, 85, 30]])"
      ]
     },
     "execution_count": 35,
     "metadata": {},
     "output_type": "execute_result"
    }
   ],
   "source": [
    "a[1:-1, :] = 1\n",
    "a"
   ]
  },
  {
   "cell_type": "code",
   "execution_count": 36,
   "metadata": {},
   "outputs": [
    {
     "data": {
      "text/plain": [
       "array([[ 0,  0,  1, 16, 97, 56, 18,  2, 38, 91],\n",
       "       [ 1,  0,  1,  1,  1,  1,  1,  1,  1,  1],\n",
       "       [ 1,  0,  1,  1,  1,  1,  1,  1,  1,  1],\n",
       "       [ 1,  0,  1,  1,  1,  1,  1,  1,  1,  1],\n",
       "       [63,  0,  1, 11,  4, 15, 87,  5, 85, 30]])"
      ]
     },
     "execution_count": 36,
     "metadata": {},
     "output_type": "execute_result"
    }
   ],
   "source": [
    "a[:, 1:3] = np.arange(2)\n",
    "a"
   ]
  },
  {
   "cell_type": "code",
   "execution_count": 26,
   "metadata": {},
   "outputs": [],
   "source": [
    "def simple_matrix_generator(n):\n",
    "    #TODO создать единичную матрицу размера n x n в виде numpy arra\n",
    "    return np.eye(n)\n",
    "#a = np.zeros((n, n))\n",
    "#for i in range(n):\n",
    "#   a[i, i] = 1\n",
    "\n"
   ]
  },
  {
   "cell_type": "code",
   "execution_count": 27,
   "metadata": {},
   "outputs": [],
   "source": [
    "assert np.array_equal(simple_matrix_generator(4), np.array([[1., 0., 0., 0.], [0., 1., 0., 0.], [0., 0., 1., 0.], [0., 0., 0., 1.]]))\n",
    "assert np.array_equal(simple_matrix_generator(3), np.array([[1., 0., 0.], [0., 1., 0.], [0., 0., 1.]]))\n",
    "assert np.array_equal(simple_matrix_generator(2), np.array([[1., 0.], [0., 1.]]))"
   ]
  },
  {
   "cell_type": "markdown",
   "metadata": {},
   "source": [
    "## Операции с `np.array`"
   ]
  },
  {
   "cell_type": "code",
   "execution_count": 39,
   "metadata": {},
   "outputs": [
    {
     "name": "stdout",
     "output_type": "stream",
     "text": [
      "[5 4 7 8]\n",
      "[[5 4]\n",
      " [7 8]]\n",
      "[[5 4]\n",
      " [7 8]]\n",
      "[5 4 7 8]\n"
     ]
    }
   ],
   "source": [
    "#Преобразование формы массива \n",
    "example = np.array([5, 4, 7, 8])\n",
    "print(example)\n",
    "print(example.reshape(2, 2))\n",
    "print(example.reshape(2, -1)) #if we don't know the number of cols\n",
    "print(example.reshape(2, 3)) #err because there will be spaces\n",
    "\n",
    "\n",
    "print(example.reshape(2, 2).flatten())\n",
    "\n",
    "[1, 2] #shape = (2,)\n",
    "[[1, 2]] #shape = (2, 1)"
   ]
  },
  {
   "cell_type": "code",
   "execution_count": 41,
   "metadata": {},
   "outputs": [
    {
     "name": "stdout",
     "output_type": "stream",
     "text": [
      "[5. 6. 5. 6.]\n",
      "[[5.]\n",
      " [6.]\n",
      " [5.]\n",
      " [6.]]\n",
      "[[5. 5.]\n",
      " [6. 6.]]\n",
      "[[5.]\n",
      " [6.]\n",
      " [5.]\n",
      " [6.]]\n",
      "[[5. 5.]\n",
      " [6. 6.]]\n"
     ]
    }
   ],
   "source": [
    "# Массивы можно по-разному объединять и добавлять элементы\n",
    "example = np.array([5., 6.])\n",
    "example = np.append(example, example)\n",
    "print(example)\n",
    "example = np.array([[5.], [6.]])\n",
    "print(np.concatenate((example, example), axis=0))\n",
    "print(np.concatenate((example, example), axis=1))\n",
    "print(np.vstack((example, example)))\n",
    "print(np.hstack((example, example)))"
   ]
  },
  {
   "cell_type": "code",
   "execution_count": 42,
   "metadata": {},
   "outputs": [
    {
     "name": "stdout",
     "output_type": "stream",
     "text": [
      "[2.5 2.  3.5 4. ]\n",
      "[15 12 21 24]\n",
      "[37 36 39 40]\n",
      "[4 3 6 7]\n",
      "[25 16 49 64]\n",
      "Multidemensional\n",
      "[[2.5 2. ]\n",
      " [3.5 4. ]]\n",
      "[[15 12]\n",
      " [21 24]]\n",
      "[[37 36]\n",
      " [39 40]]\n",
      "[[4 3]\n",
      " [6 7]]\n",
      "[[25 16]\n",
      " [49 64]]\n",
      "Lessdimensional\n",
      "[[2.5        1.33333333]\n",
      " [3.5        2.66666667]]\n",
      "[[10 12]\n",
      " [14 24]]\n",
      "[[ 7  7]\n",
      " [ 9 11]]\n",
      "[[3 1]\n",
      " [5 5]]\n",
      "[[ 25  64]\n",
      " [ 49 512]]\n"
     ]
    }
   ],
   "source": [
    "#Над массивами numpy можно производить простейшие математические операции\n",
    "example = np.array([5, 4, 7, 8])\n",
    "print(example / 2)\n",
    "print(example * 3)\n",
    "print(example + 32)\n",
    "print(example - 1)\n",
    "print(example ** 2)\n",
    "print(\"Multidemensional\")\n",
    "example = np.array([[5, 4], [7, 8]])\n",
    "print(example / 2)\n",
    "print(example * 3)\n",
    "print(example + 32)\n",
    "print(example - 1)\n",
    "print(example ** 2)\n",
    "print(\"Lessdimensional\")\n",
    "example = np.array([[5, 4], [7, 8]])\n",
    "sep_arr = np.array([2, 3])\n",
    "print(example / sep_arr)\n",
    "print(example * sep_arr)\n",
    "print(example + sep_arr)\n",
    "print(example - sep_arr)\n",
    "print(example ** sep_arr)"
   ]
  },
  {
   "cell_type": "code",
   "execution_count": 43,
   "metadata": {},
   "outputs": [
    {
     "name": "stdout",
     "output_type": "stream",
     "text": [
      "[[5 7]\n",
      " [4 8]]\n"
     ]
    }
   ],
   "source": [
    "#Можно производить стандартные операции над векторами n-мерного пространства\n",
    "example = np.array([[5, 4], [7, 8]])\n",
    "print(example.transpose())"
   ]
  },
  {
   "cell_type": "code",
   "execution_count": 55,
   "metadata": {},
   "outputs": [],
   "source": [
    "#И снова калькулятор\n",
    "def calculate(a, b=None, func=\"+\"):\n",
    "    #TODO Ну мы такое уже писали, кажется, совсем просто\n",
    "    if func == \"+\":\n",
    "        return a + b\n",
    "    if func == \"-\":\n",
    "        return a - b\n",
    "    if func == \"**\":\n",
    "        return a ** b\n",
    "    if func == \"*\":\n",
    "        return a * b\n",
    "    if func == \"/\":\n",
    "        return a / b\n",
    "    if func == \"T\":\n",
    "        return a.transpose()\n",
    "    if func == \"increment\":\n",
    "        #TODO увеличвает на 1 ДИАГОНАЛЬНЫЕ элементы, если матрица квадратная, иначе возвращает исходную матрицу\n",
    "        if a.shape[0] == a.shape[1]:\n",
    "            return a + np.eye(a.shape[0])\n",
    "        return a\n",
    "    #Примените func ко всем эементам a\n",
    "    return func(a)"
   ]
  },
  {
   "cell_type": "code",
   "execution_count": 58,
   "metadata": {},
   "outputs": [
    {
     "ename": "AssertionError",
     "evalue": "",
     "output_type": "error",
     "traceback": [
      "\u001b[1;31m---------------------------------------------------------------------------\u001b[0m",
      "\u001b[1;31mAssertionError\u001b[0m                            Traceback (most recent call last)",
      "\u001b[1;32m<ipython-input-58-5faa62815c40>\u001b[0m in \u001b[0;36m<module>\u001b[1;34m\u001b[0m\n\u001b[0;32m     29\u001b[0m assert np.array_equal(calculate(example, sample_vec, \"**\"), np.array([[         1,         16,      59049],\n\u001b[0;32m     30\u001b[0m                                                                 \u001b[1;33m[\u001b[0m        \u001b[1;36m16\u001b[0m\u001b[1;33m,\u001b[0m        \u001b[1;36m625\u001b[0m\u001b[1;33m,\u001b[0m   \u001b[1;36m60466176\u001b[0m\u001b[1;33m]\u001b[0m\u001b[1;33m,\u001b[0m\u001b[1;33m\u001b[0m\u001b[1;33m\u001b[0m\u001b[0m\n\u001b[1;32m---> 31\u001b[1;33m                                                                 [        49,       4096, 3486784401]]))\n\u001b[0m\u001b[0;32m     32\u001b[0m \u001b[1;33m\u001b[0m\u001b[0m\n\u001b[0;32m     33\u001b[0m \u001b[1;31m#!!!ALARM почему отрицательное число?\u001b[0m\u001b[1;33m\u001b[0m\u001b[1;33m\u001b[0m\u001b[1;33m\u001b[0m\u001b[0m\n",
      "\u001b[1;31mAssertionError\u001b[0m: "
     ]
    }
   ],
   "source": [
    "example = np.array([[1, 2, 3], [4, 5, 6], [7, 8, 9]])\n",
    "sample_vec = np.array([2, 4, 10])\n",
    "\n",
    "assert np.array_equal(calculate(example, sample_vec, \"/\"), np.array([[ 0.5 ,  0.5 ,  0.3 ], [ 2.  ,  1.25,  0.6 ], [ 3.5 ,  2.  ,  0.9 ]]))\n",
    "assert np.array_equal(calculate(example, 20, \"/\"), np.array([[ 0.05,  0.1 ,  0.15],\n",
    "                                                             [ 0.2 ,  0.25,  0.3 ],\n",
    "                                                             [ 0.35,  0.4 ,  0.45]]))\n",
    "assert np.array_equal(calculate(example, 20, \"+\"), np.array([[21, 22, 23],\n",
    "                                                             [24, 25, 26],\n",
    "                                                             [27, 28, 29]]))\n",
    "assert np.array_equal(calculate(example, sample_vec, \"+\"), np.array([[ 3,  6, 13],\n",
    "                                                                     [ 6,  9, 16],\n",
    "                                                                     [ 9, 12, 19]]))\n",
    "assert np.array_equal(calculate(example, 20, \"*\"), np.array([[ 20,  40,  60],\n",
    "                                                             [ 80, 100, 120],\n",
    "                                                             [140, 160, 180]]))\n",
    "assert np.array_equal(calculate(example, sample_vec, \"*\"), np.array([[ 2,  8, 30],\n",
    "                                                                     [ 8, 20, 60],\n",
    "                                                                     [14, 32, 90]]))\n",
    "assert np.array_equal(calculate(example, 20, \"-\"), np.array([[-19, -18, -17],\n",
    "                                                             [-16, -15, -14],\n",
    "                                                             [-13, -12, -11]]))\n",
    "assert np.array_equal(calculate(example, sample_vec, \"-\"), np.array([[-1, -2, -7],\n",
    "                                                                     [ 2,  1, -4],\n",
    "                                                                     [ 5,  4, -1]]))\n",
    "assert np.array_equal(calculate(example, func=\"T\"), np.array([[1, 4, 7],\n",
    "                                                              [2, 5, 8],\n",
    "                                                              [3, 6, 9]]))\n",
    "assert np.array_equal(calculate(example, sample_vec, \"**\"), np.array([[         1,         16,      59049],\n",
    "                                                                [        16,        625,   60466176],\n",
    "                                                                [        49,       4096, 3486784401]]))\n",
    "\n",
    "#!!!ALARM почему отрицательное число?\n",
    "assert np.array_equal(calculate(example, 20, \"**\"), np.array([[                   1,              1048576,           3486784401],\n",
    "                                                              [       1099511627776,       95367431640625,     3656158440062976],\n",
    "                                                              [   79792266297612000,  1152921504606846976, -9223372036854775808]]))\n",
    "\n",
    "assert np.array_equal(calculate(example, func=\"increment\"), np.array([[  2.,   2.,   3.],\n",
    "                                                                     [  4.,   6.,   6.],\n",
    "                                                                     [  7.,   8.,  10.]]))\n",
    "assert np.array_equal(calculate(sample_vec, func=\"increment\"), sample_vec)"
   ]
  },
  {
   "cell_type": "code",
   "execution_count": 57,
   "metadata": {},
   "outputs": [
    {
     "name": "stdout",
     "output_type": "stream",
     "text": [
      "24\n",
      "[12 12]\n",
      "[ 9 15]\n"
     ]
    }
   ],
   "source": [
    "#Можно считать различные статистикиЮ суммы и другие значения по выбранной оси\n",
    "example = np.array([[5, 4], [7, 8]])\n",
    "print(example.sum())\n",
    "print(example.sum(axis=0))\n",
    "print(example.sum(axis=1))\n",
    "\n",
    "#TODO Найти минимум по столбцам, максимум по строкам, среднее значение всей матриц, дисперсию по строкам и аргминимум по строке"
   ]
  },
  {
   "cell_type": "markdown",
   "metadata": {},
   "source": [
    "### Волшебный `np.vectorize`"
   ]
  },
  {
   "cell_type": "code",
   "execution_count": 59,
   "metadata": {},
   "outputs": [],
   "source": [
    "pow_2 = lambda x: x ** 2"
   ]
  },
  {
   "cell_type": "code",
   "execution_count": 60,
   "metadata": {},
   "outputs": [
    {
     "data": {
      "text/plain": [
       "array([ 4,  9, 16], dtype=int32)"
      ]
     },
     "execution_count": 60,
     "metadata": {},
     "output_type": "execute_result"
    }
   ],
   "source": [
    "pow_2(np.array([2, 3, 4]))"
   ]
  },
  {
   "cell_type": "code",
   "execution_count": 61,
   "metadata": {},
   "outputs": [
    {
     "ename": "TypeError",
     "evalue": "unsupported operand type(s) for ** or pow(): 'list' and 'int'",
     "output_type": "error",
     "traceback": [
      "\u001b[1;31m---------------------------------------------------------------------------\u001b[0m",
      "\u001b[1;31mTypeError\u001b[0m                                 Traceback (most recent call last)",
      "\u001b[1;32m<ipython-input-61-e42941c72082>\u001b[0m in \u001b[0;36m<module>\u001b[1;34m\u001b[0m\n\u001b[1;32m----> 1\u001b[1;33m \u001b[0mpow_2\u001b[0m\u001b[1;33m(\u001b[0m\u001b[1;33m[\u001b[0m\u001b[1;36m2\u001b[0m\u001b[1;33m,\u001b[0m \u001b[1;36m3\u001b[0m\u001b[1;33m,\u001b[0m \u001b[1;36m4\u001b[0m\u001b[1;33m]\u001b[0m\u001b[1;33m)\u001b[0m\u001b[1;33m\u001b[0m\u001b[1;33m\u001b[0m\u001b[0m\n\u001b[0m",
      "\u001b[1;32m<ipython-input-59-d79e2442b54b>\u001b[0m in \u001b[0;36m<lambda>\u001b[1;34m(x)\u001b[0m\n\u001b[1;32m----> 1\u001b[1;33m \u001b[0mpow_2\u001b[0m \u001b[1;33m=\u001b[0m \u001b[1;32mlambda\u001b[0m \u001b[0mx\u001b[0m\u001b[1;33m:\u001b[0m \u001b[0mx\u001b[0m \u001b[1;33m**\u001b[0m \u001b[1;36m2\u001b[0m\u001b[1;33m\u001b[0m\u001b[1;33m\u001b[0m\u001b[0m\n\u001b[0m",
      "\u001b[1;31mTypeError\u001b[0m: unsupported operand type(s) for ** or pow(): 'list' and 'int'"
     ]
    }
   ],
   "source": [
    "pow_2([2, 3, 4])"
   ]
  },
  {
   "cell_type": "code",
   "execution_count": 62,
   "metadata": {},
   "outputs": [
    {
     "data": {
      "text/plain": [
       "array([ 4,  9, 16])"
      ]
     },
     "execution_count": 62,
     "metadata": {},
     "output_type": "execute_result"
    }
   ],
   "source": [
    "pow_2_vec = np.vectorize(pow_2)\n",
    "pow_2_vec([2, 3, 4])"
   ]
  },
  {
   "cell_type": "code",
   "execution_count": 63,
   "metadata": {},
   "outputs": [
    {
     "data": {
      "text/plain": [
       "4"
      ]
     },
     "execution_count": 63,
     "metadata": {},
     "output_type": "execute_result"
    }
   ],
   "source": [
    "a = np.array([1, 1])\n",
    "b = np.array([2, 2])\n",
    "a.dot(b)"
   ]
  },
  {
   "cell_type": "code",
   "execution_count": 64,
   "metadata": {},
   "outputs": [
    {
     "data": {
      "text/plain": [
       "array([[2, 2],\n",
       "       [2, 2]])"
      ]
     },
     "execution_count": 64,
     "metadata": {},
     "output_type": "execute_result"
    }
   ],
   "source": [
    "a = np.array([[1, 1]])\n",
    "b = np.array([[2], [2]])\n",
    "b.dot(a)"
   ]
  },
  {
   "cell_type": "markdown",
   "metadata": {},
   "source": [
    "#### Задание (*): с помощью `np.random.randint` создайте два массива (`x` и `y`) с элементами в диапазоне [-1000, 1000], размерами (12, 42) и (42, 12), соответственно. Найдите самое большое положительное нечетное число последнего столбца произведения матриц `x` и `y`."
   ]
  },
  {
   "cell_type": "code",
   "execution_count": 65,
   "metadata": {},
   "outputs": [
    {
     "name": "stdout",
     "output_type": "stream",
     "text": [
      "2152733\n"
     ]
    }
   ],
   "source": [
    "x = np.random.randint(-1000, 1000, (12, 42))\n",
    "y = np.random.randint(-1000, 1000, (42, 12))\n",
    "\n",
    "tmp = (x @ y)[:, -1]\n",
    "print(tmp[(tmp % 2 == 1) & (tmp > 0)].max())"
   ]
  },
  {
   "cell_type": "markdown",
   "metadata": {},
   "source": [
    "### Задание: написать решалку линейных уравнений"
   ]
  },
  {
   "cell_type": "code",
   "execution_count": 66,
   "metadata": {},
   "outputs": [],
   "source": [
    "# Линейные уравнения можно решать следующим образом: Ax = y, где A-матрица. \n",
    "# A^(T)Ax=A^(T)y\n",
    "# x=(A^(T)A)^(-1)A^(T)y\n",
    "# давайте сделаем свою решалку таких уравнений\n",
    "# HINT: np.linalg...\n",
    "\n",
    "def solution_finder(A, y):\n",
    "    x = (A.transpose() * y) / (A.transpose() * A) \n",
    "    return x\n",
    "#return np.linalg.inv(A.T @ A).dot(A.T).dot(y)"
   ]
  },
  {
   "cell_type": "markdown",
   "metadata": {},
   "source": [
    "### Задание: решить систему методом [Крамера](https://ru.wikipedia.org/wiki/%D0%9C%D0%B5%D1%82%D0%BE%D0%B4_%D0%9A%D1%80%D0%B0%D0%BC%D0%B5%D1%80%D0%B0)"
   ]
  },
  {
   "cell_type": "code",
   "execution_count": null,
   "metadata": {},
   "outputs": [],
   "source": [
    "#TODO решить систему методом Крамера\n",
    "#HINT: np.linalg.det\n",
    "\n",
    "def cramer_solver(A, b):\n",
    "    det = np.linalg.det(A)\n",
    "    ans = np.array(b.shape)\n",
    "    for i in range(b.shape):\n",
    "        ans[i] = np.linalg.det(A[])\n",
    "    return None\n",
    "\n",
    "# доп задача за балл, кидать в личку!!"
   ]
  },
  {
   "cell_type": "markdown",
   "metadata": {},
   "source": [
    "## Few more things:"
   ]
  },
  {
   "cell_type": "markdown",
   "metadata": {},
   "source": [
    "### `np.random.seed()`"
   ]
  },
  {
   "cell_type": "code",
   "execution_count": 67,
   "metadata": {},
   "outputs": [
    {
     "name": "stdout",
     "output_type": "stream",
     "text": [
      "[2 1 4 0 3]\n",
      "[2 1 4 0 3]\n",
      "[2 1 4 0 3]\n",
      "[2 1 4 0 3]\n",
      "[2 1 4 0 3]\n"
     ]
    }
   ],
   "source": [
    "for i in range(5):\n",
    "    arr = np.arange(5)  # [0, 1, 2, 3, 4]\n",
    "    np.random.seed(1)  # Reset random state\n",
    "    np.random.shuffle(arr)  # Shuffle!\n",
    "    print(arr)"
   ]
  },
  {
   "cell_type": "code",
   "execution_count": 68,
   "metadata": {},
   "outputs": [
    {
     "name": "stdout",
     "output_type": "stream",
     "text": [
      "0.5507979025745755\n",
      "0.5507979025745755\n"
     ]
    }
   ],
   "source": [
    "np.random.seed(3)\n",
    "print(np.random.random())\n",
    "\n",
    "np.random.seed(3)\n",
    "print(np.random.random())"
   ]
  },
  {
   "cell_type": "markdown",
   "metadata": {},
   "source": [
    "### `np.isclose()`"
   ]
  },
  {
   "cell_type": "code",
   "execution_count": null,
   "metadata": {},
   "outputs": [],
   "source": [
    "np.float128(1 / 3) * 3 == 1"
   ]
  },
  {
   "cell_type": "code",
   "execution_count": null,
   "metadata": {},
   "outputs": [],
   "source": [
    "np.isclose(np.float128(1 / 3) * 3, 1)"
   ]
  },
  {
   "cell_type": "code",
   "execution_count": null,
   "metadata": {},
   "outputs": [],
   "source": [
    "#Быстро сделали. Давайте сделаем решение методом Гаусса. Задание со звездочкой, я за 5 минут не смог написать"
   ]
  },
  {
   "cell_type": "markdown",
   "metadata": {},
   "source": [
    "---"
   ]
  }
 ],
 "metadata": {
  "kernelspec": {
   "display_name": "Python 3",
   "language": "python",
   "name": "python3"
  },
  "language_info": {
   "codemirror_mode": {
    "name": "ipython",
    "version": 3
   },
   "file_extension": ".py",
   "mimetype": "text/x-python",
   "name": "python",
   "nbconvert_exporter": "python",
   "pygments_lexer": "ipython3",
   "version": "3.7.3"
  }
 },
 "nbformat": 4,
 "nbformat_minor": 2
}
