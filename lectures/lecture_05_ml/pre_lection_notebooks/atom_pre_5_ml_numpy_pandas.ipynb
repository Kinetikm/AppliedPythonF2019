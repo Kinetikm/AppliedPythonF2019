{
 "cells": [
  {
   "cell_type": "raw",
   "metadata": {},
   "source": [
    "установим необходимое"
   ]
  },
  {
   "cell_type": "code",
   "execution_count": 1,
   "metadata": {},
   "outputs": [
    {
     "name": "stdout",
     "output_type": "stream",
     "text": [
      "Requirement already satisfied: numpy in c:\\python\\anaconda\\lib\\site-packages (1.16.4)\n",
      "Requirement already satisfied: pandas in c:\\python\\anaconda\\lib\\site-packages (0.24.2)\n",
      "Requirement already satisfied: pytz>=2011k in c:\\python\\anaconda\\lib\\site-packages (from pandas) (2019.1)\n",
      "Requirement already satisfied: python-dateutil>=2.5.0 in c:\\python\\anaconda\\lib\\site-packages (from pandas) (2.8.0)\n",
      "Requirement already satisfied: six>=1.5 in c:\\python\\anaconda\\lib\\site-packages (from python-dateutil>=2.5.0->pandas) (1.12.0)\n"
     ]
    }
   ],
   "source": [
    "!pip install numpy pandas"
   ]
  },
  {
   "cell_type": "code",
   "execution_count": null,
   "metadata": {},
   "outputs": [],
   "source": []
  },
  {
   "cell_type": "code",
   "execution_count": 3,
   "metadata": {},
   "outputs": [],
   "source": [
    "import numpy as np"
   ]
  },
  {
   "cell_type": "markdown",
   "metadata": {},
   "source": [
    "numpy -- это библиотека для научных вычислений\n",
    "\n",
    "Написана на (кроме Python) C, немножко Fortran. А что это значит? Значит, что супер-пупер быстрая :)\n",
    "\n",
    "И еще немножко фич с описания на оф. сайте:\n",
    "* a powerful N-dimensional array object\n",
    "* sophisticated (broadcasting) functions\n",
    "* tools for integrating C/C++ and Fortran code\n",
    "* useful linear algebra, Fourier transform, and random number capabilities"
   ]
  },
  {
   "cell_type": "markdown",
   "metadata": {},
   "source": [
    "Классно то, что массивы типизированы! Про это на лекции еще поговорим."
   ]
  },
  {
   "cell_type": "markdown",
   "metadata": {},
   "source": [
    "Один из способов создать массив:"
   ]
  },
  {
   "cell_type": "code",
   "execution_count": 4,
   "metadata": {},
   "outputs": [
    {
     "name": "stdout",
     "output_type": "stream",
     "text": [
      "<class 'numpy.ndarray'>\n",
      "(3,)\n"
     ]
    }
   ],
   "source": [
    "a = np.array([1, 2, 3], dtype=np.int16)\n",
    "print(type(a))\n",
    "print(a.shape)"
   ]
  },
  {
   "cell_type": "code",
   "execution_count": 5,
   "metadata": {},
   "outputs": [
    {
     "data": {
      "text/plain": [
       "array([1, 2, 3], dtype=int16)"
      ]
     },
     "execution_count": 5,
     "metadata": {},
     "output_type": "execute_result"
    }
   ],
   "source": [
    "a"
   ]
  },
  {
   "cell_type": "markdown",
   "metadata": {},
   "source": [
    "### Задание: создайте двумерный массив (заполните чем угодно) с np.float32"
   ]
  },
  {
   "cell_type": "code",
   "execution_count": null,
   "metadata": {},
   "outputs": [],
   "source": [
    "# TODO\n",
    "# your code hear"
   ]
  },
  {
   "cell_type": "markdown",
   "metadata": {},
   "source": [
    "Есть классное индексирование:"
   ]
  },
  {
   "cell_type": "code",
   "execution_count": 6,
   "metadata": {},
   "outputs": [
    {
     "name": "stdout",
     "output_type": "stream",
     "text": [
      "[[1 2 3]\n",
      " [4 5 6]]\n"
     ]
    }
   ],
   "source": [
    "a = np.array([[1, 2, 3], [4, 5, 6]], dtype=np.int16)\n",
    "print(a)"
   ]
  },
  {
   "cell_type": "markdown",
   "metadata": {},
   "source": [
    "Тут, думаю, понятно:"
   ]
  },
  {
   "cell_type": "code",
   "execution_count": 7,
   "metadata": {},
   "outputs": [
    {
     "data": {
      "text/plain": [
       "array([1, 2, 3], dtype=int16)"
      ]
     },
     "execution_count": 7,
     "metadata": {},
     "output_type": "execute_result"
    }
   ],
   "source": [
    "a[0]"
   ]
  },
  {
   "cell_type": "markdown",
   "metadata": {},
   "source": [
    "Тут тоже:"
   ]
  },
  {
   "cell_type": "code",
   "execution_count": 8,
   "metadata": {},
   "outputs": [
    {
     "data": {
      "text/plain": [
       "4"
      ]
     },
     "execution_count": 8,
     "metadata": {},
     "output_type": "execute_result"
    }
   ],
   "source": [
    "a[1, 0]"
   ]
  },
  {
   "cell_type": "markdown",
   "metadata": {},
   "source": [
    "Можно делать слайсы по осям. Получим 2-ой столбец матрицы:"
   ]
  },
  {
   "cell_type": "code",
   "execution_count": 9,
   "metadata": {},
   "outputs": [
    {
     "data": {
      "text/plain": [
       "array([2, 5], dtype=int16)"
      ]
     },
     "execution_count": 9,
     "metadata": {},
     "output_type": "execute_result"
    }
   ],
   "source": [
    "a[:, 1]"
   ]
  },
  {
   "cell_type": "markdown",
   "metadata": {},
   "source": [
    "### Задание: выведите\n",
    "* 3-ий столбец\n",
    "* все элементы, кроме последнего, из предпоследнего столбца\n",
    "* (*) а теперь каждый 2-ой элемент (начиная с 0-ого индекса) последней строчки массива `b`\n",
    "\n",
    "Конечно же, без всяких `for`, используем слайсы."
   ]
  },
  {
   "cell_type": "code",
   "execution_count": 10,
   "metadata": {},
   "outputs": [],
   "source": [
    "# создадим массив и заполним его рандомными элементами\n",
    "# numpy умеет такое из коробки, используем np.random\n",
    "b = np.random.randint(low=0, high=100, size=(20, 10))\n",
    "\n",
    "# TODO\n",
    "# your code hear"
   ]
  },
  {
   "cell_type": "markdown",
   "metadata": {},
   "source": [
    "### Задание \"на погуглить\": выведите все четные элементы массива `c` (используя слайсы (да, и так тут можно))"
   ]
  },
  {
   "cell_type": "code",
   "execution_count": null,
   "metadata": {},
   "outputs": [],
   "source": [
    "c = np.random.randint(low=0, high=100, size=100)"
   ]
  },
  {
   "cell_type": "code",
   "execution_count": null,
   "metadata": {},
   "outputs": [],
   "source": [
    "# TODO\n",
    "# your code hear"
   ]
  },
  {
   "cell_type": "markdown",
   "metadata": {},
   "source": [
    "Немного посмотрим на операции с `np.array`:"
   ]
  },
  {
   "cell_type": "code",
   "execution_count": 11,
   "metadata": {},
   "outputs": [
    {
     "name": "stdout",
     "output_type": "stream",
     "text": [
      "a: [[ 1 65 34 31]\n",
      " [40 24 45 17]\n",
      " [69 20 71  5]]\n",
      "\n",
      "b: [[60 73 17 93]\n",
      " [47 13 63 26]\n",
      " [58 93 64 19]]\n",
      "\n",
      "c: [73 40 15 85]\n",
      "\n"
     ]
    }
   ],
   "source": [
    "a = np.random.randint(low=0, high=100, size=(3, 4))\n",
    "b = np.random.randint(low=0, high=100, size=(3, 4))\n",
    "c = np.random.randint(low=0, high=100, size=4)\n",
    "d = 42\n",
    "\n",
    "print(f\"a: {a}\", end=\"\\n\\n\")\n",
    "print(f\"b: {b}\", end=\"\\n\\n\")\n",
    "print(f\"c: {c}\", end=\"\\n\\n\")"
   ]
  },
  {
   "cell_type": "code",
   "execution_count": 12,
   "metadata": {},
   "outputs": [
    {
     "data": {
      "text/plain": [
       "array([[ 61, 138,  51, 124],\n",
       "       [ 87,  37, 108,  43],\n",
       "       [127, 113, 135,  24]])"
      ]
     },
     "execution_count": 12,
     "metadata": {},
     "output_type": "execute_result"
    }
   ],
   "source": [
    "a + b"
   ]
  },
  {
   "cell_type": "code",
   "execution_count": 13,
   "metadata": {},
   "outputs": [
    {
     "data": {
      "text/plain": [
       "array([[-59,  -8,  17, -62],\n",
       "       [ -7,  11, -18,  -9],\n",
       "       [ 11, -73,   7, -14]])"
      ]
     },
     "execution_count": 13,
     "metadata": {},
     "output_type": "execute_result"
    }
   ],
   "source": [
    "a - b"
   ]
  },
  {
   "cell_type": "code",
   "execution_count": 14,
   "metadata": {},
   "outputs": [
    {
     "data": {
      "text/plain": [
       "array([[60, 47, 58],\n",
       "       [73, 13, 93],\n",
       "       [17, 63, 64],\n",
       "       [93, 26, 19]])"
      ]
     },
     "execution_count": 14,
     "metadata": {},
     "output_type": "execute_result"
    }
   ],
   "source": [
    "b.T"
   ]
  },
  {
   "cell_type": "markdown",
   "metadata": {},
   "source": [
    "Какое это умножение?"
   ]
  },
  {
   "cell_type": "code",
   "execution_count": 15,
   "metadata": {
    "scrolled": true
   },
   "outputs": [
    {
     "data": {
      "text/plain": [
       "array([[  60, 4745,  578, 2883],\n",
       "       [1880,  312, 2835,  442],\n",
       "       [4002, 1860, 4544,   95]])"
      ]
     },
     "execution_count": 15,
     "metadata": {},
     "output_type": "execute_result"
    }
   ],
   "source": [
    "a * b"
   ]
  },
  {
   "cell_type": "markdown",
   "metadata": {},
   "source": [
    "А это?"
   ]
  },
  {
   "cell_type": "code",
   "execution_count": 16,
   "metadata": {},
   "outputs": [
    {
     "data": {
      "text/plain": [
       "array([[ 8266,  3840,  8868],\n",
       "       [ 6498,  5469,  7755],\n",
       "       [ 7272,  8106, 10501]])"
      ]
     },
     "execution_count": 16,
     "metadata": {},
     "output_type": "execute_result"
    }
   ],
   "source": [
    "a @ b.T"
   ]
  },
  {
   "cell_type": "code",
   "execution_count": 17,
   "metadata": {},
   "outputs": [
    {
     "data": {
      "text/plain": [
       "array([[0.01666667, 0.89041096, 2.        , 0.33333333],\n",
       "       [0.85106383, 1.84615385, 0.71428571, 0.65384615],\n",
       "       [1.18965517, 0.21505376, 1.109375  , 0.26315789]])"
      ]
     },
     "execution_count": 17,
     "metadata": {},
     "output_type": "execute_result"
    }
   ],
   "source": [
    "a / b"
   ]
  },
  {
   "cell_type": "code",
   "execution_count": 18,
   "metadata": {},
   "outputs": [
    {
     "data": {
      "text/plain": [
       "array([[ 25,  64],\n",
       "       [ 49, 512]], dtype=int32)"
      ]
     },
     "execution_count": 18,
     "metadata": {},
     "output_type": "execute_result"
    }
   ],
   "source": [
    "a = np.array([[5, 4], [7, 8]])\n",
    "for_pow = np.array([2, 3])\n",
    "\n",
    "a ** for_pow"
   ]
  },
  {
   "cell_type": "code",
   "execution_count": 19,
   "metadata": {},
   "outputs": [
    {
     "data": {
      "text/plain": [
       "array([[7.74596669, 8.54400375, 4.12310563, 9.64365076],\n",
       "       [6.8556546 , 3.60555128, 7.93725393, 5.09901951],\n",
       "       [7.61577311, 9.64365076, 8.        , 4.35889894]])"
      ]
     },
     "execution_count": 19,
     "metadata": {},
     "output_type": "execute_result"
    }
   ],
   "source": [
    "np.sqrt(b)"
   ]
  },
  {
   "cell_type": "code",
   "execution_count": 20,
   "metadata": {},
   "outputs": [
    {
     "data": {
      "text/plain": [
       "626"
      ]
     },
     "execution_count": 20,
     "metadata": {},
     "output_type": "execute_result"
    }
   ],
   "source": [
    "np.sum(b)"
   ]
  },
  {
   "cell_type": "code",
   "execution_count": 21,
   "metadata": {},
   "outputs": [
    {
     "data": {
      "text/plain": [
       "4"
      ]
     },
     "execution_count": 21,
     "metadata": {},
     "output_type": "execute_result"
    }
   ],
   "source": [
    "np.min(a[0])"
   ]
  },
  {
   "cell_type": "markdown",
   "metadata": {},
   "source": [
    "А эта штука называется broadcasting. Можно почитать [тут](http://cs231n.github.io/python-numpy-tutorial/#numpy-broadcasting), а вообще на лекции расскажем."
   ]
  },
  {
   "cell_type": "code",
   "execution_count": null,
   "metadata": {},
   "outputs": [],
   "source": [
    "a + c"
   ]
  },
  {
   "cell_type": "code",
   "execution_count": null,
   "metadata": {},
   "outputs": [],
   "source": [
    "b - d"
   ]
  },
  {
   "cell_type": "markdown",
   "metadata": {},
   "source": [
    "### Задание (*): с помощью `np.random.randint` создайте два массива (`x` и `y`) с элементами в диапазоне [-1000, 1000], размерами (12, 42) и (42, 12), соответственно. Найдите самое большое положительное нечетное число последнего столбца произведения матриц `x` и `y`."
   ]
  },
  {
   "cell_type": "code",
   "execution_count": null,
   "metadata": {},
   "outputs": [],
   "source": [
    "# TODO\n",
    "# your code hear"
   ]
  },
  {
   "cell_type": "code",
   "execution_count": null,
   "metadata": {},
   "outputs": [],
   "source": []
  },
  {
   "cell_type": "markdown",
   "metadata": {},
   "source": [
    "# PANDAAAAAS"
   ]
  },
  {
   "cell_type": "code",
   "execution_count": 24,
   "metadata": {
    "ExecuteTime": {
     "end_time": "2019-04-01T09:24:27.723862Z",
     "start_time": "2019-04-01T09:24:27.219061Z"
    }
   },
   "outputs": [],
   "source": [
    "import pandas as pd"
   ]
  },
  {
   "cell_type": "markdown",
   "metadata": {},
   "source": [
    "Pandas — программная библиотека на языке Python для обработки и анализа данных. Работа pandas с данными строится поверх библиотеки NumPy."
   ]
  },
  {
   "cell_type": "markdown",
   "metadata": {},
   "source": [
    "Мы сейчас рассмотрим следующее: \n",
    "    - посмотрим два объекта из библиотеки pandas: Series и DataFrame.\n",
    "    - пощупаем что это вообще такое."
   ]
  },
  {
   "cell_type": "code",
   "execution_count": null,
   "metadata": {},
   "outputs": [],
   "source": [
    "Series - объект похожий на list в питоне, он упорядочен и туда можно положить что угодно)\n",
    "Однако на деле объект Series больше похож на упорядоченный словарь OrderedDict, \n",
    "тк у Series помимо значений есть еще и индексы."
   ]
  },
  {
   "cell_type": "code",
   "execution_count": 25,
   "metadata": {},
   "outputs": [],
   "source": [
    "a = pd.Series(data=['амир', 'миша', 'илья', 'зарина', 'игорь'])"
   ]
  },
  {
   "cell_type": "code",
   "execution_count": 26,
   "metadata": {},
   "outputs": [
    {
     "data": {
      "text/plain": [
       "0      амир\n",
       "1      миша\n",
       "2      илья\n",
       "3    зарина\n",
       "4     игорь\n",
       "dtype: object"
      ]
     },
     "execution_count": 26,
     "metadata": {},
     "output_type": "execute_result"
    }
   ],
   "source": [
    "# в строковом представлении в столбце слева - индексы, справа - значения.\n",
    "a"
   ]
  },
  {
   "cell_type": "code",
   "execution_count": null,
   "metadata": {},
   "outputs": [],
   "source": [
    "# мы можем создавать серии со своей индексацией\n",
    "\n",
    "a = pd.Series(data=['амир', 'миша', 'илья', 'зарина', 'игорь'], \n",
    "              index=[101,102,103,104,105])"
   ]
  },
  {
   "cell_type": "code",
   "execution_count": null,
   "metadata": {},
   "outputs": [],
   "source": [
    "# и обращаться по индексу\n",
    "\n",
    "a[103]"
   ]
  },
  {
   "cell_type": "code",
   "execution_count": null,
   "metadata": {},
   "outputs": [],
   "source": [
    "# внутри все хранится в виде np.array\n",
    "\n",
    "a.values"
   ]
  },
  {
   "cell_type": "code",
   "execution_count": null,
   "metadata": {},
   "outputs": [],
   "source": [
    "a.index"
   ]
  },
  {
   "cell_type": "code",
   "execution_count": null,
   "metadata": {},
   "outputs": [],
   "source": [
    "# мы можем создать Series вот так:\n",
    "\n",
    "a = pd.Series({'a': 1, 'b': 2, 'c': 3, 'd': 4})"
   ]
  },
  {
   "cell_type": "code",
   "execution_count": null,
   "metadata": {},
   "outputs": [],
   "source": [
    "a"
   ]
  },
  {
   "cell_type": "code",
   "execution_count": null,
   "metadata": {},
   "outputs": [],
   "source": [
    "# мы можем на лету поменять индекс\n",
    "\n",
    "a.index=[1,2,3,4]"
   ]
  },
  {
   "cell_type": "code",
   "execution_count": null,
   "metadata": {},
   "outputs": [],
   "source": [
    "a"
   ]
  },
  {
   "cell_type": "code",
   "execution_count": null,
   "metadata": {},
   "outputs": [],
   "source": [
    "# у Series есть поле name и его мы можем изменять\n",
    "\n",
    "a.name='fofoofof'"
   ]
  },
  {
   "cell_type": "code",
   "execution_count": null,
   "metadata": {},
   "outputs": [],
   "source": [
    "a"
   ]
  },
  {
   "cell_type": "markdown",
   "metadata": {},
   "source": [
    "___________"
   ]
  },
  {
   "cell_type": "markdown",
   "metadata": {},
   "source": [
    "DataFrame в простом случае это таблица. \n",
    "\n",
    "у нее есть строки и столбцы.\n",
    "\n",
    "столбцами в DataFrame являются объекты Series.\n",
    "\n",
    "у DataFrame есть индекс по строкам, который по умолчанию задается в числовом диапазоне начниая с 0.\n",
    "\n",
    "Индексом по столбцам является название колонок."
   ]
  },
  {
   "cell_type": "code",
   "execution_count": null,
   "metadata": {
    "ExecuteTime": {
     "end_time": "2019-04-01T09:59:14.842416Z",
     "start_time": "2019-04-01T09:59:14.830942Z"
    }
   },
   "outputs": [],
   "source": [
    "d = {'колонка_1': [1, 2, 3, 4, 5], \n",
    "     'колонка_2': ['амир', 'миша', 'илья', 'зарина', 'игорь'], \n",
    "     'колонка_возраст':['засекречено','засекречено','засекречено','засекречено','засекречено']}\n",
    "df = pd.DataFrame(data=d)"
   ]
  },
  {
   "cell_type": "code",
   "execution_count": null,
   "metadata": {
    "ExecuteTime": {
     "end_time": "2019-04-01T09:59:15.673437Z",
     "start_time": "2019-04-01T09:59:15.656516Z"
    }
   },
   "outputs": [],
   "source": [
    "df"
   ]
  },
  {
   "cell_type": "markdown",
   "metadata": {},
   "source": [
    "основные способы создать DataFrame внизу - но мы с вами еще об этом поговорим на лекци"
   ]
  },
  {
   "cell_type": "markdown",
   "metadata": {},
   "source": [
    "![](https://pbpython.com/images/pandas-dataframe-shadow.png)"
   ]
  },
  {
   "cell_type": "code",
   "execution_count": null,
   "metadata": {
    "ExecuteTime": {
     "end_time": "2019-04-01T11:14:12.619385Z",
     "start_time": "2019-04-01T11:14:12.603509Z"
    }
   },
   "outputs": [],
   "source": [
    "# пандас умеет загружать данные из разных источников\n",
    "# разберем это на лекции, а пока давайте поиграемся с большим датафреймом.\n",
    "# ниже пример загрузки из .tsv файла. \n",
    "\n",
    "titanik_csv = pd.read_csv('titanic.tsv', sep='|', index_col=0)"
   ]
  },
  {
   "cell_type": "markdown",
   "metadata": {},
   "source": [
    "# 1. посмотреть как выглядят данные"
   ]
  },
  {
   "cell_type": "code",
   "execution_count": null,
   "metadata": {
    "ExecuteTime": {
     "end_time": "2019-04-01T09:24:31.435294Z",
     "start_time": "2019-04-01T09:24:31.351455Z"
    }
   },
   "outputs": [],
   "source": [
    "# вывести первые n элементов (по умолчанию n=5)\n",
    "\n",
    "titanik_csv.head()"
   ]
  },
  {
   "cell_type": "raw",
   "metadata": {},
   "source": [
    "Обратите внимание в некоторых столбцах там где встречаются цифры еще иногда встречаются значния NaN. \n",
    "По умолчанию pandas так записывает пропущенные значения (то есть в tsv файле там ничего не было) - \n",
    "это нормальная ситуация для анализа данных (где то просто не получилось найти данные)"
   ]
  },
  {
   "cell_type": "code",
   "execution_count": null,
   "metadata": {
    "ExecuteTime": {
     "end_time": "2019-04-01T09:24:32.417823Z",
     "start_time": "2019-04-01T09:24:32.390901Z"
    }
   },
   "outputs": [],
   "source": [
    "# вывести 10 последних элементов (по умолчанию 5)\n",
    "\n",
    "titanik_csv.tail(n=10)"
   ]
  },
  {
   "cell_type": "code",
   "execution_count": null,
   "metadata": {
    "ExecuteTime": {
     "end_time": "2019-04-01T09:24:32.859210Z",
     "start_time": "2019-04-01T09:24:32.820153Z"
    }
   },
   "outputs": [],
   "source": [
    "# вывести 10 случайных элементов (по умолчанию 5)\n",
    "\n",
    "titanik_csv.sample(n=10)"
   ]
  },
  {
   "cell_type": "code",
   "execution_count": null,
   "metadata": {},
   "outputs": [],
   "source": [
    "# тк pandas сделан на основе numpy, то мы можем так же стандартно посмотреть размерность таблички через\n",
    "# свойство shape\n",
    "\n",
    "titanik_csv.shape"
   ]
  },
  {
   "cell_type": "markdown",
   "metadata": {},
   "source": [
    ">  мы видим что у нас 1309 строк и 14 колонок"
   ]
  },
  {
   "cell_type": "code",
   "execution_count": null,
   "metadata": {},
   "outputs": [],
   "source": [
    "# мы в силах посмотреть всю табличку целиком.\n",
    "\n",
    "titanik_csv"
   ]
  },
  {
   "cell_type": "markdown",
   "metadata": {},
   "source": [
    "вы конечно можете посмотреть почти всю табличку целиком, вас ограничивают настройки отображения табличек в пандасе.\n",
    "\n",
    "> это поля \n",
    "\n",
    "> pd.options.display.max_columns - максимальное число колонок которое будет отрисовано\n",
    "\n",
    "> pd.options.display.max_rows - максимальное число строк которое будет отрисовано\n",
    "\n",
    "конечно же как программисты мы можем все это поменять."
   ]
  },
  {
   "cell_type": "code",
   "execution_count": null,
   "metadata": {
    "scrolled": true
   },
   "outputs": [],
   "source": [
    "pd.options.display.max_columns = 5"
   ]
  },
  {
   "cell_type": "code",
   "execution_count": null,
   "metadata": {},
   "outputs": [],
   "source": [
    "pd.options.display.max_rows = 20"
   ]
  },
  {
   "cell_type": "code",
   "execution_count": null,
   "metadata": {},
   "outputs": [],
   "source": [
    "# стало хуже?\n",
    "\n",
    "titanik_csv"
   ]
  },
  {
   "cell_type": "code",
   "execution_count": null,
   "metadata": {},
   "outputs": [],
   "source": [
    "# поставим чтоб было удобнее\n",
    "pd.options.display.max_columns = 20\n",
    "pd.options.display.max_rows = 200 # рекомендую ставить большое значение только если у вас мощный комп)"
   ]
  },
  {
   "cell_type": "markdown",
   "metadata": {},
   "source": [
    "# 2. начнем смотреть столбцы ближе."
   ]
  },
  {
   "cell_type": "markdown",
   "metadata": {},
   "source": [
    "Для того чтобы понять какой столбец (признак) что означает почитайте об этом в разделе Data\n",
    "https://www.kaggle.com/c/titanic/data . \n",
    "\n",
    "Пока вы не запомните, может быть полезно выписать название всех столбцов и что они значат прямо в нотбук - сюда:\n",
    "\n",
    "* Survived - \n",
    "* Pclass - \n",
    "* Name - \n",
    "* Sex - \n",
    "* Age - \n",
    "* SibSp - \n",
    "* Parch - \n",
    "* Ticket - \n",
    "* Fare - \n",
    "* Cabin - \n",
    "* Embarked -"
   ]
  },
  {
   "cell_type": "markdown",
   "metadata": {},
   "source": [
    "несколько полезных методов которые помогут быстро посмотреть общие характеристики данных:\n",
    "\n",
    "1. .describe() - Выведет количество, среднее, стандартное отклонение, квантили, минимум и максимум всех **числовых признаков** (столбцов)\n",
    "2. .columns - это поле а не метод (в конце скобки не надо писать). Выведет название всех колонок.\n",
    "3. .count() - выведет количесто **не пропущенных** значений в каждом столбце (not nan значений)\n",
    "4. .nunique() - выведет количество уникальных значений в каждом столбце\n",
    "5. .dtypes - это поле а не метод (в конце скобки не надо писать). Выведет тип переменной хранящейся в каждом столбце\n"
   ]
  },
  {
   "cell_type": "code",
   "execution_count": null,
   "metadata": {},
   "outputs": [],
   "source": [
    "titanik_csv.describe()"
   ]
  },
  {
   "cell_type": "code",
   "execution_count": null,
   "metadata": {},
   "outputs": [],
   "source": [
    "titanik_csv.count()"
   ]
  },
  {
   "cell_type": "code",
   "execution_count": null,
   "metadata": {},
   "outputs": [],
   "source": [
    "titanik_csv.nunique()"
   ]
  },
  {
   "cell_type": "code",
   "execution_count": null,
   "metadata": {},
   "outputs": [],
   "source": [
    "# там где строки пандас по умолчанию пишет object\n",
    "# иногда полезно посмотреть что тут.\n",
    "\n",
    "titanik_csv.dtypes"
   ]
  },
  {
   "cell_type": "markdown",
   "metadata": {},
   "source": [
    "мы можем напрямую обращаться к столбцу, столбцам, строке и строкам.\n",
    "\n",
    "https://pandas.pydata.org/pandas-docs/stable/user_guide/indexing.html"
   ]
  },
  {
   "cell_type": "code",
   "execution_count": null,
   "metadata": {},
   "outputs": [],
   "source": [
    "# самый простой способ обратиться к столбцу - это написать его название через точку\n",
    "# давайте обратимся к полю sex\n",
    "# нам вернется pd.Series - прямо вся колонка\n",
    "\n",
    "\n",
    "titanik_csv.sex"
   ]
  },
  {
   "cell_type": "code",
   "execution_count": null,
   "metadata": {},
   "outputs": [],
   "source": [
    "# еще можно обратиться через квадратные скобки\n",
    "# эффект будет совершенно таким же\n",
    "\n",
    "titanik_csv[\"sex\"]"
   ]
  },
  {
   "cell_type": "code",
   "execution_count": null,
   "metadata": {},
   "outputs": [],
   "source": [
    "# через values мы можем получить np.array который хранится в вернувшемся объекте pd.Series\n",
    "\n",
    "titanik_csv.sex.values"
   ]
  },
  {
   "cell_type": "code",
   "execution_count": null,
   "metadata": {},
   "outputs": [],
   "source": [
    "# силами pandas мы можем посмотреть различные значения содержащиеся в объекте pd.Series\n",
    "# https://pandas.pydata.org/pandas-docs/stable/reference/api/pandas.Series.value_counts.html\n",
    "# обратите внимание на доп параметры этой функции\n",
    "\n",
    "titanik_csv.sex.value_counts()"
   ]
  },
  {
   "cell_type": "markdown",
   "metadata": {},
   "source": [
    "# ТУДУШЕЧКА"
   ]
  },
  {
   "cell_type": "markdown",
   "metadata": {},
   "source": [
    "> Вопрос Кого больше мужчин или женщин?\n",
    "\n",
    "> ответ:\n",
    "\n",
    "> Вопрос - объект какого типа возвращается после вызова  функции value_counts() ?\n",
    "\n",
    "> ответ:\n"
   ]
  },
  {
   "cell_type": "markdown",
   "metadata": {},
   "source": [
    "в пандасе мы можем получить срез сразу по нескольким колонкам, тогда вернется новый DataFrame а не Series"
   ]
  },
  {
   "cell_type": "code",
   "execution_count": null,
   "metadata": {
    "ExecuteTime": {
     "end_time": "2019-04-01T09:28:16.916452Z",
     "start_time": "2019-04-01T09:28:16.893384Z"
    }
   },
   "outputs": [],
   "source": [
    "titanik_csv[ ['sex', 'age'] ]"
   ]
  },
  {
   "cell_type": "markdown",
   "metadata": {
    "ExecuteTime": {
     "end_time": "2019-04-01T09:28:47.774680Z",
     "start_time": "2019-04-01T09:28:47.760720Z"
    }
   },
   "source": [
    "Самый каноничный способ обращения к полям - через loc или iloc\n",
    "\n",
    "loc - позволяет обратиться по названию индексов, \n",
    "\n",
    "iloc - по нумерованному значению (то есть обращаемся через цифры, начиная с нуля)"
   ]
  },
  {
   "cell_type": "code",
   "execution_count": null,
   "metadata": {
    "ExecuteTime": {
     "end_time": "2019-04-01T09:30:09.960525Z",
     "start_time": "2019-04-01T09:30:09.938592Z"
    },
    "scrolled": true
   },
   "outputs": [],
   "source": [
    "titanik_csv.loc[:, 'sex']"
   ]
  },
  {
   "cell_type": "markdown",
   "metadata": {},
   "source": [
    "чтобы в дальнейшем экономить место - будем смотреть только первые 5 записей"
   ]
  },
  {
   "cell_type": "code",
   "execution_count": null,
   "metadata": {
    "ExecuteTime": {
     "end_time": "2019-04-01T09:30:43.817056Z",
     "start_time": "2019-04-01T09:30:43.801964Z"
    }
   },
   "outputs": [],
   "source": [
    "titanik_csv.loc[:, 'sex'].head()"
   ]
  },
  {
   "cell_type": "code",
   "execution_count": null,
   "metadata": {
    "ExecuteTime": {
     "end_time": "2019-04-01T09:30:57.751061Z",
     "start_time": "2019-04-01T09:30:57.728853Z"
    }
   },
   "outputs": [],
   "source": [
    "titanik_csv.loc[:, ['sex', 'age']].head()"
   ]
  },
  {
   "cell_type": "code",
   "execution_count": null,
   "metadata": {
    "ExecuteTime": {
     "end_time": "2019-04-01T09:31:26.113471Z",
     "start_time": "2019-04-01T09:31:26.095912Z"
    }
   },
   "outputs": [],
   "source": [
    "titanik_csv.loc[[12,13,14,17,17], ['sex', 'age']].head()"
   ]
  },
  {
   "cell_type": "code",
   "execution_count": null,
   "metadata": {
    "ExecuteTime": {
     "end_time": "2019-04-01T09:31:48.795295Z",
     "start_time": "2019-04-01T09:31:48.778582Z"
    }
   },
   "outputs": [],
   "source": [
    "titanik_csv.iloc[[12,13,14,17,17], [3, 4]].head()"
   ]
  },
  {
   "cell_type": "markdown",
   "metadata": {
    "collapsed": true
   },
   "source": [
    "# 3. мы можем работать с полями и изменять их как хотим."
   ]
  },
  {
   "cell_type": "code",
   "execution_count": null,
   "metadata": {
    "ExecuteTime": {
     "end_time": "2019-04-01T09:41:15.578623Z",
     "start_time": "2019-04-01T09:41:15.568492Z"
    },
    "scrolled": true
   },
   "outputs": [],
   "source": [
    "titanik_csv.loc[0, 'name']"
   ]
  },
  {
   "cell_type": "markdown",
   "metadata": {},
   "source": [
    "например, давайте выделим только первую часть имени.\n",
    "\n",
    "как мы это делаем с одной строкой?"
   ]
  },
  {
   "cell_type": "code",
   "execution_count": null,
   "metadata": {
    "ExecuteTime": {
     "end_time": "2019-04-01T09:41:53.030676Z",
     "start_time": "2019-04-01T09:41:53.011633Z"
    }
   },
   "outputs": [],
   "source": [
    "titanik_csv.loc[0, 'name'].split(',')[0]"
   ]
  },
  {
   "cell_type": "markdown",
   "metadata": {},
   "source": [
    "чтобы проделать этот финт со всеми строками - не нужно итерироваться в цикле.\n",
    "\n",
    "достаточно применить некоторую функцию ко всем строкам через метод apply\n",
    "\n",
    "https://pandas.pydata.org/pandas-docs/stable/reference/api/pandas.DataFrame.apply.html"
   ]
  },
  {
   "cell_type": "code",
   "execution_count": null,
   "metadata": {
    "ExecuteTime": {
     "end_time": "2019-04-01T09:43:22.992736Z",
     "start_time": "2019-04-01T09:43:22.975281Z"
    },
    "scrolled": true
   },
   "outputs": [],
   "source": [
    "titanik_csv['name'].head().apply(lambda x: x.split(',')[0])"
   ]
  },
  {
   "cell_type": "markdown",
   "metadata": {},
   "source": [
    "на основе этого мы можем создать новую колонку."
   ]
  },
  {
   "cell_type": "code",
   "execution_count": null,
   "metadata": {
    "ExecuteTime": {
     "end_time": "2019-04-01T09:43:51.315926Z",
     "start_time": "2019-04-01T09:43:51.302071Z"
    }
   },
   "outputs": [],
   "source": [
    "titanik_csv['only_name'] = titanik_csv['name'].apply(lambda x: x.split(',')[0])"
   ]
  },
  {
   "cell_type": "code",
   "execution_count": null,
   "metadata": {
    "ExecuteTime": {
     "end_time": "2019-04-01T09:43:55.899812Z",
     "start_time": "2019-04-01T09:43:55.867041Z"
    }
   },
   "outputs": [],
   "source": [
    "titanik_csv.head()"
   ]
  },
  {
   "cell_type": "markdown",
   "metadata": {
    "collapsed": true
   },
   "source": [
    "Отлично, мы немного пощупали, Pandas, и продолжим изучать его подробнее на лекции."
   ]
  },
  {
   "cell_type": "code",
   "execution_count": null,
   "metadata": {},
   "outputs": [],
   "source": []
  },
  {
   "cell_type": "code",
   "execution_count": null,
   "metadata": {},
   "outputs": [],
   "source": []
  }
 ],
 "metadata": {
  "kernelspec": {
   "display_name": "Python 3",
   "language": "python",
   "name": "python3"
  },
  "language_info": {
   "codemirror_mode": {
    "name": "ipython",
    "version": 3
   },
   "file_extension": ".py",
   "mimetype": "text/x-python",
   "name": "python",
   "nbconvert_exporter": "python",
   "pygments_lexer": "ipython3",
   "version": "3.7.3"
  }
 },
 "nbformat": 4,
 "nbformat_minor": 2
}
