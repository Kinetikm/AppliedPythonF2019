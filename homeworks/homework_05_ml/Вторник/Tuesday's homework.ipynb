{
 "cells": [
  {
   "cell_type": "code",
   "execution_count": 122,
   "metadata": {},
   "outputs": [
    {
     "data": {
      "text/plain": [
       "91                                          >50K, <=50K.\n",
       "92                                      age: continuous.\n",
       "93     workclass: Private, Self-emp-not-inc, Self-emp...\n",
       "94                                   fnlwgt: continuous.\n",
       "95     education: Bachelors, Some-college, 11th, HS-g...\n",
       "96                            education-num: continuous.\n",
       "97     marital-status: Married-civ-spouse, Divorced, ...\n",
       "98     occupation: Tech-support, Craft-repair, Other-...\n",
       "99     relationship: Wife, Own-child, Husband, Not-in...\n",
       "100    race: White, Asian-Pac-Islander, Amer-Indian-E...\n",
       "101                                   sex: Female, Male.\n",
       "102                            capital-gain: continuous.\n",
       "103                            capital-loss: continuous.\n",
       "104                          hours-per-week: continuous.\n",
       "105    native-country: United-States, Cambodia, Engla...\n",
       "Name: Unnamed: 0, dtype: object"
      ]
     },
     "execution_count": 122,
     "metadata": {},
     "output_type": "execute_result"
    }
   ],
   "source": [
    "import pandas as pd\n",
    "import matplotlib.pyplot as plt\n",
    "data = pd.read_csv(\"http://archive.ics.uci.edu/ml/machine-learning-databases/adult/adult.names\", delimiter = \"|\")\n",
    "res = data[\"Unnamed: 0\"].dropna()\n",
    "res\n",
    "#data = pd.read_csv(\"http://archive.ics.uci.edu/ml/machine-learning-databases/adult/adult.data\",\n",
    "                   #delimiter = \",\", header = None,\n",
    "                   #names = \"http://archive.ics.uci.edu/ml/machine-learning-databases/adult/adult.names\")"
   ]
  },
  {
   "cell_type": "code",
   "execution_count": 123,
   "metadata": {},
   "outputs": [
    {
     "data": {
      "text/html": [
       "<div>\n",
       "<style scoped>\n",
       "    .dataframe tbody tr th:only-of-type {\n",
       "        vertical-align: middle;\n",
       "    }\n",
       "\n",
       "    .dataframe tbody tr th {\n",
       "        vertical-align: top;\n",
       "    }\n",
       "\n",
       "    .dataframe thead th {\n",
       "        text-align: right;\n",
       "    }\n",
       "</style>\n",
       "<table border=\"1\" class=\"dataframe\">\n",
       "  <thead>\n",
       "    <tr style=\"text-align: right;\">\n",
       "      <th></th>\n",
       "      <th>age</th>\n",
       "      <th>workclass</th>\n",
       "      <th>fnlwgt</th>\n",
       "      <th>education</th>\n",
       "      <th>education-num</th>\n",
       "      <th>marital-status</th>\n",
       "      <th>occupation</th>\n",
       "      <th>relationship</th>\n",
       "      <th>race</th>\n",
       "      <th>sex</th>\n",
       "      <th>capital-gain</th>\n",
       "      <th>capital-loss</th>\n",
       "      <th>hours-per-week</th>\n",
       "      <th>native-country</th>\n",
       "      <th>res</th>\n",
       "    </tr>\n",
       "  </thead>\n",
       "  <tbody>\n",
       "    <tr>\n",
       "      <th>0</th>\n",
       "      <td>39</td>\n",
       "      <td>State-gov</td>\n",
       "      <td>77516</td>\n",
       "      <td>Bachelors</td>\n",
       "      <td>13</td>\n",
       "      <td>Never-married</td>\n",
       "      <td>Adm-clerical</td>\n",
       "      <td>Not-in-family</td>\n",
       "      <td>White</td>\n",
       "      <td>Male</td>\n",
       "      <td>2174</td>\n",
       "      <td>0</td>\n",
       "      <td>40</td>\n",
       "      <td>United-States</td>\n",
       "      <td>&lt;=50K</td>\n",
       "    </tr>\n",
       "    <tr>\n",
       "      <th>1</th>\n",
       "      <td>50</td>\n",
       "      <td>Self-emp-not-inc</td>\n",
       "      <td>83311</td>\n",
       "      <td>Bachelors</td>\n",
       "      <td>13</td>\n",
       "      <td>Married-civ-spouse</td>\n",
       "      <td>Exec-managerial</td>\n",
       "      <td>Husband</td>\n",
       "      <td>White</td>\n",
       "      <td>Male</td>\n",
       "      <td>0</td>\n",
       "      <td>0</td>\n",
       "      <td>13</td>\n",
       "      <td>United-States</td>\n",
       "      <td>&lt;=50K</td>\n",
       "    </tr>\n",
       "    <tr>\n",
       "      <th>2</th>\n",
       "      <td>38</td>\n",
       "      <td>Private</td>\n",
       "      <td>215646</td>\n",
       "      <td>HS-grad</td>\n",
       "      <td>9</td>\n",
       "      <td>Divorced</td>\n",
       "      <td>Handlers-cleaners</td>\n",
       "      <td>Not-in-family</td>\n",
       "      <td>White</td>\n",
       "      <td>Male</td>\n",
       "      <td>0</td>\n",
       "      <td>0</td>\n",
       "      <td>40</td>\n",
       "      <td>United-States</td>\n",
       "      <td>&lt;=50K</td>\n",
       "    </tr>\n",
       "    <tr>\n",
       "      <th>3</th>\n",
       "      <td>53</td>\n",
       "      <td>Private</td>\n",
       "      <td>234721</td>\n",
       "      <td>11th</td>\n",
       "      <td>7</td>\n",
       "      <td>Married-civ-spouse</td>\n",
       "      <td>Handlers-cleaners</td>\n",
       "      <td>Husband</td>\n",
       "      <td>Black</td>\n",
       "      <td>Male</td>\n",
       "      <td>0</td>\n",
       "      <td>0</td>\n",
       "      <td>40</td>\n",
       "      <td>United-States</td>\n",
       "      <td>&lt;=50K</td>\n",
       "    </tr>\n",
       "    <tr>\n",
       "      <th>4</th>\n",
       "      <td>28</td>\n",
       "      <td>Private</td>\n",
       "      <td>338409</td>\n",
       "      <td>Bachelors</td>\n",
       "      <td>13</td>\n",
       "      <td>Married-civ-spouse</td>\n",
       "      <td>Prof-specialty</td>\n",
       "      <td>Wife</td>\n",
       "      <td>Black</td>\n",
       "      <td>Female</td>\n",
       "      <td>0</td>\n",
       "      <td>0</td>\n",
       "      <td>40</td>\n",
       "      <td>Cuba</td>\n",
       "      <td>&lt;=50K</td>\n",
       "    </tr>\n",
       "  </tbody>\n",
       "</table>\n",
       "</div>"
      ],
      "text/plain": [
       "   age          workclass  fnlwgt   education  education-num  \\\n",
       "0   39          State-gov   77516   Bachelors             13   \n",
       "1   50   Self-emp-not-inc   83311   Bachelors             13   \n",
       "2   38            Private  215646     HS-grad              9   \n",
       "3   53            Private  234721        11th              7   \n",
       "4   28            Private  338409   Bachelors             13   \n",
       "\n",
       "        marital-status          occupation    relationship    race      sex  \\\n",
       "0        Never-married        Adm-clerical   Not-in-family   White     Male   \n",
       "1   Married-civ-spouse     Exec-managerial         Husband   White     Male   \n",
       "2             Divorced   Handlers-cleaners   Not-in-family   White     Male   \n",
       "3   Married-civ-spouse   Handlers-cleaners         Husband   Black     Male   \n",
       "4   Married-civ-spouse      Prof-specialty            Wife   Black   Female   \n",
       "\n",
       "   capital-gain  capital-loss  hours-per-week  native-country     res  \n",
       "0          2174             0              40   United-States   <=50K  \n",
       "1             0             0              13   United-States   <=50K  \n",
       "2             0             0              40   United-States   <=50K  \n",
       "3             0             0              40   United-States   <=50K  \n",
       "4             0             0              40            Cuba   <=50K  "
      ]
     },
     "execution_count": 123,
     "metadata": {},
     "output_type": "execute_result"
    }
   ],
   "source": [
    "data = pd.read_csv(\"http://archive.ics.uci.edu/ml/machine-learning-databases/adult/adult.data\",\n",
    "                   names = (\"age\", \"workclass\",\"fnlwgt\",\"education\",\"education-num\",\n",
    "                           \"marital-status\",\"occupation\",\"relationship\",\"race\",\"sex\",\n",
    "                           \"capital-gain\",\"capital-loss\",\"hours-per-week\",\"native-country\",\"res\"),\n",
    "                   header = None)\n",
    "data.head()"
   ]
  },
  {
   "cell_type": "code",
   "execution_count": 124,
   "metadata": {},
   "outputs": [
    {
     "data": {
      "text/plain": [
       "array([' Male', ' Female'], dtype=object)"
      ]
     },
     "execution_count": 124,
     "metadata": {},
     "output_type": "execute_result"
    }
   ],
   "source": [
    "pd.unique(data.sex)"
   ]
  },
  {
   "cell_type": "code",
   "execution_count": 125,
   "metadata": {},
   "outputs": [],
   "source": [
    "data.res = data.res.apply(lambda x: True if x == ' >50K' else False)"
   ]
  },
  {
   "cell_type": "code",
   "execution_count": 126,
   "metadata": {},
   "outputs": [
    {
     "name": "stdout",
     "output_type": "stream",
     "text": [
      "Male =  21790\n",
      "Female =  10771\n"
     ]
    }
   ],
   "source": [
    "#1\n",
    "print(\"Male = \",len(data[data.sex == \" Male\"]))\n",
    "print(\"Female = \",len(data[data.sex == \" Female\"]))"
   ]
  },
  {
   "cell_type": "code",
   "execution_count": 127,
   "metadata": {},
   "outputs": [
    {
     "name": "stdout",
     "output_type": "stream",
     "text": [
      "39.43354749885268\n"
     ]
    }
   ],
   "source": [
    "#2\n",
    "print(data[data.sex == \" Male\"].age.mean())"
   ]
  },
  {
   "cell_type": "code",
   "execution_count": 128,
   "metadata": {},
   "outputs": [
    {
     "name": "stdout",
     "output_type": "stream",
     "text": [
      "0.895857006848684\n"
     ]
    }
   ],
   "source": [
    "# 3\n",
    "print(\n",
    "    len(data[data[\"native-country\"] == \" United-States\"]) / data[\"native-country\"].size\n",
    ")\n"
   ]
  },
  {
   "cell_type": "code",
   "execution_count": 137,
   "metadata": {},
   "outputs": [
    {
     "data": {
      "text/plain": [
       "<BarContainer object of 16 artists>"
      ]
     },
     "execution_count": 137,
     "metadata": {},
     "output_type": "execute_result"
    },
    {
     "data": {
      "image/png": "[encoded data removed]",
      "text/plain": [
       "<Figure size 432x288 with 1 Axes>"
      ]
     },
     "metadata": {
      "needs_background": "light"
     },
     "output_type": "display_data"
    }
   ],
   "source": [
    "# 4\n",
    "plt.barh(data.education.value_counts().index,\n",
    "         data.education.value_counts().values)"
   ]
  },
  {
   "cell_type": "code",
   "execution_count": 130,
   "metadata": {},
   "outputs": [
    {
     "name": "stdout",
     "output_type": "stream",
     "text": [
      "mean =  0.10420886788206167\n",
      "std =  0.3055656965459053\n"
     ]
    }
   ],
   "source": [
    "# 5\n",
    "# \"final weights\" is result ?\n",
    "temp = data[data[\"marital-status\"] == \" Divorced\"].res\n",
    "print(\"mean = \",temp.mean())\n",
    "print(\"std = \",temp.std())"
   ]
  },
  {
   "cell_type": "code",
   "execution_count": 131,
   "metadata": {},
   "outputs": [
    {
     "name": "stdout",
     "output_type": "stream",
     "text": [
      "False\n"
     ]
    }
   ],
   "source": [
    "#6\n",
    "# категории высшего образования(если что то не учел, это не моя вина)\n",
    "cat = [' Bachelors',' Masters',' Doctorate']\n",
    "print(len(data.query(f\"education in {cat} and res == True\")) / len(data.query(\"res == True\")) > 0.5)"
   ]
  },
  {
   "cell_type": "code",
   "execution_count": 132,
   "metadata": {},
   "outputs": [
    {
     "data": {
      "text/plain": [
       "race                 sex    \n",
       " Amer-Indian-Eskimo   Female    80\n",
       "                      Male      82\n",
       " Asian-Pac-Islander   Female    75\n",
       "                      Male      90\n",
       " Black                Female    90\n",
       "                      Male      90\n",
       " Other                Female    74\n",
       "                      Male      77\n",
       " White                Female    90\n",
       "                      Male      90\n",
       "Name: age, dtype: int64"
      ]
     },
     "execution_count": 132,
     "metadata": {},
     "output_type": "execute_result"
    }
   ],
   "source": [
    "#7\n",
    "data.groupby([\"race\",\"sex\"]).age.max()"
   ]
  },
  {
   "cell_type": "code",
   "execution_count": 133,
   "metadata": {},
   "outputs": [
    {
     "name": "stdout",
     "output_type": "stream",
     "text": [
      "[' United-States' ' Cambodia' ' Poland' ' Guatemala' ' Mexico' ' England'\n",
      " ' ?' ' Philippines' ' Italy' ' Puerto-Rico' ' Vietnam' ' Germany'\n",
      " ' Japan' ' Canada' ' Yugoslavia' ' Cuba' ' Portugal' ' El-Salvador'\n",
      " ' Hong' ' Ireland' ' France']\n"
     ]
    }
   ],
   "source": [
    "#8\n",
    "print(pd.unique(data[data.occupation == ' Farming-fishing'][\"native-country\"]))"
   ]
  },
  {
   "cell_type": "code",
   "execution_count": 134,
   "metadata": {},
   "outputs": [
    {
     "name": "stdout",
     "output_type": "stream",
     "text": [
      "Male =  238\n",
      "Female =  279\n"
     ]
    }
   ],
   "source": [
    "#9\n",
    "cat = [' Unhusband',' Not-in-family']\n",
    "temp = data.query(f\"relationship in {cat} and education == ' Masters'\")\n",
    "print(\"Male = \",len(temp[temp.sex == ' Male']))\n",
    "print(\"Female = \",len(temp[temp.sex == ' Female']))"
   ]
  },
  {
   "cell_type": "code",
   "execution_count": 135,
   "metadata": {},
   "outputs": [
    {
     "name": "stdout",
     "output_type": "stream",
     "text": [
      "max hours-per-week =  99\n",
      "peoples who work max hours =  85\n",
      "935       >50k\n",
      "1172      >50k\n",
      "1887      >50k\n",
      "3578      >50k\n",
      "4086     <=50k\n",
      "4308     <=50k\n",
      "4441      >50k\n",
      "5376     <=50k\n",
      "5432     <=50k\n",
      "6618     <=50k\n",
      "6898     <=50k\n",
      "8072     <=50k\n",
      "8393      >50k\n",
      "8654     <=50k\n",
      "8796      >50k\n",
      "9811     <=50k\n",
      "9831     <=50k\n",
      "10143    <=50k\n",
      "10266    <=50k\n",
      "10468    <=50k\n",
      "10986     >50k\n",
      "11833    <=50k\n",
      "12209    <=50k\n",
      "12625    <=50k\n",
      "12788    <=50k\n",
      "13558     >50k\n",
      "13580    <=50k\n",
      "13617    <=50k\n",
      "13858     >50k\n",
      "14593    <=50k\n",
      "         ...  \n",
      "23226    <=50k\n",
      "23398    <=50k\n",
      "23649     >50k\n",
      "23830    <=50k\n",
      "24483     >50k\n",
      "25354    <=50k\n",
      "25713     >50k\n",
      "25806    <=50k\n",
      "25831     >50k\n",
      "25986    <=50k\n",
      "26250    <=50k\n",
      "26596     >50k\n",
      "26638    <=50k\n",
      "26858    <=50k\n",
      "27222    <=50k\n",
      "27764    <=50k\n",
      "27809    <=50k\n",
      "28112    <=50k\n",
      "29187     >50k\n",
      "29751    <=50k\n",
      "29989     >50k\n",
      "30036     >50k\n",
      "30610     >50k\n",
      "30754    <=50k\n",
      "30766     >50k\n",
      "30992    <=50k\n",
      "31681     >50k\n",
      "31699    <=50k\n",
      "32469    <=50k\n",
      "32531    <=50k\n",
      "Name: res, Length: 85, dtype: object\n"
     ]
    }
   ],
   "source": [
    "#10\n",
    "max_hours = data[\"hours-per-week\"].max()\n",
    "print(\"max hours-per-week = \",max_hours)\n",
    "print(\"peoples who work max hours = \",len(data[data[\"hours-per-week\"] == max_hours]))\n",
    "print(data[data[\"hours-per-week\"] == max_hours].res.apply(lambda x : \">50k\" if x else \"<=50k\"))"
   ]
  }
 ],
 "metadata": {
  "kernelspec": {
   "display_name": "Python 3",
   "language": "python",
   "name": "python3"
  },
  "language_info": {
   "codemirror_mode": {
    "name": "ipython",
    "version": 3
   },
   "file_extension": ".py",
   "mimetype": "text/x-python",
   "name": "python",
   "nbconvert_exporter": "python",
   "pygments_lexer": "ipython3",
   "version": "3.7.3"
  }
 },
 "nbformat": 4,
 "nbformat_minor": 2
}
