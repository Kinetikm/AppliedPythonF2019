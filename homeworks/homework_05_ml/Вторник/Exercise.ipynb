{
 "cells": [
  {
   "cell_type": "code",
   "execution_count": 1,
   "metadata": {},
   "outputs": [],
   "source": [
    "import pandas as pd\n",
    "import matplotlib.pyplot as plt\n",
    "import numpy as np\n",
    "\n",
    "%matplotlib inline"
   ]
  },
  {
   "cell_type": "code",
   "execution_count": 2,
   "metadata": {},
   "outputs": [],
   "source": [
    "columns = ['age', 'workclass', 'fnlwgt', 'education', 'education-num', \n",
    "          'marital-status', 'occupation', 'relationship', 'race', 'sex', \n",
    "          'capital-gain', 'capital-loss', 'hours-per-week', 'native-country', 'target']"
   ]
  },
  {
   "cell_type": "code",
   "execution_count": 3,
   "metadata": {},
   "outputs": [],
   "source": [
    "df = pd.read_csv('http://archive.ics.uci.edu/ml/machine-learning-databases/adult/adult.data', \n",
    "                 index_col=False, names=columns)"
   ]
  },
  {
   "cell_type": "markdown",
   "metadata": {},
   "source": [
    "### 1. How many males and females are there?"
   ]
  },
  {
   "cell_type": "code",
   "execution_count": 4,
   "metadata": {},
   "outputs": [
    {
     "data": {
      "text/plain": [
       " Male      21790\n",
       " Female    10771\n",
       "Name: sex, dtype: int64"
      ]
     },
     "execution_count": 4,
     "metadata": {},
     "output_type": "execute_result"
    }
   ],
   "source": [
    "df['sex'].value_counts()"
   ]
  },
  {
   "cell_type": "markdown",
   "metadata": {},
   "source": [
    "### 2. What is the mean male age?"
   ]
  },
  {
   "cell_type": "code",
   "execution_count": 5,
   "metadata": {},
   "outputs": [
    {
     "data": {
      "text/plain": [
       "39.43354749885268"
      ]
     },
     "execution_count": 5,
     "metadata": {},
     "output_type": "execute_result"
    }
   ],
   "source": [
    "df['age'][df['sex'] == ' Male'].mean()"
   ]
  },
  {
   "cell_type": "markdown",
   "metadata": {},
   "source": [
    "### 3. What is the proportion of the US citizens?"
   ]
  },
  {
   "cell_type": "code",
   "execution_count": 6,
   "metadata": {},
   "outputs": [
    {
     "data": {
      "text/plain": [
       "0.895857006848684"
      ]
     },
     "execution_count": 6,
     "metadata": {},
     "output_type": "execute_result"
    }
   ],
   "source": [
    "df['native-country'][df['native-country'] == ' United-States'].count() / df.shape[0]"
   ]
  },
  {
   "cell_type": "markdown",
   "metadata": {},
   "source": [
    "### 4. Plot the distribution of people’s education as a bar plot."
   ]
  },
  {
   "cell_type": "code",
   "execution_count": 7,
   "metadata": {},
   "outputs": [
    {
     "data": {
      "text/plain": [
       "<matplotlib.axes._subplots.AxesSubplot at 0x7f623abb0fd0>"
      ]
     },
     "execution_count": 7,
     "metadata": {},
     "output_type": "execute_result"
    },
    {
     "data": {
      "image/png": "[encoded data removed]",
      "text/plain": [
       "<Figure size 432x288 with 1 Axes>"
      ]
     },
     "metadata": {
      "needs_background": "light"
     },
     "output_type": "display_data"
    }
   ],
   "source": [
    "df.education.value_counts().plot(kind='bar')"
   ]
  },
  {
   "cell_type": "markdown",
   "metadata": {},
   "source": [
    "### 5. What is the mean and standard deviation of the ”final weight” for divorced people?"
   ]
  },
  {
   "cell_type": "code",
   "execution_count": 8,
   "metadata": {},
   "outputs": [
    {
     "data": {
      "text/plain": [
       "mean    185802.790457\n",
       "std     105646.789459\n",
       "Name: fnlwgt, dtype: float64"
      ]
     },
     "execution_count": 8,
     "metadata": {},
     "output_type": "execute_result"
    }
   ],
   "source": [
    "df.fnlwgt[df['marital-status'] == ' Divorced'].agg(['mean', 'std'])"
   ]
  },
  {
   "cell_type": "markdown",
   "metadata": {},
   "source": [
    "### 6. Is it true that the people who receive over 50k are mostly highly educated?"
   ]
  },
  {
   "cell_type": "code",
   "execution_count": 9,
   "metadata": {},
   "outputs": [
    {
     "name": "stdout",
     "output_type": "stream",
     "text": [
      "Yes\n"
     ]
    }
   ],
   "source": [
    "ed_diff = []\n",
    "ed = df['education-num'].unique()\n",
    "ed.sort()\n",
    "for idx in ed:\n",
    "    ed_diff.append(df.target[(df['target'] == ' >50K') & (df['education-num'] == idx)].count() / df.target[\n",
    "        df['education-num'] == idx].count())\n",
    "if np.diff(np.array(ed_diff)).sum() > 0:\n",
    "    print('Yes')\n",
    "else:\n",
    "    print('No')"
   ]
  },
  {
   "cell_type": "markdown",
   "metadata": {},
   "source": [
    "### 7. What is the maximum male and female age for each race?"
   ]
  },
  {
   "cell_type": "code",
   "execution_count": 10,
   "metadata": {},
   "outputs": [
    {
     "data": {
      "text/plain": [
       "race                 sex    \n",
       " Amer-Indian-Eskimo   Female    80\n",
       "                      Male      82\n",
       " Asian-Pac-Islander   Female    75\n",
       "                      Male      90\n",
       " Black                Female    90\n",
       "                      Male      90\n",
       " Other                Female    74\n",
       "                      Male      77\n",
       " White                Female    90\n",
       "                      Male      90\n",
       "Name: age, dtype: int64"
      ]
     },
     "execution_count": 10,
     "metadata": {},
     "output_type": "execute_result"
    }
   ],
   "source": [
    "df.groupby(['race', 'sex']).age.max()"
   ]
  },
  {
   "cell_type": "markdown",
   "metadata": {},
   "source": [
    "### 8. The people from which countries work as farmers/fishers?"
   ]
  },
  {
   "cell_type": "code",
   "execution_count": 11,
   "metadata": {},
   "outputs": [
    {
     "data": {
      "text/plain": [
       "array([' United-States', ' Cambodia', ' Poland', ' Guatemala', ' Mexico',\n",
       "       ' England', ' ?', ' Philippines', ' Italy', ' Puerto-Rico',\n",
       "       ' Vietnam', ' Germany', ' Japan', ' Canada', ' Yugoslavia',\n",
       "       ' Cuba', ' Portugal', ' El-Salvador', ' Hong', ' Ireland',\n",
       "       ' France'], dtype=object)"
      ]
     },
     "execution_count": 11,
     "metadata": {},
     "output_type": "execute_result"
    }
   ],
   "source": [
    "df['native-country'][df['occupation'] == ' Farming-fishing'].unique()"
   ]
  },
  {
   "cell_type": "markdown",
   "metadata": {},
   "source": [
    "### 9. Consider the ratio of the number of 1) male bachelors to male masters, and 2) female bachelors to female masters. Which one is higher?"
   ]
  },
  {
   "cell_type": "code",
   "execution_count": 12,
   "metadata": {},
   "outputs": [
    {
     "name": "stdout",
     "output_type": "stream",
     "text": [
      "The ratio of the number of male bachelors to male masters is 3.14743049705139\n",
      "The ratio of the number of female bachelors to female masters is 3.0205223880597014\n",
      "The male ratio is higer\n"
     ]
    }
   ],
   "source": [
    "first_ans = df.sex[(df.sex == ' Male') & (df.education == ' Bachelors')].count() / df.sex[\n",
    "    (df.sex == ' Male') & (df.education == ' Masters')].count()\n",
    "print('The ratio of the number of male bachelors to male masters is {}'.format(first_ans))\n",
    "second_ans = df.sex[(df.sex == ' Female') & (df.education == ' Bachelors')].count() / df.sex[\n",
    "    (df.sex == ' Female') & (df.education == ' Masters')].count()\n",
    "print('The ratio of the number of female bachelors to female masters is {}'.format(second_ans))\n",
    "if first_ans > second_ans:\n",
    "    print('The male ratio is higer')\n",
    "else:\n",
    "    print('The female ratio is higer')"
   ]
  },
  {
   "cell_type": "markdown",
   "metadata": {},
   "source": [
    "### 10. What is the largest number of hours a person works a week? How many people who work this number of hours are there? What is their income?"
   ]
  },
  {
   "cell_type": "code",
   "execution_count": 13,
   "metadata": {},
   "outputs": [
    {
     "name": "stdout",
     "output_type": "stream",
     "text": [
      "The largest number of hours a person works a week is 99\n",
      "85 peoples work max hours per week\n",
      "25 peoples get more than 50K and 60 less than 50K\n"
     ]
    }
   ],
   "source": [
    "hours = df['hours-per-week'].max()\n",
    "print('The largest number of hours a person works a week is {}'.format(hours))\n",
    "people_num = df['hours-per-week'][df['hours-per-week'] == hours].count()\n",
    "print('{} peoples work max hours per week'.format(people_num))\n",
    "higer_num = df['target'][(df['hours-per-week'] == hours) & (df['target'] == ' >50K')].count()\n",
    "lower_num = df['target'][(df['hours-per-week'] == hours) & (df['target'] == ' <=50K')].count()\n",
    "print('{} peoples get more than 50K and {} less than 50K'.format(higer_num, lower_num))"
   ]
  }
 ],
 "metadata": {
  "kernelspec": {
   "display_name": "Python 3",
   "language": "python",
   "name": "python3"
  },
  "language_info": {
   "codemirror_mode": {
    "name": "ipython",
    "version": 3
   },
   "file_extension": ".py",
   "mimetype": "text/x-python",
   "name": "python",
   "nbconvert_exporter": "python",
   "pygments_lexer": "ipython3",
   "version": "3.7.3"
  }
 },
 "nbformat": 4,
 "nbformat_minor": 2
}
