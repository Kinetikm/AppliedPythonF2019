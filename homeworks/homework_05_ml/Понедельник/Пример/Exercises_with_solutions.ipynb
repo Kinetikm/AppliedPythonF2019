{
 "cells": [
  {
   "cell_type": "markdown",
   "metadata": {},
   "source": [
    "# MPG Cars"
   ]
  },
  {
   "cell_type": "markdown",
   "metadata": {},
   "source": [
    "### Introduction:\n",
    "\n",
    "The following exercise utilizes data from [UC Irvine Machine Learning Repository](https://archive.ics.uci.edu/ml/datasets/Auto+MPG)\n",
    "\n",
    "### Step 1. Import the necessary libraries"
   ]
  },
  {
   "cell_type": "code",
   "execution_count": 1,
   "metadata": {},
   "outputs": [],
   "source": [
    "import pandas as pd\n",
    "import numpy as np"
   ]
  },
  {
   "cell_type": "markdown",
   "metadata": {},
   "source": [
    "### Step 2. Import the first dataset [cars1](https://raw.githubusercontent.com/guipsamora/pandas_exercises/master/05_Merge/Auto_MPG/cars1.csv) and [cars2](https://raw.githubusercontent.com/guipsamora/pandas_exercises/master/05_Merge/Auto_MPG/cars2.csv).  "
   ]
  },
  {
   "cell_type": "markdown",
   "metadata": {},
   "source": [
    "   ### Step 3. Assign each to a to a variable called cars1 and cars2"
   ]
  },
  {
   "cell_type": "code",
   "execution_count": 17,
   "metadata": {},
   "outputs": [
    {
     "name": "stdout",
     "output_type": "stream",
     "text": [
      "    mpg  cylinders  displacement horsepower  weight  acceleration  model  \\\n",
      "0  18.0          8           307        130    3504          12.0     70   \n",
      "1  15.0          8           350        165    3693          11.5     70   \n",
      "2  18.0          8           318        150    3436          11.0     70   \n",
      "3  16.0          8           304        150    3433          12.0     70   \n",
      "4  17.0          8           302        140    3449          10.5     70   \n",
      "\n",
      "   origin                        car  Unnamed: 9  Unnamed: 10  Unnamed: 11  \\\n",
      "0       1  chevrolet chevelle malibu         NaN          NaN          NaN   \n",
      "1       1          buick skylark 320         NaN          NaN          NaN   \n",
      "2       1         plymouth satellite         NaN          NaN          NaN   \n",
      "3       1              amc rebel sst         NaN          NaN          NaN   \n",
      "4       1                ford torino         NaN          NaN          NaN   \n",
      "\n",
      "   Unnamed: 12  Unnamed: 13  \n",
      "0          NaN          NaN  \n",
      "1          NaN          NaN  \n",
      "2          NaN          NaN  \n",
      "3          NaN          NaN  \n",
      "4          NaN          NaN  \n",
      "    mpg  cylinders  displacement horsepower  weight  acceleration  model  \\\n",
      "0  33.0          4            91         53    1795          17.4     76   \n",
      "1  20.0          6           225        100    3651          17.7     76   \n",
      "2  18.0          6           250         78    3574          21.0     76   \n",
      "3  18.5          6           250        110    3645          16.2     76   \n",
      "4  17.5          6           258         95    3193          17.8     76   \n",
      "\n",
      "   origin                 car  \n",
      "0       3         honda civic  \n",
      "1       1      dodge aspen se  \n",
      "2       1   ford granada ghia  \n",
      "3       1  pontiac ventura sj  \n",
      "4       1       amc pacer d/l  \n"
     ]
    }
   ],
   "source": [
    "cars1 = pd.read_csv(\"cars1.csv\")\n",
    "cars2 = pd.read_csv(\"cars2.csv\")\n",
    "\n",
    "print (cars1.head())\n",
    "print (cars2.head())"
   ]
  },
  {
   "cell_type": "markdown",
   "metadata": {},
   "source": [
    "### Step 4. Ops it seems our first dataset has some unnamed blank columns, fix cars1"
   ]
  },
  {
   "cell_type": "code",
   "execution_count": 18,
   "metadata": {},
   "outputs": [
    {
     "data": {
      "text/html": [
       "<div>\n",
       "<style scoped>\n",
       "    .dataframe tbody tr th:only-of-type {\n",
       "        vertical-align: middle;\n",
       "    }\n",
       "\n",
       "    .dataframe tbody tr th {\n",
       "        vertical-align: top;\n",
       "    }\n",
       "\n",
       "    .dataframe thead th {\n",
       "        text-align: right;\n",
       "    }\n",
       "</style>\n",
       "<table border=\"1\" class=\"dataframe\">\n",
       "  <thead>\n",
       "    <tr style=\"text-align: right;\">\n",
       "      <th></th>\n",
       "      <th>mpg</th>\n",
       "      <th>cylinders</th>\n",
       "      <th>displacement</th>\n",
       "      <th>horsepower</th>\n",
       "      <th>weight</th>\n",
       "      <th>acceleration</th>\n",
       "      <th>model</th>\n",
       "      <th>origin</th>\n",
       "      <th>car</th>\n",
       "    </tr>\n",
       "  </thead>\n",
       "  <tbody>\n",
       "    <tr>\n",
       "      <th>0</th>\n",
       "      <td>18.0</td>\n",
       "      <td>8</td>\n",
       "      <td>307</td>\n",
       "      <td>130</td>\n",
       "      <td>3504</td>\n",
       "      <td>12.0</td>\n",
       "      <td>70</td>\n",
       "      <td>1</td>\n",
       "      <td>chevrolet chevelle malibu</td>\n",
       "    </tr>\n",
       "    <tr>\n",
       "      <th>1</th>\n",
       "      <td>15.0</td>\n",
       "      <td>8</td>\n",
       "      <td>350</td>\n",
       "      <td>165</td>\n",
       "      <td>3693</td>\n",
       "      <td>11.5</td>\n",
       "      <td>70</td>\n",
       "      <td>1</td>\n",
       "      <td>buick skylark 320</td>\n",
       "    </tr>\n",
       "    <tr>\n",
       "      <th>2</th>\n",
       "      <td>18.0</td>\n",
       "      <td>8</td>\n",
       "      <td>318</td>\n",
       "      <td>150</td>\n",
       "      <td>3436</td>\n",
       "      <td>11.0</td>\n",
       "      <td>70</td>\n",
       "      <td>1</td>\n",
       "      <td>plymouth satellite</td>\n",
       "    </tr>\n",
       "    <tr>\n",
       "      <th>3</th>\n",
       "      <td>16.0</td>\n",
       "      <td>8</td>\n",
       "      <td>304</td>\n",
       "      <td>150</td>\n",
       "      <td>3433</td>\n",
       "      <td>12.0</td>\n",
       "      <td>70</td>\n",
       "      <td>1</td>\n",
       "      <td>amc rebel sst</td>\n",
       "    </tr>\n",
       "    <tr>\n",
       "      <th>4</th>\n",
       "      <td>17.0</td>\n",
       "      <td>8</td>\n",
       "      <td>302</td>\n",
       "      <td>140</td>\n",
       "      <td>3449</td>\n",
       "      <td>10.5</td>\n",
       "      <td>70</td>\n",
       "      <td>1</td>\n",
       "      <td>ford torino</td>\n",
       "    </tr>\n",
       "  </tbody>\n",
       "</table>\n",
       "</div>"
      ],
      "text/plain": [
       "    mpg  cylinders  displacement horsepower  weight  acceleration  model  \\\n",
       "0  18.0          8           307        130    3504          12.0     70   \n",
       "1  15.0          8           350        165    3693          11.5     70   \n",
       "2  18.0          8           318        150    3436          11.0     70   \n",
       "3  16.0          8           304        150    3433          12.0     70   \n",
       "4  17.0          8           302        140    3449          10.5     70   \n",
       "\n",
       "   origin                        car  \n",
       "0       1  chevrolet chevelle malibu  \n",
       "1       1          buick skylark 320  \n",
       "2       1         plymouth satellite  \n",
       "3       1              amc rebel sst  \n",
       "4       1                ford torino  "
      ]
     },
     "execution_count": 18,
     "metadata": {},
     "output_type": "execute_result"
    }
   ],
   "source": [
    "cars1 = cars1.loc[:, \"mpg\":\"car\"]\n",
    "cars1.head()"
   ]
  },
  {
   "cell_type": "markdown",
   "metadata": {},
   "source": [
    "### Step 5. What is the number of observations in each dataset?"
   ]
  },
  {
   "cell_type": "code",
   "execution_count": 20,
   "metadata": {},
   "outputs": [
    {
     "name": "stdout",
     "output_type": "stream",
     "text": [
      "(198, 9)\n",
      "(200, 9)\n"
     ]
    }
   ],
   "source": [
    "print (cars1.shape)\n",
    "print (cars2.shape)"
   ]
  },
  {
   "cell_type": "markdown",
   "metadata": {},
   "source": [
    "### Step 6. Join cars1 and cars2 into a single DataFrame called cars"
   ]
  },
  {
   "cell_type": "code",
   "execution_count": 25,
   "metadata": {
    "scrolled": true
   },
   "outputs": [
    {
     "name": "stdout",
     "output_type": "stream",
     "text": [
      "(398, 9)\n"
     ]
    }
   ],
   "source": [
    "cars = cars1.append(cars2)"
   ]
  },
  {
   "cell_type": "markdown",
   "metadata": {},
   "source": [
    "### Step 7. Ops there is a column missing, called owners. Create a random number Series from 15,000 to 73,000."
   ]
  },
  {
   "cell_type": "code",
   "execution_count": 22,
   "metadata": {},
   "outputs": [
    {
     "data": {
      "text/plain": [
       "array([47163, 60641, 59698, 68195, 68353, 63584, 63062, 59663, 67945,\n",
       "       54342, 56453, 45990, 22501, 72086, 64002, 39081, 59011, 58784,\n",
       "       21228, 44605, 18083, 23594, 61667, 58367, 60437, 63606, 23744,\n",
       "       38178, 43777, 61089, 28738, 23490, 65166, 17830, 15816, 27105,\n",
       "       38397, 45332, 31096, 24210, 50097, 25374, 35579, 40435, 58132,\n",
       "       46949, 52386, 57931, 27602, 46498, 25062, 68397, 20939, 23315,\n",
       "       32831, 49148, 50718, 37126, 46327, 40287, 68750, 59527, 47220,\n",
       "       37496, 51776, 33184, 63392, 51043, 16712, 62003, 19387, 41191,\n",
       "       69930, 33187, 32526, 52659, 44470, 65016, 27303, 68447, 24879,\n",
       "       44318, 27085, 35127, 72826, 29827, 69383, 38881, 47465, 72112,\n",
       "       46335, 40852, 28234, 24507, 60127, 63172, 46268, 69538, 69733,\n",
       "       59587, 52060, 23056, 18957, 51399, 30535, 60253, 65809, 22274,\n",
       "       44841, 43688, 47437, 72946, 67826, 52831, 22165, 54273, 22425,\n",
       "       50843, 41800, 61711, 54167, 16112, 66504, 62255, 28734, 53100,\n",
       "       38227, 19974, 35023, 69102, 20744, 65118, 40350, 28450, 61887,\n",
       "       22587, 47582, 39422, 34081, 22351, 21216, 54989, 29073, 15279,\n",
       "       53212, 38389, 40052, 22712, 67627, 48941, 33980, 41243, 29124,\n",
       "       17982, 70321, 16030, 36890, 21865, 25137, 59130, 26970, 64869,\n",
       "       54046, 66880, 40998, 68151, 18292, 22458, 17642, 35486, 71591,\n",
       "       48263, 53775, 40989, 65078, 60464, 57277, 60389, 59748, 70342,\n",
       "       47715, 69520, 20732, 72313, 70701, 18648, 26599, 56078, 71650,\n",
       "       55411, 57611, 24320, 63449, 32403, 35639, 15352, 66740, 48586,\n",
       "       62747, 28953, 72222, 39433, 58872, 30025, 55929, 48478, 68066,\n",
       "       61245, 41406, 17118, 25874, 43314, 71637, 47456, 66417, 65802,\n",
       "       36886, 20151, 31962, 27008, 57849, 60245, 34130, 69901, 28777,\n",
       "       49666, 63129, 62742, 17179, 59763, 62692, 40169, 26899, 35981,\n",
       "       62164, 23876, 60647, 64613, 63167, 58363, 54431, 15260, 47450,\n",
       "       72518, 16971, 38489, 25520, 29491, 18816, 28113, 25812, 27584,\n",
       "       32652, 26183, 52781, 34553, 53852, 39921, 55185, 22519, 53708,\n",
       "       18643, 55805, 61092, 48081, 32999, 65310, 66601, 59791, 45941,\n",
       "       18136, 55363, 15004, 60842, 70808, 61798, 34683, 41591, 62201,\n",
       "       47092, 17937, 30952, 49761, 25057, 42300, 54301, 30651, 15109,\n",
       "       34799, 33670, 70494, 50276, 42159, 53447, 50499, 61032, 24445,\n",
       "       20907, 60965, 32395, 56261, 54856, 30636, 52294, 17377, 48495,\n",
       "       64893, 56732, 20659, 21451, 58204, 63783, 15769, 17846, 54417,\n",
       "       49133, 19188, 16190, 32400, 19934, 50958, 56334, 63026, 51904,\n",
       "       49513, 71288, 59869, 51749, 55258, 24649, 53593, 44723, 52289,\n",
       "       64663, 64961, 44541, 43533, 35002, 51065, 35517, 42226, 26986,\n",
       "       56965, 66189, 52620, 24883, 30227, 52206, 71133, 70633, 22142,\n",
       "       58605, 25307, 39010, 60030, 50061, 49562, 26388, 37581, 71034,\n",
       "       70658, 35383, 51905, 26437, 48072, 65133, 62067, 54528, 26819,\n",
       "       58689, 16939, 71224, 36815, 66940, 46685, 61954, 22774, 50108,\n",
       "       27694, 34148, 41320, 22291, 47039, 24423, 35978, 69855, 17295,\n",
       "       65906, 43647, 20990, 60132, 54255, 47306, 36446, 16736, 57739,\n",
       "       27634, 72470])"
      ]
     },
     "execution_count": 22,
     "metadata": {},
     "output_type": "execute_result"
    }
   ],
   "source": [
    "nr_owners = np.random.randint(15000, high=73001, size=398, dtype='l')\n",
    "nr_owners"
   ]
  },
  {
   "cell_type": "markdown",
   "metadata": {},
   "source": [
    "### Step 8. Add the column owners to cars"
   ]
  },
  {
   "cell_type": "code",
   "execution_count": 23,
   "metadata": {},
   "outputs": [
    {
     "data": {
      "text/html": [
       "<div>\n",
       "<style scoped>\n",
       "    .dataframe tbody tr th:only-of-type {\n",
       "        vertical-align: middle;\n",
       "    }\n",
       "\n",
       "    .dataframe tbody tr th {\n",
       "        vertical-align: top;\n",
       "    }\n",
       "\n",
       "    .dataframe thead th {\n",
       "        text-align: right;\n",
       "    }\n",
       "</style>\n",
       "<table border=\"1\" class=\"dataframe\">\n",
       "  <thead>\n",
       "    <tr style=\"text-align: right;\">\n",
       "      <th></th>\n",
       "      <th>mpg</th>\n",
       "      <th>cylinders</th>\n",
       "      <th>displacement</th>\n",
       "      <th>horsepower</th>\n",
       "      <th>weight</th>\n",
       "      <th>acceleration</th>\n",
       "      <th>model</th>\n",
       "      <th>origin</th>\n",
       "      <th>car</th>\n",
       "      <th>owners</th>\n",
       "    </tr>\n",
       "  </thead>\n",
       "  <tbody>\n",
       "    <tr>\n",
       "      <th>195</th>\n",
       "      <td>27.0</td>\n",
       "      <td>4</td>\n",
       "      <td>140</td>\n",
       "      <td>86</td>\n",
       "      <td>2790</td>\n",
       "      <td>15.6</td>\n",
       "      <td>82</td>\n",
       "      <td>1</td>\n",
       "      <td>ford mustang gl</td>\n",
       "      <td>36446</td>\n",
       "    </tr>\n",
       "    <tr>\n",
       "      <th>196</th>\n",
       "      <td>44.0</td>\n",
       "      <td>4</td>\n",
       "      <td>97</td>\n",
       "      <td>52</td>\n",
       "      <td>2130</td>\n",
       "      <td>24.6</td>\n",
       "      <td>82</td>\n",
       "      <td>2</td>\n",
       "      <td>vw pickup</td>\n",
       "      <td>16736</td>\n",
       "    </tr>\n",
       "    <tr>\n",
       "      <th>197</th>\n",
       "      <td>32.0</td>\n",
       "      <td>4</td>\n",
       "      <td>135</td>\n",
       "      <td>84</td>\n",
       "      <td>2295</td>\n",
       "      <td>11.6</td>\n",
       "      <td>82</td>\n",
       "      <td>1</td>\n",
       "      <td>dodge rampage</td>\n",
       "      <td>57739</td>\n",
       "    </tr>\n",
       "    <tr>\n",
       "      <th>198</th>\n",
       "      <td>28.0</td>\n",
       "      <td>4</td>\n",
       "      <td>120</td>\n",
       "      <td>79</td>\n",
       "      <td>2625</td>\n",
       "      <td>18.6</td>\n",
       "      <td>82</td>\n",
       "      <td>1</td>\n",
       "      <td>ford ranger</td>\n",
       "      <td>27634</td>\n",
       "    </tr>\n",
       "    <tr>\n",
       "      <th>199</th>\n",
       "      <td>31.0</td>\n",
       "      <td>4</td>\n",
       "      <td>119</td>\n",
       "      <td>82</td>\n",
       "      <td>2720</td>\n",
       "      <td>19.4</td>\n",
       "      <td>82</td>\n",
       "      <td>1</td>\n",
       "      <td>chevy s-10</td>\n",
       "      <td>72470</td>\n",
       "    </tr>\n",
       "  </tbody>\n",
       "</table>\n",
       "</div>"
      ],
      "text/plain": [
       "      mpg  cylinders  displacement horsepower  weight  acceleration  model  \\\n",
       "195  27.0          4           140         86    2790          15.6     82   \n",
       "196  44.0          4            97         52    2130          24.6     82   \n",
       "197  32.0          4           135         84    2295          11.6     82   \n",
       "198  28.0          4           120         79    2625          18.6     82   \n",
       "199  31.0          4           119         82    2720          19.4     82   \n",
       "\n",
       "     origin              car  owners  \n",
       "195       1  ford mustang gl   36446  \n",
       "196       2        vw pickup   16736  \n",
       "197       1    dodge rampage   57739  \n",
       "198       1      ford ranger   27634  \n",
       "199       1       chevy s-10   72470  "
      ]
     },
     "execution_count": 23,
     "metadata": {},
     "output_type": "execute_result"
    }
   ],
   "source": [
    "cars['owners'] = nr_owners\n",
    "cars.tail()"
   ]
  },
  {
   "cell_type": "code",
   "execution_count": null,
   "metadata": {},
   "outputs": [],
   "source": []
  }
 ],
 "metadata": {
  "anaconda-cloud": {},
  "kernelspec": {
   "display_name": "Python 3",
   "language": "python",
   "name": "python3"
  },
  "language_info": {
   "codemirror_mode": {
    "name": "ipython",
    "version": 3
   },
   "file_extension": ".py",
   "mimetype": "text/x-python",
   "name": "python",
   "nbconvert_exporter": "python",
   "pygments_lexer": "ipython3",
   "version": "3.7.3"
  }
 },
 "nbformat": 4,
 "nbformat_minor": 1
}
