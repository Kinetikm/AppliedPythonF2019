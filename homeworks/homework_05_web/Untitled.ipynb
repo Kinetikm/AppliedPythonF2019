{
 "cells": [
  {
   "cell_type": "code",
   "execution_count": 18,
   "metadata": {},
   "outputs": [
    {
     "data": {
      "text/plain": [
       "<Task pending coro=<body() running at <ipython-input-15-dd1b8aff3961>:34>>"
      ]
     },
     "execution_count": 18,
     "metadata": {},
     "output_type": "execute_result"
    },
    {
     "name": "stdout",
     "output_type": "stream",
     "text": [
      "t\n"
     ]
    }
   ],
   "source": [
    "asyncio.ensure_future(body('1', 'https://habr.com/ru/post/420129/'))"
   ]
  },
  {
   "cell_type": "code",
   "execution_count": 24,
   "metadata": {},
   "outputs": [],
   "source": [
    "\n",
    "\n",
    "import sys\n",
    "from bs4 import BeautifulSoup\n",
    "import csv\n",
    "import asyncio\n",
    "import aiohttp\n",
    "\n",
    "\n",
    "async def parser(link):\n",
    "    async with aiohttp.ClientSession() as session:\n",
    "        async with session.get(link) as resp:\n",
    "            r = await resp.text()\n",
    "    soup = BeautifulSoup(r, \"html.parser\")\n",
    "    dct = {}\n",
    "    for t in soup.find_all('div', attrs={\"class\":[\"comment\"]}):\n",
    "        usr = t.find('a')\n",
    "        if usr == None:\n",
    "            continue\n",
    "        else:\n",
    "            usr = usr.text.replace('\\n', '')\n",
    "        if dct.get(usr) == None and usr != None:\n",
    "            dct[usr] = 1\n",
    "        elif usr != None:\n",
    "            dct[usr] += 1\n",
    "    tmp_lst = []\n",
    "    for x in map(lambda x: [link] + list(x), zip( dct.keys(), dct.values())):\n",
    "        tmp_lst.append(x)\n",
    "    return tmp_lst\n",
    "\n",
    "        \n",
    "async def body(filename, links):\n",
    "    tasks = [asyncio.ensure_future(parser(link)) for link in links]\n",
    "    list_users = await asyncio.gather(*tasks)\n",
    "    new_list = []\n",
    "    for item in list_users:\n",
    "        new_list += item\n",
    "    list_users = new_list\n",
    "    list_users = sorted(list_users, key=lambda lst: (lst[0], lst[2]), reverse=True)\n",
    "    \n",
    "    \n",
    "    with open(filename, \"a\") as file:\n",
    "        print(list_users)\n",
    "        csv_writer = csv.writer(file, delimiter=',')\n",
    "        [csv_writer.writerow(t) for t in list_users]\n",
    "        file.close()\n",
    "        \n",
    "def main(filename, links):\n",
    "    loop = asyncio.get_event_loop()\n",
    "    future = asyncio.ensure_future(body(filename, links))\n",
    "    loop.run_until_complete(future)\n",
    "\n"
   ]
  },
  {
   "cell_type": "code",
   "execution_count": 25,
   "metadata": {},
   "outputs": [
    {
     "ename": "RuntimeError",
     "evalue": "This event loop is already running",
     "output_type": "error",
     "traceback": [
      "\u001b[1;31m---------------------------------------------------------------------------\u001b[0m",
      "\u001b[1;31mRuntimeError\u001b[0m                              Traceback (most recent call last)",
      "\u001b[1;32m<ipython-input-25-fafb879d148f>\u001b[0m in \u001b[0;36m<module>\u001b[1;34m()\u001b[0m\n\u001b[1;32m----> 1\u001b[1;33m \u001b[0mmain\u001b[0m\u001b[1;33m(\u001b[0m\u001b[1;34m'top_user_comments.csv'\u001b[0m\u001b[1;33m,\u001b[0m \u001b[1;33m[\u001b[0m\u001b[1;34m'https://habr.com/ru/post/442444/'\u001b[0m\u001b[1;33m,\u001b[0m \u001b[1;34m'https://habr.com/ru/post/444274/'\u001b[0m\u001b[1;33m,\u001b[0m \u001b[1;34m'https://habr.com/ru/post/442846/'\u001b[0m\u001b[1;33m]\u001b[0m\u001b[1;33m)\u001b[0m\u001b[1;33m\u001b[0m\u001b[0m\n\u001b[0m",
      "\u001b[1;32m<ipython-input-24-f3382f01b13f>\u001b[0m in \u001b[0;36mmain\u001b[1;34m(filename, links)\u001b[0m\n\u001b[0;32m     49\u001b[0m     \u001b[0mloop\u001b[0m \u001b[1;33m=\u001b[0m \u001b[0masyncio\u001b[0m\u001b[1;33m.\u001b[0m\u001b[0mget_event_loop\u001b[0m\u001b[1;33m(\u001b[0m\u001b[1;33m)\u001b[0m\u001b[1;33m\u001b[0m\u001b[0m\n\u001b[0;32m     50\u001b[0m     \u001b[0mfuture\u001b[0m \u001b[1;33m=\u001b[0m \u001b[0masyncio\u001b[0m\u001b[1;33m.\u001b[0m\u001b[0mensure_future\u001b[0m\u001b[1;33m(\u001b[0m\u001b[0mbody\u001b[0m\u001b[1;33m(\u001b[0m\u001b[0mfilename\u001b[0m\u001b[1;33m,\u001b[0m \u001b[0mlinks\u001b[0m\u001b[1;33m)\u001b[0m\u001b[1;33m)\u001b[0m\u001b[1;33m\u001b[0m\u001b[0m\n\u001b[1;32m---> 51\u001b[1;33m     \u001b[0mloop\u001b[0m\u001b[1;33m.\u001b[0m\u001b[0mrun_until_complete\u001b[0m\u001b[1;33m(\u001b[0m\u001b[0mfuture\u001b[0m\u001b[1;33m)\u001b[0m\u001b[1;33m\u001b[0m\u001b[0m\n\u001b[0m",
      "\u001b[1;32m~\\Anaconda3\\lib\\asyncio\\base_events.py\u001b[0m in \u001b[0;36mrun_until_complete\u001b[1;34m(self, future)\u001b[0m\n\u001b[0;32m    453\u001b[0m         \u001b[0mfuture\u001b[0m\u001b[1;33m.\u001b[0m\u001b[0madd_done_callback\u001b[0m\u001b[1;33m(\u001b[0m\u001b[0m_run_until_complete_cb\u001b[0m\u001b[1;33m)\u001b[0m\u001b[1;33m\u001b[0m\u001b[0m\n\u001b[0;32m    454\u001b[0m         \u001b[1;32mtry\u001b[0m\u001b[1;33m:\u001b[0m\u001b[1;33m\u001b[0m\u001b[0m\n\u001b[1;32m--> 455\u001b[1;33m             \u001b[0mself\u001b[0m\u001b[1;33m.\u001b[0m\u001b[0mrun_forever\u001b[0m\u001b[1;33m(\u001b[0m\u001b[1;33m)\u001b[0m\u001b[1;33m\u001b[0m\u001b[0m\n\u001b[0m\u001b[0;32m    456\u001b[0m         \u001b[1;32mexcept\u001b[0m\u001b[1;33m:\u001b[0m\u001b[1;33m\u001b[0m\u001b[0m\n\u001b[0;32m    457\u001b[0m             \u001b[1;32mif\u001b[0m \u001b[0mnew_task\u001b[0m \u001b[1;32mand\u001b[0m \u001b[0mfuture\u001b[0m\u001b[1;33m.\u001b[0m\u001b[0mdone\u001b[0m\u001b[1;33m(\u001b[0m\u001b[1;33m)\u001b[0m \u001b[1;32mand\u001b[0m \u001b[1;32mnot\u001b[0m \u001b[0mfuture\u001b[0m\u001b[1;33m.\u001b[0m\u001b[0mcancelled\u001b[0m\u001b[1;33m(\u001b[0m\u001b[1;33m)\u001b[0m\u001b[1;33m:\u001b[0m\u001b[1;33m\u001b[0m\u001b[0m\n",
      "\u001b[1;32m~\\Anaconda3\\lib\\asyncio\\base_events.py\u001b[0m in \u001b[0;36mrun_forever\u001b[1;34m(self)\u001b[0m\n\u001b[0;32m    407\u001b[0m         \u001b[0mself\u001b[0m\u001b[1;33m.\u001b[0m\u001b[0m_check_closed\u001b[0m\u001b[1;33m(\u001b[0m\u001b[1;33m)\u001b[0m\u001b[1;33m\u001b[0m\u001b[0m\n\u001b[0;32m    408\u001b[0m         \u001b[1;32mif\u001b[0m \u001b[0mself\u001b[0m\u001b[1;33m.\u001b[0m\u001b[0mis_running\u001b[0m\u001b[1;33m(\u001b[0m\u001b[1;33m)\u001b[0m\u001b[1;33m:\u001b[0m\u001b[1;33m\u001b[0m\u001b[0m\n\u001b[1;32m--> 409\u001b[1;33m             \u001b[1;32mraise\u001b[0m \u001b[0mRuntimeError\u001b[0m\u001b[1;33m(\u001b[0m\u001b[1;34m'This event loop is already running'\u001b[0m\u001b[1;33m)\u001b[0m\u001b[1;33m\u001b[0m\u001b[0m\n\u001b[0m\u001b[0;32m    410\u001b[0m         \u001b[1;32mif\u001b[0m \u001b[0mevents\u001b[0m\u001b[1;33m.\u001b[0m\u001b[0m_get_running_loop\u001b[0m\u001b[1;33m(\u001b[0m\u001b[1;33m)\u001b[0m \u001b[1;32mis\u001b[0m \u001b[1;32mnot\u001b[0m \u001b[1;32mNone\u001b[0m\u001b[1;33m:\u001b[0m\u001b[1;33m\u001b[0m\u001b[0m\n\u001b[0;32m    411\u001b[0m             raise RuntimeError(\n",
      "\u001b[1;31mRuntimeError\u001b[0m: This event loop is already running"
     ]
    },
    {
     "name": "stderr",
     "output_type": "stream",
     "text": [
      "Task exception was never retrieved\n",
      "future: <Task finished coro=<body() done, defined at <ipython-input-21-6707bfe5400d>:32> exception=<InvalidURL h>>\n",
      "Traceback (most recent call last):\n",
      "  File \"<ipython-input-21-6707bfe5400d>\", line 34, in body\n",
      "    list_users = await asyncio.gather(*tasks)\n",
      "  File \"<ipython-input-21-6707bfe5400d>\", line 12, in parser\n",
      "    async with session.get(link) as resp:\n",
      "  File \"C:\\Users\\79017\\Anaconda3\\lib\\site-packages\\aiohttp\\client.py\", line 1012, in __aenter__\n",
      "    self._resp = await self._coro\n",
      "  File \"C:\\Users\\79017\\Anaconda3\\lib\\site-packages\\aiohttp\\client.py\", line 473, in _request\n",
      "    ssl=ssl, proxy_headers=proxy_headers, traces=traces)\n",
      "  File \"C:\\Users\\79017\\Anaconda3\\lib\\site-packages\\aiohttp\\client_reqrep.py\", line 285, in __init__\n",
      "    self.update_host(url)\n",
      "  File \"C:\\Users\\79017\\Anaconda3\\lib\\site-packages\\aiohttp\\client_reqrep.py\", line 339, in update_host\n",
      "    raise InvalidURL(url)\n",
      "aiohttp.client_exceptions.InvalidURL: h\n",
      "Task exception was never retrieved\n",
      "future: <Task finished coro=<body() done, defined at <ipython-input-21-6707bfe5400d>:32> exception=<InvalidURL h>>\n",
      "Traceback (most recent call last):\n",
      "  File \"<ipython-input-21-6707bfe5400d>\", line 34, in body\n",
      "    list_users = await asyncio.gather(*tasks)\n",
      "  File \"<ipython-input-21-6707bfe5400d>\", line 12, in parser\n",
      "    async with session.get(link) as resp:\n",
      "  File \"C:\\Users\\79017\\Anaconda3\\lib\\site-packages\\aiohttp\\client.py\", line 1012, in __aenter__\n",
      "    self._resp = await self._coro\n",
      "  File \"C:\\Users\\79017\\Anaconda3\\lib\\site-packages\\aiohttp\\client.py\", line 473, in _request\n",
      "    ssl=ssl, proxy_headers=proxy_headers, traces=traces)\n",
      "  File \"C:\\Users\\79017\\Anaconda3\\lib\\site-packages\\aiohttp\\client_reqrep.py\", line 285, in __init__\n",
      "    self.update_host(url)\n",
      "  File \"C:\\Users\\79017\\Anaconda3\\lib\\site-packages\\aiohttp\\client_reqrep.py\", line 339, in update_host\n",
      "    raise InvalidURL(url)\n",
      "aiohttp.client_exceptions.InvalidURL: h\n",
      "Task exception was never retrieved\n",
      "future: <Task finished coro=<body() done, defined at <ipython-input-10-2261ad525add>:33> exception=<InvalidURL h>>\n",
      "Traceback (most recent call last):\n",
      "  File \"<ipython-input-10-2261ad525add>\", line 36, in body\n",
      "    list_users = await asyncio.gather(*tasks)\n",
      "  File \"<ipython-input-10-2261ad525add>\", line 12, in parser\n",
      "    async with session.get(link) as resp:\n",
      "  File \"C:\\Users\\79017\\Anaconda3\\lib\\site-packages\\aiohttp\\client.py\", line 1012, in __aenter__\n",
      "    self._resp = await self._coro\n",
      "  File \"C:\\Users\\79017\\Anaconda3\\lib\\site-packages\\aiohttp\\client.py\", line 473, in _request\n",
      "    ssl=ssl, proxy_headers=proxy_headers, traces=traces)\n",
      "  File \"C:\\Users\\79017\\Anaconda3\\lib\\site-packages\\aiohttp\\client_reqrep.py\", line 285, in __init__\n",
      "    self.update_host(url)\n",
      "  File \"C:\\Users\\79017\\Anaconda3\\lib\\site-packages\\aiohttp\\client_reqrep.py\", line 339, in update_host\n",
      "    raise InvalidURL(url)\n",
      "aiohttp.client_exceptions.InvalidURL: h\n",
      "Task exception was never retrieved\n",
      "future: <Task finished coro=<body() done, defined at <ipython-input-19-2f083114182b>:34> exception=<InvalidURL h>>\n",
      "Traceback (most recent call last):\n",
      "  File \"<ipython-input-19-2f083114182b>\", line 36, in body\n",
      "    list_users = await asyncio.gather(*tasks)\n",
      "  File \"<ipython-input-19-2f083114182b>\", line 12, in parser\n",
      "    async with session.get(link) as resp:\n",
      "  File \"C:\\Users\\79017\\Anaconda3\\lib\\site-packages\\aiohttp\\client.py\", line 1012, in __aenter__\n",
      "    self._resp = await self._coro\n",
      "  File \"C:\\Users\\79017\\Anaconda3\\lib\\site-packages\\aiohttp\\client.py\", line 473, in _request\n",
      "    ssl=ssl, proxy_headers=proxy_headers, traces=traces)\n",
      "  File \"C:\\Users\\79017\\Anaconda3\\lib\\site-packages\\aiohttp\\client_reqrep.py\", line 285, in __init__\n",
      "    self.update_host(url)\n",
      "  File \"C:\\Users\\79017\\Anaconda3\\lib\\site-packages\\aiohttp\\client_reqrep.py\", line 339, in update_host\n",
      "    raise InvalidURL(url)\n",
      "aiohttp.client_exceptions.InvalidURL: h\n"
     ]
    },
    {
     "name": "stdout",
     "output_type": "stream",
     "text": [
      "[['https://habr.com/ru/post/444274/', 'isp8k', 24], ['https://habr.com/ru/post/444274/', 'enzain', 24], ['https://habr.com/ru/post/444274/', 'khim', 23], ['https://habr.com/ru/post/444274/', 'askv', 14], ['https://habr.com/ru/post/444274/', 'Farakhm', 14], ['https://habr.com/ru/post/444274/', 'qrKot', 13], ['https://habr.com/ru/post/444274/', 'oracle_and_delphi', 12], ['https://habr.com/ru/post/444274/', 'shifttstas', 11], ['https://habr.com/ru/post/444274/', 'CyberSEO', 11], ['https://habr.com/ru/post/444274/', 'VerdOrr', 10], ['https://habr.com/ru/post/444274/', 'iig', 9], ['https://habr.com/ru/post/444274/', 'Henry7', 6], ['https://habr.com/ru/post/444274/', 'Nova_Logic', 6], ['https://habr.com/ru/post/444274/', 'KonkovVladimir', 6], ['https://habr.com/ru/post/444274/', 'Kastrulya', 5], ['https://habr.com/ru/post/444274/', 'arthur_veber', 5], ['https://habr.com/ru/post/444274/', 'ZetaTetra', 5], ['https://habr.com/ru/post/444274/', 'piroman', 5], ['https://habr.com/ru/post/444274/', 'MacIn', 5], ['https://habr.com/ru/post/444274/', 'PsyHaSTe', 5], ['https://habr.com/ru/post/444274/', 'Sheti', 5], ['https://habr.com/ru/post/444274/', 'Radjah', 4], ['https://habr.com/ru/post/444274/', 'keydet', 4], ['https://habr.com/ru/post/444274/', 'tyomitch', 4], ['https://habr.com/ru/post/444274/', 'Mykola_Von_Raybokobylko', 4], ['https://habr.com/ru/post/444274/', 'bisquitie', 4], ['https://habr.com/ru/post/444274/', 'arkamax', 3], ['https://habr.com/ru/post/444274/', 'GDragon', 3], ['https://habr.com/ru/post/444274/', 'Habra_nik', 3], ['https://habr.com/ru/post/444274/', 'DistortNeo', 3], ['https://habr.com/ru/post/444274/', 'entze', 3], ['https://habr.com/ru/post/444274/', 'peterzubkoff', 3], ['https://habr.com/ru/post/444274/', '9660', 3], ['https://habr.com/ru/post/444274/', 'puyol_dev2', 3], ['https://habr.com/ru/post/444274/', 'Druu', 3], ['https://habr.com/ru/post/444274/', 'Cenzo', 2], ['https://habr.com/ru/post/444274/', 'oller', 2], ['https://habr.com/ru/post/444274/', 'altai2013', 2], ['https://habr.com/ru/post/444274/', 'Antares19', 2], ['https://habr.com/ru/post/444274/', 'funnycar', 2], ['https://habr.com/ru/post/444274/', 'BkmzSpb', 2], ['https://habr.com/ru/post/444274/', 'dartraiden', 2], ['https://habr.com/ru/post/444274/', '1c80', 2], ['https://habr.com/ru/post/444274/', 'rogoz', 2], ['https://habr.com/ru/post/444274/', 'AlxDr', 2], ['https://habr.com/ru/post/444274/', 'Bonio', 2], ['https://habr.com/ru/post/444274/', 'tonny_bennet', 2], ['https://habr.com/ru/post/444274/', 'BloodLizard', 2], ['https://habr.com/ru/post/444274/', 'balsoft', 2], ['https://habr.com/ru/post/444274/', 'Mabusius', 2], ['https://habr.com/ru/post/444274/', 'Archon', 2], ['https://habr.com/ru/post/444274/', 'vvpoloskin', 2], ['https://habr.com/ru/post/444274/', 'epishman', 2], ['https://habr.com/ru/post/444274/', 'Aingis', 2], ['https://habr.com/ru/post/444274/', 'ctc', 2], ['https://habr.com/ru/post/444274/', 'PowerMetall', 2], ['https://habr.com/ru/post/444274/', 'weirded', 2], ['https://habr.com/ru/post/444274/', 'Sergery8205', 2], ['https://habr.com/ru/post/444274/', 'Asparagales', 1], ['https://habr.com/ru/post/444274/', 'samodum', 1], ['https://habr.com/ru/post/444274/', 'Ded_Keygen', 1], ['https://habr.com/ru/post/444274/', 'aPiks', 1], ['https://habr.com/ru/post/444274/', 'tyderh', 1], ['https://habr.com/ru/post/444274/', 'alskdjkasjdklajs', 1], ['https://habr.com/ru/post/444274/', 'solovetski', 1], ['https://habr.com/ru/post/444274/', 'andrey_gavrilov', 1], ['https://habr.com/ru/post/444274/', 'igorsd', 1], ['https://habr.com/ru/post/444274/', 'sotnikdv', 1], ['https://habr.com/ru/post/444274/', 'Anton238', 1], ['https://habr.com/ru/post/444274/', 'stavinsky', 1], ['https://habr.com/ru/post/444274/', 'iDm1', 1], ['https://habr.com/ru/post/444274/', 'gligi', 1], ['https://habr.com/ru/post/444274/', 'mclander', 1], ['https://habr.com/ru/post/444274/', 'andrey665', 1], ['https://habr.com/ru/post/444274/', 'MarSoft', 1], ['https://habr.com/ru/post/444274/', 'mashimaro', 1], ['https://habr.com/ru/post/444274/', 'vyo', 1], ['https://habr.com/ru/post/444274/', 'Furriest', 1], ['https://habr.com/ru/post/444274/', 'ramax', 1], ['https://habr.com/ru/post/444274/', 'Hypnotoadd', 1], ['https://habr.com/ru/post/444274/', 'xRay', 1], ['https://habr.com/ru/post/444274/', 'nlykl', 1], ['https://habr.com/ru/post/444274/', 'lllepemetbeb', 1], ['https://habr.com/ru/post/444274/', 'bopia09', 1], ['https://habr.com/ru/post/444274/', 'muromdx', 1], ['https://habr.com/ru/post/444274/', 'toxicdream', 1], ['https://habr.com/ru/post/444274/', 'Kwisatz', 1], ['https://habr.com/ru/post/444274/', 'servermen', 1], ['https://habr.com/ru/post/444274/', 'dumistoklus', 1], ['https://habr.com/ru/post/444274/', 'Sabubu', 1], ['https://habr.com/ru/post/444274/', 'dmitryredkin', 1], ['https://habr.com/ru/post/444274/', 'Sol_Vento', 1], ['https://habr.com/ru/post/444274/', 'Materializator', 1], ['https://habr.com/ru/post/444274/', 'mOlind', 1], ['https://habr.com/ru/post/444274/', 'Popadanec', 1], ['https://habr.com/ru/post/444274/', 'Whuthering', 1], ['https://habr.com/ru/post/444274/', 'blind_oracle', 1], ['https://habr.com/ru/post/444274/', '1tuz', 1], ['https://habr.com/ru/post/444274/', 'Pas', 1], ['https://habr.com/ru/post/444274/', 'mSnus', 1], ['https://habr.com/ru/post/444274/', 'TimsTims', 1], ['https://habr.com/ru/post/444274/', 'balamutang', 1], ['https://habr.com/ru/post/444274/', 'ICEBURG', 1], ['https://habr.com/ru/post/444274/', 'dbalabanov', 1], ['https://habr.com/ru/post/444274/', 'floop', 1], ['https://habr.com/ru/post/444274/', 'pilniy', 1], ['https://habr.com/ru/post/444274/', 'L0NGMAN', 1], ['https://habr.com/ru/post/444274/', 'susnake', 1], ['https://habr.com/ru/post/444274/', 'sumanai', 1], ['https://habr.com/ru/post/444274/', 'masscry', 1], ['https://habr.com/ru/post/444274/', 'dMetrius', 1], ['https://habr.com/ru/post/444274/', 'Razveseliy_tsigan', 1], ['https://habr.com/ru/post/444274/', 'xFFFF', 1], ['https://habr.com/ru/post/444274/', 'romanonthego', 1], ['https://habr.com/ru/post/444274/', 'snizovtsev', 1], ['https://habr.com/ru/post/444274/', 'abar', 1], ['https://habr.com/ru/post/444274/', 'Enverest', 1], ['https://habr.com/ru/post/444274/', 'Murat1992', 1], ['https://habr.com/ru/post/444274/', 'artemerschow', 1], ['https://habr.com/ru/post/444274/', 'goldrobot', 1], ['https://habr.com/ru/post/444274/', 'gwathedhel', 1], ['https://habr.com/ru/post/444274/', 'TerraHominem', 1], ['https://habr.com/ru/post/444274/', 'alex-open-plc', 1], ['https://habr.com/ru/post/444274/', 'VladMgn', 1], ['https://habr.com/ru/post/444274/', 'amarao', 1], ['https://habr.com/ru/post/444274/', 'komtet', 1], ['https://habr.com/ru/post/444274/', 'ssh24', 1], ['https://habr.com/ru/post/442846/', 'ommunist', 10], ['https://habr.com/ru/post/442846/', 'AlexanderS', 8], ['https://habr.com/ru/post/442846/', 'Space__Elf', 8], ['https://habr.com/ru/post/442846/', 'Eklykti', 8], ['https://habr.com/ru/post/442846/', 'kluwert', 8], ['https://habr.com/ru/post/442846/', 'hhba', 8], ['https://habr.com/ru/post/442846/', '5oclock', 8], ['https://habr.com/ru/post/442846/', 'striver', 7], ['https://habr.com/ru/post/442846/', 'Tim_23', 7], ['https://habr.com/ru/post/442846/', 'Wan-Derer', 6], ['https://habr.com/ru/post/442846/', 'befart', 6], ['https://habr.com/ru/post/442846/', 'MyshinyjKorol', 6], ['https://habr.com/ru/post/442846/', 'lingvo', 6], ['https://habr.com/ru/post/442846/', 'VMichael', 6], ['https://habr.com/ru/post/442846/', 'JINR', 6], ['https://habr.com/ru/post/442846/', 'Ryppka', 5], ['https://habr.com/ru/post/442846/', 'nehrung', 5], ['https://habr.com/ru/post/442846/', 'semennikov', 5], ['https://habr.com/ru/post/442846/', 'radonit', 5], ['https://habr.com/ru/post/442846/', 'troll_face', 4], ['https://habr.com/ru/post/442846/', 'saipr', 4], ['https://habr.com/ru/post/442846/', 'sinc_func', 4], ['https://habr.com/ru/post/442846/', 'mmmmmike', 3], ['https://habr.com/ru/post/442846/', 'Kolyagrozamorey', 3], ['https://habr.com/ru/post/442846/', 'adson', 3], ['https://habr.com/ru/post/442846/', 'Simplevolk', 3], ['https://habr.com/ru/post/442846/', 'Zenitchik', 3], ['https://habr.com/ru/post/442846/', 'oleg_go', 3], ['https://habr.com/ru/post/442846/', 'NeoPhix', 3], ['https://habr.com/ru/post/442846/', 'lubezniy', 3], ['https://habr.com/ru/post/442846/', 'JamboJet', 3], ['https://habr.com/ru/post/442846/', 'evocatus', 3], ['https://habr.com/ru/post/442846/', 'igsend', 3], ['https://habr.com/ru/post/442846/', 'darthmaul', 3], ['https://habr.com/ru/post/442846/', 'teifo', 3], ['https://habr.com/ru/post/442846/', 'Am0ralist', 3], ['https://habr.com/ru/post/442846/', 'nicholas_k', 3], ['https://habr.com/ru/post/442846/', 'ianzag', 3], ['https://habr.com/ru/post/442846/', 'mikeee1', 2], ['https://habr.com/ru/post/442846/', 'Belking', 2], ['https://habr.com/ru/post/442846/', 'Javian', 2], ['https://habr.com/ru/post/442846/', 'RedFirefly', 2], ['https://habr.com/ru/post/442846/', 'saboteur_kiev', 2], ['https://habr.com/ru/post/442846/', 'NeocortexLab', 2], ['https://habr.com/ru/post/442846/', 'Infernion', 2], ['https://habr.com/ru/post/442846/', 'QwertyOFF', 2], ['https://habr.com/ru/post/442846/', 'tyomitch', 2], ['https://habr.com/ru/post/442846/', 'shurricken', 2], ['https://habr.com/ru/post/442846/', 'vin2809', 2], ['https://habr.com/ru/post/442846/', 'Paskin', 2], ['https://habr.com/ru/post/442846/', 'AVDerov', 2], ['https://habr.com/ru/post/442846/', 'multiadmin', 2], ['https://habr.com/ru/post/442846/', 'StrangerInTheKy', 2], ['https://habr.com/ru/post/442846/', 'Zoolander', 2], ['https://habr.com/ru/post/442846/', 'vassabi', 2], ['https://habr.com/ru/post/442846/', 'da-nie', 2], ['https://habr.com/ru/post/442846/', 'sshmakov', 2], ['https://habr.com/ru/post/442846/', 'achekalin', 2], ['https://habr.com/ru/post/442846/', 'Newm', 2], ['https://habr.com/ru/post/442846/', 'deitry', 2], ['https://habr.com/ru/post/442846/', 'VitalyNasennik', 2], ['https://habr.com/ru/post/442846/', 'AntonSor', 1], ['https://habr.com/ru/post/442846/', 'eteh', 1], ['https://habr.com/ru/post/442846/', 'Urvdmih', 1], ['https://habr.com/ru/post/442846/', 'AI4', 1], ['https://habr.com/ru/post/442846/', 'Winnie_The_Pooh', 1], ['https://habr.com/ru/post/442846/', 'EugeneButrik', 1], ['https://habr.com/ru/post/442846/', 'balexa', 1], ['https://habr.com/ru/post/442846/', 'Jef239', 1], ['https://habr.com/ru/post/442846/', 'Dorogonov_DA', 1], ['https://habr.com/ru/post/442846/', 'MacIn', 1], ['https://habr.com/ru/post/442846/', 'Valerij56', 1], ['https://habr.com/ru/post/442846/', 'slavae', 1], ['https://habr.com/ru/post/442846/', 'dididididi', 1], ['https://habr.com/ru/post/442846/', 'kinall', 1], ['https://habr.com/ru/post/442846/', 'Errbis', 1], ['https://habr.com/ru/post/442846/', 'Sergey371', 1], ['https://habr.com/ru/post/442846/', 'megazloj', 1], ['https://habr.com/ru/post/442846/', 'maslyaev', 1], ['https://habr.com/ru/post/442846/', 'alexinator', 1], ['https://habr.com/ru/post/442846/', 'hardegor', 1], ['https://habr.com/ru/post/442846/', 'bidl', 1], ['https://habr.com/ru/post/442846/', 'acmnu', 1], ['https://habr.com/ru/post/442846/', 'RedTalon', 1], ['https://habr.com/ru/post/442846/', 'Vitalley', 1], ['https://habr.com/ru/post/442846/', 'mSnus', 1], ['https://habr.com/ru/post/442846/', 'LeonidI', 1], ['https://habr.com/ru/post/442846/', 'dom1n1k', 1], ['https://habr.com/ru/post/442846/', 'SergeyMax', 1], ['https://habr.com/ru/post/442846/', 'goldrobot', 1], ['https://habr.com/ru/post/442846/', 'Andrey_Dolg', 1], ['https://habr.com/ru/post/442846/', 'shrimo', 1], ['https://habr.com/ru/post/442846/', 'saege5b', 1], ['https://habr.com/ru/post/442846/', 'anprs', 1], ['https://habr.com/ru/post/442846/', 'Nepherhotep', 1], ['https://habr.com/ru/post/442846/', 'baruk', 1], ['https://habr.com/ru/post/442846/', 'Beshere', 1], ['https://habr.com/ru/post/442846/', 'eefadeev', 1], ['https://habr.com/ru/post/442846/', 'mayorovp', 1], ['https://habr.com/ru/post/442846/', 'omega-hyperon', 1], ['https://habr.com/ru/post/442846/', 'jrthwk', 1], ['https://habr.com/ru/post/442846/', 'welga', 1], ['https://habr.com/ru/post/442846/', 'Timoffeus', 1], ['https://habr.com/ru/post/442846/', 'YuryVin', 1], ['https://habr.com/ru/post/442846/', 'Sterling_Archer', 1], ['https://habr.com/ru/post/442846/', 'rjhdby', 1], ['https://habr.com/ru/post/442846/', 'xFFFF', 1], ['https://habr.com/ru/post/442846/', 'serf', 1], ['https://habr.com/ru/post/442846/', '4110', 1], ['https://habr.com/ru/post/442846/', 'noonv', 1], ['https://habr.com/ru/post/442846/', 'teemour', 1], ['https://habr.com/ru/post/442846/', 'funca', 1], ['https://habr.com/ru/post/442846/', 'aleksandros', 1], ['https://habr.com/ru/post/442846/', 'reinvent', 1], ['https://habr.com/ru/post/442846/', 'vitaliy31', 1], ['https://habr.com/ru/post/442846/', 'x67', 1], ['https://habr.com/ru/post/442846/', 'Awoody', 1], ['https://habr.com/ru/post/442846/', 'genuimous', 1], ['https://habr.com/ru/post/442846/', 'blackstrip', 1], ['https://habr.com/ru/post/442846/', 'FirsofMaxim', 1], ['https://habr.com/ru/post/442846/', 'artimoha', 1], ['https://habr.com/ru/post/442846/', 'Pavia00', 1], ['https://habr.com/ru/post/442846/', 'artiom_n', 1], ['https://habr.com/ru/post/442846/', 'Daddy_Cool', 1], ['https://habr.com/ru/post/442846/', 'Buhram', 1], ['https://habr.com/ru/post/442846/', 'telpos', 1], ['https://habr.com/ru/post/442846/', 'chebo', 1], ['https://habr.com/ru/post/442444/', 'Victor_koly', 110], ['https://habr.com/ru/post/442444/', 'Tzimie', 75], ['https://habr.com/ru/post/442444/', 'Tyusha', 29], ['https://habr.com/ru/post/442444/', 'Bronx', 19], ['https://habr.com/ru/post/442444/', 'vlad9486', 18], ['https://habr.com/ru/post/442444/', 'Comod', 18], ['https://habr.com/ru/post/442444/', 'TheShock', 16], ['https://habr.com/ru/post/442444/', 'thedeemon', 15], ['https://habr.com/ru/post/442444/', 'Sdima1357', 13], ['https://habr.com/ru/post/442444/', 'taujavarob', 12], ['https://habr.com/ru/post/442444/', '4tlen', 9], ['https://habr.com/ru/post/442444/', 'saboteur_kiev', 8], ['https://habr.com/ru/post/442444/', 'Space__Elf', 7], ['https://habr.com/ru/post/442444/', 'dolovar', 7], ['https://habr.com/ru/post/442444/', 'stanislavkulikov', 6], ['https://habr.com/ru/post/442444/', 'vedenin1980', 6], ['https://habr.com/ru/post/442444/', 'yul', 6], ['https://habr.com/ru/post/442444/', 'Nuwen', 5], ['https://habr.com/ru/post/442444/', 'pda0', 5], ['https://habr.com/ru/post/442444/', 'niknamezanat', 5], ['https://habr.com/ru/post/442444/', 'IsyanovDV', 4], ['https://habr.com/ru/post/442444/', 'happy-cat', 4], ['https://habr.com/ru/post/442444/', 'dubakov', 4], ['https://habr.com/ru/post/442444/', 'trapwalker', 4], ['https://habr.com/ru/post/442444/', 'Zolg', 4], ['https://habr.com/ru/post/442444/', 'Gutt', 4], ['https://habr.com/ru/post/442444/', 'valemak', 4], ['https://habr.com/ru/post/442444/', 'forever_live', 3], ['https://habr.com/ru/post/442444/', 'Pavel_L', 3], ['https://habr.com/ru/post/442444/', 'Apsidopsius', 2], ['https://habr.com/ru/post/442444/', 'Kriminalist', 2], ['https://habr.com/ru/post/442444/', 'maxzhurkin', 2], ['https://habr.com/ru/post/442444/', 'hurtavy', 2], ['https://habr.com/ru/post/442444/', 'Stas911', 2], ['https://habr.com/ru/post/442444/', 'KvanTTT', 2], ['https://habr.com/ru/post/442444/', 'neurocore', 2], ['https://habr.com/ru/post/442444/', 'Varim', 2], ['https://habr.com/ru/post/442444/', 'Shkaff', 2], ['https://habr.com/ru/post/442444/', 'Manyak872', 2], ['https://habr.com/ru/post/442444/', 'Fasterpast', 2], ['https://habr.com/ru/post/442444/', 'andrey_ssh', 2], ['https://habr.com/ru/post/442444/', 'ozeon', 2], ['https://habr.com/ru/post/442444/', 'legolegs', 2], ['https://habr.com/ru/post/442444/', 'PastorGL', 2], ['https://habr.com/ru/post/442444/', 'WinPooh73', 2], ['https://habr.com/ru/post/442444/', '1Tiger1', 2], ['https://habr.com/ru/post/442444/', 'kauri_39', 2], ['https://habr.com/ru/post/442444/', '411', 2], ['https://habr.com/ru/post/442444/', 'Razoomnick', 2], ['https://habr.com/ru/post/442444/', 'Aquahawk', 2], ['https://habr.com/ru/post/442444/', 'Lemko', 2], ['https://habr.com/ru/post/442444/', 'Wesha', 2], ['https://habr.com/ru/post/442444/', 'Static_electro', 2], ['https://habr.com/ru/post/442444/', 'mrhru', 2], ['https://habr.com/ru/post/442444/', 'SergeiMinaev', 2], ['https://habr.com/ru/post/442444/', 'botyaslonim', 2], ['https://habr.com/ru/post/442444/', 'DrZlodberg', 2], ['https://habr.com/ru/post/442444/', 'vadim_bv', 2], ['https://habr.com/ru/post/442444/', 'ebragim', 1], ['https://habr.com/ru/post/442444/', 'babylon', 1], ['https://habr.com/ru/post/442444/', 'arthur_veber', 1], ['https://habr.com/ru/post/442444/', 'Viknet', 1], ['https://habr.com/ru/post/442444/', 'NumLock', 1], ['https://habr.com/ru/post/442444/', 'SadOcean', 1], ['https://habr.com/ru/post/442444/', 'vsb', 1], ['https://habr.com/ru/post/442444/', 'MedicusAmicus', 1], ['https://habr.com/ru/post/442444/', 'Daemonis', 1], ['https://habr.com/ru/post/442444/', 'dax', 1], ['https://habr.com/ru/post/442444/', 'hoobastank', 1], ['https://habr.com/ru/post/442444/', 'semennikov', 1], ['https://habr.com/ru/post/442444/', 'HappyLynx', 1], ['https://habr.com/ru/post/442444/', 'serjmd', 1], ['https://habr.com/ru/post/442444/', 'alexey_c', 1], ['https://habr.com/ru/post/442444/', 'Sergey_Cheban', 1], ['https://habr.com/ru/post/442444/', 'Kanumowa', 1], ['https://habr.com/ru/post/442444/', 'Wizard_of_light', 1], ['https://habr.com/ru/post/442444/', 'Dmitry88', 1], ['https://habr.com/ru/post/442444/', 'DayFan', 1], ['https://habr.com/ru/post/442444/', 'igordata', 1], ['https://habr.com/ru/post/442444/', 'MMTRIX', 1], ['https://habr.com/ru/post/442444/', 'mikeus', 1], ['https://habr.com/ru/post/442444/', 'dm9', 1], ['https://habr.com/ru/post/442444/', 'Miamy', 1], ['https://habr.com/ru/post/442444/', 'a5b', 1], ['https://habr.com/ru/post/442444/', 'Welran', 1], ['https://habr.com/ru/post/442444/', 'Fullmoon', 1], ['https://habr.com/ru/post/442444/', 'antihydrogen', 1], ['https://habr.com/ru/post/442444/', 'zahmTOD', 1], ['https://habr.com/ru/post/442444/', 'Marsikus', 1], ['https://habr.com/ru/post/442444/', 'vanxant', 1], ['https://habr.com/ru/post/442444/', 'gasizdat', 1], ['https://habr.com/ru/post/442444/', 'iago', 1], ['https://habr.com/ru/post/442444/', 'namazi74', 1], ['https://habr.com/ru/post/442444/', 'Norrius', 1], ['https://habr.com/ru/post/442444/', 'Vsevo10d', 1], ['https://habr.com/ru/post/442444/', 'REPISOT', 1], ['https://habr.com/ru/post/442444/', 'Alex_ME', 1], ['https://habr.com/ru/post/442444/', 'Dimmis', 1], ['https://habr.com/ru/post/442444/', 'progman_rus', 1], ['https://habr.com/ru/post/442444/', 'gturk', 1], ['https://habr.com/ru/post/442444/', 'dempfi', 1], ['https://habr.com/ru/post/442444/', 'DjSapsan', 1], ['https://habr.com/ru/post/442444/', 'unclejocker', 1], ['https://habr.com/ru/post/442444/', 'Grief', 1], ['https://habr.com/ru/post/442444/', 'aghast', 1], ['https://habr.com/ru/post/442444/', 'vesper-bot', 1], ['https://habr.com/ru/post/442444/', 'funca', 1], ['https://habr.com/ru/post/442444/', 'devlev', 1], ['https://habr.com/ru/post/442444/', 'tretyakovpe', 1], ['https://habr.com/ru/post/442444/', 'irnis', 1], ['https://habr.com/ru/post/442444/', 'S_h_e_l_d_o_n', 1], ['https://habr.com/ru/post/442444/', 'berrics', 1], ['https://habr.com/ru/post/442444/', 'gdsmiler', 1], ['https://habr.com/ru/post/442444/', 'VasikAlexey', 1], ['https://habr.com/ru/post/442444/', 'AlexAV1000', 1], ['https://habr.com/ru/post/442444/', 'solariserj', 1], ['https://habr.com/ru/post/442444/', 'akura13', 1], ['https://habr.com/ru/post/442444/', 'floydback', 1], ['https://habr.com/ru/post/442444/', 'bromzh', 1], ['https://habr.com/ru/post/442444/', 'tlv', 1], ['https://habr.com/ru/post/442444/', 'Linloil', 1], ['https://habr.com/ru/post/442444/', 'Grigoriy_Chumakin', 1], ['https://habr.com/ru/post/442444/', 'perfect_genius', 1], ['https://habr.com/ru/post/442444/', 'Roman_Kor', 1]]\n"
     ]
    }
   ],
   "source": [
    "main('top_user_comments.csv', ['https://habr.com/ru/post/442444/', 'https://habr.com/ru/post/444274/', 'https://habr.com/ru/post/442846/'])"
   ]
  }
 ],
 "metadata": {
  "kernelspec": {
   "display_name": "Python 3",
   "language": "python",
   "name": "python3"
  },
  "language_info": {
   "codemirror_mode": {
    "name": "ipython",
    "version": 3
   },
   "file_extension": ".py",
   "mimetype": "text/x-python",
   "name": "python",
   "nbconvert_exporter": "python",
   "pygments_lexer": "ipython3",
   "version": "3.6.5"
  }
 },
 "nbformat": 4,
 "nbformat_minor": 2
}
